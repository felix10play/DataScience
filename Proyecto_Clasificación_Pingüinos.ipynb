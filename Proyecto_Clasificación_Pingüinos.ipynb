{
  "nbformat": 4,
  "nbformat_minor": 0,
  "metadata": {
    "colab": {
      "name": "ProyectoM6.ipynb",
      "provenance": []
    },
    "kernelspec": {
      "name": "python3",
      "display_name": "Python 3"
    },
    "language_info": {
      "name": "python"
    }
  },
  "cells": [
    {
      "cell_type": "markdown",
      "source": [
        "#**Importación y tratatamiento inicial de los datos de pengüins**"
      ],
      "metadata": {
        "id": "52CkIUni0kPx"
      }
    },
    {
      "cell_type": "code",
      "execution_count": null,
      "metadata": {
        "colab": {
          "resources": {
            "http://localhost:8080/nbextensions/google.colab/files.js": {
              "data": "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",
              "ok": true,
              "headers": [
                [
                  "content-type",
                  "application/javascript"
                ]
              ],
              "status": 200,
              "status_text": ""
            }
          },
          "base_uri": "https://localhost:8080/",
          "height": 73
        },
        "id": "kC0U45UazYFM",
        "outputId": "562a6e53-ea11-4175-fed0-829421af6b2f"
      },
      "outputs": [
        {
          "output_type": "display_data",
          "data": {
            "text/html": [
              "\n",
              "     <input type=\"file\" id=\"files-a24dde70-d00f-43c1-835a-ab24bc279bbd\" name=\"files[]\" multiple disabled\n",
              "        style=\"border:none\" />\n",
              "     <output id=\"result-a24dde70-d00f-43c1-835a-ab24bc279bbd\">\n",
              "      Upload widget is only available when the cell has been executed in the\n",
              "      current browser session. Please rerun this cell to enable.\n",
              "      </output>\n",
              "      <script src=\"/nbextensions/google.colab/files.js\"></script> "
            ],
            "text/plain": [
              "<IPython.core.display.HTML object>"
            ]
          },
          "metadata": {}
        },
        {
          "output_type": "stream",
          "name": "stdout",
          "text": [
            "Saving kaggle.json to kaggle.json\n"
          ]
        }
      ],
      "source": [
        "from google.colab import files\n",
        "!pip install -q kaggle\n",
        "uploaded = files.upload()"
      ]
    },
    {
      "cell_type": "markdown",
      "source": [
        "Se carga el dataset de especies de pingüinos de kaggle."
      ],
      "metadata": {
        "id": "SRWUdE8E1mEa"
      }
    },
    {
      "cell_type": "code",
      "metadata": {
        "id": "H_O3ZQGpczry",
        "colab": {
          "base_uri": "https://localhost:8080/"
        },
        "outputId": "38cd212f-d03c-4601-e57b-576c764d1429"
      },
      "source": [
        "!mv kaggle.json /root/.kaggle/kaggle.json\n",
        "! chmod 600 ~/.kaggle/kaggle.json\n",
        "! kaggle datasets download parulpandey/palmer-archipelago-antarctica-penguin-data\n",
        "! unzip palmer-archipelago-antarctica-penguin-data.zip"
      ],
      "execution_count": null,
      "outputs": [
        {
          "output_type": "stream",
          "name": "stdout",
          "text": [
            "Downloading palmer-archipelago-antarctica-penguin-data.zip to /content\n",
            "\r  0% 0.00/11.3k [00:00<?, ?B/s]\n",
            "\r100% 11.3k/11.3k [00:00<00:00, 4.30MB/s]\n",
            "Archive:  palmer-archipelago-antarctica-penguin-data.zip\n",
            "  inflating: penguins_lter.csv       \n",
            "  inflating: penguins_size.csv       \n"
          ]
        }
      ]
    },
    {
      "cell_type": "markdown",
      "source": [
        "Se crea el dataframe de pengüins."
      ],
      "metadata": {
        "id": "LOXcHWP0167G"
      }
    },
    {
      "cell_type": "code",
      "source": [
        "import pandas as pd\n",
        "penguins = pd.read_csv('penguins_size.csv')\n",
        "penguins.head()"
      ],
      "metadata": {
        "colab": {
          "base_uri": "https://localhost:8080/",
          "height": 204
        },
        "id": "TqB8esHO2AFZ",
        "outputId": "ddbab208-13dd-41b0-f032-7738a5d4f629"
      },
      "execution_count": null,
      "outputs": [
        {
          "output_type": "execute_result",
          "data": {
            "text/html": [
              "\n",
              "  <div id=\"df-ff4873d6-ac6f-4721-9eb4-3c806d5bf63b\">\n",
              "    <div class=\"colab-df-container\">\n",
              "      <div>\n",
              "<style scoped>\n",
              "    .dataframe tbody tr th:only-of-type {\n",
              "        vertical-align: middle;\n",
              "    }\n",
              "\n",
              "    .dataframe tbody tr th {\n",
              "        vertical-align: top;\n",
              "    }\n",
              "\n",
              "    .dataframe thead th {\n",
              "        text-align: right;\n",
              "    }\n",
              "</style>\n",
              "<table border=\"1\" class=\"dataframe\">\n",
              "  <thead>\n",
              "    <tr style=\"text-align: right;\">\n",
              "      <th></th>\n",
              "      <th>species</th>\n",
              "      <th>island</th>\n",
              "      <th>culmen_length_mm</th>\n",
              "      <th>culmen_depth_mm</th>\n",
              "      <th>flipper_length_mm</th>\n",
              "      <th>body_mass_g</th>\n",
              "      <th>sex</th>\n",
              "    </tr>\n",
              "  </thead>\n",
              "  <tbody>\n",
              "    <tr>\n",
              "      <th>0</th>\n",
              "      <td>Adelie</td>\n",
              "      <td>Torgersen</td>\n",
              "      <td>39.1</td>\n",
              "      <td>18.7</td>\n",
              "      <td>181.0</td>\n",
              "      <td>3750.0</td>\n",
              "      <td>MALE</td>\n",
              "    </tr>\n",
              "    <tr>\n",
              "      <th>1</th>\n",
              "      <td>Adelie</td>\n",
              "      <td>Torgersen</td>\n",
              "      <td>39.5</td>\n",
              "      <td>17.4</td>\n",
              "      <td>186.0</td>\n",
              "      <td>3800.0</td>\n",
              "      <td>FEMALE</td>\n",
              "    </tr>\n",
              "    <tr>\n",
              "      <th>2</th>\n",
              "      <td>Adelie</td>\n",
              "      <td>Torgersen</td>\n",
              "      <td>40.3</td>\n",
              "      <td>18.0</td>\n",
              "      <td>195.0</td>\n",
              "      <td>3250.0</td>\n",
              "      <td>FEMALE</td>\n",
              "    </tr>\n",
              "    <tr>\n",
              "      <th>3</th>\n",
              "      <td>Adelie</td>\n",
              "      <td>Torgersen</td>\n",
              "      <td>NaN</td>\n",
              "      <td>NaN</td>\n",
              "      <td>NaN</td>\n",
              "      <td>NaN</td>\n",
              "      <td>NaN</td>\n",
              "    </tr>\n",
              "    <tr>\n",
              "      <th>4</th>\n",
              "      <td>Adelie</td>\n",
              "      <td>Torgersen</td>\n",
              "      <td>36.7</td>\n",
              "      <td>19.3</td>\n",
              "      <td>193.0</td>\n",
              "      <td>3450.0</td>\n",
              "      <td>FEMALE</td>\n",
              "    </tr>\n",
              "  </tbody>\n",
              "</table>\n",
              "</div>\n",
              "      <button class=\"colab-df-convert\" onclick=\"convertToInteractive('df-ff4873d6-ac6f-4721-9eb4-3c806d5bf63b')\"\n",
              "              title=\"Convert this dataframe to an interactive table.\"\n",
              "              style=\"display:none;\">\n",
              "        \n",
              "  <svg xmlns=\"http://www.w3.org/2000/svg\" height=\"24px\"viewBox=\"0 0 24 24\"\n",
              "       width=\"24px\">\n",
              "    <path d=\"M0 0h24v24H0V0z\" fill=\"none\"/>\n",
              "    <path d=\"M18.56 5.44l.94 2.06.94-2.06 2.06-.94-2.06-.94-.94-2.06-.94 2.06-2.06.94zm-11 1L8.5 8.5l.94-2.06 2.06-.94-2.06-.94L8.5 2.5l-.94 2.06-2.06.94zm10 10l.94 2.06.94-2.06 2.06-.94-2.06-.94-.94-2.06-.94 2.06-2.06.94z\"/><path d=\"M17.41 7.96l-1.37-1.37c-.4-.4-.92-.59-1.43-.59-.52 0-1.04.2-1.43.59L10.3 9.45l-7.72 7.72c-.78.78-.78 2.05 0 2.83L4 21.41c.39.39.9.59 1.41.59.51 0 1.02-.2 1.41-.59l7.78-7.78 2.81-2.81c.8-.78.8-2.07 0-2.86zM5.41 20L4 18.59l7.72-7.72 1.47 1.35L5.41 20z\"/>\n",
              "  </svg>\n",
              "      </button>\n",
              "      \n",
              "  <style>\n",
              "    .colab-df-container {\n",
              "      display:flex;\n",
              "      flex-wrap:wrap;\n",
              "      gap: 12px;\n",
              "    }\n",
              "\n",
              "    .colab-df-convert {\n",
              "      background-color: #E8F0FE;\n",
              "      border: none;\n",
              "      border-radius: 50%;\n",
              "      cursor: pointer;\n",
              "      display: none;\n",
              "      fill: #1967D2;\n",
              "      height: 32px;\n",
              "      padding: 0 0 0 0;\n",
              "      width: 32px;\n",
              "    }\n",
              "\n",
              "    .colab-df-convert:hover {\n",
              "      background-color: #E2EBFA;\n",
              "      box-shadow: 0px 1px 2px rgba(60, 64, 67, 0.3), 0px 1px 3px 1px rgba(60, 64, 67, 0.15);\n",
              "      fill: #174EA6;\n",
              "    }\n",
              "\n",
              "    [theme=dark] .colab-df-convert {\n",
              "      background-color: #3B4455;\n",
              "      fill: #D2E3FC;\n",
              "    }\n",
              "\n",
              "    [theme=dark] .colab-df-convert:hover {\n",
              "      background-color: #434B5C;\n",
              "      box-shadow: 0px 1px 3px 1px rgba(0, 0, 0, 0.15);\n",
              "      filter: drop-shadow(0px 1px 2px rgba(0, 0, 0, 0.3));\n",
              "      fill: #FFFFFF;\n",
              "    }\n",
              "  </style>\n",
              "\n",
              "      <script>\n",
              "        const buttonEl =\n",
              "          document.querySelector('#df-ff4873d6-ac6f-4721-9eb4-3c806d5bf63b button.colab-df-convert');\n",
              "        buttonEl.style.display =\n",
              "          google.colab.kernel.accessAllowed ? 'block' : 'none';\n",
              "\n",
              "        async function convertToInteractive(key) {\n",
              "          const element = document.querySelector('#df-ff4873d6-ac6f-4721-9eb4-3c806d5bf63b');\n",
              "          const dataTable =\n",
              "            await google.colab.kernel.invokeFunction('convertToInteractive',\n",
              "                                                     [key], {});\n",
              "          if (!dataTable) return;\n",
              "\n",
              "          const docLinkHtml = 'Like what you see? Visit the ' +\n",
              "            '<a target=\"_blank\" href=https://colab.research.google.com/notebooks/data_table.ipynb>data table notebook</a>'\n",
              "            + ' to learn more about interactive tables.';\n",
              "          element.innerHTML = '';\n",
              "          dataTable['output_type'] = 'display_data';\n",
              "          await google.colab.output.renderOutput(dataTable, element);\n",
              "          const docLink = document.createElement('div');\n",
              "          docLink.innerHTML = docLinkHtml;\n",
              "          element.appendChild(docLink);\n",
              "        }\n",
              "      </script>\n",
              "    </div>\n",
              "  </div>\n",
              "  "
            ],
            "text/plain": [
              "  species     island  culmen_length_mm  ...  flipper_length_mm  body_mass_g     sex\n",
              "0  Adelie  Torgersen              39.1  ...              181.0       3750.0    MALE\n",
              "1  Adelie  Torgersen              39.5  ...              186.0       3800.0  FEMALE\n",
              "2  Adelie  Torgersen              40.3  ...              195.0       3250.0  FEMALE\n",
              "3  Adelie  Torgersen               NaN  ...                NaN          NaN     NaN\n",
              "4  Adelie  Torgersen              36.7  ...              193.0       3450.0  FEMALE\n",
              "\n",
              "[5 rows x 7 columns]"
            ]
          },
          "metadata": {},
          "execution_count": 4
        }
      ]
    },
    {
      "cell_type": "code",
      "source": [
        "from sklearn.model_selection import train_test_split\n",
        "\n",
        "X = penguins.drop(\"species\", axis=1)\n",
        "y = penguins.species.astype(\"category\")\n",
        "\n",
        "X_train, X_test, y_train_tree, y_test_tree = train_test_split(\n",
        "                        X, y, test_size=.2, random_state=42)\n",
        "y_train = y_train_tree.cat.codes\n",
        "y_test  = y_test_tree.cat.codes"
      ],
      "metadata": {
        "id": "Y70rMlnZGxR0"
      },
      "execution_count": null,
      "outputs": []
    },
    {
      "cell_type": "markdown",
      "source": [
        "##**Substitución de los valores nulos por la mediana**"
      ],
      "metadata": {
        "id": "Wk5cFr4THFxa"
      }
    },
    {
      "cell_type": "code",
      "source": [
        "X_train_num = X_train.drop([\"island\", \"sex\"], axis=1)\n",
        "\n",
        "from sklearn.impute import SimpleImputer\n",
        "\n",
        "num_imputer = SimpleImputer(strategy=\"median\") \n",
        "\n",
        "X_train_num_array = num_imputer.fit_transform(X_train_num)\n",
        "X_train_num = pd.DataFrame(X_train_num_array, columns=X_train_num.columns, index=X_train_num.index) \n",
        "X_train_num.head()"
      ],
      "metadata": {
        "colab": {
          "base_uri": "https://localhost:8080/",
          "height": 204
        },
        "id": "2V7Kn6PCHRTO",
        "outputId": "fb38ca78-a36c-4f64-b6f1-70876cb42449"
      },
      "execution_count": null,
      "outputs": [
        {
          "output_type": "execute_result",
          "data": {
            "text/html": [
              "\n",
              "  <div id=\"df-f11252bc-7679-411b-9a6b-02c4f353a614\">\n",
              "    <div class=\"colab-df-container\">\n",
              "      <div>\n",
              "<style scoped>\n",
              "    .dataframe tbody tr th:only-of-type {\n",
              "        vertical-align: middle;\n",
              "    }\n",
              "\n",
              "    .dataframe tbody tr th {\n",
              "        vertical-align: top;\n",
              "    }\n",
              "\n",
              "    .dataframe thead th {\n",
              "        text-align: right;\n",
              "    }\n",
              "</style>\n",
              "<table border=\"1\" class=\"dataframe\">\n",
              "  <thead>\n",
              "    <tr style=\"text-align: right;\">\n",
              "      <th></th>\n",
              "      <th>culmen_length_mm</th>\n",
              "      <th>culmen_depth_mm</th>\n",
              "      <th>flipper_length_mm</th>\n",
              "      <th>body_mass_g</th>\n",
              "    </tr>\n",
              "  </thead>\n",
              "  <tbody>\n",
              "    <tr>\n",
              "      <th>66</th>\n",
              "      <td>35.5</td>\n",
              "      <td>16.2</td>\n",
              "      <td>195.0</td>\n",
              "      <td>3350.0</td>\n",
              "    </tr>\n",
              "    <tr>\n",
              "      <th>229</th>\n",
              "      <td>46.8</td>\n",
              "      <td>15.4</td>\n",
              "      <td>215.0</td>\n",
              "      <td>5150.0</td>\n",
              "    </tr>\n",
              "    <tr>\n",
              "      <th>7</th>\n",
              "      <td>39.2</td>\n",
              "      <td>19.6</td>\n",
              "      <td>195.0</td>\n",
              "      <td>4675.0</td>\n",
              "    </tr>\n",
              "    <tr>\n",
              "      <th>140</th>\n",
              "      <td>40.2</td>\n",
              "      <td>17.1</td>\n",
              "      <td>193.0</td>\n",
              "      <td>3400.0</td>\n",
              "    </tr>\n",
              "    <tr>\n",
              "      <th>323</th>\n",
              "      <td>49.1</td>\n",
              "      <td>15.0</td>\n",
              "      <td>228.0</td>\n",
              "      <td>5500.0</td>\n",
              "    </tr>\n",
              "  </tbody>\n",
              "</table>\n",
              "</div>\n",
              "      <button class=\"colab-df-convert\" onclick=\"convertToInteractive('df-f11252bc-7679-411b-9a6b-02c4f353a614')\"\n",
              "              title=\"Convert this dataframe to an interactive table.\"\n",
              "              style=\"display:none;\">\n",
              "        \n",
              "  <svg xmlns=\"http://www.w3.org/2000/svg\" height=\"24px\"viewBox=\"0 0 24 24\"\n",
              "       width=\"24px\">\n",
              "    <path d=\"M0 0h24v24H0V0z\" fill=\"none\"/>\n",
              "    <path d=\"M18.56 5.44l.94 2.06.94-2.06 2.06-.94-2.06-.94-.94-2.06-.94 2.06-2.06.94zm-11 1L8.5 8.5l.94-2.06 2.06-.94-2.06-.94L8.5 2.5l-.94 2.06-2.06.94zm10 10l.94 2.06.94-2.06 2.06-.94-2.06-.94-.94-2.06-.94 2.06-2.06.94z\"/><path d=\"M17.41 7.96l-1.37-1.37c-.4-.4-.92-.59-1.43-.59-.52 0-1.04.2-1.43.59L10.3 9.45l-7.72 7.72c-.78.78-.78 2.05 0 2.83L4 21.41c.39.39.9.59 1.41.59.51 0 1.02-.2 1.41-.59l7.78-7.78 2.81-2.81c.8-.78.8-2.07 0-2.86zM5.41 20L4 18.59l7.72-7.72 1.47 1.35L5.41 20z\"/>\n",
              "  </svg>\n",
              "      </button>\n",
              "      \n",
              "  <style>\n",
              "    .colab-df-container {\n",
              "      display:flex;\n",
              "      flex-wrap:wrap;\n",
              "      gap: 12px;\n",
              "    }\n",
              "\n",
              "    .colab-df-convert {\n",
              "      background-color: #E8F0FE;\n",
              "      border: none;\n",
              "      border-radius: 50%;\n",
              "      cursor: pointer;\n",
              "      display: none;\n",
              "      fill: #1967D2;\n",
              "      height: 32px;\n",
              "      padding: 0 0 0 0;\n",
              "      width: 32px;\n",
              "    }\n",
              "\n",
              "    .colab-df-convert:hover {\n",
              "      background-color: #E2EBFA;\n",
              "      box-shadow: 0px 1px 2px rgba(60, 64, 67, 0.3), 0px 1px 3px 1px rgba(60, 64, 67, 0.15);\n",
              "      fill: #174EA6;\n",
              "    }\n",
              "\n",
              "    [theme=dark] .colab-df-convert {\n",
              "      background-color: #3B4455;\n",
              "      fill: #D2E3FC;\n",
              "    }\n",
              "\n",
              "    [theme=dark] .colab-df-convert:hover {\n",
              "      background-color: #434B5C;\n",
              "      box-shadow: 0px 1px 3px 1px rgba(0, 0, 0, 0.15);\n",
              "      filter: drop-shadow(0px 1px 2px rgba(0, 0, 0, 0.3));\n",
              "      fill: #FFFFFF;\n",
              "    }\n",
              "  </style>\n",
              "\n",
              "      <script>\n",
              "        const buttonEl =\n",
              "          document.querySelector('#df-f11252bc-7679-411b-9a6b-02c4f353a614 button.colab-df-convert');\n",
              "        buttonEl.style.display =\n",
              "          google.colab.kernel.accessAllowed ? 'block' : 'none';\n",
              "\n",
              "        async function convertToInteractive(key) {\n",
              "          const element = document.querySelector('#df-f11252bc-7679-411b-9a6b-02c4f353a614');\n",
              "          const dataTable =\n",
              "            await google.colab.kernel.invokeFunction('convertToInteractive',\n",
              "                                                     [key], {});\n",
              "          if (!dataTable) return;\n",
              "\n",
              "          const docLinkHtml = 'Like what you see? Visit the ' +\n",
              "            '<a target=\"_blank\" href=https://colab.research.google.com/notebooks/data_table.ipynb>data table notebook</a>'\n",
              "            + ' to learn more about interactive tables.';\n",
              "          element.innerHTML = '';\n",
              "          dataTable['output_type'] = 'display_data';\n",
              "          await google.colab.output.renderOutput(dataTable, element);\n",
              "          const docLink = document.createElement('div');\n",
              "          docLink.innerHTML = docLinkHtml;\n",
              "          element.appendChild(docLink);\n",
              "        }\n",
              "      </script>\n",
              "    </div>\n",
              "  </div>\n",
              "  "
            ],
            "text/plain": [
              "     culmen_length_mm  culmen_depth_mm  flipper_length_mm  body_mass_g\n",
              "66               35.5             16.2              195.0       3350.0\n",
              "229              46.8             15.4              215.0       5150.0\n",
              "7                39.2             19.6              195.0       4675.0\n",
              "140              40.2             17.1              193.0       3400.0\n",
              "323              49.1             15.0              228.0       5500.0"
            ]
          },
          "metadata": {},
          "execution_count": 6
        }
      ]
    },
    {
      "cell_type": "code",
      "source": [
        "X_test_num = X_test.drop([\"island\", \"sex\"], axis=1)\n",
        "X_test_num_array = num_imputer.fit_transform(X_test_num)\n",
        "X_test_num = pd.DataFrame(X_test_num_array, columns=X_test_num.columns, index=X_test_num.index)"
      ],
      "metadata": {
        "id": "wDFu2w74H0CZ"
      },
      "execution_count": null,
      "outputs": []
    },
    {
      "cell_type": "markdown",
      "source": [
        "##**Tratamiento de los valores categóricos**"
      ],
      "metadata": {
        "id": "8hrp4FxWH6yX"
      }
    },
    {
      "cell_type": "markdown",
      "source": [
        "Ahora vamos a realizar algunas tareas de manejo de atributos categóricos, en concreto aplicar una transformación de los atributos *island* y *sex* mediante **OneHotEncoder**."
      ],
      "metadata": {
        "id": "09H2b-Ot8HcY"
      }
    },
    {
      "cell_type": "code",
      "source": [
        "from sklearn.preprocessing import OneHotEncoder\n",
        "from sklearn.compose import ColumnTransformer\n",
        "\n",
        "cat_cols = X_train.select_dtypes(include=['object', 'category']).columns.to_list()\n",
        "preprocessor = ColumnTransformer([('onehot', OneHotEncoder(handle_unknown='ignore'), cat_cols)])\n",
        "X_train_encoded = preprocessor.fit_transform(X_train)\n",
        "X_test_encoded = preprocessor.transform(X_test)\n",
        "#Devuelve un array(sin el nombre de las columnas), una matriz de 1 y 0, que hay que convertir en df y darle los nombres de las columnas\n",
        "X_train_encoded_df = pd.DataFrame(X_train_encoded, columns=preprocessor.named_transformers_['onehot'].get_feature_names_out())\n",
        "X_test_encoded_df = pd.DataFrame(X_test_encoded, columns=preprocessor.named_transformers_['onehot'].get_feature_names_out())"
      ],
      "metadata": {
        "id": "stnlAVZYINWA"
      },
      "execution_count": null,
      "outputs": []
    },
    {
      "cell_type": "code",
      "source": [
        "X_train_num.reset_index(drop=True, inplace=True) # Resetear índices de las instancias para asegurar coherencia al fusionar los datos\n",
        "X_test_num.reset_index(drop=True, inplace=True)\n",
        "\n",
        "X_train_encoded_df.reset_index(drop=True, inplace=True) # Resetear índices de las instancias para asegurar coherencia al fusionar los datos\n",
        "X_test_encoded_df.reset_index(drop=True, inplace=True)\n",
        "\n",
        "X_train_prepared = pd.concat([X_train_num, X_train_encoded_df], axis=1) # Se fusionan todos los atributos necesarios\n",
        "X_test_prepared = pd.concat([X_test_num, X_test_encoded_df], axis=1)"
      ],
      "metadata": {
        "id": "Bd2kPxi8I6cC"
      },
      "execution_count": null,
      "outputs": []
    },
    {
      "cell_type": "markdown",
      "source": [
        "#**Sprint 1**"
      ],
      "metadata": {
        "id": "9Pmu-tSSJa9I"
      }
    },
    {
      "cell_type": "markdown",
      "source": [
        "Para el entrenamiento de los modelos se parte de la versión de datos pre-procesada que se ha obtenido en el apartado anterior, es decir, aquella en la que los valores nulos para alguna característica se sustituyen por la mediana de su distribución, y en la que las variables categóricas se han convertido en numéricas binarias por medio de una técnica de “One Hot Encoding\". Por tanto, se hace uso de todas las características del dataset en el entrenamiento el modelo, lo que se va a ver reflejado en el gran resultado de los mismos."
      ],
      "metadata": {
        "id": "jJrkIHloMLfC"
      }
    },
    {
      "cell_type": "markdown",
      "source": [
        "##**Entrenar y evaluar un modelo de regresión softmax**"
      ],
      "metadata": {
        "id": "ITSs2_82KIE4"
      }
    },
    {
      "cell_type": "code",
      "source": [
        "from sklearn.linear_model import LogisticRegression\n",
        "\n",
        "softmax_reg = LogisticRegression(multi_class=\"multinomial\", solver=\"lbfgs\", max_iter=1000)\n",
        "softmax_reg.fit(X_train_prepared, y_train)"
      ],
      "metadata": {
        "colab": {
          "base_uri": "https://localhost:8080/"
        },
        "id": "IyymkigTKW8j",
        "outputId": "da5882e4-6c3f-4e4c-f491-26a4e5763d1a"
      },
      "execution_count": null,
      "outputs": [
        {
          "output_type": "execute_result",
          "data": {
            "text/plain": [
              "LogisticRegression(max_iter=1000, multi_class='multinomial')"
            ]
          },
          "metadata": {},
          "execution_count": 10
        }
      ]
    },
    {
      "cell_type": "code",
      "source": [
        "from sklearn.metrics import confusion_matrix, f1_score\n",
        "print('La precisión del modelo en el conjunto de entrenamiento es:',softmax_reg.score(X_train_prepared, y_train))\n",
        "y_pred = softmax_reg.predict(X_train_prepared)\n",
        "train_conf_matrix = confusion_matrix(y_train, y_pred)\n",
        "print('La matriz de confusión en el conjunto de etrenamiento es:\\n',train_conf_matrix)\n",
        "print('f1 score en el conjunto de entrenamiento:',f1_score(y_train, y_pred, average='weighted'))"
      ],
      "metadata": {
        "colab": {
          "base_uri": "https://localhost:8080/"
        },
        "id": "Yw06H2hfNIDQ",
        "outputId": "b227f3aa-ef59-4586-b353-cee5f30ba054"
      },
      "execution_count": null,
      "outputs": [
        {
          "output_type": "stream",
          "name": "stdout",
          "text": [
            "La precisión del modelo en el conjunto de entrenamiento es: 1.0\n",
            "La matriz de confusión en el conjunto de etrenamiento es:\n",
            " [[120   0   0]\n",
            " [  0  52   0]\n",
            " [  0   0 103]]\n",
            "f1 score en el conjunto de entrenamiento: 1.0\n"
          ]
        }
      ]
    },
    {
      "cell_type": "code",
      "source": [
        "print('La precisión del modelo en el conjunto de test es:',softmax_reg.score(X_test_prepared, y_test))\n",
        "y_pred = softmax_reg.predict(X_test_prepared)\n",
        "test_conf_matrix = confusion_matrix(y_test, y_pred)\n",
        "print('La matriz de confusión en el conjunto de test es:\\n',test_conf_matrix)\n",
        "print('f1 score en el conjunto de test:',f1_score(y_test, y_pred, average='weighted'))"
      ],
      "metadata": {
        "colab": {
          "base_uri": "https://localhost:8080/"
        },
        "id": "MDzbvPEgQnBf",
        "outputId": "fcd9f5e4-a1a9-474a-a9d3-3728e2597671"
      },
      "execution_count": null,
      "outputs": [
        {
          "output_type": "stream",
          "name": "stdout",
          "text": [
            "La precisión del modelo en el conjunto de test es: 0.9855072463768116\n",
            "La matriz de confusión en el conjunto de test es:\n",
            " [[31  1  0]\n",
            " [ 0 16  0]\n",
            " [ 0  0 21]]\n",
            "f1 score en el conjunto de test: 0.9856118116987682\n"
          ]
        }
      ]
    },
    {
      "cell_type": "code",
      "source": [
        "from sklearn.metrics import roc_curve, auc\n",
        "from sklearn.metrics import RocCurveDisplay\n",
        "import matplotlib.pyplot as plt\n",
        "fpr, tpr, thresholds = roc_curve(y_pred, y_test, pos_label=2)\n",
        "roc_auc = auc(fpr, tpr)\n",
        "\n",
        "display = RocCurveDisplay(fpr=fpr, tpr=tpr, roc_auc=roc_auc,\n",
        "estimator_name='Regresión Softmax')\n",
        "display.plot()\n",
        "plt.show()"
      ],
      "metadata": {
        "colab": {
          "base_uri": "https://localhost:8080/",
          "height": 279
        },
        "id": "4X_fjW15VxoD",
        "outputId": "6a06ea46-33d2-412c-83cc-a99b6ae6111d"
      },
      "execution_count": null,
      "outputs": [
        {
          "output_type": "display_data",
          "data": {
            "image/png": "[encoded data removed]",
            "text/plain": [
              "<Figure size 432x288 with 1 Axes>"
            ]
          },
          "metadata": {
            "needs_background": "light"
          }
        }
      ]
    },
    {
      "cell_type": "markdown",
      "source": [
        "Es decir, se clasifican correctamente todas las instancias de test. Además, se emplea como métrica la curva ROC y el área bajo la curva, obteniendo obviamente una curva ideal y un área bajo la curva de 1."
      ],
      "metadata": {
        "id": "kBbCpEmoX80w"
      }
    },
    {
      "cell_type": "markdown",
      "source": [
        "##**Entrenar y evaluar un modelo de máquinas de vectores de soporte (SVM)**"
      ],
      "metadata": {
        "id": "z0a3KT33YBvp"
      }
    },
    {
      "cell_type": "markdown",
      "source": [
        "Se entrenará un modelo de \"support vector machine\", y será un \"linear support vector clasiffier\", seleccionando como hiperparámetros los seleccionados como mejores por la función \"GridSearchCV\". "
      ],
      "metadata": {
        "id": "cJkbgiP3ZXot"
      }
    },
    {
      "cell_type": "code",
      "source": [
        "from sklearn.pipeline import Pipeline\n",
        "from sklearn.preprocessing import StandardScaler\n",
        "from sklearn.svm import LinearSVC \n",
        "from sklearn.metrics import accuracy_score"
      ],
      "metadata": {
        "id": "GQFhDW12E-Xp"
      },
      "execution_count": null,
      "outputs": []
    },
    {
      "cell_type": "code",
      "source": [
        "from sklearn.model_selection import GridSearchCV\n",
        "\n",
        "param_grid = [\n",
        "              {'C': [0.1, 0.5, 1, 2, 5], 'loss': ['hinge','squared_hinge']}, \n",
        "              {'C': [0.1, 0.5, 1, 2, 5], 'loss': ['hinge','squared_hinge'], 'fit_intercept': [False]}, \n",
        "]\n",
        "\n",
        "svm_grid = LinearSVC(max_iter=10000) \n",
        "\n",
        "grid_search = GridSearchCV(svm_grid, param_grid, cv=5,\n",
        "                           scoring='neg_mean_squared_error',\n",
        "                           return_train_score=True,\n",
        "                          )\n",
        "\n",
        "grid_search.fit(X_train_prepared, y_train)"
      ],
      "metadata": {
        "colab": {
          "base_uri": "https://localhost:8080/"
        },
        "id": "p7Wb6V_KdT62",
        "outputId": "2ccdeb73-9b25-4077-9d9a-bb04dc044bb3"
      },
      "execution_count": null,
      "outputs": [
        {
          "output_type": "stream",
          "name": "stderr",
          "text": [
            "/usr/local/lib/python3.7/dist-packages/sklearn/svm/_base.py:1208: ConvergenceWarning: Liblinear failed to converge, increase the number of iterations.\n",
            "  ConvergenceWarning,\n",
            "/usr/local/lib/python3.7/dist-packages/sklearn/svm/_base.py:1208: ConvergenceWarning: Liblinear failed to converge, increase the number of iterations.\n",
            "  ConvergenceWarning,\n",
            "/usr/local/lib/python3.7/dist-packages/sklearn/svm/_base.py:1208: ConvergenceWarning: Liblinear failed to converge, increase the number of iterations.\n",
            "  ConvergenceWarning,\n",
            "/usr/local/lib/python3.7/dist-packages/sklearn/svm/_base.py:1208: ConvergenceWarning: Liblinear failed to converge, increase the number of iterations.\n",
            "  ConvergenceWarning,\n",
            "/usr/local/lib/python3.7/dist-packages/sklearn/svm/_base.py:1208: ConvergenceWarning: Liblinear failed to converge, increase the number of iterations.\n",
            "  ConvergenceWarning,\n",
            "/usr/local/lib/python3.7/dist-packages/sklearn/svm/_base.py:1208: ConvergenceWarning: Liblinear failed to converge, increase the number of iterations.\n",
            "  ConvergenceWarning,\n",
            "/usr/local/lib/python3.7/dist-packages/sklearn/svm/_base.py:1208: ConvergenceWarning: Liblinear failed to converge, increase the number of iterations.\n",
            "  ConvergenceWarning,\n",
            "/usr/local/lib/python3.7/dist-packages/sklearn/svm/_base.py:1208: ConvergenceWarning: Liblinear failed to converge, increase the number of iterations.\n",
            "  ConvergenceWarning,\n",
            "/usr/local/lib/python3.7/dist-packages/sklearn/svm/_base.py:1208: ConvergenceWarning: Liblinear failed to converge, increase the number of iterations.\n",
            "  ConvergenceWarning,\n",
            "/usr/local/lib/python3.7/dist-packages/sklearn/svm/_base.py:1208: ConvergenceWarning: Liblinear failed to converge, increase the number of iterations.\n",
            "  ConvergenceWarning,\n",
            "/usr/local/lib/python3.7/dist-packages/sklearn/svm/_base.py:1208: ConvergenceWarning: Liblinear failed to converge, increase the number of iterations.\n",
            "  ConvergenceWarning,\n",
            "/usr/local/lib/python3.7/dist-packages/sklearn/svm/_base.py:1208: ConvergenceWarning: Liblinear failed to converge, increase the number of iterations.\n",
            "  ConvergenceWarning,\n",
            "/usr/local/lib/python3.7/dist-packages/sklearn/svm/_base.py:1208: ConvergenceWarning: Liblinear failed to converge, increase the number of iterations.\n",
            "  ConvergenceWarning,\n",
            "/usr/local/lib/python3.7/dist-packages/sklearn/svm/_base.py:1208: ConvergenceWarning: Liblinear failed to converge, increase the number of iterations.\n",
            "  ConvergenceWarning,\n",
            "/usr/local/lib/python3.7/dist-packages/sklearn/svm/_base.py:1208: ConvergenceWarning: Liblinear failed to converge, increase the number of iterations.\n",
            "  ConvergenceWarning,\n",
            "/usr/local/lib/python3.7/dist-packages/sklearn/svm/_base.py:1208: ConvergenceWarning: Liblinear failed to converge, increase the number of iterations.\n",
            "  ConvergenceWarning,\n",
            "/usr/local/lib/python3.7/dist-packages/sklearn/svm/_base.py:1208: ConvergenceWarning: Liblinear failed to converge, increase the number of iterations.\n",
            "  ConvergenceWarning,\n",
            "/usr/local/lib/python3.7/dist-packages/sklearn/svm/_base.py:1208: ConvergenceWarning: Liblinear failed to converge, increase the number of iterations.\n",
            "  ConvergenceWarning,\n",
            "/usr/local/lib/python3.7/dist-packages/sklearn/svm/_base.py:1208: ConvergenceWarning: Liblinear failed to converge, increase the number of iterations.\n",
            "  ConvergenceWarning,\n",
            "/usr/local/lib/python3.7/dist-packages/sklearn/svm/_base.py:1208: ConvergenceWarning: Liblinear failed to converge, increase the number of iterations.\n",
            "  ConvergenceWarning,\n",
            "/usr/local/lib/python3.7/dist-packages/sklearn/svm/_base.py:1208: ConvergenceWarning: Liblinear failed to converge, increase the number of iterations.\n",
            "  ConvergenceWarning,\n",
            "/usr/local/lib/python3.7/dist-packages/sklearn/svm/_base.py:1208: ConvergenceWarning: Liblinear failed to converge, increase the number of iterations.\n",
            "  ConvergenceWarning,\n",
            "/usr/local/lib/python3.7/dist-packages/sklearn/svm/_base.py:1208: ConvergenceWarning: Liblinear failed to converge, increase the number of iterations.\n",
            "  ConvergenceWarning,\n",
            "/usr/local/lib/python3.7/dist-packages/sklearn/svm/_base.py:1208: ConvergenceWarning: Liblinear failed to converge, increase the number of iterations.\n",
            "  ConvergenceWarning,\n",
            "/usr/local/lib/python3.7/dist-packages/sklearn/svm/_base.py:1208: ConvergenceWarning: Liblinear failed to converge, increase the number of iterations.\n",
            "  ConvergenceWarning,\n",
            "/usr/local/lib/python3.7/dist-packages/sklearn/svm/_base.py:1208: ConvergenceWarning: Liblinear failed to converge, increase the number of iterations.\n",
            "  ConvergenceWarning,\n",
            "/usr/local/lib/python3.7/dist-packages/sklearn/svm/_base.py:1208: ConvergenceWarning: Liblinear failed to converge, increase the number of iterations.\n",
            "  ConvergenceWarning,\n",
            "/usr/local/lib/python3.7/dist-packages/sklearn/svm/_base.py:1208: ConvergenceWarning: Liblinear failed to converge, increase the number of iterations.\n",
            "  ConvergenceWarning,\n",
            "/usr/local/lib/python3.7/dist-packages/sklearn/svm/_base.py:1208: ConvergenceWarning: Liblinear failed to converge, increase the number of iterations.\n",
            "  ConvergenceWarning,\n",
            "/usr/local/lib/python3.7/dist-packages/sklearn/svm/_base.py:1208: ConvergenceWarning: Liblinear failed to converge, increase the number of iterations.\n",
            "  ConvergenceWarning,\n",
            "/usr/local/lib/python3.7/dist-packages/sklearn/svm/_base.py:1208: ConvergenceWarning: Liblinear failed to converge, increase the number of iterations.\n",
            "  ConvergenceWarning,\n",
            "/usr/local/lib/python3.7/dist-packages/sklearn/svm/_base.py:1208: ConvergenceWarning: Liblinear failed to converge, increase the number of iterations.\n",
            "  ConvergenceWarning,\n",
            "/usr/local/lib/python3.7/dist-packages/sklearn/svm/_base.py:1208: ConvergenceWarning: Liblinear failed to converge, increase the number of iterations.\n",
            "  ConvergenceWarning,\n",
            "/usr/local/lib/python3.7/dist-packages/sklearn/svm/_base.py:1208: ConvergenceWarning: Liblinear failed to converge, increase the number of iterations.\n",
            "  ConvergenceWarning,\n",
            "/usr/local/lib/python3.7/dist-packages/sklearn/svm/_base.py:1208: ConvergenceWarning: Liblinear failed to converge, increase the number of iterations.\n",
            "  ConvergenceWarning,\n",
            "/usr/local/lib/python3.7/dist-packages/sklearn/svm/_base.py:1208: ConvergenceWarning: Liblinear failed to converge, increase the number of iterations.\n",
            "  ConvergenceWarning,\n",
            "/usr/local/lib/python3.7/dist-packages/sklearn/svm/_base.py:1208: ConvergenceWarning: Liblinear failed to converge, increase the number of iterations.\n",
            "  ConvergenceWarning,\n",
            "/usr/local/lib/python3.7/dist-packages/sklearn/svm/_base.py:1208: ConvergenceWarning: Liblinear failed to converge, increase the number of iterations.\n",
            "  ConvergenceWarning,\n",
            "/usr/local/lib/python3.7/dist-packages/sklearn/svm/_base.py:1208: ConvergenceWarning: Liblinear failed to converge, increase the number of iterations.\n",
            "  ConvergenceWarning,\n",
            "/usr/local/lib/python3.7/dist-packages/sklearn/svm/_base.py:1208: ConvergenceWarning: Liblinear failed to converge, increase the number of iterations.\n",
            "  ConvergenceWarning,\n",
            "/usr/local/lib/python3.7/dist-packages/sklearn/svm/_base.py:1208: ConvergenceWarning: Liblinear failed to converge, increase the number of iterations.\n",
            "  ConvergenceWarning,\n",
            "/usr/local/lib/python3.7/dist-packages/sklearn/svm/_base.py:1208: ConvergenceWarning: Liblinear failed to converge, increase the number of iterations.\n",
            "  ConvergenceWarning,\n",
            "/usr/local/lib/python3.7/dist-packages/sklearn/svm/_base.py:1208: ConvergenceWarning: Liblinear failed to converge, increase the number of iterations.\n",
            "  ConvergenceWarning,\n",
            "/usr/local/lib/python3.7/dist-packages/sklearn/svm/_base.py:1208: ConvergenceWarning: Liblinear failed to converge, increase the number of iterations.\n",
            "  ConvergenceWarning,\n",
            "/usr/local/lib/python3.7/dist-packages/sklearn/svm/_base.py:1208: ConvergenceWarning: Liblinear failed to converge, increase the number of iterations.\n",
            "  ConvergenceWarning,\n",
            "/usr/local/lib/python3.7/dist-packages/sklearn/svm/_base.py:1208: ConvergenceWarning: Liblinear failed to converge, increase the number of iterations.\n",
            "  ConvergenceWarning,\n",
            "/usr/local/lib/python3.7/dist-packages/sklearn/svm/_base.py:1208: ConvergenceWarning: Liblinear failed to converge, increase the number of iterations.\n",
            "  ConvergenceWarning,\n",
            "/usr/local/lib/python3.7/dist-packages/sklearn/svm/_base.py:1208: ConvergenceWarning: Liblinear failed to converge, increase the number of iterations.\n",
            "  ConvergenceWarning,\n",
            "/usr/local/lib/python3.7/dist-packages/sklearn/svm/_base.py:1208: ConvergenceWarning: Liblinear failed to converge, increase the number of iterations.\n",
            "  ConvergenceWarning,\n",
            "/usr/local/lib/python3.7/dist-packages/sklearn/svm/_base.py:1208: ConvergenceWarning: Liblinear failed to converge, increase the number of iterations.\n",
            "  ConvergenceWarning,\n",
            "/usr/local/lib/python3.7/dist-packages/sklearn/svm/_base.py:1208: ConvergenceWarning: Liblinear failed to converge, increase the number of iterations.\n",
            "  ConvergenceWarning,\n",
            "/usr/local/lib/python3.7/dist-packages/sklearn/svm/_base.py:1208: ConvergenceWarning: Liblinear failed to converge, increase the number of iterations.\n",
            "  ConvergenceWarning,\n",
            "/usr/local/lib/python3.7/dist-packages/sklearn/svm/_base.py:1208: ConvergenceWarning: Liblinear failed to converge, increase the number of iterations.\n",
            "  ConvergenceWarning,\n",
            "/usr/local/lib/python3.7/dist-packages/sklearn/svm/_base.py:1208: ConvergenceWarning: Liblinear failed to converge, increase the number of iterations.\n",
            "  ConvergenceWarning,\n",
            "/usr/local/lib/python3.7/dist-packages/sklearn/svm/_base.py:1208: ConvergenceWarning: Liblinear failed to converge, increase the number of iterations.\n",
            "  ConvergenceWarning,\n",
            "/usr/local/lib/python3.7/dist-packages/sklearn/svm/_base.py:1208: ConvergenceWarning: Liblinear failed to converge, increase the number of iterations.\n",
            "  ConvergenceWarning,\n",
            "/usr/local/lib/python3.7/dist-packages/sklearn/svm/_base.py:1208: ConvergenceWarning: Liblinear failed to converge, increase the number of iterations.\n",
            "  ConvergenceWarning,\n",
            "/usr/local/lib/python3.7/dist-packages/sklearn/svm/_base.py:1208: ConvergenceWarning: Liblinear failed to converge, increase the number of iterations.\n",
            "  ConvergenceWarning,\n",
            "/usr/local/lib/python3.7/dist-packages/sklearn/svm/_base.py:1208: ConvergenceWarning: Liblinear failed to converge, increase the number of iterations.\n",
            "  ConvergenceWarning,\n",
            "/usr/local/lib/python3.7/dist-packages/sklearn/svm/_base.py:1208: ConvergenceWarning: Liblinear failed to converge, increase the number of iterations.\n",
            "  ConvergenceWarning,\n",
            "/usr/local/lib/python3.7/dist-packages/sklearn/svm/_base.py:1208: ConvergenceWarning: Liblinear failed to converge, increase the number of iterations.\n",
            "  ConvergenceWarning,\n",
            "/usr/local/lib/python3.7/dist-packages/sklearn/svm/_base.py:1208: ConvergenceWarning: Liblinear failed to converge, increase the number of iterations.\n",
            "  ConvergenceWarning,\n",
            "/usr/local/lib/python3.7/dist-packages/sklearn/svm/_base.py:1208: ConvergenceWarning: Liblinear failed to converge, increase the number of iterations.\n",
            "  ConvergenceWarning,\n",
            "/usr/local/lib/python3.7/dist-packages/sklearn/svm/_base.py:1208: ConvergenceWarning: Liblinear failed to converge, increase the number of iterations.\n",
            "  ConvergenceWarning,\n",
            "/usr/local/lib/python3.7/dist-packages/sklearn/svm/_base.py:1208: ConvergenceWarning: Liblinear failed to converge, increase the number of iterations.\n",
            "  ConvergenceWarning,\n",
            "/usr/local/lib/python3.7/dist-packages/sklearn/svm/_base.py:1208: ConvergenceWarning: Liblinear failed to converge, increase the number of iterations.\n",
            "  ConvergenceWarning,\n",
            "/usr/local/lib/python3.7/dist-packages/sklearn/svm/_base.py:1208: ConvergenceWarning: Liblinear failed to converge, increase the number of iterations.\n",
            "  ConvergenceWarning,\n",
            "/usr/local/lib/python3.7/dist-packages/sklearn/svm/_base.py:1208: ConvergenceWarning: Liblinear failed to converge, increase the number of iterations.\n",
            "  ConvergenceWarning,\n",
            "/usr/local/lib/python3.7/dist-packages/sklearn/svm/_base.py:1208: ConvergenceWarning: Liblinear failed to converge, increase the number of iterations.\n",
            "  ConvergenceWarning,\n",
            "/usr/local/lib/python3.7/dist-packages/sklearn/svm/_base.py:1208: ConvergenceWarning: Liblinear failed to converge, increase the number of iterations.\n",
            "  ConvergenceWarning,\n",
            "/usr/local/lib/python3.7/dist-packages/sklearn/svm/_base.py:1208: ConvergenceWarning: Liblinear failed to converge, increase the number of iterations.\n",
            "  ConvergenceWarning,\n",
            "/usr/local/lib/python3.7/dist-packages/sklearn/svm/_base.py:1208: ConvergenceWarning: Liblinear failed to converge, increase the number of iterations.\n",
            "  ConvergenceWarning,\n",
            "/usr/local/lib/python3.7/dist-packages/sklearn/svm/_base.py:1208: ConvergenceWarning: Liblinear failed to converge, increase the number of iterations.\n",
            "  ConvergenceWarning,\n",
            "/usr/local/lib/python3.7/dist-packages/sklearn/svm/_base.py:1208: ConvergenceWarning: Liblinear failed to converge, increase the number of iterations.\n",
            "  ConvergenceWarning,\n",
            "/usr/local/lib/python3.7/dist-packages/sklearn/svm/_base.py:1208: ConvergenceWarning: Liblinear failed to converge, increase the number of iterations.\n",
            "  ConvergenceWarning,\n",
            "/usr/local/lib/python3.7/dist-packages/sklearn/svm/_base.py:1208: ConvergenceWarning: Liblinear failed to converge, increase the number of iterations.\n",
            "  ConvergenceWarning,\n",
            "/usr/local/lib/python3.7/dist-packages/sklearn/svm/_base.py:1208: ConvergenceWarning: Liblinear failed to converge, increase the number of iterations.\n",
            "  ConvergenceWarning,\n",
            "/usr/local/lib/python3.7/dist-packages/sklearn/svm/_base.py:1208: ConvergenceWarning: Liblinear failed to converge, increase the number of iterations.\n",
            "  ConvergenceWarning,\n",
            "/usr/local/lib/python3.7/dist-packages/sklearn/svm/_base.py:1208: ConvergenceWarning: Liblinear failed to converge, increase the number of iterations.\n",
            "  ConvergenceWarning,\n",
            "/usr/local/lib/python3.7/dist-packages/sklearn/svm/_base.py:1208: ConvergenceWarning: Liblinear failed to converge, increase the number of iterations.\n",
            "  ConvergenceWarning,\n",
            "/usr/local/lib/python3.7/dist-packages/sklearn/svm/_base.py:1208: ConvergenceWarning: Liblinear failed to converge, increase the number of iterations.\n",
            "  ConvergenceWarning,\n",
            "/usr/local/lib/python3.7/dist-packages/sklearn/svm/_base.py:1208: ConvergenceWarning: Liblinear failed to converge, increase the number of iterations.\n",
            "  ConvergenceWarning,\n",
            "/usr/local/lib/python3.7/dist-packages/sklearn/svm/_base.py:1208: ConvergenceWarning: Liblinear failed to converge, increase the number of iterations.\n",
            "  ConvergenceWarning,\n",
            "/usr/local/lib/python3.7/dist-packages/sklearn/svm/_base.py:1208: ConvergenceWarning: Liblinear failed to converge, increase the number of iterations.\n",
            "  ConvergenceWarning,\n",
            "/usr/local/lib/python3.7/dist-packages/sklearn/svm/_base.py:1208: ConvergenceWarning: Liblinear failed to converge, increase the number of iterations.\n",
            "  ConvergenceWarning,\n",
            "/usr/local/lib/python3.7/dist-packages/sklearn/svm/_base.py:1208: ConvergenceWarning: Liblinear failed to converge, increase the number of iterations.\n",
            "  ConvergenceWarning,\n",
            "/usr/local/lib/python3.7/dist-packages/sklearn/svm/_base.py:1208: ConvergenceWarning: Liblinear failed to converge, increase the number of iterations.\n",
            "  ConvergenceWarning,\n",
            "/usr/local/lib/python3.7/dist-packages/sklearn/svm/_base.py:1208: ConvergenceWarning: Liblinear failed to converge, increase the number of iterations.\n",
            "  ConvergenceWarning,\n",
            "/usr/local/lib/python3.7/dist-packages/sklearn/svm/_base.py:1208: ConvergenceWarning: Liblinear failed to converge, increase the number of iterations.\n",
            "  ConvergenceWarning,\n",
            "/usr/local/lib/python3.7/dist-packages/sklearn/svm/_base.py:1208: ConvergenceWarning: Liblinear failed to converge, increase the number of iterations.\n",
            "  ConvergenceWarning,\n",
            "/usr/local/lib/python3.7/dist-packages/sklearn/svm/_base.py:1208: ConvergenceWarning: Liblinear failed to converge, increase the number of iterations.\n",
            "  ConvergenceWarning,\n",
            "/usr/local/lib/python3.7/dist-packages/sklearn/svm/_base.py:1208: ConvergenceWarning: Liblinear failed to converge, increase the number of iterations.\n",
            "  ConvergenceWarning,\n",
            "/usr/local/lib/python3.7/dist-packages/sklearn/svm/_base.py:1208: ConvergenceWarning: Liblinear failed to converge, increase the number of iterations.\n",
            "  ConvergenceWarning,\n",
            "/usr/local/lib/python3.7/dist-packages/sklearn/svm/_base.py:1208: ConvergenceWarning: Liblinear failed to converge, increase the number of iterations.\n",
            "  ConvergenceWarning,\n",
            "/usr/local/lib/python3.7/dist-packages/sklearn/svm/_base.py:1208: ConvergenceWarning: Liblinear failed to converge, increase the number of iterations.\n",
            "  ConvergenceWarning,\n",
            "/usr/local/lib/python3.7/dist-packages/sklearn/svm/_base.py:1208: ConvergenceWarning: Liblinear failed to converge, increase the number of iterations.\n",
            "  ConvergenceWarning,\n",
            "/usr/local/lib/python3.7/dist-packages/sklearn/svm/_base.py:1208: ConvergenceWarning: Liblinear failed to converge, increase the number of iterations.\n",
            "  ConvergenceWarning,\n",
            "/usr/local/lib/python3.7/dist-packages/sklearn/svm/_base.py:1208: ConvergenceWarning: Liblinear failed to converge, increase the number of iterations.\n",
            "  ConvergenceWarning,\n",
            "/usr/local/lib/python3.7/dist-packages/sklearn/svm/_base.py:1208: ConvergenceWarning: Liblinear failed to converge, increase the number of iterations.\n",
            "  ConvergenceWarning,\n",
            "/usr/local/lib/python3.7/dist-packages/sklearn/svm/_base.py:1208: ConvergenceWarning: Liblinear failed to converge, increase the number of iterations.\n",
            "  ConvergenceWarning,\n",
            "/usr/local/lib/python3.7/dist-packages/sklearn/svm/_base.py:1208: ConvergenceWarning: Liblinear failed to converge, increase the number of iterations.\n",
            "  ConvergenceWarning,\n"
          ]
        },
        {
          "output_type": "execute_result",
          "data": {
            "text/plain": [
              "GridSearchCV(cv=5, estimator=LinearSVC(max_iter=10000),\n",
              "             param_grid=[{'C': [0.1, 0.5, 1, 2, 5],\n",
              "                          'loss': ['hinge', 'squared_hinge']},\n",
              "                         {'C': [0.1, 0.5, 1, 2, 5], 'fit_intercept': [False],\n",
              "                          'loss': ['hinge', 'squared_hinge']}],\n",
              "             return_train_score=True, scoring='neg_mean_squared_error')"
            ]
          },
          "metadata": {},
          "execution_count": 33
        }
      ]
    },
    {
      "cell_type": "code",
      "source": [
        "grid_search.best_estimator_"
      ],
      "metadata": {
        "colab": {
          "base_uri": "https://localhost:8080/"
        },
        "id": "w-228Kn3eusU",
        "outputId": "db5b2fd1-53b5-4859-e8da-984d6034ccc4"
      },
      "execution_count": null,
      "outputs": [
        {
          "output_type": "execute_result",
          "data": {
            "text/plain": [
              "LinearSVC(C=1, max_iter=10000)"
            ]
          },
          "metadata": {},
          "execution_count": 34
        }
      ]
    },
    {
      "cell_type": "code",
      "source": [
        "import numpy as np\n",
        "\n",
        "cvresults = grid_search.cv_results_\n",
        "for mean_score, params in zip(cvresults[\"mean_test_score\"], cvresults[\"params\"]):\n",
        "  print(np.sqrt(-mean_score), params)"
      ],
      "metadata": {
        "colab": {
          "base_uri": "https://localhost:8080/"
        },
        "id": "21AJQrLvKoqG",
        "outputId": "75501a8d-c8ed-4f1f-e020-851f7d42e11d"
      },
      "execution_count": null,
      "outputs": [
        {
          "output_type": "stream",
          "name": "stdout",
          "text": [
            "0.6578200914591107 {'C': 0.1, 'loss': 'hinge'}\n",
            "0.7083912632282966 {'C': 0.1, 'loss': 'squared_hinge'}\n",
            "0.7579877667518484 {'C': 0.5, 'loss': 'hinge'}\n",
            "0.5222329678670935 {'C': 0.5, 'loss': 'squared_hinge'}\n",
            "0.39542842128966443 {'C': 1, 'loss': 'hinge'}\n",
            "0.37658754867650873 {'C': 1, 'loss': 'squared_hinge'}\n",
            "0.7507571935295484 {'C': 2, 'loss': 'hinge'}\n",
            "0.6438520439863917 {'C': 2, 'loss': 'squared_hinge'}\n",
            "0.620849857416868 {'C': 5, 'loss': 'hinge'}\n",
            "0.5752469825293227 {'C': 5, 'loss': 'squared_hinge'}\n",
            "0.5257029925382167 {'C': 0.1, 'fit_intercept': False, 'loss': 'hinge'}\n",
            "0.6266795614405122 {'C': 0.1, 'fit_intercept': False, 'loss': 'squared_hinge'}\n",
            "0.578399044384977 {'C': 0.5, 'fit_intercept': False, 'loss': 'hinge'}\n",
            "0.4177863742936748 {'C': 0.5, 'fit_intercept': False, 'loss': 'squared_hinge'}\n",
            "0.6 {'C': 1, 'fit_intercept': False, 'loss': 'hinge'}\n",
            "0.4972652484064488 {'C': 1, 'fit_intercept': False, 'loss': 'squared_hinge'}\n",
            "0.6494753127087909 {'C': 2, 'fit_intercept': False, 'loss': 'hinge'}\n",
            "0.5009082659620331 {'C': 2, 'fit_intercept': False, 'loss': 'squared_hinge'}\n",
            "0.4786344211304794 {'C': 5, 'fit_intercept': False, 'loss': 'hinge'}\n",
            "0.549379815626841 {'C': 5, 'fit_intercept': False, 'loss': 'squared_hinge'}\n"
          ]
        }
      ]
    },
    {
      "cell_type": "markdown",
      "source": [
        "Es decir, se empleará un clasificador lineal, de parámetro regularizador C=1, y con una función de coste \"squared hinge\". "
      ],
      "metadata": {
        "id": "ylaDGW51hePZ"
      }
    },
    {
      "cell_type": "code",
      "source": [
        "svm_classifier_best = Pipeline([\n",
        "                           (\"scaler\", StandardScaler()),\n",
        "                           (\"linear_svc\", LinearSVC(C=1, loss=\"squared_hinge\", fit_intercept=False, max_iter=10000)),\n",
        "])\n",
        "\n",
        "svm_classifier_best.fit(X_train_prepared, y_train)\n",
        "\n",
        "y_pred = svm_classifier_best.predict(X_test_prepared)\n",
        "print (\"La precisión en el conjunto de test es:\",accuracy_score(y_test, y_pred))"
      ],
      "metadata": {
        "colab": {
          "base_uri": "https://localhost:8080/"
        },
        "id": "X6Eh2Ht0hkzN",
        "outputId": "07442ca9-5341-49af-da63-2c2bdec30435"
      },
      "execution_count": null,
      "outputs": [
        {
          "output_type": "stream",
          "name": "stdout",
          "text": [
            "La precisión en el conjunto de test es: 1.0\n"
          ]
        }
      ]
    },
    {
      "cell_type": "code",
      "source": [
        "from sklearn.metrics import roc_curve, auc\n",
        "from sklearn.metrics import RocCurveDisplay\n",
        "import matplotlib.pyplot as plt\n",
        "fpr, tpr, thresholds = roc_curve(y_pred, y_test, pos_label=2)\n",
        "roc_auc = auc(fpr, tpr)\n",
        "\n",
        "display = RocCurveDisplay(fpr=fpr, tpr=tpr, roc_auc=roc_auc,\n",
        "estimator_name='LinearSVC')\n",
        "display.plot()\n",
        "plt.show()"
      ],
      "metadata": {
        "colab": {
          "base_uri": "https://localhost:8080/",
          "height": 279
        },
        "id": "b2G1ticXm0Cr",
        "outputId": "1d55a7fc-359c-4a55-d078-3e708eeee152"
      },
      "execution_count": null,
      "outputs": [
        {
          "output_type": "display_data",
          "data": {
            "image/png": "[encoded data removed]",
            "text/plain": [
              "<Figure size 432x288 with 1 Axes>"
            ]
          },
          "metadata": {
            "needs_background": "light"
          }
        }
      ]
    },
    {
      "cell_type": "markdown",
      "source": [
        "Los resultados, como cabe esperar son igual de buenos que en el caso anterior, \"perfectos\"."
      ],
      "metadata": {
        "id": "yQgrTUIdlVAJ"
      }
    },
    {
      "cell_type": "markdown",
      "source": [
        "Ambos modelos clasifican correctamente todas las instancias de entrenamiento y test. Esto se debe al uso de todas las características de las que se dispone, y a que se trata de un ejemplo de \"fácil\" clasificación. Es más sencillo el modelo de regresión logística, con lo que lo lógico sería quedarse con este. Si nos enfrentasemos a conjuntos más complejos, y fundamentalmente aquellos en los que las clases no son linealmente separables, se debería recurrir a SVC con kernels."
      ],
      "metadata": {
        "id": "QfhpcHxrlYgs"
      }
    },
    {
      "cell_type": "markdown",
      "source": [
        "##**Entrenar y evaluar un modelo de regresión logística**"
      ],
      "metadata": {
        "id": "iSrHtY9NlZb4"
      }
    },
    {
      "cell_type": "markdown",
      "source": [
        "Se puede realizar una clasificación binaria cogiendo cada una de las clases y clasificándola frente a las otras dos, mediante una regresión logística. Para ello, se codifican como 1 los targets de la clase que se quiere clasificar y como 0 los de las otras dos"
      ],
      "metadata": {
        "id": "fpjHxGEPmIYK"
      }
    },
    {
      "cell_type": "code",
      "source": [
        "y_train_new = (y_train==0)\n",
        "y_train_new = y_train_new.astype(int)\n",
        "print(y_train_new)\n",
        "y_test_new = (y_test==0)\n",
        "y_test_new = y_test_new.astype(int)"
      ],
      "metadata": {
        "colab": {
          "base_uri": "https://localhost:8080/"
        },
        "id": "OWaf8fjXnPxY",
        "outputId": "8ef26089-3205-4bcc-fa2c-e39b0901924e"
      },
      "execution_count": null,
      "outputs": [
        {
          "output_type": "stream",
          "name": "stdout",
          "text": [
            "66     1\n",
            "229    0\n",
            "7      1\n",
            "140    1\n",
            "323    0\n",
            "      ..\n",
            "188    0\n",
            "71     1\n",
            "106    1\n",
            "270    0\n",
            "102    1\n",
            "Length: 275, dtype: int64\n"
          ]
        }
      ]
    },
    {
      "cell_type": "code",
      "source": [
        "log_reg = LogisticRegression(max_iter=1000)\n",
        "log_reg.fit(X_train_prepared, y_train_new)"
      ],
      "metadata": {
        "colab": {
          "base_uri": "https://localhost:8080/"
        },
        "id": "TvGIQowdo2U1",
        "outputId": "588a211e-2d6d-4f90-b21c-951533bd52ba"
      },
      "execution_count": null,
      "outputs": [
        {
          "output_type": "execute_result",
          "data": {
            "text/plain": [
              "LogisticRegression(max_iter=1000)"
            ]
          },
          "metadata": {},
          "execution_count": 39
        }
      ]
    },
    {
      "cell_type": "code",
      "source": [
        "score_entrenamiento = log_reg.score(X_train_prepared,y_train_new)\n",
        "score = log_reg.score(X_test_prepared,y_test_new)\n",
        "y_pred = log_reg.predict(X_train_prepared)\n",
        "y_pred_test = log_reg.predict(X_test_prepared)\n",
        "print(\"La precisión en el conjunto de entrenamiento es:\", score_entrenamiento)\n",
        "print(\"La precisión en el conjunto de test es:\", score)\n",
        "print(\"f1 score en el conjunto de entrenamiento es:\", f1_score(y_train_new,y_pred))\n",
        "print(\"f1 score en el conjunto de test es:\", f1_score(y_test_new,y_pred_test))"
      ],
      "metadata": {
        "colab": {
          "base_uri": "https://localhost:8080/"
        },
        "id": "C2vi1tMpo76j",
        "outputId": "750c3944-7c19-4a88-a460-944ac119c087"
      },
      "execution_count": null,
      "outputs": [
        {
          "output_type": "stream",
          "name": "stdout",
          "text": [
            "La precisión en el conjunto de entrenamiento es: 0.9963636363636363\n",
            "La precisión en el conjunto de test es: 0.9855072463768116\n",
            "f1 score en el conjunto de entrenamiento es: 0.99581589958159\n",
            "f1 score en el conjunto de test es: 0.9841269841269841\n"
          ]
        }
      ]
    },
    {
      "cell_type": "code",
      "source": [
        "from sklearn.metrics import roc_curve, auc\n",
        "import matplotlib.pyplot as plt\n",
        "y_pred_test = log_reg.predict(X_test_prepared)\n",
        "y_pred_train = log_reg.predict(X_train_prepared)\n",
        "\n",
        "fpr_test, tpr_test, _ = roc_curve(y_test_new,y_pred_test)\n",
        "roc_auc_test = auc(fpr_test, tpr_test)\n",
        "\n",
        "fpr_train, tpr_train, _ = roc_curve(y_train_new,y_pred_train)\n",
        "roc_auc_train = auc(fpr_train, tpr_train)\n",
        "\n",
        "plt.plot(fpr_train,tpr_train,color=\"darkgreen\",lw=2,label=\"ROC curve train(area = %0.2f)\" % roc_auc_train,)\n",
        "plt.plot(fpr_test,tpr_test,color=\"darkred\",lw=2,label=\"ROC curve test(area = %0.2f)\" % roc_auc_test,)\n",
        "plt.xlabel(\"False Positive Rate\")\n",
        "plt.ylabel(\"True Positive Rate\")\n",
        "plt.title(\"ROC Adelie\")\n",
        "plt.legend(loc=\"lower right\")\n",
        "plt.show()"
      ],
      "metadata": {
        "colab": {
          "base_uri": "https://localhost:8080/",
          "height": 295
        },
        "id": "XzH4S7ygqpH3",
        "outputId": "f2a3ea55-237a-45a2-a1f5-5119689c778c"
      },
      "execution_count": null,
      "outputs": [
        {
          "output_type": "display_data",
          "data": {
            "image/png": "[encoded data removed]",
            "text/plain": [
              "<Figure size 432x288 with 1 Axes>"
            ]
          },
          "metadata": {
            "needs_background": "light"
          }
        }
      ]
    },
    {
      "cell_type": "code",
      "source": [
        "y_train_new = (y_train==1)\n",
        "y_train_new = y_train_new.astype(int)\n",
        "print(y_train_new)\n",
        "y_test_new = (y_test==1)\n",
        "y_test_new = y_test_new.astype(int)"
      ],
      "metadata": {
        "colab": {
          "base_uri": "https://localhost:8080/"
        },
        "id": "elMatebxrWGX",
        "outputId": "3c43e4e1-19e0-4c63-97e9-4420d8dedf59"
      },
      "execution_count": null,
      "outputs": [
        {
          "output_type": "stream",
          "name": "stdout",
          "text": [
            "66     0\n",
            "229    0\n",
            "7      0\n",
            "140    0\n",
            "323    0\n",
            "      ..\n",
            "188    1\n",
            "71     0\n",
            "106    0\n",
            "270    0\n",
            "102    0\n",
            "Length: 275, dtype: int64\n"
          ]
        }
      ]
    },
    {
      "cell_type": "code",
      "source": [
        "log_reg = LogisticRegression(max_iter=1000)\n",
        "log_reg.fit(X_train_prepared, y_train_new)"
      ],
      "metadata": {
        "colab": {
          "base_uri": "https://localhost:8080/"
        },
        "id": "zlyGOvJPrax7",
        "outputId": "ec64e6a3-3d84-412e-d482-d29ae210e343"
      },
      "execution_count": null,
      "outputs": [
        {
          "output_type": "execute_result",
          "data": {
            "text/plain": [
              "LogisticRegression(max_iter=1000)"
            ]
          },
          "metadata": {},
          "execution_count": 43
        }
      ]
    },
    {
      "cell_type": "code",
      "source": [
        "score_entrenamiento = log_reg.score(X_train_prepared,y_train_new)\n",
        "score = log_reg.score(X_test_prepared,y_test_new)\n",
        "y_pred = log_reg.predict(X_train_prepared)\n",
        "y_pred_test = log_reg.predict(X_test_prepared)\n",
        "print(\"La precisión en el conjunto de entrenamiento es:\", score_entrenamiento)\n",
        "print(\"La precisión en el conjunto de test es:\", score)\n",
        "print(\"f1 score en el conjunto de entrenamiento es:\", f1_score(y_train_new,y_pred))\n",
        "print(\"f1 score en el conjunto de test es:\", f1_score(y_test_new,y_pred_test))"
      ],
      "metadata": {
        "colab": {
          "base_uri": "https://localhost:8080/"
        },
        "id": "8JJCIIHhreEN",
        "outputId": "acadb475-0ce2-4d66-9885-1f1d0bda9df7"
      },
      "execution_count": null,
      "outputs": [
        {
          "output_type": "stream",
          "name": "stdout",
          "text": [
            "La precisión en el conjunto de entrenamiento es: 0.9963636363636363\n",
            "La precisión en el conjunto de test es: 0.9710144927536232\n",
            "f1 score en el conjunto de entrenamiento es: 0.9902912621359222\n",
            "f1 score en el conjunto de test es: 0.9333333333333333\n"
          ]
        }
      ]
    },
    {
      "cell_type": "code",
      "source": [
        "from sklearn.metrics import roc_curve, auc\n",
        "import matplotlib.pyplot as plt\n",
        "y_pred_test = log_reg.predict(X_test_prepared)\n",
        "y_pred_train = log_reg.predict(X_train_prepared)\n",
        "\n",
        "fpr_test, tpr_test, _ = roc_curve(y_test_new,y_pred_test)\n",
        "roc_auc_test = auc(fpr_test, tpr_test)\n",
        "\n",
        "fpr_train, tpr_train, _ = roc_curve(y_train_new,y_pred_train)\n",
        "roc_auc_train = auc(fpr_train, tpr_train)\n",
        "\n",
        "plt.plot(fpr_train,tpr_train,color=\"darkgreen\",lw=2,label=\"ROC curve train(area = %0.2f)\" % roc_auc_train,)\n",
        "plt.plot(fpr_test,tpr_test,color=\"darkred\",lw=2,label=\"ROC curve test(area = %0.2f)\" % roc_auc_test,)\n",
        "plt.xlabel(\"False Positive Rate\")\n",
        "plt.ylabel(\"True Positive Rate\")\n",
        "plt.title(\"ROC Chinstrap\")\n",
        "plt.legend(loc=\"lower right\")\n",
        "plt.show()"
      ],
      "metadata": {
        "colab": {
          "base_uri": "https://localhost:8080/",
          "height": 295
        },
        "id": "_u4ssPLLrjyt",
        "outputId": "ad8c6dc6-ac6a-4c55-d9e8-45dfc3a170cf"
      },
      "execution_count": null,
      "outputs": [
        {
          "output_type": "display_data",
          "data": {
            "image/png": "[encoded data removed]",
            "text/plain": [
              "<Figure size 432x288 with 1 Axes>"
            ]
          },
          "metadata": {
            "needs_background": "light"
          }
        }
      ]
    },
    {
      "cell_type": "code",
      "source": [
        "y_train_new = (y_train==2)\n",
        "y_train_new = y_train_new.astype(int)\n",
        "print(y_train_new)\n",
        "y_test_new = (y_test==2)\n",
        "y_test_new = y_test_new.astype(int)"
      ],
      "metadata": {
        "colab": {
          "base_uri": "https://localhost:8080/"
        },
        "id": "8apcXBlbr2e_",
        "outputId": "8c14f001-6d9a-4c36-f04d-05cd81511479"
      },
      "execution_count": null,
      "outputs": [
        {
          "output_type": "stream",
          "name": "stdout",
          "text": [
            "66     0\n",
            "229    1\n",
            "7      0\n",
            "140    0\n",
            "323    1\n",
            "      ..\n",
            "188    0\n",
            "71     0\n",
            "106    0\n",
            "270    1\n",
            "102    0\n",
            "Length: 275, dtype: int64\n"
          ]
        }
      ]
    },
    {
      "cell_type": "code",
      "source": [
        "log_reg = LogisticRegression(max_iter=1000)\n",
        "log_reg.fit(X_train_prepared, y_train_new)"
      ],
      "metadata": {
        "colab": {
          "base_uri": "https://localhost:8080/"
        },
        "id": "mgYna6dPr7Xk",
        "outputId": "5f75a2af-6e0d-4bff-f049-670c41a74a73"
      },
      "execution_count": null,
      "outputs": [
        {
          "output_type": "execute_result",
          "data": {
            "text/plain": [
              "LogisticRegression(max_iter=1000)"
            ]
          },
          "metadata": {},
          "execution_count": 47
        }
      ]
    },
    {
      "cell_type": "code",
      "source": [
        "score_entrenamiento = log_reg.score(X_train_prepared,y_train_new)\n",
        "score = log_reg.score(X_test_prepared,y_test_new)\n",
        "y_pred = log_reg.predict(X_train_prepared)\n",
        "y_pred_test = log_reg.predict(X_test_prepared)\n",
        "print(\"La precisión en el conjunto de entrenamiento es:\", score_entrenamiento)\n",
        "print(\"La precisión en el conjunto de test es:\", score)\n",
        "print(\"f1 score en el conjunto de entrenamiento es:\", f1_score(y_train_new,y_pred))\n",
        "print(\"f1 score en el conjunto de test es:\", f1_score(y_test_new,y_pred_test))"
      ],
      "metadata": {
        "colab": {
          "base_uri": "https://localhost:8080/"
        },
        "id": "rmyBwo6qsAuu",
        "outputId": "c940185b-ce3a-4be9-da90-a0eb15ec60a3"
      },
      "execution_count": null,
      "outputs": [
        {
          "output_type": "stream",
          "name": "stdout",
          "text": [
            "La precisión en el conjunto de entrenamiento es: 0.9963636363636363\n",
            "La precisión en el conjunto de test es: 1.0\n",
            "f1 score en el conjunto de entrenamiento es: 0.9951219512195122\n",
            "f1 score en el conjunto de test es: 1.0\n"
          ]
        }
      ]
    },
    {
      "cell_type": "code",
      "source": [
        "y_pred_test = log_reg.predict(X_test_prepared)\n",
        "y_pred_train = log_reg.predict(X_train_prepared)\n",
        "\n",
        "fpr_test, tpr_test, _ = roc_curve(y_test_new,y_pred_test)\n",
        "roc_auc_test = auc(fpr_test, tpr_test)\n",
        "\n",
        "fpr_train, tpr_train, _ = roc_curve(y_train_new,y_pred_train)\n",
        "roc_auc_train = auc(fpr_train, tpr_train)\n",
        "\n",
        "plt.plot(fpr_train,tpr_train,color=\"darkgreen\",lw=2,label=\"ROC curve train(area = %0.2f)\" % roc_auc_train,)\n",
        "plt.plot(fpr_test,tpr_test,color=\"darkred\",lw=2,label=\"ROC curve test(area = %0.2f)\" % roc_auc_test,)\n",
        "plt.xlabel(\"False Positive Rate\")\n",
        "plt.ylabel(\"True Positive Rate\")\n",
        "plt.title(\"ROC Gentoo\")\n",
        "plt.legend(loc=\"lower right\")\n",
        "plt.show()"
      ],
      "metadata": {
        "colab": {
          "base_uri": "https://localhost:8080/",
          "height": 295
        },
        "id": "Quwqs0xwsFmI",
        "outputId": "64bf4f8d-709b-4e12-d463-87d05ad08bbc"
      },
      "execution_count": null,
      "outputs": [
        {
          "output_type": "display_data",
          "data": {
            "image/png": "[encoded data removed]",
            "text/plain": [
              "<Figure size 432x288 with 1 Axes>"
            ]
          },
          "metadata": {
            "needs_background": "light"
          }
        }
      ]
    },
    {
      "cell_type": "markdown",
      "source": [
        "En este caso, no se clasifica cada clase con un \"score\" de 1"
      ],
      "metadata": {
        "id": "XLpFHFqYsbW4"
      }
    },
    {
      "cell_type": "markdown",
      "source": [
        "#**Sprint 2**"
      ],
      "metadata": {
        "id": "tp4a5fIxsx_E"
      }
    },
    {
      "cell_type": "markdown",
      "source": [
        "Se entrenan cuatro modelos de árbol de decisión, añadiendo cada vez más restricciones. El primero sin restricciones, el segundo limitando la profundidad del árbol a cuatro capas, el tercero obligando a que un nodo tenga al menos 5 instancias para poder generar subnodos, y en el cuarto obligando a que un nodo solo pueda generar subnodos si cada uno de ellos tiene al menos tres instancias.\n",
        "\n",
        "**SE PRESENTA DIRECTAMENTE LA PARTE OPCIONAL, ES DECIR, CON LOS ATRIBUTOS CATEGÓRICOS QUE SE AÑADIERON AL PRINCIPIO**"
      ],
      "metadata": {
        "id": "hTUgvKiUs_W-"
      }
    },
    {
      "cell_type": "markdown",
      "source": [
        "##**1. Por defecto**"
      ],
      "metadata": {
        "id": "d2qHEGXktoaC"
      }
    },
    {
      "cell_type": "code",
      "source": [
        "from sklearn.tree import DecisionTreeClassifier\n",
        "tree = DecisionTreeClassifier()\n",
        "tree.fit(X_train_prepared, y_train_tree)"
      ],
      "metadata": {
        "colab": {
          "base_uri": "https://localhost:8080/"
        },
        "id": "mg2OloxHAzJZ",
        "outputId": "5f05435c-9216-4c07-a4a7-1f3bf9460996"
      },
      "execution_count": null,
      "outputs": [
        {
          "output_type": "execute_result",
          "data": {
            "text/plain": [
              "DecisionTreeClassifier()"
            ]
          },
          "metadata": {},
          "execution_count": 50
        }
      ]
    },
    {
      "cell_type": "code",
      "source": [
        "from sklearn.metrics import confusion_matrix, f1_score\n",
        "print('La precisión del modelo en el conjunto de entrenamiento es:',tree.score(X_train_prepared, y_train_tree))\n",
        "y_pred_train = tree.predict(X_train_prepared)\n",
        "train_conf_matrix = confusion_matrix(y_train_tree, y_pred_train)\n",
        "print('La matriz de confusión en el conjunto de etrenamiento es:\\n',train_conf_matrix)\n",
        "print('f1 score en el conjunto de etrenamiento:',f1_score(y_train_tree, y_pred_train, average='weighted'))"
      ],
      "metadata": {
        "colab": {
          "base_uri": "https://localhost:8080/"
        },
        "id": "-k91_xawBI2X",
        "outputId": "87200b9b-4bea-4a67-b78c-a7269f886d48"
      },
      "execution_count": null,
      "outputs": [
        {
          "output_type": "stream",
          "name": "stdout",
          "text": [
            "La precisión del modelo en el conjunto de entrenamiento es: 1.0\n",
            "La matriz de confusión en el conjunto de etrenamiento es:\n",
            " [[120   0   0]\n",
            " [  0  52   0]\n",
            " [  0   0 103]]\n",
            "f1 score en el conjunto de etrenamiento: 1.0\n"
          ]
        }
      ]
    },
    {
      "cell_type": "code",
      "source": [
        "print('La precisión del modelo en el conjunto de test es:',tree.score(X_test_prepared, y_test_tree))\n",
        "y_pred_test = tree.predict(X_test_prepared)\n",
        "test_conf_matrix = confusion_matrix(y_test_tree, y_pred_test)\n",
        "print('La matriz de confusión en el conjunto de test es:\\n',test_conf_matrix)\n",
        "print('f1 score en el conjunto de test:',f1_score(y_test_tree, y_pred_test, average='weighted'))"
      ],
      "metadata": {
        "colab": {
          "base_uri": "https://localhost:8080/"
        },
        "id": "QBubAaqPBUJy",
        "outputId": "6c473f3f-73db-4e6e-d20b-ea61a4e2a2cc"
      },
      "execution_count": null,
      "outputs": [
        {
          "output_type": "stream",
          "name": "stdout",
          "text": [
            "La precisión del modelo en el conjunto de test es: 0.9855072463768116\n",
            "La matriz de confusión en el conjunto de test es:\n",
            " [[31  0  1]\n",
            " [ 0 16  0]\n",
            " [ 0  0 21]]\n",
            "f1 score en el conjunto de test: 0.9855607449136266\n"
          ]
        }
      ]
    },
    {
      "cell_type": "code",
      "source": [
        "from sklearn.tree import export_graphviz\n",
        "from graphviz import Source\n",
        "\n",
        "import os\n",
        "PROJECT_ROOT_DIR = \".\"\n",
        "IMAGES_PATH = os.path.join(PROJECT_ROOT_DIR, \"tree images\") #!\n",
        "os.makedirs(IMAGES_PATH, exist_ok=True)\n",
        "\n",
        "export_graphviz(\n",
        "tree,\n",
        "out_file=os.path.join(IMAGES_PATH,\"iris_tree_01.dot\"),\n",
        "feature_names=list(X_train_prepared.columns),\n",
        "class_names=list(y_train_tree.cat.categories),\n",
        "rounded=True,\n",
        "filled=True\n",
        ")\n",
        "\n",
        "Source.from_file(os.path.join(IMAGES_PATH, \"iris_tree_01.dot\"))\n"
      ],
      "metadata": {
        "colab": {
          "base_uri": "https://localhost:8080/",
          "height": 936
        },
        "id": "qnNf3mrxBkWY",
        "outputId": "e9791c4c-2ae1-4526-e7cd-2bea52e77db3"
      },
      "execution_count": null,
      "outputs": [
        {
          "output_type": "execute_result",
          "data": {
            "text/plain": [
              "<graphviz.files.Source at 0x7f26bda3bfd0>"
            ],
            "image/svg+xml": "<?xml version=\"1.0\" encoding=\"UTF-8\" standalone=\"no\"?>\n<!DOCTYPE svg PUBLIC \"-//W3C//DTD SVG 1.1//EN\"\n \"http://www.w3.org/Graphics/SVG/1.1/DTD/svg11.dtd\">\n<!-- Generated by graphviz version 2.40.1 (20161225.0304)\n -->\n<!-- Title: Tree Pages: 1 -->\n<svg width=\"1473pt\" height=\"671pt\"\n viewBox=\"0.00 0.00 1473.00 671.00\" xmlns=\"http://www.w3.org/2000/svg\" xmlns:xlink=\"http://www.w3.org/1999/xlink\">\n<g id=\"graph0\" class=\"graph\" transform=\"scale(1 1) rotate(0) translate(4 667)\">\n<title>Tree</title>\n<polygon fill=\"#ffffff\" stroke=\"transparent\" points=\"-4,4 -4,-667 1469,-667 1469,4 -4,4\"/>\n<!-- 0 -->\n<g id=\"node1\" class=\"node\">\n<title>0</title>\n<path fill=\"#fcf3eb\" stroke=\"#000000\" d=\"M1202,-663C1202,-663 1029,-663 1029,-663 1023,-663 1017,-657 1017,-651 1017,-651 1017,-592 1017,-592 1017,-586 1023,-580 1029,-580 1029,-580 1202,-580 1202,-580 1208,-580 1214,-586 1214,-592 1214,-592 1214,-651 1214,-651 1214,-657 1208,-663 1202,-663\"/>\n<text text-anchor=\"middle\" x=\"1115.5\" y=\"-647.8\" font-family=\"Helvetica,sans-Serif\" font-size=\"14.00\" fill=\"#000000\">flipper_length_mm &lt;= 206.5</text>\n<text text-anchor=\"middle\" x=\"1115.5\" y=\"-632.8\" font-family=\"Helvetica,sans-Serif\" font-size=\"14.00\" fill=\"#000000\">gini = 0.634</text>\n<text text-anchor=\"middle\" x=\"1115.5\" y=\"-617.8\" font-family=\"Helvetica,sans-Serif\" font-size=\"14.00\" fill=\"#000000\">samples = 275</text>\n<text text-anchor=\"middle\" x=\"1115.5\" y=\"-602.8\" font-family=\"Helvetica,sans-Serif\" font-size=\"14.00\" fill=\"#000000\">value = [120, 52, 103]</text>\n<text text-anchor=\"middle\" x=\"1115.5\" y=\"-587.8\" font-family=\"Helvetica,sans-Serif\" font-size=\"14.00\" fill=\"#000000\">class = Adelie</text>\n</g>\n<!-- 1 -->\n<g id=\"node2\" class=\"node\">\n<title>1</title>\n<path fill=\"#efb489\" stroke=\"#000000\" d=\"M1024,-544C1024,-544 843,-544 843,-544 837,-544 831,-538 831,-532 831,-532 831,-473 831,-473 831,-467 837,-461 843,-461 843,-461 1024,-461 1024,-461 1030,-461 1036,-467 1036,-473 1036,-473 1036,-532 1036,-532 1036,-538 1030,-544 1024,-544\"/>\n<text text-anchor=\"middle\" x=\"933.5\" y=\"-528.8\" font-family=\"Helvetica,sans-Serif\" font-size=\"14.00\" fill=\"#000000\">culmen_length_mm &lt;= 43.15</text>\n<text text-anchor=\"middle\" x=\"933.5\" y=\"-513.8\" font-family=\"Helvetica,sans-Serif\" font-size=\"14.00\" fill=\"#000000\">gini = 0.415</text>\n<text text-anchor=\"middle\" x=\"933.5\" y=\"-498.8\" font-family=\"Helvetica,sans-Serif\" font-size=\"14.00\" fill=\"#000000\">samples = 166</text>\n<text text-anchor=\"middle\" x=\"933.5\" y=\"-483.8\" font-family=\"Helvetica,sans-Serif\" font-size=\"14.00\" fill=\"#000000\">value = [118, 47, 1]</text>\n<text text-anchor=\"middle\" x=\"933.5\" y=\"-468.8\" font-family=\"Helvetica,sans-Serif\" font-size=\"14.00\" fill=\"#000000\">class = Adelie</text>\n</g>\n<!-- 0&#45;&gt;1 -->\n<g id=\"edge1\" class=\"edge\">\n<title>0&#45;&gt;1</title>\n<path fill=\"none\" stroke=\"#000000\" d=\"M1051.8452,-579.8796C1036.8824,-570.0962 1020.8323,-559.6019 1005.5309,-549.5971\"/>\n<polygon fill=\"#000000\" stroke=\"#000000\" points=\"1007.4039,-546.6401 997.1188,-544.0969 1003.5731,-552.4989 1007.4039,-546.6401\"/>\n<text text-anchor=\"middle\" x=\"1002.2404\" y=\"-564.8667\" font-family=\"Helvetica,sans-Serif\" font-size=\"14.00\" fill=\"#000000\">True</text>\n</g>\n<!-- 20 -->\n<g id=\"node21\" class=\"node\">\n<title>20</title>\n<path fill=\"#8946e7\" stroke=\"#000000\" d=\"M1278.5,-544C1278.5,-544 1150.5,-544 1150.5,-544 1144.5,-544 1138.5,-538 1138.5,-532 1138.5,-532 1138.5,-473 1138.5,-473 1138.5,-467 1144.5,-461 1150.5,-461 1150.5,-461 1278.5,-461 1278.5,-461 1284.5,-461 1290.5,-467 1290.5,-473 1290.5,-473 1290.5,-532 1290.5,-532 1290.5,-538 1284.5,-544 1278.5,-544\"/>\n<text text-anchor=\"middle\" x=\"1214.5\" y=\"-528.8\" font-family=\"Helvetica,sans-Serif\" font-size=\"14.00\" fill=\"#000000\">island_Biscoe &lt;= 0.5</text>\n<text text-anchor=\"middle\" x=\"1214.5\" y=\"-513.8\" font-family=\"Helvetica,sans-Serif\" font-size=\"14.00\" fill=\"#000000\">gini = 0.122</text>\n<text text-anchor=\"middle\" x=\"1214.5\" y=\"-498.8\" font-family=\"Helvetica,sans-Serif\" font-size=\"14.00\" fill=\"#000000\">samples = 109</text>\n<text text-anchor=\"middle\" x=\"1214.5\" y=\"-483.8\" font-family=\"Helvetica,sans-Serif\" font-size=\"14.00\" fill=\"#000000\">value = [2, 5, 102]</text>\n<text text-anchor=\"middle\" x=\"1214.5\" y=\"-468.8\" font-family=\"Helvetica,sans-Serif\" font-size=\"14.00\" fill=\"#000000\">class = Gentoo</text>\n</g>\n<!-- 0&#45;&gt;20 -->\n<g id=\"edge20\" class=\"edge\">\n<title>0&#45;&gt;20</title>\n<path fill=\"none\" stroke=\"#000000\" d=\"M1150.1254,-579.8796C1157.618,-570.8733 1165.6119,-561.2644 1173.3279,-551.9897\"/>\n<polygon fill=\"#000000\" stroke=\"#000000\" points=\"1176.0219,-554.224 1179.7268,-544.2981 1170.6407,-549.7472 1176.0219,-554.224\"/>\n<text text-anchor=\"middle\" x=\"1182.0108\" y=\"-565.4935\" font-family=\"Helvetica,sans-Serif\" font-size=\"14.00\" fill=\"#000000\">False</text>\n</g>\n<!-- 2 -->\n<g id=\"node3\" class=\"node\">\n<title>2</title>\n<path fill=\"#e6843e\" stroke=\"#000000\" d=\"M634,-425C634,-425 461,-425 461,-425 455,-425 449,-419 449,-413 449,-413 449,-354 449,-354 449,-348 455,-342 461,-342 461,-342 634,-342 634,-342 640,-342 646,-348 646,-354 646,-354 646,-413 646,-413 646,-419 640,-425 634,-425\"/>\n<text text-anchor=\"middle\" x=\"547.5\" y=\"-409.8\" font-family=\"Helvetica,sans-Serif\" font-size=\"14.00\" fill=\"#000000\">culmen_length_mm &lt;= 42.4</text>\n<text text-anchor=\"middle\" x=\"547.5\" y=\"-394.8\" font-family=\"Helvetica,sans-Serif\" font-size=\"14.00\" fill=\"#000000\">gini = 0.05</text>\n<text text-anchor=\"middle\" x=\"547.5\" y=\"-379.8\" font-family=\"Helvetica,sans-Serif\" font-size=\"14.00\" fill=\"#000000\">samples = 117</text>\n<text text-anchor=\"middle\" x=\"547.5\" y=\"-364.8\" font-family=\"Helvetica,sans-Serif\" font-size=\"14.00\" fill=\"#000000\">value = [114, 3, 0]</text>\n<text text-anchor=\"middle\" x=\"547.5\" y=\"-349.8\" font-family=\"Helvetica,sans-Serif\" font-size=\"14.00\" fill=\"#000000\">class = Adelie</text>\n</g>\n<!-- 1&#45;&gt;2 -->\n<g id=\"edge2\" class=\"edge\">\n<title>1&#45;&gt;2</title>\n<path fill=\"none\" stroke=\"#000000\" d=\"M830.8194,-470.8446C776.8825,-454.2164 710.794,-433.8419 656.0173,-416.9548\"/>\n<polygon fill=\"#000000\" stroke=\"#000000\" points=\"656.8655,-413.5538 646.2781,-413.9523 654.8032,-420.2431 656.8655,-413.5538\"/>\n</g>\n<!-- 11 -->\n<g id=\"node12\" class=\"node\">\n<title>11</title>\n<path fill=\"#4fe88f\" stroke=\"#000000\" d=\"M997,-425C997,-425 870,-425 870,-425 864,-425 858,-419 858,-413 858,-413 858,-354 858,-354 858,-348 864,-342 870,-342 870,-342 997,-342 997,-342 1003,-342 1009,-348 1009,-354 1009,-354 1009,-413 1009,-413 1009,-419 1003,-425 997,-425\"/>\n<text text-anchor=\"middle\" x=\"933.5\" y=\"-409.8\" font-family=\"Helvetica,sans-Serif\" font-size=\"14.00\" fill=\"#000000\">island_Dream &lt;= 0.5</text>\n<text text-anchor=\"middle\" x=\"933.5\" y=\"-394.8\" font-family=\"Helvetica,sans-Serif\" font-size=\"14.00\" fill=\"#000000\">gini = 0.187</text>\n<text text-anchor=\"middle\" x=\"933.5\" y=\"-379.8\" font-family=\"Helvetica,sans-Serif\" font-size=\"14.00\" fill=\"#000000\">samples = 49</text>\n<text text-anchor=\"middle\" x=\"933.5\" y=\"-364.8\" font-family=\"Helvetica,sans-Serif\" font-size=\"14.00\" fill=\"#000000\">value = [4, 44, 1]</text>\n<text text-anchor=\"middle\" x=\"933.5\" y=\"-349.8\" font-family=\"Helvetica,sans-Serif\" font-size=\"14.00\" fill=\"#000000\">class = Chinstrap</text>\n</g>\n<!-- 1&#45;&gt;11 -->\n<g id=\"edge11\" class=\"edge\">\n<title>1&#45;&gt;11</title>\n<path fill=\"none\" stroke=\"#000000\" d=\"M933.5,-460.8796C933.5,-452.6838 933.5,-443.9891 933.5,-435.5013\"/>\n<polygon fill=\"#000000\" stroke=\"#000000\" points=\"937.0001,-435.298 933.5,-425.2981 930.0001,-435.2981 937.0001,-435.298\"/>\n</g>\n<!-- 3 -->\n<g id=\"node4\" class=\"node\">\n<title>3</title>\n<path fill=\"#e5823b\" stroke=\"#000000\" d=\"M398.5,-306C398.5,-306 220.5,-306 220.5,-306 214.5,-306 208.5,-300 208.5,-294 208.5,-294 208.5,-235 208.5,-235 208.5,-229 214.5,-223 220.5,-223 220.5,-223 398.5,-223 398.5,-223 404.5,-223 410.5,-229 410.5,-235 410.5,-235 410.5,-294 410.5,-294 410.5,-300 404.5,-306 398.5,-306\"/>\n<text text-anchor=\"middle\" x=\"309.5\" y=\"-290.8\" font-family=\"Helvetica,sans-Serif\" font-size=\"14.00\" fill=\"#000000\">culmen_depth_mm &lt;= 16.65</text>\n<text text-anchor=\"middle\" x=\"309.5\" y=\"-275.8\" font-family=\"Helvetica,sans-Serif\" font-size=\"14.00\" fill=\"#000000\">gini = 0.018</text>\n<text text-anchor=\"middle\" x=\"309.5\" y=\"-260.8\" font-family=\"Helvetica,sans-Serif\" font-size=\"14.00\" fill=\"#000000\">samples = 111</text>\n<text text-anchor=\"middle\" x=\"309.5\" y=\"-245.8\" font-family=\"Helvetica,sans-Serif\" font-size=\"14.00\" fill=\"#000000\">value = [110, 1, 0]</text>\n<text text-anchor=\"middle\" x=\"309.5\" y=\"-230.8\" font-family=\"Helvetica,sans-Serif\" font-size=\"14.00\" fill=\"#000000\">class = Adelie</text>\n</g>\n<!-- 2&#45;&gt;3 -->\n<g id=\"edge3\" class=\"edge\">\n<title>2&#45;&gt;3</title>\n<path fill=\"none\" stroke=\"#000000\" d=\"M464.2591,-341.8796C444.0583,-331.7791 422.3418,-320.9209 401.752,-310.626\"/>\n<polygon fill=\"#000000\" stroke=\"#000000\" points=\"403.2034,-307.4386 392.6938,-306.0969 400.0729,-313.6996 403.2034,-307.4386\"/>\n</g>\n<!-- 8 -->\n<g id=\"node9\" class=\"node\">\n<title>8</title>\n<path fill=\"#f2c09c\" stroke=\"#000000\" d=\"M611,-306C611,-306 484,-306 484,-306 478,-306 472,-300 472,-294 472,-294 472,-235 472,-235 472,-229 478,-223 484,-223 484,-223 611,-223 611,-223 617,-223 623,-229 623,-235 623,-235 623,-294 623,-294 623,-300 617,-306 611,-306\"/>\n<text text-anchor=\"middle\" x=\"547.5\" y=\"-290.8\" font-family=\"Helvetica,sans-Serif\" font-size=\"14.00\" fill=\"#000000\">sex_FEMALE &lt;= 0.5</text>\n<text text-anchor=\"middle\" x=\"547.5\" y=\"-275.8\" font-family=\"Helvetica,sans-Serif\" font-size=\"14.00\" fill=\"#000000\">gini = 0.444</text>\n<text text-anchor=\"middle\" x=\"547.5\" y=\"-260.8\" font-family=\"Helvetica,sans-Serif\" font-size=\"14.00\" fill=\"#000000\">samples = 6</text>\n<text text-anchor=\"middle\" x=\"547.5\" y=\"-245.8\" font-family=\"Helvetica,sans-Serif\" font-size=\"14.00\" fill=\"#000000\">value = [4, 2, 0]</text>\n<text text-anchor=\"middle\" x=\"547.5\" y=\"-230.8\" font-family=\"Helvetica,sans-Serif\" font-size=\"14.00\" fill=\"#000000\">class = Adelie</text>\n</g>\n<!-- 2&#45;&gt;8 -->\n<g id=\"edge8\" class=\"edge\">\n<title>2&#45;&gt;8</title>\n<path fill=\"none\" stroke=\"#000000\" d=\"M547.5,-341.8796C547.5,-333.6838 547.5,-324.9891 547.5,-316.5013\"/>\n<polygon fill=\"#000000\" stroke=\"#000000\" points=\"551.0001,-316.298 547.5,-306.2981 544.0001,-316.2981 551.0001,-316.298\"/>\n</g>\n<!-- 4 -->\n<g id=\"node5\" class=\"node\">\n<title>4</title>\n<path fill=\"#e89152\" stroke=\"#000000\" d=\"M214,-187C214,-187 41,-187 41,-187 35,-187 29,-181 29,-175 29,-175 29,-116 29,-116 29,-110 35,-104 41,-104 41,-104 214,-104 214,-104 220,-104 226,-110 226,-116 226,-116 226,-175 226,-175 226,-181 220,-187 214,-187\"/>\n<text text-anchor=\"middle\" x=\"127.5\" y=\"-171.8\" font-family=\"Helvetica,sans-Serif\" font-size=\"14.00\" fill=\"#000000\">culmen_length_mm &lt;= 39.3</text>\n<text text-anchor=\"middle\" x=\"127.5\" y=\"-156.8\" font-family=\"Helvetica,sans-Serif\" font-size=\"14.00\" fill=\"#000000\">gini = 0.198</text>\n<text text-anchor=\"middle\" x=\"127.5\" y=\"-141.8\" font-family=\"Helvetica,sans-Serif\" font-size=\"14.00\" fill=\"#000000\">samples = 9</text>\n<text text-anchor=\"middle\" x=\"127.5\" y=\"-126.8\" font-family=\"Helvetica,sans-Serif\" font-size=\"14.00\" fill=\"#000000\">value = [8, 1, 0]</text>\n<text text-anchor=\"middle\" x=\"127.5\" y=\"-111.8\" font-family=\"Helvetica,sans-Serif\" font-size=\"14.00\" fill=\"#000000\">class = Adelie</text>\n</g>\n<!-- 3&#45;&gt;4 -->\n<g id=\"edge4\" class=\"edge\">\n<title>3&#45;&gt;4</title>\n<path fill=\"none\" stroke=\"#000000\" d=\"M245.8452,-222.8796C230.8824,-213.0962 214.8323,-202.6019 199.5309,-192.5971\"/>\n<polygon fill=\"#000000\" stroke=\"#000000\" points=\"201.4039,-189.6401 191.1188,-187.0969 197.5731,-195.4989 201.4039,-189.6401\"/>\n</g>\n<!-- 7 -->\n<g id=\"node8\" class=\"node\">\n<title>7</title>\n<path fill=\"#e58139\" stroke=\"#000000\" d=\"M363,-179.5C363,-179.5 256,-179.5 256,-179.5 250,-179.5 244,-173.5 244,-167.5 244,-167.5 244,-123.5 244,-123.5 244,-117.5 250,-111.5 256,-111.5 256,-111.5 363,-111.5 363,-111.5 369,-111.5 375,-117.5 375,-123.5 375,-123.5 375,-167.5 375,-167.5 375,-173.5 369,-179.5 363,-179.5\"/>\n<text text-anchor=\"middle\" x=\"309.5\" y=\"-164.3\" font-family=\"Helvetica,sans-Serif\" font-size=\"14.00\" fill=\"#000000\">gini = 0.0</text>\n<text text-anchor=\"middle\" x=\"309.5\" y=\"-149.3\" font-family=\"Helvetica,sans-Serif\" font-size=\"14.00\" fill=\"#000000\">samples = 102</text>\n<text text-anchor=\"middle\" x=\"309.5\" y=\"-134.3\" font-family=\"Helvetica,sans-Serif\" font-size=\"14.00\" fill=\"#000000\">value = [102, 0, 0]</text>\n<text text-anchor=\"middle\" x=\"309.5\" y=\"-119.3\" font-family=\"Helvetica,sans-Serif\" font-size=\"14.00\" fill=\"#000000\">class = Adelie</text>\n</g>\n<!-- 3&#45;&gt;7 -->\n<g id=\"edge7\" class=\"edge\">\n<title>3&#45;&gt;7</title>\n<path fill=\"none\" stroke=\"#000000\" d=\"M309.5,-222.8796C309.5,-212.2134 309.5,-200.7021 309.5,-189.9015\"/>\n<polygon fill=\"#000000\" stroke=\"#000000\" points=\"313.0001,-189.8149 309.5,-179.8149 306.0001,-189.815 313.0001,-189.8149\"/>\n</g>\n<!-- 5 -->\n<g id=\"node6\" class=\"node\">\n<title>5</title>\n<path fill=\"#e58139\" stroke=\"#000000\" d=\"M103,-68C103,-68 12,-68 12,-68 6,-68 0,-62 0,-56 0,-56 0,-12 0,-12 0,-6 6,0 12,0 12,0 103,0 103,0 109,0 115,-6 115,-12 115,-12 115,-56 115,-56 115,-62 109,-68 103,-68\"/>\n<text text-anchor=\"middle\" x=\"57.5\" y=\"-52.8\" font-family=\"Helvetica,sans-Serif\" font-size=\"14.00\" fill=\"#000000\">gini = 0.0</text>\n<text text-anchor=\"middle\" x=\"57.5\" y=\"-37.8\" font-family=\"Helvetica,sans-Serif\" font-size=\"14.00\" fill=\"#000000\">samples = 8</text>\n<text text-anchor=\"middle\" x=\"57.5\" y=\"-22.8\" font-family=\"Helvetica,sans-Serif\" font-size=\"14.00\" fill=\"#000000\">value = [8, 0, 0]</text>\n<text text-anchor=\"middle\" x=\"57.5\" y=\"-7.8\" font-family=\"Helvetica,sans-Serif\" font-size=\"14.00\" fill=\"#000000\">class = Adelie</text>\n</g>\n<!-- 4&#45;&gt;5 -->\n<g id=\"edge5\" class=\"edge\">\n<title>4&#45;&gt;5</title>\n<path fill=\"none\" stroke=\"#000000\" d=\"M101.4346,-103.9815C95.8955,-95.1585 90.0364,-85.8258 84.4645,-76.9506\"/>\n<polygon fill=\"#000000\" stroke=\"#000000\" points=\"87.2922,-74.872 79.0108,-68.2637 81.3637,-78.594 87.2922,-74.872\"/>\n</g>\n<!-- 6 -->\n<g id=\"node7\" class=\"node\">\n<title>6</title>\n<path fill=\"#39e581\" stroke=\"#000000\" d=\"M249.5,-68C249.5,-68 145.5,-68 145.5,-68 139.5,-68 133.5,-62 133.5,-56 133.5,-56 133.5,-12 133.5,-12 133.5,-6 139.5,0 145.5,0 145.5,0 249.5,0 249.5,0 255.5,0 261.5,-6 261.5,-12 261.5,-12 261.5,-56 261.5,-56 261.5,-62 255.5,-68 249.5,-68\"/>\n<text text-anchor=\"middle\" x=\"197.5\" y=\"-52.8\" font-family=\"Helvetica,sans-Serif\" font-size=\"14.00\" fill=\"#000000\">gini = 0.0</text>\n<text text-anchor=\"middle\" x=\"197.5\" y=\"-37.8\" font-family=\"Helvetica,sans-Serif\" font-size=\"14.00\" fill=\"#000000\">samples = 1</text>\n<text text-anchor=\"middle\" x=\"197.5\" y=\"-22.8\" font-family=\"Helvetica,sans-Serif\" font-size=\"14.00\" fill=\"#000000\">value = [0, 1, 0]</text>\n<text text-anchor=\"middle\" x=\"197.5\" y=\"-7.8\" font-family=\"Helvetica,sans-Serif\" font-size=\"14.00\" fill=\"#000000\">class = Chinstrap</text>\n</g>\n<!-- 4&#45;&gt;6 -->\n<g id=\"edge6\" class=\"edge\">\n<title>4&#45;&gt;6</title>\n<path fill=\"none\" stroke=\"#000000\" d=\"M153.5654,-103.9815C159.1045,-95.1585 164.9636,-85.8258 170.5355,-76.9506\"/>\n<polygon fill=\"#000000\" stroke=\"#000000\" points=\"173.6363,-78.594 175.9892,-68.2637 167.7078,-74.872 173.6363,-78.594\"/>\n</g>\n<!-- 9 -->\n<g id=\"node10\" class=\"node\">\n<title>9</title>\n<path fill=\"#e58139\" stroke=\"#000000\" d=\"M496,-179.5C496,-179.5 405,-179.5 405,-179.5 399,-179.5 393,-173.5 393,-167.5 393,-167.5 393,-123.5 393,-123.5 393,-117.5 399,-111.5 405,-111.5 405,-111.5 496,-111.5 496,-111.5 502,-111.5 508,-117.5 508,-123.5 508,-123.5 508,-167.5 508,-167.5 508,-173.5 502,-179.5 496,-179.5\"/>\n<text text-anchor=\"middle\" x=\"450.5\" y=\"-164.3\" font-family=\"Helvetica,sans-Serif\" font-size=\"14.00\" fill=\"#000000\">gini = 0.0</text>\n<text text-anchor=\"middle\" x=\"450.5\" y=\"-149.3\" font-family=\"Helvetica,sans-Serif\" font-size=\"14.00\" fill=\"#000000\">samples = 4</text>\n<text text-anchor=\"middle\" x=\"450.5\" y=\"-134.3\" font-family=\"Helvetica,sans-Serif\" font-size=\"14.00\" fill=\"#000000\">value = [4, 0, 0]</text>\n<text text-anchor=\"middle\" x=\"450.5\" y=\"-119.3\" font-family=\"Helvetica,sans-Serif\" font-size=\"14.00\" fill=\"#000000\">class = Adelie</text>\n</g>\n<!-- 8&#45;&gt;9 -->\n<g id=\"edge9\" class=\"edge\">\n<title>8&#45;&gt;9</title>\n<path fill=\"none\" stroke=\"#000000\" d=\"M513.5741,-222.8796C504.2524,-211.4436 494.1388,-199.0363 484.7964,-187.575\"/>\n<polygon fill=\"#000000\" stroke=\"#000000\" points=\"487.5021,-185.3548 478.471,-179.8149 482.0763,-189.7775 487.5021,-185.3548\"/>\n</g>\n<!-- 10 -->\n<g id=\"node11\" class=\"node\">\n<title>10</title>\n<path fill=\"#39e581\" stroke=\"#000000\" d=\"M642.5,-179.5C642.5,-179.5 538.5,-179.5 538.5,-179.5 532.5,-179.5 526.5,-173.5 526.5,-167.5 526.5,-167.5 526.5,-123.5 526.5,-123.5 526.5,-117.5 532.5,-111.5 538.5,-111.5 538.5,-111.5 642.5,-111.5 642.5,-111.5 648.5,-111.5 654.5,-117.5 654.5,-123.5 654.5,-123.5 654.5,-167.5 654.5,-167.5 654.5,-173.5 648.5,-179.5 642.5,-179.5\"/>\n<text text-anchor=\"middle\" x=\"590.5\" y=\"-164.3\" font-family=\"Helvetica,sans-Serif\" font-size=\"14.00\" fill=\"#000000\">gini = 0.0</text>\n<text text-anchor=\"middle\" x=\"590.5\" y=\"-149.3\" font-family=\"Helvetica,sans-Serif\" font-size=\"14.00\" fill=\"#000000\">samples = 2</text>\n<text text-anchor=\"middle\" x=\"590.5\" y=\"-134.3\" font-family=\"Helvetica,sans-Serif\" font-size=\"14.00\" fill=\"#000000\">value = [0, 2, 0]</text>\n<text text-anchor=\"middle\" x=\"590.5\" y=\"-119.3\" font-family=\"Helvetica,sans-Serif\" font-size=\"14.00\" fill=\"#000000\">class = Chinstrap</text>\n</g>\n<!-- 8&#45;&gt;10 -->\n<g id=\"edge10\" class=\"edge\">\n<title>8&#45;&gt;10</title>\n<path fill=\"none\" stroke=\"#000000\" d=\"M562.5393,-222.8796C566.473,-211.9935 570.7247,-200.227 574.6968,-189.2344\"/>\n<polygon fill=\"#000000\" stroke=\"#000000\" points=\"577.9937,-190.4092 578.1005,-179.8149 571.4103,-188.0303 577.9937,-190.4092\"/>\n</g>\n<!-- 12 -->\n<g id=\"node13\" class=\"node\">\n<title>12</title>\n<path fill=\"#f2c09c\" stroke=\"#000000\" d=\"M903.5,-306C903.5,-306 795.5,-306 795.5,-306 789.5,-306 783.5,-300 783.5,-294 783.5,-294 783.5,-235 783.5,-235 783.5,-229 789.5,-223 795.5,-223 795.5,-223 903.5,-223 903.5,-223 909.5,-223 915.5,-229 915.5,-235 915.5,-235 915.5,-294 915.5,-294 915.5,-300 909.5,-306 903.5,-306\"/>\n<text text-anchor=\"middle\" x=\"849.5\" y=\"-290.8\" font-family=\"Helvetica,sans-Serif\" font-size=\"14.00\" fill=\"#000000\">sex_MALE &lt;= 0.5</text>\n<text text-anchor=\"middle\" x=\"849.5\" y=\"-275.8\" font-family=\"Helvetica,sans-Serif\" font-size=\"14.00\" fill=\"#000000\">gini = 0.444</text>\n<text text-anchor=\"middle\" x=\"849.5\" y=\"-260.8\" font-family=\"Helvetica,sans-Serif\" font-size=\"14.00\" fill=\"#000000\">samples = 3</text>\n<text text-anchor=\"middle\" x=\"849.5\" y=\"-245.8\" font-family=\"Helvetica,sans-Serif\" font-size=\"14.00\" fill=\"#000000\">value = [2, 0, 1]</text>\n<text text-anchor=\"middle\" x=\"849.5\" y=\"-230.8\" font-family=\"Helvetica,sans-Serif\" font-size=\"14.00\" fill=\"#000000\">class = Adelie</text>\n</g>\n<!-- 11&#45;&gt;12 -->\n<g id=\"edge12\" class=\"edge\">\n<title>11&#45;&gt;12</title>\n<path fill=\"none\" stroke=\"#000000\" d=\"M904.1209,-341.8796C897.8906,-333.0534 891.2519,-323.6485 884.827,-314.5466\"/>\n<polygon fill=\"#000000\" stroke=\"#000000\" points=\"887.6308,-312.4494 879.0045,-306.2981 881.912,-316.4862 887.6308,-312.4494\"/>\n</g>\n<!-- 15 -->\n<g id=\"node16\" class=\"node\">\n<title>15</title>\n<path fill=\"#42e687\" stroke=\"#000000\" d=\"M1127,-306C1127,-306 946,-306 946,-306 940,-306 934,-300 934,-294 934,-294 934,-235 934,-235 934,-229 940,-223 946,-223 946,-223 1127,-223 1127,-223 1133,-223 1139,-229 1139,-235 1139,-235 1139,-294 1139,-294 1139,-300 1133,-306 1127,-306\"/>\n<text text-anchor=\"middle\" x=\"1036.5\" y=\"-290.8\" font-family=\"Helvetica,sans-Serif\" font-size=\"14.00\" fill=\"#000000\">culmen_length_mm &lt;= 44.75</text>\n<text text-anchor=\"middle\" x=\"1036.5\" y=\"-275.8\" font-family=\"Helvetica,sans-Serif\" font-size=\"14.00\" fill=\"#000000\">gini = 0.083</text>\n<text text-anchor=\"middle\" x=\"1036.5\" y=\"-260.8\" font-family=\"Helvetica,sans-Serif\" font-size=\"14.00\" fill=\"#000000\">samples = 46</text>\n<text text-anchor=\"middle\" x=\"1036.5\" y=\"-245.8\" font-family=\"Helvetica,sans-Serif\" font-size=\"14.00\" fill=\"#000000\">value = [2, 44, 0]</text>\n<text text-anchor=\"middle\" x=\"1036.5\" y=\"-230.8\" font-family=\"Helvetica,sans-Serif\" font-size=\"14.00\" fill=\"#000000\">class = Chinstrap</text>\n</g>\n<!-- 11&#45;&gt;15 -->\n<g id=\"edge15\" class=\"edge\">\n<title>11&#45;&gt;15</title>\n<path fill=\"none\" stroke=\"#000000\" d=\"M969.5244,-341.8796C977.3198,-332.8733 985.6367,-323.2644 993.6644,-313.9897\"/>\n<polygon fill=\"#000000\" stroke=\"#000000\" points=\"996.4237,-316.1498 1000.3218,-306.2981 991.1309,-311.5686 996.4237,-316.1498\"/>\n</g>\n<!-- 13 -->\n<g id=\"node14\" class=\"node\">\n<title>13</title>\n<path fill=\"#8139e5\" stroke=\"#000000\" d=\"M776,-179.5C776,-179.5 685,-179.5 685,-179.5 679,-179.5 673,-173.5 673,-167.5 673,-167.5 673,-123.5 673,-123.5 673,-117.5 679,-111.5 685,-111.5 685,-111.5 776,-111.5 776,-111.5 782,-111.5 788,-117.5 788,-123.5 788,-123.5 788,-167.5 788,-167.5 788,-173.5 782,-179.5 776,-179.5\"/>\n<text text-anchor=\"middle\" x=\"730.5\" y=\"-164.3\" font-family=\"Helvetica,sans-Serif\" font-size=\"14.00\" fill=\"#000000\">gini = 0.0</text>\n<text text-anchor=\"middle\" x=\"730.5\" y=\"-149.3\" font-family=\"Helvetica,sans-Serif\" font-size=\"14.00\" fill=\"#000000\">samples = 1</text>\n<text text-anchor=\"middle\" x=\"730.5\" y=\"-134.3\" font-family=\"Helvetica,sans-Serif\" font-size=\"14.00\" fill=\"#000000\">value = [0, 0, 1]</text>\n<text text-anchor=\"middle\" x=\"730.5\" y=\"-119.3\" font-family=\"Helvetica,sans-Serif\" font-size=\"14.00\" fill=\"#000000\">class = Gentoo</text>\n</g>\n<!-- 12&#45;&gt;13 -->\n<g id=\"edge13\" class=\"edge\">\n<title>12&#45;&gt;13</title>\n<path fill=\"none\" stroke=\"#000000\" d=\"M807.8796,-222.8796C796.2237,-211.2237 783.5587,-198.5587 771.9148,-186.9148\"/>\n<polygon fill=\"#000000\" stroke=\"#000000\" points=\"774.3609,-184.4111 764.8149,-179.8149 769.4111,-189.3609 774.3609,-184.4111\"/>\n</g>\n<!-- 14 -->\n<g id=\"node15\" class=\"node\">\n<title>14</title>\n<path fill=\"#e58139\" stroke=\"#000000\" d=\"M909,-179.5C909,-179.5 818,-179.5 818,-179.5 812,-179.5 806,-173.5 806,-167.5 806,-167.5 806,-123.5 806,-123.5 806,-117.5 812,-111.5 818,-111.5 818,-111.5 909,-111.5 909,-111.5 915,-111.5 921,-117.5 921,-123.5 921,-123.5 921,-167.5 921,-167.5 921,-173.5 915,-179.5 909,-179.5\"/>\n<text text-anchor=\"middle\" x=\"863.5\" y=\"-164.3\" font-family=\"Helvetica,sans-Serif\" font-size=\"14.00\" fill=\"#000000\">gini = 0.0</text>\n<text text-anchor=\"middle\" x=\"863.5\" y=\"-149.3\" font-family=\"Helvetica,sans-Serif\" font-size=\"14.00\" fill=\"#000000\">samples = 2</text>\n<text text-anchor=\"middle\" x=\"863.5\" y=\"-134.3\" font-family=\"Helvetica,sans-Serif\" font-size=\"14.00\" fill=\"#000000\">value = [2, 0, 0]</text>\n<text text-anchor=\"middle\" x=\"863.5\" y=\"-119.3\" font-family=\"Helvetica,sans-Serif\" font-size=\"14.00\" fill=\"#000000\">class = Adelie</text>\n</g>\n<!-- 12&#45;&gt;14 -->\n<g id=\"edge14\" class=\"edge\">\n<title>12&#45;&gt;14</title>\n<path fill=\"none\" stroke=\"#000000\" d=\"M854.3965,-222.8796C855.6514,-212.2134 857.0056,-200.7021 858.2763,-189.9015\"/>\n<polygon fill=\"#000000\" stroke=\"#000000\" points=\"861.7705,-190.1554 859.4629,-179.8149 854.8184,-189.3375 861.7705,-190.1554\"/>\n</g>\n<!-- 16 -->\n<g id=\"node17\" class=\"node\">\n<title>16</title>\n<path fill=\"#ffffff\" stroke=\"#000000\" d=\"M1121.5,-187C1121.5,-187 951.5,-187 951.5,-187 945.5,-187 939.5,-181 939.5,-175 939.5,-175 939.5,-116 939.5,-116 939.5,-110 945.5,-104 951.5,-104 951.5,-104 1121.5,-104 1121.5,-104 1127.5,-104 1133.5,-110 1133.5,-116 1133.5,-116 1133.5,-175 1133.5,-175 1133.5,-181 1127.5,-187 1121.5,-187\"/>\n<text text-anchor=\"middle\" x=\"1036.5\" y=\"-171.8\" font-family=\"Helvetica,sans-Serif\" font-size=\"14.00\" fill=\"#000000\">culmen_depth_mm &lt;= 18.3</text>\n<text text-anchor=\"middle\" x=\"1036.5\" y=\"-156.8\" font-family=\"Helvetica,sans-Serif\" font-size=\"14.00\" fill=\"#000000\">gini = 0.5</text>\n<text text-anchor=\"middle\" x=\"1036.5\" y=\"-141.8\" font-family=\"Helvetica,sans-Serif\" font-size=\"14.00\" fill=\"#000000\">samples = 4</text>\n<text text-anchor=\"middle\" x=\"1036.5\" y=\"-126.8\" font-family=\"Helvetica,sans-Serif\" font-size=\"14.00\" fill=\"#000000\">value = [2, 2, 0]</text>\n<text text-anchor=\"middle\" x=\"1036.5\" y=\"-111.8\" font-family=\"Helvetica,sans-Serif\" font-size=\"14.00\" fill=\"#000000\">class = Adelie</text>\n</g>\n<!-- 15&#45;&gt;16 -->\n<g id=\"edge16\" class=\"edge\">\n<title>15&#45;&gt;16</title>\n<path fill=\"none\" stroke=\"#000000\" d=\"M1036.5,-222.8796C1036.5,-214.6838 1036.5,-205.9891 1036.5,-197.5013\"/>\n<polygon fill=\"#000000\" stroke=\"#000000\" points=\"1040.0001,-197.298 1036.5,-187.2981 1033.0001,-197.2981 1040.0001,-197.298\"/>\n</g>\n<!-- 19 -->\n<g id=\"node20\" class=\"node\">\n<title>19</title>\n<path fill=\"#39e581\" stroke=\"#000000\" d=\"M1267.5,-179.5C1267.5,-179.5 1163.5,-179.5 1163.5,-179.5 1157.5,-179.5 1151.5,-173.5 1151.5,-167.5 1151.5,-167.5 1151.5,-123.5 1151.5,-123.5 1151.5,-117.5 1157.5,-111.5 1163.5,-111.5 1163.5,-111.5 1267.5,-111.5 1267.5,-111.5 1273.5,-111.5 1279.5,-117.5 1279.5,-123.5 1279.5,-123.5 1279.5,-167.5 1279.5,-167.5 1279.5,-173.5 1273.5,-179.5 1267.5,-179.5\"/>\n<text text-anchor=\"middle\" x=\"1215.5\" y=\"-164.3\" font-family=\"Helvetica,sans-Serif\" font-size=\"14.00\" fill=\"#000000\">gini = 0.0</text>\n<text text-anchor=\"middle\" x=\"1215.5\" y=\"-149.3\" font-family=\"Helvetica,sans-Serif\" font-size=\"14.00\" fill=\"#000000\">samples = 42</text>\n<text text-anchor=\"middle\" x=\"1215.5\" y=\"-134.3\" font-family=\"Helvetica,sans-Serif\" font-size=\"14.00\" fill=\"#000000\">value = [0, 42, 0]</text>\n<text text-anchor=\"middle\" x=\"1215.5\" y=\"-119.3\" font-family=\"Helvetica,sans-Serif\" font-size=\"14.00\" fill=\"#000000\">class = Chinstrap</text>\n</g>\n<!-- 15&#45;&gt;19 -->\n<g id=\"edge19\" class=\"edge\">\n<title>15&#45;&gt;19</title>\n<path fill=\"none\" stroke=\"#000000\" d=\"M1099.1055,-222.8796C1117.3865,-210.7263 1137.3178,-197.4759 1155.4376,-185.4297\"/>\n<polygon fill=\"#000000\" stroke=\"#000000\" points=\"1157.7821,-188.074 1164.1721,-179.623 1153.9067,-182.2447 1157.7821,-188.074\"/>\n</g>\n<!-- 17 -->\n<g id=\"node18\" class=\"node\">\n<title>17</title>\n<path fill=\"#39e581\" stroke=\"#000000\" d=\"M1018.5,-68C1018.5,-68 914.5,-68 914.5,-68 908.5,-68 902.5,-62 902.5,-56 902.5,-56 902.5,-12 902.5,-12 902.5,-6 908.5,0 914.5,0 914.5,0 1018.5,0 1018.5,0 1024.5,0 1030.5,-6 1030.5,-12 1030.5,-12 1030.5,-56 1030.5,-56 1030.5,-62 1024.5,-68 1018.5,-68\"/>\n<text text-anchor=\"middle\" x=\"966.5\" y=\"-52.8\" font-family=\"Helvetica,sans-Serif\" font-size=\"14.00\" fill=\"#000000\">gini = 0.0</text>\n<text text-anchor=\"middle\" x=\"966.5\" y=\"-37.8\" font-family=\"Helvetica,sans-Serif\" font-size=\"14.00\" fill=\"#000000\">samples = 2</text>\n<text text-anchor=\"middle\" x=\"966.5\" y=\"-22.8\" font-family=\"Helvetica,sans-Serif\" font-size=\"14.00\" fill=\"#000000\">value = [0, 2, 0]</text>\n<text text-anchor=\"middle\" x=\"966.5\" y=\"-7.8\" font-family=\"Helvetica,sans-Serif\" font-size=\"14.00\" fill=\"#000000\">class = Chinstrap</text>\n</g>\n<!-- 16&#45;&gt;17 -->\n<g id=\"edge17\" class=\"edge\">\n<title>16&#45;&gt;17</title>\n<path fill=\"none\" stroke=\"#000000\" d=\"M1010.4346,-103.9815C1004.8955,-95.1585 999.0364,-85.8258 993.4645,-76.9506\"/>\n<polygon fill=\"#000000\" stroke=\"#000000\" points=\"996.2922,-74.872 988.0108,-68.2637 990.3637,-78.594 996.2922,-74.872\"/>\n</g>\n<!-- 18 -->\n<g id=\"node19\" class=\"node\">\n<title>18</title>\n<path fill=\"#e58139\" stroke=\"#000000\" d=\"M1152,-68C1152,-68 1061,-68 1061,-68 1055,-68 1049,-62 1049,-56 1049,-56 1049,-12 1049,-12 1049,-6 1055,0 1061,0 1061,0 1152,0 1152,0 1158,0 1164,-6 1164,-12 1164,-12 1164,-56 1164,-56 1164,-62 1158,-68 1152,-68\"/>\n<text text-anchor=\"middle\" x=\"1106.5\" y=\"-52.8\" font-family=\"Helvetica,sans-Serif\" font-size=\"14.00\" fill=\"#000000\">gini = 0.0</text>\n<text text-anchor=\"middle\" x=\"1106.5\" y=\"-37.8\" font-family=\"Helvetica,sans-Serif\" font-size=\"14.00\" fill=\"#000000\">samples = 2</text>\n<text text-anchor=\"middle\" x=\"1106.5\" y=\"-22.8\" font-family=\"Helvetica,sans-Serif\" font-size=\"14.00\" fill=\"#000000\">value = [2, 0, 0]</text>\n<text text-anchor=\"middle\" x=\"1106.5\" y=\"-7.8\" font-family=\"Helvetica,sans-Serif\" font-size=\"14.00\" fill=\"#000000\">class = Adelie</text>\n</g>\n<!-- 16&#45;&gt;18 -->\n<g id=\"edge18\" class=\"edge\">\n<title>16&#45;&gt;18</title>\n<path fill=\"none\" stroke=\"#000000\" d=\"M1062.5654,-103.9815C1068.1045,-95.1585 1073.9636,-85.8258 1079.5355,-76.9506\"/>\n<polygon fill=\"#000000\" stroke=\"#000000\" points=\"1082.6363,-78.594 1084.9892,-68.2637 1076.7078,-74.872 1082.6363,-78.594\"/>\n</g>\n<!-- 21 -->\n<g id=\"node22\" class=\"node\">\n<title>21</title>\n<path fill=\"#88efb3\" stroke=\"#000000\" d=\"M1303.5,-425C1303.5,-425 1125.5,-425 1125.5,-425 1119.5,-425 1113.5,-419 1113.5,-413 1113.5,-413 1113.5,-354 1113.5,-354 1113.5,-348 1119.5,-342 1125.5,-342 1125.5,-342 1303.5,-342 1303.5,-342 1309.5,-342 1315.5,-348 1315.5,-354 1315.5,-354 1315.5,-413 1315.5,-413 1315.5,-419 1309.5,-425 1303.5,-425\"/>\n<text text-anchor=\"middle\" x=\"1214.5\" y=\"-409.8\" font-family=\"Helvetica,sans-Serif\" font-size=\"14.00\" fill=\"#000000\">culmen_depth_mm &lt;= 18.95</text>\n<text text-anchor=\"middle\" x=\"1214.5\" y=\"-394.8\" font-family=\"Helvetica,sans-Serif\" font-size=\"14.00\" fill=\"#000000\">gini = 0.408</text>\n<text text-anchor=\"middle\" x=\"1214.5\" y=\"-379.8\" font-family=\"Helvetica,sans-Serif\" font-size=\"14.00\" fill=\"#000000\">samples = 7</text>\n<text text-anchor=\"middle\" x=\"1214.5\" y=\"-364.8\" font-family=\"Helvetica,sans-Serif\" font-size=\"14.00\" fill=\"#000000\">value = [2, 5, 0]</text>\n<text text-anchor=\"middle\" x=\"1214.5\" y=\"-349.8\" font-family=\"Helvetica,sans-Serif\" font-size=\"14.00\" fill=\"#000000\">class = Chinstrap</text>\n</g>\n<!-- 20&#45;&gt;21 -->\n<g id=\"edge21\" class=\"edge\">\n<title>20&#45;&gt;21</title>\n<path fill=\"none\" stroke=\"#000000\" d=\"M1214.5,-460.8796C1214.5,-452.6838 1214.5,-443.9891 1214.5,-435.5013\"/>\n<polygon fill=\"#000000\" stroke=\"#000000\" points=\"1218.0001,-435.298 1214.5,-425.2981 1211.0001,-435.2981 1218.0001,-435.298\"/>\n</g>\n<!-- 24 -->\n<g id=\"node25\" class=\"node\">\n<title>24</title>\n<path fill=\"#8139e5\" stroke=\"#000000\" d=\"M1453,-417.5C1453,-417.5 1346,-417.5 1346,-417.5 1340,-417.5 1334,-411.5 1334,-405.5 1334,-405.5 1334,-361.5 1334,-361.5 1334,-355.5 1340,-349.5 1346,-349.5 1346,-349.5 1453,-349.5 1453,-349.5 1459,-349.5 1465,-355.5 1465,-361.5 1465,-361.5 1465,-405.5 1465,-405.5 1465,-411.5 1459,-417.5 1453,-417.5\"/>\n<text text-anchor=\"middle\" x=\"1399.5\" y=\"-402.3\" font-family=\"Helvetica,sans-Serif\" font-size=\"14.00\" fill=\"#000000\">gini = 0.0</text>\n<text text-anchor=\"middle\" x=\"1399.5\" y=\"-387.3\" font-family=\"Helvetica,sans-Serif\" font-size=\"14.00\" fill=\"#000000\">samples = 102</text>\n<text text-anchor=\"middle\" x=\"1399.5\" y=\"-372.3\" font-family=\"Helvetica,sans-Serif\" font-size=\"14.00\" fill=\"#000000\">value = [0, 0, 102]</text>\n<text text-anchor=\"middle\" x=\"1399.5\" y=\"-357.3\" font-family=\"Helvetica,sans-Serif\" font-size=\"14.00\" fill=\"#000000\">class = Gentoo</text>\n</g>\n<!-- 20&#45;&gt;24 -->\n<g id=\"edge24\" class=\"edge\">\n<title>20&#45;&gt;24</title>\n<path fill=\"none\" stroke=\"#000000\" d=\"M1279.204,-460.8796C1298.2696,-448.6158 1319.0719,-435.2348 1337.9346,-423.1015\"/>\n<polygon fill=\"#000000\" stroke=\"#000000\" points=\"1339.9347,-425.9766 1346.4516,-417.623 1336.1478,-420.0893 1339.9347,-425.9766\"/>\n</g>\n<!-- 22 -->\n<g id=\"node23\" class=\"node\">\n<title>22</title>\n<path fill=\"#e58139\" stroke=\"#000000\" d=\"M1260,-298.5C1260,-298.5 1169,-298.5 1169,-298.5 1163,-298.5 1157,-292.5 1157,-286.5 1157,-286.5 1157,-242.5 1157,-242.5 1157,-236.5 1163,-230.5 1169,-230.5 1169,-230.5 1260,-230.5 1260,-230.5 1266,-230.5 1272,-236.5 1272,-242.5 1272,-242.5 1272,-286.5 1272,-286.5 1272,-292.5 1266,-298.5 1260,-298.5\"/>\n<text text-anchor=\"middle\" x=\"1214.5\" y=\"-283.3\" font-family=\"Helvetica,sans-Serif\" font-size=\"14.00\" fill=\"#000000\">gini = 0.0</text>\n<text text-anchor=\"middle\" x=\"1214.5\" y=\"-268.3\" font-family=\"Helvetica,sans-Serif\" font-size=\"14.00\" fill=\"#000000\">samples = 2</text>\n<text text-anchor=\"middle\" x=\"1214.5\" y=\"-253.3\" font-family=\"Helvetica,sans-Serif\" font-size=\"14.00\" fill=\"#000000\">value = [2, 0, 0]</text>\n<text text-anchor=\"middle\" x=\"1214.5\" y=\"-238.3\" font-family=\"Helvetica,sans-Serif\" font-size=\"14.00\" fill=\"#000000\">class = Adelie</text>\n</g>\n<!-- 21&#45;&gt;22 -->\n<g id=\"edge22\" class=\"edge\">\n<title>21&#45;&gt;22</title>\n<path fill=\"none\" stroke=\"#000000\" d=\"M1214.5,-341.8796C1214.5,-331.2134 1214.5,-319.7021 1214.5,-308.9015\"/>\n<polygon fill=\"#000000\" stroke=\"#000000\" points=\"1218.0001,-308.8149 1214.5,-298.8149 1211.0001,-308.815 1218.0001,-308.8149\"/>\n</g>\n<!-- 23 -->\n<g id=\"node24\" class=\"node\">\n<title>23</title>\n<path fill=\"#39e581\" stroke=\"#000000\" d=\"M1406.5,-298.5C1406.5,-298.5 1302.5,-298.5 1302.5,-298.5 1296.5,-298.5 1290.5,-292.5 1290.5,-286.5 1290.5,-286.5 1290.5,-242.5 1290.5,-242.5 1290.5,-236.5 1296.5,-230.5 1302.5,-230.5 1302.5,-230.5 1406.5,-230.5 1406.5,-230.5 1412.5,-230.5 1418.5,-236.5 1418.5,-242.5 1418.5,-242.5 1418.5,-286.5 1418.5,-286.5 1418.5,-292.5 1412.5,-298.5 1406.5,-298.5\"/>\n<text text-anchor=\"middle\" x=\"1354.5\" y=\"-283.3\" font-family=\"Helvetica,sans-Serif\" font-size=\"14.00\" fill=\"#000000\">gini = 0.0</text>\n<text text-anchor=\"middle\" x=\"1354.5\" y=\"-268.3\" font-family=\"Helvetica,sans-Serif\" font-size=\"14.00\" fill=\"#000000\">samples = 5</text>\n<text text-anchor=\"middle\" x=\"1354.5\" y=\"-253.3\" font-family=\"Helvetica,sans-Serif\" font-size=\"14.00\" fill=\"#000000\">value = [0, 5, 0]</text>\n<text text-anchor=\"middle\" x=\"1354.5\" y=\"-238.3\" font-family=\"Helvetica,sans-Serif\" font-size=\"14.00\" fill=\"#000000\">class = Chinstrap</text>\n</g>\n<!-- 21&#45;&gt;23 -->\n<g id=\"edge23\" class=\"edge\">\n<title>21&#45;&gt;23</title>\n<path fill=\"none\" stroke=\"#000000\" d=\"M1263.4652,-341.8796C1277.3073,-330.1138 1292.3592,-317.3197 1306.1641,-305.5855\"/>\n<polygon fill=\"#000000\" stroke=\"#000000\" points=\"1308.7769,-307.9582 1314.1295,-298.8149 1304.2433,-302.6247 1308.7769,-307.9582\"/>\n</g>\n</g>\n</svg>\n"
          },
          "metadata": {},
          "execution_count": 53
        }
      ]
    },
    {
      "cell_type": "markdown",
      "source": [
        "##**2. Limitando la profundidad**"
      ],
      "metadata": {
        "id": "WKY-47IE1PGi"
      }
    },
    {
      "cell_type": "code",
      "source": [
        "tree_depth = DecisionTreeClassifier(max_depth=4)\n",
        "tree_depth.fit(X_train_prepared, y_train_tree)"
      ],
      "metadata": {
        "colab": {
          "base_uri": "https://localhost:8080/"
        },
        "id": "tIUN6dEY-sS6",
        "outputId": "7c2829c0-78a6-48d6-8438-dd2c3997a4ef"
      },
      "execution_count": null,
      "outputs": [
        {
          "output_type": "execute_result",
          "data": {
            "text/plain": [
              "DecisionTreeClassifier(max_depth=4)"
            ]
          },
          "metadata": {},
          "execution_count": 54
        }
      ]
    },
    {
      "cell_type": "code",
      "source": [
        "print('La precisión del modelo en el conjunto de entrenamiento es:',tree_depth.score(X_train_prepared, y_train_tree))\n",
        "y_pred_train_depth = tree_depth.predict(X_train_prepared)\n",
        "train_conf_matrix_depth = confusion_matrix(y_train_tree, y_pred_train_depth)\n",
        "print('La matriz de confusión en el conjunto de entrenamiento es:\\n',train_conf_matrix_depth)\n",
        "print('f1 score en el conjunto de entrenamiento:',f1_score(y_train_tree, y_pred_train_depth, average='weighted'))"
      ],
      "metadata": {
        "colab": {
          "base_uri": "https://localhost:8080/"
        },
        "id": "_jZqYG3K_QgB",
        "outputId": "805f8f72-99a5-4a43-82a9-b7f476744b64"
      },
      "execution_count": null,
      "outputs": [
        {
          "output_type": "stream",
          "name": "stdout",
          "text": [
            "La precisión del modelo en el conjunto de entrenamiento es: 0.9890909090909091\n",
            "La matriz de confusión en el conjunto de entrenamiento es:\n",
            " [[120   0   0]\n",
            " [  3  49   0]\n",
            " [  0   0 103]]\n",
            "f1 score en el conjunto de entrenamiento: 0.988996232956629\n"
          ]
        }
      ]
    },
    {
      "cell_type": "code",
      "source": [
        "print('La precisión del modelo en el conjunto de test es:',tree_depth.score(X_test_prepared, y_test_tree))\n",
        "y_pred_test_depth = tree_depth.predict(X_test_prepared)\n",
        "test_conf_matrix_depth = confusion_matrix(y_test_tree, y_pred_test_depth)\n",
        "print('La matriz de confusión en el conjunto de test es:\\n',test_conf_matrix_depth)\n",
        "print('f1 score en el conjunto de test:',f1_score(y_test_tree, y_pred_test_depth, average='weighted'))"
      ],
      "metadata": {
        "colab": {
          "base_uri": "https://localhost:8080/"
        },
        "id": "dbiW6U-Y_sn0",
        "outputId": "f44dd32f-b08b-46ff-edc1-17758f319d80"
      },
      "execution_count": null,
      "outputs": [
        {
          "output_type": "stream",
          "name": "stdout",
          "text": [
            "La precisión del modelo en el conjunto de test es: 0.9855072463768116\n",
            "La matriz de confusión en el conjunto de test es:\n",
            " [[31  0  1]\n",
            " [ 0 16  0]\n",
            " [ 0  0 21]]\n",
            "f1 score en el conjunto de test: 0.9855607449136266\n"
          ]
        }
      ]
    },
    {
      "cell_type": "code",
      "source": [
        "PROJECT_ROOT_DIR = \".\"\n",
        "IMAGES_PATH = os.path.join(PROJECT_ROOT_DIR, \"tree images\") #!\n",
        "os.makedirs(IMAGES_PATH, exist_ok=True)\n",
        "\n",
        "export_graphviz(\n",
        "tree_depth,\n",
        "out_file=os.path.join(IMAGES_PATH,\"iris_tree_02.dot\"),\n",
        "feature_names=list(X_train_prepared.columns),\n",
        "class_names=list(y_train_tree.cat.categories),\n",
        "rounded=True,\n",
        "filled=True\n",
        ")\n",
        "\n",
        "Source.from_file(os.path.join(IMAGES_PATH, \"iris_tree_02.dot\"))"
      ],
      "metadata": {
        "colab": {
          "base_uri": "https://localhost:8080/",
          "height": 777
        },
        "id": "rKwVBbmCA7-t",
        "outputId": "4793e7d0-e55b-4774-f067-83f5a6a80a04"
      },
      "execution_count": null,
      "outputs": [
        {
          "output_type": "execute_result",
          "data": {
            "text/plain": [
              "<graphviz.files.Source at 0x7f26bda48190>"
            ],
            "image/svg+xml": "<?xml version=\"1.0\" encoding=\"UTF-8\" standalone=\"no\"?>\n<!DOCTYPE svg PUBLIC \"-//W3C//DTD SVG 1.1//EN\"\n \"http://www.w3.org/Graphics/SVG/1.1/DTD/svg11.dtd\">\n<!-- Generated by graphviz version 2.40.1 (20161225.0304)\n -->\n<!-- Title: Tree Pages: 1 -->\n<svg width=\"1287pt\" height=\"552pt\"\n viewBox=\"0.00 0.00 1286.50 552.00\" xmlns=\"http://www.w3.org/2000/svg\" xmlns:xlink=\"http://www.w3.org/1999/xlink\">\n<g id=\"graph0\" class=\"graph\" transform=\"scale(1 1) rotate(0) translate(4 548)\">\n<title>Tree</title>\n<polygon fill=\"#ffffff\" stroke=\"transparent\" points=\"-4,4 -4,-548 1282.5,-548 1282.5,4 -4,4\"/>\n<!-- 0 -->\n<g id=\"node1\" class=\"node\">\n<title>0</title>\n<path fill=\"#fcf3eb\" stroke=\"#000000\" d=\"M872,-544C872,-544 699,-544 699,-544 693,-544 687,-538 687,-532 687,-532 687,-473 687,-473 687,-467 693,-461 699,-461 699,-461 872,-461 872,-461 878,-461 884,-467 884,-473 884,-473 884,-532 884,-532 884,-538 878,-544 872,-544\"/>\n<text text-anchor=\"middle\" x=\"785.5\" y=\"-528.8\" font-family=\"Helvetica,sans-Serif\" font-size=\"14.00\" fill=\"#000000\">flipper_length_mm &lt;= 206.5</text>\n<text text-anchor=\"middle\" x=\"785.5\" y=\"-513.8\" font-family=\"Helvetica,sans-Serif\" font-size=\"14.00\" fill=\"#000000\">gini = 0.634</text>\n<text text-anchor=\"middle\" x=\"785.5\" y=\"-498.8\" font-family=\"Helvetica,sans-Serif\" font-size=\"14.00\" fill=\"#000000\">samples = 275</text>\n<text text-anchor=\"middle\" x=\"785.5\" y=\"-483.8\" font-family=\"Helvetica,sans-Serif\" font-size=\"14.00\" fill=\"#000000\">value = [120, 52, 103]</text>\n<text text-anchor=\"middle\" x=\"785.5\" y=\"-468.8\" font-family=\"Helvetica,sans-Serif\" font-size=\"14.00\" fill=\"#000000\">class = Adelie</text>\n</g>\n<!-- 1 -->\n<g id=\"node2\" class=\"node\">\n<title>1</title>\n<path fill=\"#efb489\" stroke=\"#000000\" d=\"M765,-425C765,-425 584,-425 584,-425 578,-425 572,-419 572,-413 572,-413 572,-354 572,-354 572,-348 578,-342 584,-342 584,-342 765,-342 765,-342 771,-342 777,-348 777,-354 777,-354 777,-413 777,-413 777,-419 771,-425 765,-425\"/>\n<text text-anchor=\"middle\" x=\"674.5\" y=\"-409.8\" font-family=\"Helvetica,sans-Serif\" font-size=\"14.00\" fill=\"#000000\">culmen_length_mm &lt;= 43.15</text>\n<text text-anchor=\"middle\" x=\"674.5\" y=\"-394.8\" font-family=\"Helvetica,sans-Serif\" font-size=\"14.00\" fill=\"#000000\">gini = 0.415</text>\n<text text-anchor=\"middle\" x=\"674.5\" y=\"-379.8\" font-family=\"Helvetica,sans-Serif\" font-size=\"14.00\" fill=\"#000000\">samples = 166</text>\n<text text-anchor=\"middle\" x=\"674.5\" y=\"-364.8\" font-family=\"Helvetica,sans-Serif\" font-size=\"14.00\" fill=\"#000000\">value = [118, 47, 1]</text>\n<text text-anchor=\"middle\" x=\"674.5\" y=\"-349.8\" font-family=\"Helvetica,sans-Serif\" font-size=\"14.00\" fill=\"#000000\">class = Adelie</text>\n</g>\n<!-- 0&#45;&gt;1 -->\n<g id=\"edge1\" class=\"edge\">\n<title>0&#45;&gt;1</title>\n<path fill=\"none\" stroke=\"#000000\" d=\"M746.6776,-460.8796C738.1927,-451.7832 729.1346,-442.0722 720.4032,-432.7116\"/>\n<polygon fill=\"#000000\" stroke=\"#000000\" points=\"722.8686,-430.2233 713.4881,-425.2981 717.7497,-434.9981 722.8686,-430.2233\"/>\n<text text-anchor=\"middle\" x=\"712.6191\" y=\"-446.583\" font-family=\"Helvetica,sans-Serif\" font-size=\"14.00\" fill=\"#000000\">True</text>\n</g>\n<!-- 16 -->\n<g id=\"node17\" class=\"node\">\n<title>16</title>\n<path fill=\"#8946e7\" stroke=\"#000000\" d=\"M985.5,-425C985.5,-425 807.5,-425 807.5,-425 801.5,-425 795.5,-419 795.5,-413 795.5,-413 795.5,-354 795.5,-354 795.5,-348 801.5,-342 807.5,-342 807.5,-342 985.5,-342 985.5,-342 991.5,-342 997.5,-348 997.5,-354 997.5,-354 997.5,-413 997.5,-413 997.5,-419 991.5,-425 985.5,-425\"/>\n<text text-anchor=\"middle\" x=\"896.5\" y=\"-409.8\" font-family=\"Helvetica,sans-Serif\" font-size=\"14.00\" fill=\"#000000\">culmen_depth_mm &lt;= 17.65</text>\n<text text-anchor=\"middle\" x=\"896.5\" y=\"-394.8\" font-family=\"Helvetica,sans-Serif\" font-size=\"14.00\" fill=\"#000000\">gini = 0.122</text>\n<text text-anchor=\"middle\" x=\"896.5\" y=\"-379.8\" font-family=\"Helvetica,sans-Serif\" font-size=\"14.00\" fill=\"#000000\">samples = 109</text>\n<text text-anchor=\"middle\" x=\"896.5\" y=\"-364.8\" font-family=\"Helvetica,sans-Serif\" font-size=\"14.00\" fill=\"#000000\">value = [2, 5, 102]</text>\n<text text-anchor=\"middle\" x=\"896.5\" y=\"-349.8\" font-family=\"Helvetica,sans-Serif\" font-size=\"14.00\" fill=\"#000000\">class = Gentoo</text>\n</g>\n<!-- 0&#45;&gt;16 -->\n<g id=\"edge16\" class=\"edge\">\n<title>0&#45;&gt;16</title>\n<path fill=\"none\" stroke=\"#000000\" d=\"M824.3224,-460.8796C832.8073,-451.7832 841.8654,-442.0722 850.5968,-432.7116\"/>\n<polygon fill=\"#000000\" stroke=\"#000000\" points=\"853.2503,-434.9981 857.5119,-425.2981 848.1314,-430.2233 853.2503,-434.9981\"/>\n<text text-anchor=\"middle\" x=\"858.3809\" y=\"-446.583\" font-family=\"Helvetica,sans-Serif\" font-size=\"14.00\" fill=\"#000000\">False</text>\n</g>\n<!-- 2 -->\n<g id=\"node3\" class=\"node\">\n<title>2</title>\n<path fill=\"#e6843e\" stroke=\"#000000\" d=\"M555,-306C555,-306 382,-306 382,-306 376,-306 370,-300 370,-294 370,-294 370,-235 370,-235 370,-229 376,-223 382,-223 382,-223 555,-223 555,-223 561,-223 567,-229 567,-235 567,-235 567,-294 567,-294 567,-300 561,-306 555,-306\"/>\n<text text-anchor=\"middle\" x=\"468.5\" y=\"-290.8\" font-family=\"Helvetica,sans-Serif\" font-size=\"14.00\" fill=\"#000000\">culmen_length_mm &lt;= 42.4</text>\n<text text-anchor=\"middle\" x=\"468.5\" y=\"-275.8\" font-family=\"Helvetica,sans-Serif\" font-size=\"14.00\" fill=\"#000000\">gini = 0.05</text>\n<text text-anchor=\"middle\" x=\"468.5\" y=\"-260.8\" font-family=\"Helvetica,sans-Serif\" font-size=\"14.00\" fill=\"#000000\">samples = 117</text>\n<text text-anchor=\"middle\" x=\"468.5\" y=\"-245.8\" font-family=\"Helvetica,sans-Serif\" font-size=\"14.00\" fill=\"#000000\">value = [114, 3, 0]</text>\n<text text-anchor=\"middle\" x=\"468.5\" y=\"-230.8\" font-family=\"Helvetica,sans-Serif\" font-size=\"14.00\" fill=\"#000000\">class = Adelie</text>\n</g>\n<!-- 1&#45;&gt;2 -->\n<g id=\"edge2\" class=\"edge\">\n<title>1&#45;&gt;2</title>\n<path fill=\"none\" stroke=\"#000000\" d=\"M602.4512,-341.8796C585.3585,-332.0056 567.0121,-321.4075 549.5486,-311.3193\"/>\n<polygon fill=\"#000000\" stroke=\"#000000\" points=\"550.9179,-308.0684 540.5081,-306.0969 547.4164,-314.1297 550.9179,-308.0684\"/>\n</g>\n<!-- 9 -->\n<g id=\"node10\" class=\"node\">\n<title>9</title>\n<path fill=\"#4fe88f\" stroke=\"#000000\" d=\"M759,-306C759,-306 632,-306 632,-306 626,-306 620,-300 620,-294 620,-294 620,-235 620,-235 620,-229 626,-223 632,-223 632,-223 759,-223 759,-223 765,-223 771,-229 771,-235 771,-235 771,-294 771,-294 771,-300 765,-306 759,-306\"/>\n<text text-anchor=\"middle\" x=\"695.5\" y=\"-290.8\" font-family=\"Helvetica,sans-Serif\" font-size=\"14.00\" fill=\"#000000\">island_Dream &lt;= 0.5</text>\n<text text-anchor=\"middle\" x=\"695.5\" y=\"-275.8\" font-family=\"Helvetica,sans-Serif\" font-size=\"14.00\" fill=\"#000000\">gini = 0.187</text>\n<text text-anchor=\"middle\" x=\"695.5\" y=\"-260.8\" font-family=\"Helvetica,sans-Serif\" font-size=\"14.00\" fill=\"#000000\">samples = 49</text>\n<text text-anchor=\"middle\" x=\"695.5\" y=\"-245.8\" font-family=\"Helvetica,sans-Serif\" font-size=\"14.00\" fill=\"#000000\">value = [4, 44, 1]</text>\n<text text-anchor=\"middle\" x=\"695.5\" y=\"-230.8\" font-family=\"Helvetica,sans-Serif\" font-size=\"14.00\" fill=\"#000000\">class = Chinstrap</text>\n</g>\n<!-- 1&#45;&gt;9 -->\n<g id=\"edge9\" class=\"edge\">\n<title>1&#45;&gt;9</title>\n<path fill=\"none\" stroke=\"#000000\" d=\"M681.8448,-341.8796C683.307,-333.5938 684.8592,-324.798 686.3727,-316.2216\"/>\n<polygon fill=\"#000000\" stroke=\"#000000\" points=\"689.8327,-316.7542 688.1239,-306.2981 682.9392,-315.5376 689.8327,-316.7542\"/>\n</g>\n<!-- 3 -->\n<g id=\"node4\" class=\"node\">\n<title>3</title>\n<path fill=\"#e5823b\" stroke=\"#000000\" d=\"M287.5,-187C287.5,-187 109.5,-187 109.5,-187 103.5,-187 97.5,-181 97.5,-175 97.5,-175 97.5,-116 97.5,-116 97.5,-110 103.5,-104 109.5,-104 109.5,-104 287.5,-104 287.5,-104 293.5,-104 299.5,-110 299.5,-116 299.5,-116 299.5,-175 299.5,-175 299.5,-181 293.5,-187 287.5,-187\"/>\n<text text-anchor=\"middle\" x=\"198.5\" y=\"-171.8\" font-family=\"Helvetica,sans-Serif\" font-size=\"14.00\" fill=\"#000000\">culmen_depth_mm &lt;= 16.65</text>\n<text text-anchor=\"middle\" x=\"198.5\" y=\"-156.8\" font-family=\"Helvetica,sans-Serif\" font-size=\"14.00\" fill=\"#000000\">gini = 0.018</text>\n<text text-anchor=\"middle\" x=\"198.5\" y=\"-141.8\" font-family=\"Helvetica,sans-Serif\" font-size=\"14.00\" fill=\"#000000\">samples = 111</text>\n<text text-anchor=\"middle\" x=\"198.5\" y=\"-126.8\" font-family=\"Helvetica,sans-Serif\" font-size=\"14.00\" fill=\"#000000\">value = [110, 1, 0]</text>\n<text text-anchor=\"middle\" x=\"198.5\" y=\"-111.8\" font-family=\"Helvetica,sans-Serif\" font-size=\"14.00\" fill=\"#000000\">class = Adelie</text>\n</g>\n<!-- 2&#45;&gt;3 -->\n<g id=\"edge3\" class=\"edge\">\n<title>2&#45;&gt;3</title>\n<path fill=\"none\" stroke=\"#000000\" d=\"M374.0671,-222.8796C350.8419,-212.6433 325.8507,-201.6286 302.2137,-191.2108\"/>\n<polygon fill=\"#000000\" stroke=\"#000000\" points=\"303.4418,-187.9273 292.8796,-187.0969 300.6186,-194.3328 303.4418,-187.9273\"/>\n</g>\n<!-- 6 -->\n<g id=\"node7\" class=\"node\">\n<title>6</title>\n<path fill=\"#f2c09c\" stroke=\"#000000\" d=\"M532,-187C532,-187 405,-187 405,-187 399,-187 393,-181 393,-175 393,-175 393,-116 393,-116 393,-110 399,-104 405,-104 405,-104 532,-104 532,-104 538,-104 544,-110 544,-116 544,-116 544,-175 544,-175 544,-181 538,-187 532,-187\"/>\n<text text-anchor=\"middle\" x=\"468.5\" y=\"-171.8\" font-family=\"Helvetica,sans-Serif\" font-size=\"14.00\" fill=\"#000000\">sex_FEMALE &lt;= 0.5</text>\n<text text-anchor=\"middle\" x=\"468.5\" y=\"-156.8\" font-family=\"Helvetica,sans-Serif\" font-size=\"14.00\" fill=\"#000000\">gini = 0.444</text>\n<text text-anchor=\"middle\" x=\"468.5\" y=\"-141.8\" font-family=\"Helvetica,sans-Serif\" font-size=\"14.00\" fill=\"#000000\">samples = 6</text>\n<text text-anchor=\"middle\" x=\"468.5\" y=\"-126.8\" font-family=\"Helvetica,sans-Serif\" font-size=\"14.00\" fill=\"#000000\">value = [4, 2, 0]</text>\n<text text-anchor=\"middle\" x=\"468.5\" y=\"-111.8\" font-family=\"Helvetica,sans-Serif\" font-size=\"14.00\" fill=\"#000000\">class = Adelie</text>\n</g>\n<!-- 2&#45;&gt;6 -->\n<g id=\"edge6\" class=\"edge\">\n<title>2&#45;&gt;6</title>\n<path fill=\"none\" stroke=\"#000000\" d=\"M468.5,-222.8796C468.5,-214.6838 468.5,-205.9891 468.5,-197.5013\"/>\n<polygon fill=\"#000000\" stroke=\"#000000\" points=\"472.0001,-197.298 468.5,-187.2981 465.0001,-197.2981 472.0001,-197.298\"/>\n</g>\n<!-- 4 -->\n<g id=\"node5\" class=\"node\">\n<title>4</title>\n<path fill=\"#e89152\" stroke=\"#000000\" d=\"M103,-68C103,-68 12,-68 12,-68 6,-68 0,-62 0,-56 0,-56 0,-12 0,-12 0,-6 6,0 12,0 12,0 103,0 103,0 109,0 115,-6 115,-12 115,-12 115,-56 115,-56 115,-62 109,-68 103,-68\"/>\n<text text-anchor=\"middle\" x=\"57.5\" y=\"-52.8\" font-family=\"Helvetica,sans-Serif\" font-size=\"14.00\" fill=\"#000000\">gini = 0.198</text>\n<text text-anchor=\"middle\" x=\"57.5\" y=\"-37.8\" font-family=\"Helvetica,sans-Serif\" font-size=\"14.00\" fill=\"#000000\">samples = 9</text>\n<text text-anchor=\"middle\" x=\"57.5\" y=\"-22.8\" font-family=\"Helvetica,sans-Serif\" font-size=\"14.00\" fill=\"#000000\">value = [8, 1, 0]</text>\n<text text-anchor=\"middle\" x=\"57.5\" y=\"-7.8\" font-family=\"Helvetica,sans-Serif\" font-size=\"14.00\" fill=\"#000000\">class = Adelie</text>\n</g>\n<!-- 3&#45;&gt;4 -->\n<g id=\"edge4\" class=\"edge\">\n<title>3&#45;&gt;4</title>\n<path fill=\"none\" stroke=\"#000000\" d=\"M145.9968,-103.9815C133.7934,-94.3313 120.819,-84.0714 108.6739,-74.4673\"/>\n<polygon fill=\"#000000\" stroke=\"#000000\" points=\"110.8438,-71.7211 100.829,-68.2637 106.5018,-77.2118 110.8438,-71.7211\"/>\n</g>\n<!-- 5 -->\n<g id=\"node6\" class=\"node\">\n<title>5</title>\n<path fill=\"#e58139\" stroke=\"#000000\" d=\"M252,-68C252,-68 145,-68 145,-68 139,-68 133,-62 133,-56 133,-56 133,-12 133,-12 133,-6 139,0 145,0 145,0 252,0 252,0 258,0 264,-6 264,-12 264,-12 264,-56 264,-56 264,-62 258,-68 252,-68\"/>\n<text text-anchor=\"middle\" x=\"198.5\" y=\"-52.8\" font-family=\"Helvetica,sans-Serif\" font-size=\"14.00\" fill=\"#000000\">gini = 0.0</text>\n<text text-anchor=\"middle\" x=\"198.5\" y=\"-37.8\" font-family=\"Helvetica,sans-Serif\" font-size=\"14.00\" fill=\"#000000\">samples = 102</text>\n<text text-anchor=\"middle\" x=\"198.5\" y=\"-22.8\" font-family=\"Helvetica,sans-Serif\" font-size=\"14.00\" fill=\"#000000\">value = [102, 0, 0]</text>\n<text text-anchor=\"middle\" x=\"198.5\" y=\"-7.8\" font-family=\"Helvetica,sans-Serif\" font-size=\"14.00\" fill=\"#000000\">class = Adelie</text>\n</g>\n<!-- 3&#45;&gt;5 -->\n<g id=\"edge5\" class=\"edge\">\n<title>3&#45;&gt;5</title>\n<path fill=\"none\" stroke=\"#000000\" d=\"M198.5,-103.9815C198.5,-95.618 198.5,-86.7965 198.5,-78.3409\"/>\n<polygon fill=\"#000000\" stroke=\"#000000\" points=\"202.0001,-78.2636 198.5,-68.2637 195.0001,-78.2637 202.0001,-78.2636\"/>\n</g>\n<!-- 7 -->\n<g id=\"node8\" class=\"node\">\n<title>7</title>\n<path fill=\"#e58139\" stroke=\"#000000\" d=\"M385,-68C385,-68 294,-68 294,-68 288,-68 282,-62 282,-56 282,-56 282,-12 282,-12 282,-6 288,0 294,0 294,0 385,0 385,0 391,0 397,-6 397,-12 397,-12 397,-56 397,-56 397,-62 391,-68 385,-68\"/>\n<text text-anchor=\"middle\" x=\"339.5\" y=\"-52.8\" font-family=\"Helvetica,sans-Serif\" font-size=\"14.00\" fill=\"#000000\">gini = 0.0</text>\n<text text-anchor=\"middle\" x=\"339.5\" y=\"-37.8\" font-family=\"Helvetica,sans-Serif\" font-size=\"14.00\" fill=\"#000000\">samples = 4</text>\n<text text-anchor=\"middle\" x=\"339.5\" y=\"-22.8\" font-family=\"Helvetica,sans-Serif\" font-size=\"14.00\" fill=\"#000000\">value = [4, 0, 0]</text>\n<text text-anchor=\"middle\" x=\"339.5\" y=\"-7.8\" font-family=\"Helvetica,sans-Serif\" font-size=\"14.00\" fill=\"#000000\">class = Adelie</text>\n</g>\n<!-- 6&#45;&gt;7 -->\n<g id=\"edge7\" class=\"edge\">\n<title>6&#45;&gt;7</title>\n<path fill=\"none\" stroke=\"#000000\" d=\"M420.4652,-103.9815C409.513,-94.5151 397.8821,-84.462 386.9544,-75.0168\"/>\n<polygon fill=\"#000000\" stroke=\"#000000\" points=\"388.9957,-72.155 379.1414,-68.2637 384.4182,-77.4509 388.9957,-72.155\"/>\n</g>\n<!-- 8 -->\n<g id=\"node9\" class=\"node\">\n<title>8</title>\n<path fill=\"#39e581\" stroke=\"#000000\" d=\"M531.5,-68C531.5,-68 427.5,-68 427.5,-68 421.5,-68 415.5,-62 415.5,-56 415.5,-56 415.5,-12 415.5,-12 415.5,-6 421.5,0 427.5,0 427.5,0 531.5,0 531.5,0 537.5,0 543.5,-6 543.5,-12 543.5,-12 543.5,-56 543.5,-56 543.5,-62 537.5,-68 531.5,-68\"/>\n<text text-anchor=\"middle\" x=\"479.5\" y=\"-52.8\" font-family=\"Helvetica,sans-Serif\" font-size=\"14.00\" fill=\"#000000\">gini = 0.0</text>\n<text text-anchor=\"middle\" x=\"479.5\" y=\"-37.8\" font-family=\"Helvetica,sans-Serif\" font-size=\"14.00\" fill=\"#000000\">samples = 2</text>\n<text text-anchor=\"middle\" x=\"479.5\" y=\"-22.8\" font-family=\"Helvetica,sans-Serif\" font-size=\"14.00\" fill=\"#000000\">value = [0, 2, 0]</text>\n<text text-anchor=\"middle\" x=\"479.5\" y=\"-7.8\" font-family=\"Helvetica,sans-Serif\" font-size=\"14.00\" fill=\"#000000\">class = Chinstrap</text>\n</g>\n<!-- 6&#45;&gt;8 -->\n<g id=\"edge8\" class=\"edge\">\n<title>6&#45;&gt;8</title>\n<path fill=\"none\" stroke=\"#000000\" d=\"M472.596,-103.9815C473.4211,-95.618 474.2914,-86.7965 475.1256,-78.3409\"/>\n<polygon fill=\"#000000\" stroke=\"#000000\" points=\"478.6209,-78.559 476.1197,-68.2637 471.6548,-77.8717 478.6209,-78.559\"/>\n</g>\n<!-- 10 -->\n<g id=\"node11\" class=\"node\">\n<title>10</title>\n<path fill=\"#f2c09c\" stroke=\"#000000\" d=\"M749.5,-187C749.5,-187 641.5,-187 641.5,-187 635.5,-187 629.5,-181 629.5,-175 629.5,-175 629.5,-116 629.5,-116 629.5,-110 635.5,-104 641.5,-104 641.5,-104 749.5,-104 749.5,-104 755.5,-104 761.5,-110 761.5,-116 761.5,-116 761.5,-175 761.5,-175 761.5,-181 755.5,-187 749.5,-187\"/>\n<text text-anchor=\"middle\" x=\"695.5\" y=\"-171.8\" font-family=\"Helvetica,sans-Serif\" font-size=\"14.00\" fill=\"#000000\">sex_MALE &lt;= 0.5</text>\n<text text-anchor=\"middle\" x=\"695.5\" y=\"-156.8\" font-family=\"Helvetica,sans-Serif\" font-size=\"14.00\" fill=\"#000000\">gini = 0.444</text>\n<text text-anchor=\"middle\" x=\"695.5\" y=\"-141.8\" font-family=\"Helvetica,sans-Serif\" font-size=\"14.00\" fill=\"#000000\">samples = 3</text>\n<text text-anchor=\"middle\" x=\"695.5\" y=\"-126.8\" font-family=\"Helvetica,sans-Serif\" font-size=\"14.00\" fill=\"#000000\">value = [2, 0, 1]</text>\n<text text-anchor=\"middle\" x=\"695.5\" y=\"-111.8\" font-family=\"Helvetica,sans-Serif\" font-size=\"14.00\" fill=\"#000000\">class = Adelie</text>\n</g>\n<!-- 9&#45;&gt;10 -->\n<g id=\"edge10\" class=\"edge\">\n<title>9&#45;&gt;10</title>\n<path fill=\"none\" stroke=\"#000000\" d=\"M695.5,-222.8796C695.5,-214.6838 695.5,-205.9891 695.5,-197.5013\"/>\n<polygon fill=\"#000000\" stroke=\"#000000\" points=\"699.0001,-197.298 695.5,-187.2981 692.0001,-197.2981 699.0001,-197.298\"/>\n</g>\n<!-- 13 -->\n<g id=\"node14\" class=\"node\">\n<title>13</title>\n<path fill=\"#42e687\" stroke=\"#000000\" d=\"M976,-187C976,-187 795,-187 795,-187 789,-187 783,-181 783,-175 783,-175 783,-116 783,-116 783,-110 789,-104 795,-104 795,-104 976,-104 976,-104 982,-104 988,-110 988,-116 988,-116 988,-175 988,-175 988,-181 982,-187 976,-187\"/>\n<text text-anchor=\"middle\" x=\"885.5\" y=\"-171.8\" font-family=\"Helvetica,sans-Serif\" font-size=\"14.00\" fill=\"#000000\">culmen_length_mm &lt;= 44.75</text>\n<text text-anchor=\"middle\" x=\"885.5\" y=\"-156.8\" font-family=\"Helvetica,sans-Serif\" font-size=\"14.00\" fill=\"#000000\">gini = 0.083</text>\n<text text-anchor=\"middle\" x=\"885.5\" y=\"-141.8\" font-family=\"Helvetica,sans-Serif\" font-size=\"14.00\" fill=\"#000000\">samples = 46</text>\n<text text-anchor=\"middle\" x=\"885.5\" y=\"-126.8\" font-family=\"Helvetica,sans-Serif\" font-size=\"14.00\" fill=\"#000000\">value = [2, 44, 0]</text>\n<text text-anchor=\"middle\" x=\"885.5\" y=\"-111.8\" font-family=\"Helvetica,sans-Serif\" font-size=\"14.00\" fill=\"#000000\">class = Chinstrap</text>\n</g>\n<!-- 9&#45;&gt;13 -->\n<g id=\"edge13\" class=\"edge\">\n<title>9&#45;&gt;13</title>\n<path fill=\"none\" stroke=\"#000000\" d=\"M761.9528,-222.8796C777.5733,-213.0962 794.329,-202.6019 810.3029,-192.5971\"/>\n<polygon fill=\"#000000\" stroke=\"#000000\" points=\"812.4676,-195.3712 819.0847,-187.0969 808.7519,-189.4387 812.4676,-195.3712\"/>\n</g>\n<!-- 11 -->\n<g id=\"node12\" class=\"node\">\n<title>11</title>\n<path fill=\"#8139e5\" stroke=\"#000000\" d=\"M665,-68C665,-68 574,-68 574,-68 568,-68 562,-62 562,-56 562,-56 562,-12 562,-12 562,-6 568,0 574,0 574,0 665,0 665,0 671,0 677,-6 677,-12 677,-12 677,-56 677,-56 677,-62 671,-68 665,-68\"/>\n<text text-anchor=\"middle\" x=\"619.5\" y=\"-52.8\" font-family=\"Helvetica,sans-Serif\" font-size=\"14.00\" fill=\"#000000\">gini = 0.0</text>\n<text text-anchor=\"middle\" x=\"619.5\" y=\"-37.8\" font-family=\"Helvetica,sans-Serif\" font-size=\"14.00\" fill=\"#000000\">samples = 1</text>\n<text text-anchor=\"middle\" x=\"619.5\" y=\"-22.8\" font-family=\"Helvetica,sans-Serif\" font-size=\"14.00\" fill=\"#000000\">value = [0, 0, 1]</text>\n<text text-anchor=\"middle\" x=\"619.5\" y=\"-7.8\" font-family=\"Helvetica,sans-Serif\" font-size=\"14.00\" fill=\"#000000\">class = Gentoo</text>\n</g>\n<!-- 10&#45;&gt;11 -->\n<g id=\"edge11\" class=\"edge\">\n<title>10&#45;&gt;11</title>\n<path fill=\"none\" stroke=\"#000000\" d=\"M667.2004,-103.9815C661.1238,-95.0666 654.6926,-85.6313 648.5868,-76.6734\"/>\n<polygon fill=\"#000000\" stroke=\"#000000\" points=\"651.3789,-74.5555 642.8546,-68.2637 645.5948,-78.498 651.3789,-74.5555\"/>\n</g>\n<!-- 12 -->\n<g id=\"node13\" class=\"node\">\n<title>12</title>\n<path fill=\"#e58139\" stroke=\"#000000\" d=\"M798,-68C798,-68 707,-68 707,-68 701,-68 695,-62 695,-56 695,-56 695,-12 695,-12 695,-6 701,0 707,0 707,0 798,0 798,0 804,0 810,-6 810,-12 810,-12 810,-56 810,-56 810,-62 804,-68 798,-68\"/>\n<text text-anchor=\"middle\" x=\"752.5\" y=\"-52.8\" font-family=\"Helvetica,sans-Serif\" font-size=\"14.00\" fill=\"#000000\">gini = 0.0</text>\n<text text-anchor=\"middle\" x=\"752.5\" y=\"-37.8\" font-family=\"Helvetica,sans-Serif\" font-size=\"14.00\" fill=\"#000000\">samples = 2</text>\n<text text-anchor=\"middle\" x=\"752.5\" y=\"-22.8\" font-family=\"Helvetica,sans-Serif\" font-size=\"14.00\" fill=\"#000000\">value = [2, 0, 0]</text>\n<text text-anchor=\"middle\" x=\"752.5\" y=\"-7.8\" font-family=\"Helvetica,sans-Serif\" font-size=\"14.00\" fill=\"#000000\">class = Adelie</text>\n</g>\n<!-- 10&#45;&gt;12 -->\n<g id=\"edge12\" class=\"edge\">\n<title>10&#45;&gt;12</title>\n<path fill=\"none\" stroke=\"#000000\" d=\"M716.7247,-103.9815C721.1881,-95.2504 725.9067,-86.0202 730.4013,-77.2281\"/>\n<polygon fill=\"#000000\" stroke=\"#000000\" points=\"733.5486,-78.7608 734.984,-68.2637 727.3158,-75.5745 733.5486,-78.7608\"/>\n</g>\n<!-- 14 -->\n<g id=\"node15\" class=\"node\">\n<title>14</title>\n<path fill=\"#ffffff\" stroke=\"#000000\" d=\"M931,-68C931,-68 840,-68 840,-68 834,-68 828,-62 828,-56 828,-56 828,-12 828,-12 828,-6 834,0 840,0 840,0 931,0 931,0 937,0 943,-6 943,-12 943,-12 943,-56 943,-56 943,-62 937,-68 931,-68\"/>\n<text text-anchor=\"middle\" x=\"885.5\" y=\"-52.8\" font-family=\"Helvetica,sans-Serif\" font-size=\"14.00\" fill=\"#000000\">gini = 0.5</text>\n<text text-anchor=\"middle\" x=\"885.5\" y=\"-37.8\" font-family=\"Helvetica,sans-Serif\" font-size=\"14.00\" fill=\"#000000\">samples = 4</text>\n<text text-anchor=\"middle\" x=\"885.5\" y=\"-22.8\" font-family=\"Helvetica,sans-Serif\" font-size=\"14.00\" fill=\"#000000\">value = [2, 2, 0]</text>\n<text text-anchor=\"middle\" x=\"885.5\" y=\"-7.8\" font-family=\"Helvetica,sans-Serif\" font-size=\"14.00\" fill=\"#000000\">class = Adelie</text>\n</g>\n<!-- 13&#45;&gt;14 -->\n<g id=\"edge14\" class=\"edge\">\n<title>13&#45;&gt;14</title>\n<path fill=\"none\" stroke=\"#000000\" d=\"M885.5,-103.9815C885.5,-95.618 885.5,-86.7965 885.5,-78.3409\"/>\n<polygon fill=\"#000000\" stroke=\"#000000\" points=\"889.0001,-78.2636 885.5,-68.2637 882.0001,-78.2637 889.0001,-78.2636\"/>\n</g>\n<!-- 15 -->\n<g id=\"node16\" class=\"node\">\n<title>15</title>\n<path fill=\"#39e581\" stroke=\"#000000\" d=\"M1077.5,-68C1077.5,-68 973.5,-68 973.5,-68 967.5,-68 961.5,-62 961.5,-56 961.5,-56 961.5,-12 961.5,-12 961.5,-6 967.5,0 973.5,0 973.5,0 1077.5,0 1077.5,0 1083.5,0 1089.5,-6 1089.5,-12 1089.5,-12 1089.5,-56 1089.5,-56 1089.5,-62 1083.5,-68 1077.5,-68\"/>\n<text text-anchor=\"middle\" x=\"1025.5\" y=\"-52.8\" font-family=\"Helvetica,sans-Serif\" font-size=\"14.00\" fill=\"#000000\">gini = 0.0</text>\n<text text-anchor=\"middle\" x=\"1025.5\" y=\"-37.8\" font-family=\"Helvetica,sans-Serif\" font-size=\"14.00\" fill=\"#000000\">samples = 42</text>\n<text text-anchor=\"middle\" x=\"1025.5\" y=\"-22.8\" font-family=\"Helvetica,sans-Serif\" font-size=\"14.00\" fill=\"#000000\">value = [0, 42, 0]</text>\n<text text-anchor=\"middle\" x=\"1025.5\" y=\"-7.8\" font-family=\"Helvetica,sans-Serif\" font-size=\"14.00\" fill=\"#000000\">class = Chinstrap</text>\n</g>\n<!-- 13&#45;&gt;15 -->\n<g id=\"edge15\" class=\"edge\">\n<title>13&#45;&gt;15</title>\n<path fill=\"none\" stroke=\"#000000\" d=\"M937.6308,-103.9815C949.6323,-94.4232 962.3848,-84.2668 974.3443,-74.7419\"/>\n<polygon fill=\"#000000\" stroke=\"#000000\" points=\"976.8365,-77.2314 982.4783,-68.2637 972.4756,-71.7558 976.8365,-77.2314\"/>\n</g>\n<!-- 17 -->\n<g id=\"node18\" class=\"node\">\n<title>17</title>\n<path fill=\"#8139e5\" stroke=\"#000000\" d=\"M945,-298.5C945,-298.5 838,-298.5 838,-298.5 832,-298.5 826,-292.5 826,-286.5 826,-286.5 826,-242.5 826,-242.5 826,-236.5 832,-230.5 838,-230.5 838,-230.5 945,-230.5 945,-230.5 951,-230.5 957,-236.5 957,-242.5 957,-242.5 957,-286.5 957,-286.5 957,-292.5 951,-298.5 945,-298.5\"/>\n<text text-anchor=\"middle\" x=\"891.5\" y=\"-283.3\" font-family=\"Helvetica,sans-Serif\" font-size=\"14.00\" fill=\"#000000\">gini = 0.0</text>\n<text text-anchor=\"middle\" x=\"891.5\" y=\"-268.3\" font-family=\"Helvetica,sans-Serif\" font-size=\"14.00\" fill=\"#000000\">samples = 102</text>\n<text text-anchor=\"middle\" x=\"891.5\" y=\"-253.3\" font-family=\"Helvetica,sans-Serif\" font-size=\"14.00\" fill=\"#000000\">value = [0, 0, 102]</text>\n<text text-anchor=\"middle\" x=\"891.5\" y=\"-238.3\" font-family=\"Helvetica,sans-Serif\" font-size=\"14.00\" fill=\"#000000\">class = Gentoo</text>\n</g>\n<!-- 16&#45;&gt;17 -->\n<g id=\"edge17\" class=\"edge\">\n<title>16&#45;&gt;17</title>\n<path fill=\"none\" stroke=\"#000000\" d=\"M894.7512,-341.8796C894.3031,-331.2134 893.8194,-319.7021 893.3656,-308.9015\"/>\n<polygon fill=\"#000000\" stroke=\"#000000\" points=\"896.8586,-308.6592 892.9418,-298.8149 889.8648,-308.9531 896.8586,-308.6592\"/>\n</g>\n<!-- 18 -->\n<g id=\"node19\" class=\"node\">\n<title>18</title>\n<path fill=\"#88efb3\" stroke=\"#000000\" d=\"M1168,-306C1168,-306 987,-306 987,-306 981,-306 975,-300 975,-294 975,-294 975,-235 975,-235 975,-229 981,-223 987,-223 987,-223 1168,-223 1168,-223 1174,-223 1180,-229 1180,-235 1180,-235 1180,-294 1180,-294 1180,-300 1174,-306 1168,-306\"/>\n<text text-anchor=\"middle\" x=\"1077.5\" y=\"-290.8\" font-family=\"Helvetica,sans-Serif\" font-size=\"14.00\" fill=\"#000000\">culmen_length_mm &lt;= 46.55</text>\n<text text-anchor=\"middle\" x=\"1077.5\" y=\"-275.8\" font-family=\"Helvetica,sans-Serif\" font-size=\"14.00\" fill=\"#000000\">gini = 0.408</text>\n<text text-anchor=\"middle\" x=\"1077.5\" y=\"-260.8\" font-family=\"Helvetica,sans-Serif\" font-size=\"14.00\" fill=\"#000000\">samples = 7</text>\n<text text-anchor=\"middle\" x=\"1077.5\" y=\"-245.8\" font-family=\"Helvetica,sans-Serif\" font-size=\"14.00\" fill=\"#000000\">value = [2, 5, 0]</text>\n<text text-anchor=\"middle\" x=\"1077.5\" y=\"-230.8\" font-family=\"Helvetica,sans-Serif\" font-size=\"14.00\" fill=\"#000000\">class = Chinstrap</text>\n</g>\n<!-- 16&#45;&gt;18 -->\n<g id=\"edge18\" class=\"edge\">\n<title>16&#45;&gt;18</title>\n<path fill=\"none\" stroke=\"#000000\" d=\"M959.805,-341.8796C974.6856,-332.0962 990.6476,-321.6019 1005.8649,-311.5971\"/>\n<polygon fill=\"#000000\" stroke=\"#000000\" points=\"1007.7977,-314.5151 1014.2307,-306.0969 1003.9521,-308.666 1007.7977,-314.5151\"/>\n</g>\n<!-- 19 -->\n<g id=\"node20\" class=\"node\">\n<title>19</title>\n<path fill=\"#e58139\" stroke=\"#000000\" d=\"M1120,-179.5C1120,-179.5 1029,-179.5 1029,-179.5 1023,-179.5 1017,-173.5 1017,-167.5 1017,-167.5 1017,-123.5 1017,-123.5 1017,-117.5 1023,-111.5 1029,-111.5 1029,-111.5 1120,-111.5 1120,-111.5 1126,-111.5 1132,-117.5 1132,-123.5 1132,-123.5 1132,-167.5 1132,-167.5 1132,-173.5 1126,-179.5 1120,-179.5\"/>\n<text text-anchor=\"middle\" x=\"1074.5\" y=\"-164.3\" font-family=\"Helvetica,sans-Serif\" font-size=\"14.00\" fill=\"#000000\">gini = 0.0</text>\n<text text-anchor=\"middle\" x=\"1074.5\" y=\"-149.3\" font-family=\"Helvetica,sans-Serif\" font-size=\"14.00\" fill=\"#000000\">samples = 2</text>\n<text text-anchor=\"middle\" x=\"1074.5\" y=\"-134.3\" font-family=\"Helvetica,sans-Serif\" font-size=\"14.00\" fill=\"#000000\">value = [2, 0, 0]</text>\n<text text-anchor=\"middle\" x=\"1074.5\" y=\"-119.3\" font-family=\"Helvetica,sans-Serif\" font-size=\"14.00\" fill=\"#000000\">class = Adelie</text>\n</g>\n<!-- 18&#45;&gt;19 -->\n<g id=\"edge19\" class=\"edge\">\n<title>18&#45;&gt;19</title>\n<path fill=\"none\" stroke=\"#000000\" d=\"M1076.4507,-222.8796C1076.1818,-212.2134 1075.8916,-200.7021 1075.6194,-189.9015\"/>\n<polygon fill=\"#000000\" stroke=\"#000000\" points=\"1079.1161,-189.7235 1075.3651,-179.8149 1072.1183,-189.9 1079.1161,-189.7235\"/>\n</g>\n<!-- 20 -->\n<g id=\"node21\" class=\"node\">\n<title>20</title>\n<path fill=\"#39e581\" stroke=\"#000000\" d=\"M1266.5,-179.5C1266.5,-179.5 1162.5,-179.5 1162.5,-179.5 1156.5,-179.5 1150.5,-173.5 1150.5,-167.5 1150.5,-167.5 1150.5,-123.5 1150.5,-123.5 1150.5,-117.5 1156.5,-111.5 1162.5,-111.5 1162.5,-111.5 1266.5,-111.5 1266.5,-111.5 1272.5,-111.5 1278.5,-117.5 1278.5,-123.5 1278.5,-123.5 1278.5,-167.5 1278.5,-167.5 1278.5,-173.5 1272.5,-179.5 1266.5,-179.5\"/>\n<text text-anchor=\"middle\" x=\"1214.5\" y=\"-164.3\" font-family=\"Helvetica,sans-Serif\" font-size=\"14.00\" fill=\"#000000\">gini = 0.0</text>\n<text text-anchor=\"middle\" x=\"1214.5\" y=\"-149.3\" font-family=\"Helvetica,sans-Serif\" font-size=\"14.00\" fill=\"#000000\">samples = 5</text>\n<text text-anchor=\"middle\" x=\"1214.5\" y=\"-134.3\" font-family=\"Helvetica,sans-Serif\" font-size=\"14.00\" fill=\"#000000\">value = [0, 5, 0]</text>\n<text text-anchor=\"middle\" x=\"1214.5\" y=\"-119.3\" font-family=\"Helvetica,sans-Serif\" font-size=\"14.00\" fill=\"#000000\">class = Chinstrap</text>\n</g>\n<!-- 18&#45;&gt;20 -->\n<g id=\"edge20\" class=\"edge\">\n<title>18&#45;&gt;20</title>\n<path fill=\"none\" stroke=\"#000000\" d=\"M1125.416,-222.8796C1138.9615,-211.1138 1153.6908,-198.3197 1167.1998,-186.5855\"/>\n<polygon fill=\"#000000\" stroke=\"#000000\" points=\"1169.7401,-189.015 1174.9946,-179.8149 1165.1497,-183.7303 1169.7401,-189.015\"/>\n</g>\n</g>\n</svg>\n"
          },
          "metadata": {},
          "execution_count": 57
        }
      ]
    },
    {
      "cell_type": "markdown",
      "source": [
        "##**3. Limitando la ramificación**"
      ],
      "metadata": {
        "id": "Tar0oBja33Pt"
      }
    },
    {
      "cell_type": "code",
      "source": [
        "tree_split = DecisionTreeClassifier(min_samples_split=5)\n",
        "tree_split.fit(X_train_prepared, y_train_tree)"
      ],
      "metadata": {
        "colab": {
          "base_uri": "https://localhost:8080/"
        },
        "id": "pMtxQTgLBq_S",
        "outputId": "31341acc-4256-40ed-c22b-0fa0e2b64d2b"
      },
      "execution_count": null,
      "outputs": [
        {
          "output_type": "execute_result",
          "data": {
            "text/plain": [
              "DecisionTreeClassifier(min_samples_split=5)"
            ]
          },
          "metadata": {},
          "execution_count": 58
        }
      ]
    },
    {
      "cell_type": "code",
      "source": [
        "print('La precisión del modelo en el conjunto de entrenamiento es:',tree_split.score(X_train_prepared, y_train_tree))\n",
        "y_pred_train_split = tree_split.predict(X_train_prepared)\n",
        "train_conf_matrix_split = confusion_matrix(y_train_tree, y_pred_train_split)\n",
        "print('La matriz de confusión en el conjunto de entrenamiento es:\\n',train_conf_matrix_split)\n",
        "print('f1 score en el conjunto de entrenamiento:',f1_score(y_train_tree, y_pred_train_split, average='weighted'))"
      ],
      "metadata": {
        "colab": {
          "base_uri": "https://localhost:8080/"
        },
        "id": "aYwIZqLgCgaA",
        "outputId": "e453d4e1-63a0-4f4d-a013-4018622d1583"
      },
      "execution_count": null,
      "outputs": [
        {
          "output_type": "stream",
          "name": "stdout",
          "text": [
            "La precisión del modelo en el conjunto de entrenamiento es: 0.9890909090909091\n",
            "La matriz de confusión en el conjunto de entrenamiento es:\n",
            " [[120   0   0]\n",
            " [  2  50   0]\n",
            " [  1   0 102]]\n",
            "f1 score en el conjunto de entrenamiento: 0.9890780787308764\n"
          ]
        }
      ]
    },
    {
      "cell_type": "code",
      "source": [
        "print('La precisión del modelo en el conjunto de test es:',tree_split.score(X_test_prepared, y_test_tree))\n",
        "y_pred_test_split = tree_split.predict(X_test_prepared)\n",
        "test_conf_matrix_split = confusion_matrix(y_test_tree, y_pred_test_split)\n",
        "print('La matriz de confusión en el conjunto de test es:\\n',test_conf_matrix_split)\n",
        "print('f1 score en el conjunto de test:',f1_score(y_test_tree, y_pred_test_split, average='weighted'))"
      ],
      "metadata": {
        "colab": {
          "base_uri": "https://localhost:8080/"
        },
        "id": "Bny9JioxDlKl",
        "outputId": "5e210396-1a22-4b05-8e8e-d42f8af764f9"
      },
      "execution_count": null,
      "outputs": [
        {
          "output_type": "stream",
          "name": "stdout",
          "text": [
            "La precisión del modelo en el conjunto de test es: 0.9710144927536232\n",
            "La matriz de confusión en el conjunto de test es:\n",
            " [[32  0  0]\n",
            " [ 1 15  0]\n",
            " [ 1  0 20]]\n",
            "f1 score en el conjunto de test: 0.9710431721173006\n"
          ]
        }
      ]
    },
    {
      "cell_type": "code",
      "source": [
        "PROJECT_ROOT_DIR = \".\"\n",
        "IMAGES_PATH = os.path.join(PROJECT_ROOT_DIR, \"tree images\") #!\n",
        "os.makedirs(IMAGES_PATH, exist_ok=True)\n",
        "\n",
        "export_graphviz(\n",
        "tree_split,\n",
        "out_file=os.path.join(IMAGES_PATH,\"iris_tree_03.dot\"),\n",
        "feature_names=list(X_train_prepared.columns),\n",
        "class_names=list(y_train_tree.cat.categories),\n",
        "rounded=True,\n",
        "filled=True\n",
        ")\n",
        "\n",
        "Source.from_file(os.path.join(IMAGES_PATH, \"iris_tree_03.dot\"))"
      ],
      "metadata": {
        "colab": {
          "base_uri": "https://localhost:8080/",
          "height": 936
        },
        "id": "CTMn26K5E1y_",
        "outputId": "71abe33f-9ce5-4eb3-f888-46f9ec468ab4"
      },
      "execution_count": null,
      "outputs": [
        {
          "output_type": "execute_result",
          "data": {
            "text/plain": [
              "<graphviz.files.Source at 0x7f26be1cef90>"
            ],
            "image/svg+xml": "<?xml version=\"1.0\" encoding=\"UTF-8\" standalone=\"no\"?>\n<!DOCTYPE svg PUBLIC \"-//W3C//DTD SVG 1.1//EN\"\n \"http://www.w3.org/Graphics/SVG/1.1/DTD/svg11.dtd\">\n<!-- Generated by graphviz version 2.40.1 (20161225.0304)\n -->\n<!-- Title: Tree Pages: 1 -->\n<svg width=\"1281pt\" height=\"671pt\"\n viewBox=\"0.00 0.00 1281.00 671.00\" xmlns=\"http://www.w3.org/2000/svg\" xmlns:xlink=\"http://www.w3.org/1999/xlink\">\n<g id=\"graph0\" class=\"graph\" transform=\"scale(1 1) rotate(0) translate(4 667)\">\n<title>Tree</title>\n<polygon fill=\"#ffffff\" stroke=\"transparent\" points=\"-4,4 -4,-667 1277,-667 1277,4 -4,4\"/>\n<!-- 0 -->\n<g id=\"node1\" class=\"node\">\n<title>0</title>\n<path fill=\"#fcf3eb\" stroke=\"#000000\" d=\"M1010,-663C1010,-663 837,-663 837,-663 831,-663 825,-657 825,-651 825,-651 825,-592 825,-592 825,-586 831,-580 837,-580 837,-580 1010,-580 1010,-580 1016,-580 1022,-586 1022,-592 1022,-592 1022,-651 1022,-651 1022,-657 1016,-663 1010,-663\"/>\n<text text-anchor=\"middle\" x=\"923.5\" y=\"-647.8\" font-family=\"Helvetica,sans-Serif\" font-size=\"14.00\" fill=\"#000000\">flipper_length_mm &lt;= 206.5</text>\n<text text-anchor=\"middle\" x=\"923.5\" y=\"-632.8\" font-family=\"Helvetica,sans-Serif\" font-size=\"14.00\" fill=\"#000000\">gini = 0.634</text>\n<text text-anchor=\"middle\" x=\"923.5\" y=\"-617.8\" font-family=\"Helvetica,sans-Serif\" font-size=\"14.00\" fill=\"#000000\">samples = 275</text>\n<text text-anchor=\"middle\" x=\"923.5\" y=\"-602.8\" font-family=\"Helvetica,sans-Serif\" font-size=\"14.00\" fill=\"#000000\">value = [120, 52, 103]</text>\n<text text-anchor=\"middle\" x=\"923.5\" y=\"-587.8\" font-family=\"Helvetica,sans-Serif\" font-size=\"14.00\" fill=\"#000000\">class = Adelie</text>\n</g>\n<!-- 1 -->\n<g id=\"node2\" class=\"node\">\n<title>1</title>\n<path fill=\"#efb489\" stroke=\"#000000\" d=\"M850,-544C850,-544 669,-544 669,-544 663,-544 657,-538 657,-532 657,-532 657,-473 657,-473 657,-467 663,-461 669,-461 669,-461 850,-461 850,-461 856,-461 862,-467 862,-473 862,-473 862,-532 862,-532 862,-538 856,-544 850,-544\"/>\n<text text-anchor=\"middle\" x=\"759.5\" y=\"-528.8\" font-family=\"Helvetica,sans-Serif\" font-size=\"14.00\" fill=\"#000000\">culmen_length_mm &lt;= 43.15</text>\n<text text-anchor=\"middle\" x=\"759.5\" y=\"-513.8\" font-family=\"Helvetica,sans-Serif\" font-size=\"14.00\" fill=\"#000000\">gini = 0.415</text>\n<text text-anchor=\"middle\" x=\"759.5\" y=\"-498.8\" font-family=\"Helvetica,sans-Serif\" font-size=\"14.00\" fill=\"#000000\">samples = 166</text>\n<text text-anchor=\"middle\" x=\"759.5\" y=\"-483.8\" font-family=\"Helvetica,sans-Serif\" font-size=\"14.00\" fill=\"#000000\">value = [118, 47, 1]</text>\n<text text-anchor=\"middle\" x=\"759.5\" y=\"-468.8\" font-family=\"Helvetica,sans-Serif\" font-size=\"14.00\" fill=\"#000000\">class = Adelie</text>\n</g>\n<!-- 0&#45;&gt;1 -->\n<g id=\"edge1\" class=\"edge\">\n<title>0&#45;&gt;1</title>\n<path fill=\"none\" stroke=\"#000000\" d=\"M866.1408,-579.8796C852.9075,-570.2774 838.7303,-559.9903 825.1736,-550.1534\"/>\n<polygon fill=\"#000000\" stroke=\"#000000\" points=\"826.9762,-547.1371 816.8269,-544.0969 822.8651,-552.8027 826.9762,-547.1371\"/>\n<text text-anchor=\"middle\" x=\"820.7528\" y=\"-565.0867\" font-family=\"Helvetica,sans-Serif\" font-size=\"14.00\" fill=\"#000000\">True</text>\n</g>\n<!-- 16 -->\n<g id=\"node17\" class=\"node\">\n<title>16</title>\n<path fill=\"#8946e7\" stroke=\"#000000\" d=\"M1086.5,-544C1086.5,-544 958.5,-544 958.5,-544 952.5,-544 946.5,-538 946.5,-532 946.5,-532 946.5,-473 946.5,-473 946.5,-467 952.5,-461 958.5,-461 958.5,-461 1086.5,-461 1086.5,-461 1092.5,-461 1098.5,-467 1098.5,-473 1098.5,-473 1098.5,-532 1098.5,-532 1098.5,-538 1092.5,-544 1086.5,-544\"/>\n<text text-anchor=\"middle\" x=\"1022.5\" y=\"-528.8\" font-family=\"Helvetica,sans-Serif\" font-size=\"14.00\" fill=\"#000000\">island_Biscoe &lt;= 0.5</text>\n<text text-anchor=\"middle\" x=\"1022.5\" y=\"-513.8\" font-family=\"Helvetica,sans-Serif\" font-size=\"14.00\" fill=\"#000000\">gini = 0.122</text>\n<text text-anchor=\"middle\" x=\"1022.5\" y=\"-498.8\" font-family=\"Helvetica,sans-Serif\" font-size=\"14.00\" fill=\"#000000\">samples = 109</text>\n<text text-anchor=\"middle\" x=\"1022.5\" y=\"-483.8\" font-family=\"Helvetica,sans-Serif\" font-size=\"14.00\" fill=\"#000000\">value = [2, 5, 102]</text>\n<text text-anchor=\"middle\" x=\"1022.5\" y=\"-468.8\" font-family=\"Helvetica,sans-Serif\" font-size=\"14.00\" fill=\"#000000\">class = Gentoo</text>\n</g>\n<!-- 0&#45;&gt;16 -->\n<g id=\"edge16\" class=\"edge\">\n<title>0&#45;&gt;16</title>\n<path fill=\"none\" stroke=\"#000000\" d=\"M958.1254,-579.8796C965.618,-570.8733 973.6119,-561.2644 981.3279,-551.9897\"/>\n<polygon fill=\"#000000\" stroke=\"#000000\" points=\"984.0219,-554.224 987.7268,-544.2981 978.6407,-549.7472 984.0219,-554.224\"/>\n<text text-anchor=\"middle\" x=\"990.0108\" y=\"-565.4935\" font-family=\"Helvetica,sans-Serif\" font-size=\"14.00\" fill=\"#000000\">False</text>\n</g>\n<!-- 2 -->\n<g id=\"node3\" class=\"node\">\n<title>2</title>\n<path fill=\"#e6843e\" stroke=\"#000000\" d=\"M589,-425C589,-425 416,-425 416,-425 410,-425 404,-419 404,-413 404,-413 404,-354 404,-354 404,-348 410,-342 416,-342 416,-342 589,-342 589,-342 595,-342 601,-348 601,-354 601,-354 601,-413 601,-413 601,-419 595,-425 589,-425\"/>\n<text text-anchor=\"middle\" x=\"502.5\" y=\"-409.8\" font-family=\"Helvetica,sans-Serif\" font-size=\"14.00\" fill=\"#000000\">culmen_length_mm &lt;= 42.4</text>\n<text text-anchor=\"middle\" x=\"502.5\" y=\"-394.8\" font-family=\"Helvetica,sans-Serif\" font-size=\"14.00\" fill=\"#000000\">gini = 0.05</text>\n<text text-anchor=\"middle\" x=\"502.5\" y=\"-379.8\" font-family=\"Helvetica,sans-Serif\" font-size=\"14.00\" fill=\"#000000\">samples = 117</text>\n<text text-anchor=\"middle\" x=\"502.5\" y=\"-364.8\" font-family=\"Helvetica,sans-Serif\" font-size=\"14.00\" fill=\"#000000\">value = [114, 3, 0]</text>\n<text text-anchor=\"middle\" x=\"502.5\" y=\"-349.8\" font-family=\"Helvetica,sans-Serif\" font-size=\"14.00\" fill=\"#000000\">class = Adelie</text>\n</g>\n<!-- 1&#45;&gt;2 -->\n<g id=\"edge2\" class=\"edge\">\n<title>1&#45;&gt;2</title>\n<path fill=\"none\" stroke=\"#000000\" d=\"M669.6139,-460.8796C647.6047,-450.6886 623.9295,-439.7261 601.5188,-429.3492\"/>\n<polygon fill=\"#000000\" stroke=\"#000000\" points=\"602.8804,-426.1227 592.3354,-425.0969 599.9392,-432.4748 602.8804,-426.1227\"/>\n</g>\n<!-- 11 -->\n<g id=\"node12\" class=\"node\">\n<title>11</title>\n<path fill=\"#4fe88f\" stroke=\"#000000\" d=\"M823,-425C823,-425 696,-425 696,-425 690,-425 684,-419 684,-413 684,-413 684,-354 684,-354 684,-348 690,-342 696,-342 696,-342 823,-342 823,-342 829,-342 835,-348 835,-354 835,-354 835,-413 835,-413 835,-419 829,-425 823,-425\"/>\n<text text-anchor=\"middle\" x=\"759.5\" y=\"-409.8\" font-family=\"Helvetica,sans-Serif\" font-size=\"14.00\" fill=\"#000000\">island_Dream &lt;= 0.5</text>\n<text text-anchor=\"middle\" x=\"759.5\" y=\"-394.8\" font-family=\"Helvetica,sans-Serif\" font-size=\"14.00\" fill=\"#000000\">gini = 0.187</text>\n<text text-anchor=\"middle\" x=\"759.5\" y=\"-379.8\" font-family=\"Helvetica,sans-Serif\" font-size=\"14.00\" fill=\"#000000\">samples = 49</text>\n<text text-anchor=\"middle\" x=\"759.5\" y=\"-364.8\" font-family=\"Helvetica,sans-Serif\" font-size=\"14.00\" fill=\"#000000\">value = [4, 44, 1]</text>\n<text text-anchor=\"middle\" x=\"759.5\" y=\"-349.8\" font-family=\"Helvetica,sans-Serif\" font-size=\"14.00\" fill=\"#000000\">class = Chinstrap</text>\n</g>\n<!-- 1&#45;&gt;11 -->\n<g id=\"edge11\" class=\"edge\">\n<title>1&#45;&gt;11</title>\n<path fill=\"none\" stroke=\"#000000\" d=\"M759.5,-460.8796C759.5,-452.6838 759.5,-443.9891 759.5,-435.5013\"/>\n<polygon fill=\"#000000\" stroke=\"#000000\" points=\"763.0001,-435.298 759.5,-425.2981 756.0001,-435.2981 763.0001,-435.298\"/>\n</g>\n<!-- 3 -->\n<g id=\"node4\" class=\"node\">\n<title>3</title>\n<path fill=\"#e5823b\" stroke=\"#000000\" d=\"M383.5,-306C383.5,-306 205.5,-306 205.5,-306 199.5,-306 193.5,-300 193.5,-294 193.5,-294 193.5,-235 193.5,-235 193.5,-229 199.5,-223 205.5,-223 205.5,-223 383.5,-223 383.5,-223 389.5,-223 395.5,-229 395.5,-235 395.5,-235 395.5,-294 395.5,-294 395.5,-300 389.5,-306 383.5,-306\"/>\n<text text-anchor=\"middle\" x=\"294.5\" y=\"-290.8\" font-family=\"Helvetica,sans-Serif\" font-size=\"14.00\" fill=\"#000000\">culmen_depth_mm &lt;= 16.65</text>\n<text text-anchor=\"middle\" x=\"294.5\" y=\"-275.8\" font-family=\"Helvetica,sans-Serif\" font-size=\"14.00\" fill=\"#000000\">gini = 0.018</text>\n<text text-anchor=\"middle\" x=\"294.5\" y=\"-260.8\" font-family=\"Helvetica,sans-Serif\" font-size=\"14.00\" fill=\"#000000\">samples = 111</text>\n<text text-anchor=\"middle\" x=\"294.5\" y=\"-245.8\" font-family=\"Helvetica,sans-Serif\" font-size=\"14.00\" fill=\"#000000\">value = [110, 1, 0]</text>\n<text text-anchor=\"middle\" x=\"294.5\" y=\"-230.8\" font-family=\"Helvetica,sans-Serif\" font-size=\"14.00\" fill=\"#000000\">class = Adelie</text>\n</g>\n<!-- 2&#45;&gt;3 -->\n<g id=\"edge3\" class=\"edge\">\n<title>2&#45;&gt;3</title>\n<path fill=\"none\" stroke=\"#000000\" d=\"M429.7517,-341.8796C412.493,-332.0056 393.9685,-321.4075 376.3355,-311.3193\"/>\n<polygon fill=\"#000000\" stroke=\"#000000\" points=\"377.6252,-308.0249 367.2072,-306.0969 374.149,-314.1008 377.6252,-308.0249\"/>\n</g>\n<!-- 8 -->\n<g id=\"node9\" class=\"node\">\n<title>8</title>\n<path fill=\"#f2c09c\" stroke=\"#000000\" d=\"M579.5,-306C579.5,-306 425.5,-306 425.5,-306 419.5,-306 413.5,-300 413.5,-294 413.5,-294 413.5,-235 413.5,-235 413.5,-229 419.5,-223 425.5,-223 425.5,-223 579.5,-223 579.5,-223 585.5,-223 591.5,-229 591.5,-235 591.5,-235 591.5,-294 591.5,-294 591.5,-300 585.5,-306 579.5,-306\"/>\n<text text-anchor=\"middle\" x=\"502.5\" y=\"-290.8\" font-family=\"Helvetica,sans-Serif\" font-size=\"14.00\" fill=\"#000000\">body_mass_g &lt;= 3425.0</text>\n<text text-anchor=\"middle\" x=\"502.5\" y=\"-275.8\" font-family=\"Helvetica,sans-Serif\" font-size=\"14.00\" fill=\"#000000\">gini = 0.444</text>\n<text text-anchor=\"middle\" x=\"502.5\" y=\"-260.8\" font-family=\"Helvetica,sans-Serif\" font-size=\"14.00\" fill=\"#000000\">samples = 6</text>\n<text text-anchor=\"middle\" x=\"502.5\" y=\"-245.8\" font-family=\"Helvetica,sans-Serif\" font-size=\"14.00\" fill=\"#000000\">value = [4, 2, 0]</text>\n<text text-anchor=\"middle\" x=\"502.5\" y=\"-230.8\" font-family=\"Helvetica,sans-Serif\" font-size=\"14.00\" fill=\"#000000\">class = Adelie</text>\n</g>\n<!-- 2&#45;&gt;8 -->\n<g id=\"edge8\" class=\"edge\">\n<title>2&#45;&gt;8</title>\n<path fill=\"none\" stroke=\"#000000\" d=\"M502.5,-341.8796C502.5,-333.6838 502.5,-324.9891 502.5,-316.5013\"/>\n<polygon fill=\"#000000\" stroke=\"#000000\" points=\"506.0001,-316.298 502.5,-306.2981 499.0001,-316.2981 506.0001,-316.298\"/>\n</g>\n<!-- 4 -->\n<g id=\"node5\" class=\"node\">\n<title>4</title>\n<path fill=\"#e89152\" stroke=\"#000000\" d=\"M214,-187C214,-187 41,-187 41,-187 35,-187 29,-181 29,-175 29,-175 29,-116 29,-116 29,-110 35,-104 41,-104 41,-104 214,-104 214,-104 220,-104 226,-110 226,-116 226,-116 226,-175 226,-175 226,-181 220,-187 214,-187\"/>\n<text text-anchor=\"middle\" x=\"127.5\" y=\"-171.8\" font-family=\"Helvetica,sans-Serif\" font-size=\"14.00\" fill=\"#000000\">culmen_length_mm &lt;= 39.3</text>\n<text text-anchor=\"middle\" x=\"127.5\" y=\"-156.8\" font-family=\"Helvetica,sans-Serif\" font-size=\"14.00\" fill=\"#000000\">gini = 0.198</text>\n<text text-anchor=\"middle\" x=\"127.5\" y=\"-141.8\" font-family=\"Helvetica,sans-Serif\" font-size=\"14.00\" fill=\"#000000\">samples = 9</text>\n<text text-anchor=\"middle\" x=\"127.5\" y=\"-126.8\" font-family=\"Helvetica,sans-Serif\" font-size=\"14.00\" fill=\"#000000\">value = [8, 1, 0]</text>\n<text text-anchor=\"middle\" x=\"127.5\" y=\"-111.8\" font-family=\"Helvetica,sans-Serif\" font-size=\"14.00\" fill=\"#000000\">class = Adelie</text>\n</g>\n<!-- 3&#45;&gt;4 -->\n<g id=\"edge4\" class=\"edge\">\n<title>3&#45;&gt;4</title>\n<path fill=\"none\" stroke=\"#000000\" d=\"M236.0915,-222.8796C222.6161,-213.2774 208.1797,-202.9903 194.375,-193.1534\"/>\n<polygon fill=\"#000000\" stroke=\"#000000\" points=\"196.0506,-190.0497 185.8755,-187.0969 191.9883,-195.7505 196.0506,-190.0497\"/>\n</g>\n<!-- 7 -->\n<g id=\"node8\" class=\"node\">\n<title>7</title>\n<path fill=\"#e58139\" stroke=\"#000000\" d=\"M363,-179.5C363,-179.5 256,-179.5 256,-179.5 250,-179.5 244,-173.5 244,-167.5 244,-167.5 244,-123.5 244,-123.5 244,-117.5 250,-111.5 256,-111.5 256,-111.5 363,-111.5 363,-111.5 369,-111.5 375,-117.5 375,-123.5 375,-123.5 375,-167.5 375,-167.5 375,-173.5 369,-179.5 363,-179.5\"/>\n<text text-anchor=\"middle\" x=\"309.5\" y=\"-164.3\" font-family=\"Helvetica,sans-Serif\" font-size=\"14.00\" fill=\"#000000\">gini = 0.0</text>\n<text text-anchor=\"middle\" x=\"309.5\" y=\"-149.3\" font-family=\"Helvetica,sans-Serif\" font-size=\"14.00\" fill=\"#000000\">samples = 102</text>\n<text text-anchor=\"middle\" x=\"309.5\" y=\"-134.3\" font-family=\"Helvetica,sans-Serif\" font-size=\"14.00\" fill=\"#000000\">value = [102, 0, 0]</text>\n<text text-anchor=\"middle\" x=\"309.5\" y=\"-119.3\" font-family=\"Helvetica,sans-Serif\" font-size=\"14.00\" fill=\"#000000\">class = Adelie</text>\n</g>\n<!-- 3&#45;&gt;7 -->\n<g id=\"edge7\" class=\"edge\">\n<title>3&#45;&gt;7</title>\n<path fill=\"none\" stroke=\"#000000\" d=\"M299.7463,-222.8796C301.0908,-212.2134 302.5418,-200.7021 303.9032,-189.9015\"/>\n<polygon fill=\"#000000\" stroke=\"#000000\" points=\"307.3964,-190.1742 305.1746,-179.8149 300.4514,-189.2987 307.3964,-190.1742\"/>\n</g>\n<!-- 5 -->\n<g id=\"node6\" class=\"node\">\n<title>5</title>\n<path fill=\"#e58139\" stroke=\"#000000\" d=\"M103,-68C103,-68 12,-68 12,-68 6,-68 0,-62 0,-56 0,-56 0,-12 0,-12 0,-6 6,0 12,0 12,0 103,0 103,0 109,0 115,-6 115,-12 115,-12 115,-56 115,-56 115,-62 109,-68 103,-68\"/>\n<text text-anchor=\"middle\" x=\"57.5\" y=\"-52.8\" font-family=\"Helvetica,sans-Serif\" font-size=\"14.00\" fill=\"#000000\">gini = 0.0</text>\n<text text-anchor=\"middle\" x=\"57.5\" y=\"-37.8\" font-family=\"Helvetica,sans-Serif\" font-size=\"14.00\" fill=\"#000000\">samples = 8</text>\n<text text-anchor=\"middle\" x=\"57.5\" y=\"-22.8\" font-family=\"Helvetica,sans-Serif\" font-size=\"14.00\" fill=\"#000000\">value = [8, 0, 0]</text>\n<text text-anchor=\"middle\" x=\"57.5\" y=\"-7.8\" font-family=\"Helvetica,sans-Serif\" font-size=\"14.00\" fill=\"#000000\">class = Adelie</text>\n</g>\n<!-- 4&#45;&gt;5 -->\n<g id=\"edge5\" class=\"edge\">\n<title>4&#45;&gt;5</title>\n<path fill=\"none\" stroke=\"#000000\" d=\"M101.4346,-103.9815C95.8955,-95.1585 90.0364,-85.8258 84.4645,-76.9506\"/>\n<polygon fill=\"#000000\" stroke=\"#000000\" points=\"87.2922,-74.872 79.0108,-68.2637 81.3637,-78.594 87.2922,-74.872\"/>\n</g>\n<!-- 6 -->\n<g id=\"node7\" class=\"node\">\n<title>6</title>\n<path fill=\"#39e581\" stroke=\"#000000\" d=\"M249.5,-68C249.5,-68 145.5,-68 145.5,-68 139.5,-68 133.5,-62 133.5,-56 133.5,-56 133.5,-12 133.5,-12 133.5,-6 139.5,0 145.5,0 145.5,0 249.5,0 249.5,0 255.5,0 261.5,-6 261.5,-12 261.5,-12 261.5,-56 261.5,-56 261.5,-62 255.5,-68 249.5,-68\"/>\n<text text-anchor=\"middle\" x=\"197.5\" y=\"-52.8\" font-family=\"Helvetica,sans-Serif\" font-size=\"14.00\" fill=\"#000000\">gini = 0.0</text>\n<text text-anchor=\"middle\" x=\"197.5\" y=\"-37.8\" font-family=\"Helvetica,sans-Serif\" font-size=\"14.00\" fill=\"#000000\">samples = 1</text>\n<text text-anchor=\"middle\" x=\"197.5\" y=\"-22.8\" font-family=\"Helvetica,sans-Serif\" font-size=\"14.00\" fill=\"#000000\">value = [0, 1, 0]</text>\n<text text-anchor=\"middle\" x=\"197.5\" y=\"-7.8\" font-family=\"Helvetica,sans-Serif\" font-size=\"14.00\" fill=\"#000000\">class = Chinstrap</text>\n</g>\n<!-- 4&#45;&gt;6 -->\n<g id=\"edge6\" class=\"edge\">\n<title>4&#45;&gt;6</title>\n<path fill=\"none\" stroke=\"#000000\" d=\"M153.5654,-103.9815C159.1045,-95.1585 164.9636,-85.8258 170.5355,-76.9506\"/>\n<polygon fill=\"#000000\" stroke=\"#000000\" points=\"173.6363,-78.594 175.9892,-68.2637 167.7078,-74.872 173.6363,-78.594\"/>\n</g>\n<!-- 9 -->\n<g id=\"node10\" class=\"node\">\n<title>9</title>\n<path fill=\"#39e581\" stroke=\"#000000\" d=\"M539.5,-179.5C539.5,-179.5 435.5,-179.5 435.5,-179.5 429.5,-179.5 423.5,-173.5 423.5,-167.5 423.5,-167.5 423.5,-123.5 423.5,-123.5 423.5,-117.5 429.5,-111.5 435.5,-111.5 435.5,-111.5 539.5,-111.5 539.5,-111.5 545.5,-111.5 551.5,-117.5 551.5,-123.5 551.5,-123.5 551.5,-167.5 551.5,-167.5 551.5,-173.5 545.5,-179.5 539.5,-179.5\"/>\n<text text-anchor=\"middle\" x=\"487.5\" y=\"-164.3\" font-family=\"Helvetica,sans-Serif\" font-size=\"14.00\" fill=\"#000000\">gini = 0.0</text>\n<text text-anchor=\"middle\" x=\"487.5\" y=\"-149.3\" font-family=\"Helvetica,sans-Serif\" font-size=\"14.00\" fill=\"#000000\">samples = 2</text>\n<text text-anchor=\"middle\" x=\"487.5\" y=\"-134.3\" font-family=\"Helvetica,sans-Serif\" font-size=\"14.00\" fill=\"#000000\">value = [0, 2, 0]</text>\n<text text-anchor=\"middle\" x=\"487.5\" y=\"-119.3\" font-family=\"Helvetica,sans-Serif\" font-size=\"14.00\" fill=\"#000000\">class = Chinstrap</text>\n</g>\n<!-- 8&#45;&gt;9 -->\n<g id=\"edge9\" class=\"edge\">\n<title>8&#45;&gt;9</title>\n<path fill=\"none\" stroke=\"#000000\" d=\"M497.2537,-222.8796C495.9092,-212.2134 494.4582,-200.7021 493.0968,-189.9015\"/>\n<polygon fill=\"#000000\" stroke=\"#000000\" points=\"496.5486,-189.2987 491.8254,-179.8149 489.6036,-190.1742 496.5486,-189.2987\"/>\n</g>\n<!-- 10 -->\n<g id=\"node11\" class=\"node\">\n<title>10</title>\n<path fill=\"#e58139\" stroke=\"#000000\" d=\"M673,-179.5C673,-179.5 582,-179.5 582,-179.5 576,-179.5 570,-173.5 570,-167.5 570,-167.5 570,-123.5 570,-123.5 570,-117.5 576,-111.5 582,-111.5 582,-111.5 673,-111.5 673,-111.5 679,-111.5 685,-117.5 685,-123.5 685,-123.5 685,-167.5 685,-167.5 685,-173.5 679,-179.5 673,-179.5\"/>\n<text text-anchor=\"middle\" x=\"627.5\" y=\"-164.3\" font-family=\"Helvetica,sans-Serif\" font-size=\"14.00\" fill=\"#000000\">gini = 0.0</text>\n<text text-anchor=\"middle\" x=\"627.5\" y=\"-149.3\" font-family=\"Helvetica,sans-Serif\" font-size=\"14.00\" fill=\"#000000\">samples = 4</text>\n<text text-anchor=\"middle\" x=\"627.5\" y=\"-134.3\" font-family=\"Helvetica,sans-Serif\" font-size=\"14.00\" fill=\"#000000\">value = [4, 0, 0]</text>\n<text text-anchor=\"middle\" x=\"627.5\" y=\"-119.3\" font-family=\"Helvetica,sans-Serif\" font-size=\"14.00\" fill=\"#000000\">class = Adelie</text>\n</g>\n<!-- 8&#45;&gt;10 -->\n<g id=\"edge10\" class=\"edge\">\n<title>8&#45;&gt;10</title>\n<path fill=\"none\" stroke=\"#000000\" d=\"M546.2189,-222.8796C558.4625,-211.2237 571.7661,-198.5587 583.9971,-186.9148\"/>\n<polygon fill=\"#000000\" stroke=\"#000000\" points=\"586.6254,-189.245 591.4549,-179.8149 581.7988,-184.1751 586.6254,-189.245\"/>\n</g>\n<!-- 12 -->\n<g id=\"node13\" class=\"node\">\n<title>12</title>\n<path fill=\"#f2c09c\" stroke=\"#000000\" d=\"M712,-298.5C712,-298.5 621,-298.5 621,-298.5 615,-298.5 609,-292.5 609,-286.5 609,-286.5 609,-242.5 609,-242.5 609,-236.5 615,-230.5 621,-230.5 621,-230.5 712,-230.5 712,-230.5 718,-230.5 724,-236.5 724,-242.5 724,-242.5 724,-286.5 724,-286.5 724,-292.5 718,-298.5 712,-298.5\"/>\n<text text-anchor=\"middle\" x=\"666.5\" y=\"-283.3\" font-family=\"Helvetica,sans-Serif\" font-size=\"14.00\" fill=\"#000000\">gini = 0.444</text>\n<text text-anchor=\"middle\" x=\"666.5\" y=\"-268.3\" font-family=\"Helvetica,sans-Serif\" font-size=\"14.00\" fill=\"#000000\">samples = 3</text>\n<text text-anchor=\"middle\" x=\"666.5\" y=\"-253.3\" font-family=\"Helvetica,sans-Serif\" font-size=\"14.00\" fill=\"#000000\">value = [2, 0, 1]</text>\n<text text-anchor=\"middle\" x=\"666.5\" y=\"-238.3\" font-family=\"Helvetica,sans-Serif\" font-size=\"14.00\" fill=\"#000000\">class = Adelie</text>\n</g>\n<!-- 11&#45;&gt;12 -->\n<g id=\"edge12\" class=\"edge\">\n<title>11&#45;&gt;12</title>\n<path fill=\"none\" stroke=\"#000000\" d=\"M726.9731,-341.8796C718.1217,-330.5536 708.5257,-318.2748 699.6407,-306.9058\"/>\n<polygon fill=\"#000000\" stroke=\"#000000\" points=\"702.2331,-304.539 693.3176,-298.8149 696.7176,-308.8494 702.2331,-304.539\"/>\n</g>\n<!-- 13 -->\n<g id=\"node14\" class=\"node\">\n<title>13</title>\n<path fill=\"#42e687\" stroke=\"#000000\" d=\"M935,-306C935,-306 754,-306 754,-306 748,-306 742,-300 742,-294 742,-294 742,-235 742,-235 742,-229 748,-223 754,-223 754,-223 935,-223 935,-223 941,-223 947,-229 947,-235 947,-235 947,-294 947,-294 947,-300 941,-306 935,-306\"/>\n<text text-anchor=\"middle\" x=\"844.5\" y=\"-290.8\" font-family=\"Helvetica,sans-Serif\" font-size=\"14.00\" fill=\"#000000\">culmen_length_mm &lt;= 44.75</text>\n<text text-anchor=\"middle\" x=\"844.5\" y=\"-275.8\" font-family=\"Helvetica,sans-Serif\" font-size=\"14.00\" fill=\"#000000\">gini = 0.083</text>\n<text text-anchor=\"middle\" x=\"844.5\" y=\"-260.8\" font-family=\"Helvetica,sans-Serif\" font-size=\"14.00\" fill=\"#000000\">samples = 46</text>\n<text text-anchor=\"middle\" x=\"844.5\" y=\"-245.8\" font-family=\"Helvetica,sans-Serif\" font-size=\"14.00\" fill=\"#000000\">value = [2, 44, 0]</text>\n<text text-anchor=\"middle\" x=\"844.5\" y=\"-230.8\" font-family=\"Helvetica,sans-Serif\" font-size=\"14.00\" fill=\"#000000\">class = Chinstrap</text>\n</g>\n<!-- 11&#45;&gt;13 -->\n<g id=\"edge13\" class=\"edge\">\n<title>11&#45;&gt;13</title>\n<path fill=\"none\" stroke=\"#000000\" d=\"M789.2289,-341.8796C795.5333,-333.0534 802.251,-323.6485 808.7524,-314.5466\"/>\n<polygon fill=\"#000000\" stroke=\"#000000\" points=\"811.6799,-316.4698 814.6442,-306.2981 805.9837,-312.4011 811.6799,-316.4698\"/>\n</g>\n<!-- 14 -->\n<g id=\"node15\" class=\"node\">\n<title>14</title>\n<path fill=\"#ffffff\" stroke=\"#000000\" d=\"M848,-179.5C848,-179.5 757,-179.5 757,-179.5 751,-179.5 745,-173.5 745,-167.5 745,-167.5 745,-123.5 745,-123.5 745,-117.5 751,-111.5 757,-111.5 757,-111.5 848,-111.5 848,-111.5 854,-111.5 860,-117.5 860,-123.5 860,-123.5 860,-167.5 860,-167.5 860,-173.5 854,-179.5 848,-179.5\"/>\n<text text-anchor=\"middle\" x=\"802.5\" y=\"-164.3\" font-family=\"Helvetica,sans-Serif\" font-size=\"14.00\" fill=\"#000000\">gini = 0.5</text>\n<text text-anchor=\"middle\" x=\"802.5\" y=\"-149.3\" font-family=\"Helvetica,sans-Serif\" font-size=\"14.00\" fill=\"#000000\">samples = 4</text>\n<text text-anchor=\"middle\" x=\"802.5\" y=\"-134.3\" font-family=\"Helvetica,sans-Serif\" font-size=\"14.00\" fill=\"#000000\">value = [2, 2, 0]</text>\n<text text-anchor=\"middle\" x=\"802.5\" y=\"-119.3\" font-family=\"Helvetica,sans-Serif\" font-size=\"14.00\" fill=\"#000000\">class = Adelie</text>\n</g>\n<!-- 13&#45;&gt;14 -->\n<g id=\"edge14\" class=\"edge\">\n<title>13&#45;&gt;14</title>\n<path fill=\"none\" stroke=\"#000000\" d=\"M829.8104,-222.8796C826.0071,-212.1034 821.8993,-200.4647 818.0533,-189.5677\"/>\n<polygon fill=\"#000000\" stroke=\"#000000\" points=\"821.2399,-188.08 814.6112,-179.8149 814.639,-190.4097 821.2399,-188.08\"/>\n</g>\n<!-- 15 -->\n<g id=\"node16\" class=\"node\">\n<title>15</title>\n<path fill=\"#39e581\" stroke=\"#000000\" d=\"M994.5,-179.5C994.5,-179.5 890.5,-179.5 890.5,-179.5 884.5,-179.5 878.5,-173.5 878.5,-167.5 878.5,-167.5 878.5,-123.5 878.5,-123.5 878.5,-117.5 884.5,-111.5 890.5,-111.5 890.5,-111.5 994.5,-111.5 994.5,-111.5 1000.5,-111.5 1006.5,-117.5 1006.5,-123.5 1006.5,-123.5 1006.5,-167.5 1006.5,-167.5 1006.5,-173.5 1000.5,-179.5 994.5,-179.5\"/>\n<text text-anchor=\"middle\" x=\"942.5\" y=\"-164.3\" font-family=\"Helvetica,sans-Serif\" font-size=\"14.00\" fill=\"#000000\">gini = 0.0</text>\n<text text-anchor=\"middle\" x=\"942.5\" y=\"-149.3\" font-family=\"Helvetica,sans-Serif\" font-size=\"14.00\" fill=\"#000000\">samples = 42</text>\n<text text-anchor=\"middle\" x=\"942.5\" y=\"-134.3\" font-family=\"Helvetica,sans-Serif\" font-size=\"14.00\" fill=\"#000000\">value = [0, 42, 0]</text>\n<text text-anchor=\"middle\" x=\"942.5\" y=\"-119.3\" font-family=\"Helvetica,sans-Serif\" font-size=\"14.00\" fill=\"#000000\">class = Chinstrap</text>\n</g>\n<!-- 13&#45;&gt;15 -->\n<g id=\"edge15\" class=\"edge\">\n<title>13&#45;&gt;15</title>\n<path fill=\"none\" stroke=\"#000000\" d=\"M878.7756,-222.8796C888.1935,-211.4436 898.4113,-199.0363 907.85,-187.575\"/>\n<polygon fill=\"#000000\" stroke=\"#000000\" points=\"910.5853,-189.7592 914.2406,-179.8149 905.1818,-185.3093 910.5853,-189.7592\"/>\n</g>\n<!-- 17 -->\n<g id=\"node18\" class=\"node\">\n<title>17</title>\n<path fill=\"#88efb3\" stroke=\"#000000\" d=\"M1111.5,-425C1111.5,-425 933.5,-425 933.5,-425 927.5,-425 921.5,-419 921.5,-413 921.5,-413 921.5,-354 921.5,-354 921.5,-348 927.5,-342 933.5,-342 933.5,-342 1111.5,-342 1111.5,-342 1117.5,-342 1123.5,-348 1123.5,-354 1123.5,-354 1123.5,-413 1123.5,-413 1123.5,-419 1117.5,-425 1111.5,-425\"/>\n<text text-anchor=\"middle\" x=\"1022.5\" y=\"-409.8\" font-family=\"Helvetica,sans-Serif\" font-size=\"14.00\" fill=\"#000000\">culmen_depth_mm &lt;= 18.95</text>\n<text text-anchor=\"middle\" x=\"1022.5\" y=\"-394.8\" font-family=\"Helvetica,sans-Serif\" font-size=\"14.00\" fill=\"#000000\">gini = 0.408</text>\n<text text-anchor=\"middle\" x=\"1022.5\" y=\"-379.8\" font-family=\"Helvetica,sans-Serif\" font-size=\"14.00\" fill=\"#000000\">samples = 7</text>\n<text text-anchor=\"middle\" x=\"1022.5\" y=\"-364.8\" font-family=\"Helvetica,sans-Serif\" font-size=\"14.00\" fill=\"#000000\">value = [2, 5, 0]</text>\n<text text-anchor=\"middle\" x=\"1022.5\" y=\"-349.8\" font-family=\"Helvetica,sans-Serif\" font-size=\"14.00\" fill=\"#000000\">class = Chinstrap</text>\n</g>\n<!-- 16&#45;&gt;17 -->\n<g id=\"edge17\" class=\"edge\">\n<title>16&#45;&gt;17</title>\n<path fill=\"none\" stroke=\"#000000\" d=\"M1022.5,-460.8796C1022.5,-452.6838 1022.5,-443.9891 1022.5,-435.5013\"/>\n<polygon fill=\"#000000\" stroke=\"#000000\" points=\"1026.0001,-435.298 1022.5,-425.2981 1019.0001,-435.2981 1026.0001,-435.298\"/>\n</g>\n<!-- 20 -->\n<g id=\"node21\" class=\"node\">\n<title>20</title>\n<path fill=\"#8139e5\" stroke=\"#000000\" d=\"M1261,-417.5C1261,-417.5 1154,-417.5 1154,-417.5 1148,-417.5 1142,-411.5 1142,-405.5 1142,-405.5 1142,-361.5 1142,-361.5 1142,-355.5 1148,-349.5 1154,-349.5 1154,-349.5 1261,-349.5 1261,-349.5 1267,-349.5 1273,-355.5 1273,-361.5 1273,-361.5 1273,-405.5 1273,-405.5 1273,-411.5 1267,-417.5 1261,-417.5\"/>\n<text text-anchor=\"middle\" x=\"1207.5\" y=\"-402.3\" font-family=\"Helvetica,sans-Serif\" font-size=\"14.00\" fill=\"#000000\">gini = 0.0</text>\n<text text-anchor=\"middle\" x=\"1207.5\" y=\"-387.3\" font-family=\"Helvetica,sans-Serif\" font-size=\"14.00\" fill=\"#000000\">samples = 102</text>\n<text text-anchor=\"middle\" x=\"1207.5\" y=\"-372.3\" font-family=\"Helvetica,sans-Serif\" font-size=\"14.00\" fill=\"#000000\">value = [0, 0, 102]</text>\n<text text-anchor=\"middle\" x=\"1207.5\" y=\"-357.3\" font-family=\"Helvetica,sans-Serif\" font-size=\"14.00\" fill=\"#000000\">class = Gentoo</text>\n</g>\n<!-- 16&#45;&gt;20 -->\n<g id=\"edge20\" class=\"edge\">\n<title>16&#45;&gt;20</title>\n<path fill=\"none\" stroke=\"#000000\" d=\"M1087.204,-460.8796C1106.2696,-448.6158 1127.0719,-435.2348 1145.9346,-423.1015\"/>\n<polygon fill=\"#000000\" stroke=\"#000000\" points=\"1147.9347,-425.9766 1154.4516,-417.623 1144.1478,-420.0893 1147.9347,-425.9766\"/>\n</g>\n<!-- 18 -->\n<g id=\"node19\" class=\"node\">\n<title>18</title>\n<path fill=\"#e58139\" stroke=\"#000000\" d=\"M1068,-298.5C1068,-298.5 977,-298.5 977,-298.5 971,-298.5 965,-292.5 965,-286.5 965,-286.5 965,-242.5 965,-242.5 965,-236.5 971,-230.5 977,-230.5 977,-230.5 1068,-230.5 1068,-230.5 1074,-230.5 1080,-236.5 1080,-242.5 1080,-242.5 1080,-286.5 1080,-286.5 1080,-292.5 1074,-298.5 1068,-298.5\"/>\n<text text-anchor=\"middle\" x=\"1022.5\" y=\"-283.3\" font-family=\"Helvetica,sans-Serif\" font-size=\"14.00\" fill=\"#000000\">gini = 0.0</text>\n<text text-anchor=\"middle\" x=\"1022.5\" y=\"-268.3\" font-family=\"Helvetica,sans-Serif\" font-size=\"14.00\" fill=\"#000000\">samples = 2</text>\n<text text-anchor=\"middle\" x=\"1022.5\" y=\"-253.3\" font-family=\"Helvetica,sans-Serif\" font-size=\"14.00\" fill=\"#000000\">value = [2, 0, 0]</text>\n<text text-anchor=\"middle\" x=\"1022.5\" y=\"-238.3\" font-family=\"Helvetica,sans-Serif\" font-size=\"14.00\" fill=\"#000000\">class = Adelie</text>\n</g>\n<!-- 17&#45;&gt;18 -->\n<g id=\"edge18\" class=\"edge\">\n<title>17&#45;&gt;18</title>\n<path fill=\"none\" stroke=\"#000000\" d=\"M1022.5,-341.8796C1022.5,-331.2134 1022.5,-319.7021 1022.5,-308.9015\"/>\n<polygon fill=\"#000000\" stroke=\"#000000\" points=\"1026.0001,-308.8149 1022.5,-298.8149 1019.0001,-308.815 1026.0001,-308.8149\"/>\n</g>\n<!-- 19 -->\n<g id=\"node20\" class=\"node\">\n<title>19</title>\n<path fill=\"#39e581\" stroke=\"#000000\" d=\"M1214.5,-298.5C1214.5,-298.5 1110.5,-298.5 1110.5,-298.5 1104.5,-298.5 1098.5,-292.5 1098.5,-286.5 1098.5,-286.5 1098.5,-242.5 1098.5,-242.5 1098.5,-236.5 1104.5,-230.5 1110.5,-230.5 1110.5,-230.5 1214.5,-230.5 1214.5,-230.5 1220.5,-230.5 1226.5,-236.5 1226.5,-242.5 1226.5,-242.5 1226.5,-286.5 1226.5,-286.5 1226.5,-292.5 1220.5,-298.5 1214.5,-298.5\"/>\n<text text-anchor=\"middle\" x=\"1162.5\" y=\"-283.3\" font-family=\"Helvetica,sans-Serif\" font-size=\"14.00\" fill=\"#000000\">gini = 0.0</text>\n<text text-anchor=\"middle\" x=\"1162.5\" y=\"-268.3\" font-family=\"Helvetica,sans-Serif\" font-size=\"14.00\" fill=\"#000000\">samples = 5</text>\n<text text-anchor=\"middle\" x=\"1162.5\" y=\"-253.3\" font-family=\"Helvetica,sans-Serif\" font-size=\"14.00\" fill=\"#000000\">value = [0, 5, 0]</text>\n<text text-anchor=\"middle\" x=\"1162.5\" y=\"-238.3\" font-family=\"Helvetica,sans-Serif\" font-size=\"14.00\" fill=\"#000000\">class = Chinstrap</text>\n</g>\n<!-- 17&#45;&gt;19 -->\n<g id=\"edge19\" class=\"edge\">\n<title>17&#45;&gt;19</title>\n<path fill=\"none\" stroke=\"#000000\" d=\"M1071.4652,-341.8796C1085.3073,-330.1138 1100.3592,-317.3197 1114.1641,-305.5855\"/>\n<polygon fill=\"#000000\" stroke=\"#000000\" points=\"1116.7769,-307.9582 1122.1295,-298.8149 1112.2433,-302.6247 1116.7769,-307.9582\"/>\n</g>\n</g>\n</svg>\n"
          },
          "metadata": {},
          "execution_count": 61
        }
      ]
    },
    {
      "cell_type": "markdown",
      "source": [
        "##**4. Limitando más la ramificación**"
      ],
      "metadata": {
        "id": "KQ1GZsKx5BTE"
      }
    },
    {
      "cell_type": "code",
      "source": [
        "tree_leaf = DecisionTreeClassifier(min_samples_leaf=3)\n",
        "tree_leaf.fit(X_train_prepared, y_train_tree)"
      ],
      "metadata": {
        "colab": {
          "base_uri": "https://localhost:8080/"
        },
        "id": "fZoqRbl-z9Q0",
        "outputId": "0a0257d6-a95f-43fe-820c-9cd6634efd9c"
      },
      "execution_count": null,
      "outputs": [
        {
          "output_type": "execute_result",
          "data": {
            "text/plain": [
              "DecisionTreeClassifier(min_samples_leaf=3)"
            ]
          },
          "metadata": {},
          "execution_count": 62
        }
      ]
    },
    {
      "cell_type": "code",
      "source": [
        "print('La precisión del modelo en el conjunto de entrenamiento es:',tree_leaf.score(X_train_prepared, y_train_tree))\n",
        "y_pred_train_leaf = tree_leaf.predict(X_train_prepared)\n",
        "train_conf_matrix_leaf = confusion_matrix(y_train_tree, y_pred_train_leaf)\n",
        "print('La matriz de confusión en el conjunto de entrenamiento es:\\n',train_conf_matrix_leaf)\n",
        "print('f1 score en el conjunto de entrenamiento:',f1_score(y_train_tree, y_pred_train_leaf, average='weighted'))"
      ],
      "metadata": {
        "colab": {
          "base_uri": "https://localhost:8080/"
        },
        "id": "8rsSWBIa15KV",
        "outputId": "2c99c617-1685-4bff-fb4e-51d9861182ec"
      },
      "execution_count": null,
      "outputs": [
        {
          "output_type": "stream",
          "name": "stdout",
          "text": [
            "La precisión del modelo en el conjunto de entrenamiento es: 0.9781818181818182\n",
            "La matriz de confusión en el conjunto de entrenamiento es:\n",
            " [[119   1   0]\n",
            " [  4  48   0]\n",
            " [  1   0 102]]\n",
            "f1 score en el conjunto de entrenamiento: 0.9780817595554039\n"
          ]
        }
      ]
    },
    {
      "cell_type": "code",
      "source": [
        "print('La precisión del modelo en el conjunto de test es:',tree_leaf.score(X_test_prepared, y_test_tree))\n",
        "y_pred_test_leaf = tree_leaf.predict(X_test_prepared)\n",
        "test_conf_matrix_leaf = confusion_matrix(y_test_tree, y_pred_test_leaf)\n",
        "print('La matriz de confusión en el conjunto de test es:\\n',test_conf_matrix_leaf)\n",
        "print('f1 score en el conjunto de test:',f1_score(y_test_tree, y_pred_test_leaf, average='weighted'))"
      ],
      "metadata": {
        "colab": {
          "base_uri": "https://localhost:8080/"
        },
        "id": "KvFLKp3Y2TJN",
        "outputId": "d09bd2d6-b046-4604-9ef5-256d577adfc6"
      },
      "execution_count": null,
      "outputs": [
        {
          "output_type": "stream",
          "name": "stdout",
          "text": [
            "La precisión del modelo en el conjunto de test es: 0.9855072463768116\n",
            "La matriz de confusión en el conjunto de test es:\n",
            " [[32  0  0]\n",
            " [ 0 16  0]\n",
            " [ 1  0 20]]\n",
            "f1 score en el conjunto de test: 0.9854419881991462\n"
          ]
        }
      ]
    },
    {
      "cell_type": "code",
      "source": [
        "PROJECT_ROOT_DIR = \".\"\n",
        "IMAGES_PATH = os.path.join(PROJECT_ROOT_DIR, \"tree images\") #!\n",
        "os.makedirs(IMAGES_PATH, exist_ok=True)\n",
        "\n",
        "export_graphviz(\n",
        "tree_leaf,\n",
        "out_file=os.path.join(IMAGES_PATH,\"iris_tree_04.dot\"),\n",
        "feature_names=list(X_train_prepared.columns),\n",
        "class_names=list(y_train_tree.cat.categories),\n",
        "rounded=True,\n",
        "filled=True\n",
        ")\n",
        "\n",
        "Source.from_file(os.path.join(IMAGES_PATH, \"iris_tree_04.dot\"))"
      ],
      "metadata": {
        "colab": {
          "base_uri": "https://localhost:8080/",
          "height": 936
        },
        "id": "IKtugiRB2m57",
        "outputId": "7e302de3-eeef-40f5-e81c-a3cefe33931d"
      },
      "execution_count": null,
      "outputs": [
        {
          "output_type": "execute_result",
          "data": {
            "text/plain": [
              "<graphviz.files.Source at 0x7f26be02e210>"
            ],
            "image/svg+xml": "<?xml version=\"1.0\" encoding=\"UTF-8\" standalone=\"no\"?>\n<!DOCTYPE svg PUBLIC \"-//W3C//DTD SVG 1.1//EN\"\n \"http://www.w3.org/Graphics/SVG/1.1/DTD/svg11.dtd\">\n<!-- Generated by graphviz version 2.40.1 (20161225.0304)\n -->\n<!-- Title: Tree Pages: 1 -->\n<svg width=\"1271pt\" height=\"671pt\"\n viewBox=\"0.00 0.00 1270.50 671.00\" xmlns=\"http://www.w3.org/2000/svg\" xmlns:xlink=\"http://www.w3.org/1999/xlink\">\n<g id=\"graph0\" class=\"graph\" transform=\"scale(1 1) rotate(0) translate(4 667)\">\n<title>Tree</title>\n<polygon fill=\"#ffffff\" stroke=\"transparent\" points=\"-4,4 -4,-667 1266.5,-667 1266.5,4 -4,4\"/>\n<!-- 0 -->\n<g id=\"node1\" class=\"node\">\n<title>0</title>\n<path fill=\"#fcf3eb\" stroke=\"#000000\" d=\"M873,-663C873,-663 700,-663 700,-663 694,-663 688,-657 688,-651 688,-651 688,-592 688,-592 688,-586 694,-580 700,-580 700,-580 873,-580 873,-580 879,-580 885,-586 885,-592 885,-592 885,-651 885,-651 885,-657 879,-663 873,-663\"/>\n<text text-anchor=\"middle\" x=\"786.5\" y=\"-647.8\" font-family=\"Helvetica,sans-Serif\" font-size=\"14.00\" fill=\"#000000\">flipper_length_mm &lt;= 206.5</text>\n<text text-anchor=\"middle\" x=\"786.5\" y=\"-632.8\" font-family=\"Helvetica,sans-Serif\" font-size=\"14.00\" fill=\"#000000\">gini = 0.634</text>\n<text text-anchor=\"middle\" x=\"786.5\" y=\"-617.8\" font-family=\"Helvetica,sans-Serif\" font-size=\"14.00\" fill=\"#000000\">samples = 275</text>\n<text text-anchor=\"middle\" x=\"786.5\" y=\"-602.8\" font-family=\"Helvetica,sans-Serif\" font-size=\"14.00\" fill=\"#000000\">value = [120, 52, 103]</text>\n<text text-anchor=\"middle\" x=\"786.5\" y=\"-587.8\" font-family=\"Helvetica,sans-Serif\" font-size=\"14.00\" fill=\"#000000\">class = Adelie</text>\n</g>\n<!-- 1 -->\n<g id=\"node2\" class=\"node\">\n<title>1</title>\n<path fill=\"#efb489\" stroke=\"#000000\" d=\"M766,-544C766,-544 585,-544 585,-544 579,-544 573,-538 573,-532 573,-532 573,-473 573,-473 573,-467 579,-461 585,-461 585,-461 766,-461 766,-461 772,-461 778,-467 778,-473 778,-473 778,-532 778,-532 778,-538 772,-544 766,-544\"/>\n<text text-anchor=\"middle\" x=\"675.5\" y=\"-528.8\" font-family=\"Helvetica,sans-Serif\" font-size=\"14.00\" fill=\"#000000\">culmen_length_mm &lt;= 43.15</text>\n<text text-anchor=\"middle\" x=\"675.5\" y=\"-513.8\" font-family=\"Helvetica,sans-Serif\" font-size=\"14.00\" fill=\"#000000\">gini = 0.415</text>\n<text text-anchor=\"middle\" x=\"675.5\" y=\"-498.8\" font-family=\"Helvetica,sans-Serif\" font-size=\"14.00\" fill=\"#000000\">samples = 166</text>\n<text text-anchor=\"middle\" x=\"675.5\" y=\"-483.8\" font-family=\"Helvetica,sans-Serif\" font-size=\"14.00\" fill=\"#000000\">value = [118, 47, 1]</text>\n<text text-anchor=\"middle\" x=\"675.5\" y=\"-468.8\" font-family=\"Helvetica,sans-Serif\" font-size=\"14.00\" fill=\"#000000\">class = Adelie</text>\n</g>\n<!-- 0&#45;&gt;1 -->\n<g id=\"edge1\" class=\"edge\">\n<title>0&#45;&gt;1</title>\n<path fill=\"none\" stroke=\"#000000\" d=\"M747.6776,-579.8796C739.1927,-570.7832 730.1346,-561.0722 721.4032,-551.7116\"/>\n<polygon fill=\"#000000\" stroke=\"#000000\" points=\"723.8686,-549.2233 714.4881,-544.2981 718.7497,-553.9981 723.8686,-549.2233\"/>\n<text text-anchor=\"middle\" x=\"713.6191\" y=\"-565.583\" font-family=\"Helvetica,sans-Serif\" font-size=\"14.00\" fill=\"#000000\">True</text>\n</g>\n<!-- 16 -->\n<g id=\"node17\" class=\"node\">\n<title>16</title>\n<path fill=\"#8946e7\" stroke=\"#000000\" d=\"M986.5,-544C986.5,-544 808.5,-544 808.5,-544 802.5,-544 796.5,-538 796.5,-532 796.5,-532 796.5,-473 796.5,-473 796.5,-467 802.5,-461 808.5,-461 808.5,-461 986.5,-461 986.5,-461 992.5,-461 998.5,-467 998.5,-473 998.5,-473 998.5,-532 998.5,-532 998.5,-538 992.5,-544 986.5,-544\"/>\n<text text-anchor=\"middle\" x=\"897.5\" y=\"-528.8\" font-family=\"Helvetica,sans-Serif\" font-size=\"14.00\" fill=\"#000000\">culmen_depth_mm &lt;= 17.65</text>\n<text text-anchor=\"middle\" x=\"897.5\" y=\"-513.8\" font-family=\"Helvetica,sans-Serif\" font-size=\"14.00\" fill=\"#000000\">gini = 0.122</text>\n<text text-anchor=\"middle\" x=\"897.5\" y=\"-498.8\" font-family=\"Helvetica,sans-Serif\" font-size=\"14.00\" fill=\"#000000\">samples = 109</text>\n<text text-anchor=\"middle\" x=\"897.5\" y=\"-483.8\" font-family=\"Helvetica,sans-Serif\" font-size=\"14.00\" fill=\"#000000\">value = [2, 5, 102]</text>\n<text text-anchor=\"middle\" x=\"897.5\" y=\"-468.8\" font-family=\"Helvetica,sans-Serif\" font-size=\"14.00\" fill=\"#000000\">class = Gentoo</text>\n</g>\n<!-- 0&#45;&gt;16 -->\n<g id=\"edge16\" class=\"edge\">\n<title>0&#45;&gt;16</title>\n<path fill=\"none\" stroke=\"#000000\" d=\"M825.3224,-579.8796C833.8073,-570.7832 842.8654,-561.0722 851.5968,-551.7116\"/>\n<polygon fill=\"#000000\" stroke=\"#000000\" points=\"854.2503,-553.9981 858.5119,-544.2981 849.1314,-549.2233 854.2503,-553.9981\"/>\n<text text-anchor=\"middle\" x=\"859.3809\" y=\"-565.583\" font-family=\"Helvetica,sans-Serif\" font-size=\"14.00\" fill=\"#000000\">False</text>\n</g>\n<!-- 2 -->\n<g id=\"node3\" class=\"node\">\n<title>2</title>\n<path fill=\"#e6843e\" stroke=\"#000000\" d=\"M579,-425C579,-425 406,-425 406,-425 400,-425 394,-419 394,-413 394,-413 394,-354 394,-354 394,-348 400,-342 406,-342 406,-342 579,-342 579,-342 585,-342 591,-348 591,-354 591,-354 591,-413 591,-413 591,-419 585,-425 579,-425\"/>\n<text text-anchor=\"middle\" x=\"492.5\" y=\"-409.8\" font-family=\"Helvetica,sans-Serif\" font-size=\"14.00\" fill=\"#000000\">culmen_length_mm &lt;= 42.4</text>\n<text text-anchor=\"middle\" x=\"492.5\" y=\"-394.8\" font-family=\"Helvetica,sans-Serif\" font-size=\"14.00\" fill=\"#000000\">gini = 0.05</text>\n<text text-anchor=\"middle\" x=\"492.5\" y=\"-379.8\" font-family=\"Helvetica,sans-Serif\" font-size=\"14.00\" fill=\"#000000\">samples = 117</text>\n<text text-anchor=\"middle\" x=\"492.5\" y=\"-364.8\" font-family=\"Helvetica,sans-Serif\" font-size=\"14.00\" fill=\"#000000\">value = [114, 3, 0]</text>\n<text text-anchor=\"middle\" x=\"492.5\" y=\"-349.8\" font-family=\"Helvetica,sans-Serif\" font-size=\"14.00\" fill=\"#000000\">class = Adelie</text>\n</g>\n<!-- 1&#45;&gt;2 -->\n<g id=\"edge2\" class=\"edge\">\n<title>1&#45;&gt;2</title>\n<path fill=\"none\" stroke=\"#000000\" d=\"M611.4955,-460.8796C596.4505,-451.0962 580.3121,-440.6019 564.9267,-430.5971\"/>\n<polygon fill=\"#000000\" stroke=\"#000000\" points=\"566.7598,-427.6143 556.4684,-425.0969 562.9437,-433.4827 566.7598,-427.6143\"/>\n</g>\n<!-- 11 -->\n<g id=\"node12\" class=\"node\">\n<title>11</title>\n<path fill=\"#4fe88f\" stroke=\"#000000\" d=\"M748,-425C748,-425 621,-425 621,-425 615,-425 609,-419 609,-413 609,-413 609,-354 609,-354 609,-348 615,-342 621,-342 621,-342 748,-342 748,-342 754,-342 760,-348 760,-354 760,-354 760,-413 760,-413 760,-419 754,-425 748,-425\"/>\n<text text-anchor=\"middle\" x=\"684.5\" y=\"-409.8\" font-family=\"Helvetica,sans-Serif\" font-size=\"14.00\" fill=\"#000000\">island_Dream &lt;= 0.5</text>\n<text text-anchor=\"middle\" x=\"684.5\" y=\"-394.8\" font-family=\"Helvetica,sans-Serif\" font-size=\"14.00\" fill=\"#000000\">gini = 0.187</text>\n<text text-anchor=\"middle\" x=\"684.5\" y=\"-379.8\" font-family=\"Helvetica,sans-Serif\" font-size=\"14.00\" fill=\"#000000\">samples = 49</text>\n<text text-anchor=\"middle\" x=\"684.5\" y=\"-364.8\" font-family=\"Helvetica,sans-Serif\" font-size=\"14.00\" fill=\"#000000\">value = [4, 44, 1]</text>\n<text text-anchor=\"middle\" x=\"684.5\" y=\"-349.8\" font-family=\"Helvetica,sans-Serif\" font-size=\"14.00\" fill=\"#000000\">class = Chinstrap</text>\n</g>\n<!-- 1&#45;&gt;11 -->\n<g id=\"edge11\" class=\"edge\">\n<title>1&#45;&gt;11</title>\n<path fill=\"none\" stroke=\"#000000\" d=\"M678.6478,-460.8796C679.2676,-452.6838 679.9252,-443.9891 680.5671,-435.5013\"/>\n<polygon fill=\"#000000\" stroke=\"#000000\" points=\"684.0746,-435.5336 681.3388,-425.2981 677.0945,-435.0056 684.0746,-435.5336\"/>\n</g>\n<!-- 3 -->\n<g id=\"node4\" class=\"node\">\n<title>3</title>\n<path fill=\"#e5823b\" stroke=\"#000000\" d=\"M383.5,-306C383.5,-306 205.5,-306 205.5,-306 199.5,-306 193.5,-300 193.5,-294 193.5,-294 193.5,-235 193.5,-235 193.5,-229 199.5,-223 205.5,-223 205.5,-223 383.5,-223 383.5,-223 389.5,-223 395.5,-229 395.5,-235 395.5,-235 395.5,-294 395.5,-294 395.5,-300 389.5,-306 383.5,-306\"/>\n<text text-anchor=\"middle\" x=\"294.5\" y=\"-290.8\" font-family=\"Helvetica,sans-Serif\" font-size=\"14.00\" fill=\"#000000\">culmen_depth_mm &lt;= 16.65</text>\n<text text-anchor=\"middle\" x=\"294.5\" y=\"-275.8\" font-family=\"Helvetica,sans-Serif\" font-size=\"14.00\" fill=\"#000000\">gini = 0.018</text>\n<text text-anchor=\"middle\" x=\"294.5\" y=\"-260.8\" font-family=\"Helvetica,sans-Serif\" font-size=\"14.00\" fill=\"#000000\">samples = 111</text>\n<text text-anchor=\"middle\" x=\"294.5\" y=\"-245.8\" font-family=\"Helvetica,sans-Serif\" font-size=\"14.00\" fill=\"#000000\">value = [110, 1, 0]</text>\n<text text-anchor=\"middle\" x=\"294.5\" y=\"-230.8\" font-family=\"Helvetica,sans-Serif\" font-size=\"14.00\" fill=\"#000000\">class = Adelie</text>\n</g>\n<!-- 2&#45;&gt;3 -->\n<g id=\"edge3\" class=\"edge\">\n<title>2&#45;&gt;3</title>\n<path fill=\"none\" stroke=\"#000000\" d=\"M423.2492,-341.8796C406.8203,-332.0056 389.1864,-321.4075 372.4011,-311.3193\"/>\n<polygon fill=\"#000000\" stroke=\"#000000\" points=\"374.0858,-308.2484 363.7117,-306.0969 370.4798,-314.2482 374.0858,-308.2484\"/>\n</g>\n<!-- 8 -->\n<g id=\"node9\" class=\"node\">\n<title>8</title>\n<path fill=\"#f2c09c\" stroke=\"#000000\" d=\"M575,-306C575,-306 426,-306 426,-306 420,-306 414,-300 414,-294 414,-294 414,-235 414,-235 414,-229 420,-223 426,-223 426,-223 575,-223 575,-223 581,-223 587,-229 587,-235 587,-235 587,-294 587,-294 587,-300 581,-306 575,-306\"/>\n<text text-anchor=\"middle\" x=\"500.5\" y=\"-290.8\" font-family=\"Helvetica,sans-Serif\" font-size=\"14.00\" fill=\"#000000\">island_Torgersen &lt;= 0.5</text>\n<text text-anchor=\"middle\" x=\"500.5\" y=\"-275.8\" font-family=\"Helvetica,sans-Serif\" font-size=\"14.00\" fill=\"#000000\">gini = 0.444</text>\n<text text-anchor=\"middle\" x=\"500.5\" y=\"-260.8\" font-family=\"Helvetica,sans-Serif\" font-size=\"14.00\" fill=\"#000000\">samples = 6</text>\n<text text-anchor=\"middle\" x=\"500.5\" y=\"-245.8\" font-family=\"Helvetica,sans-Serif\" font-size=\"14.00\" fill=\"#000000\">value = [4, 2, 0]</text>\n<text text-anchor=\"middle\" x=\"500.5\" y=\"-230.8\" font-family=\"Helvetica,sans-Serif\" font-size=\"14.00\" fill=\"#000000\">class = Adelie</text>\n</g>\n<!-- 2&#45;&gt;8 -->\n<g id=\"edge8\" class=\"edge\">\n<title>2&#45;&gt;8</title>\n<path fill=\"none\" stroke=\"#000000\" d=\"M495.298,-341.8796C495.849,-333.6838 496.4335,-324.9891 497.0041,-316.5013\"/>\n<polygon fill=\"#000000\" stroke=\"#000000\" points=\"500.5113,-316.5103 497.69,-306.2981 493.5271,-316.0408 500.5113,-316.5103\"/>\n</g>\n<!-- 4 -->\n<g id=\"node5\" class=\"node\">\n<title>4</title>\n<path fill=\"#e89152\" stroke=\"#000000\" d=\"M214,-187C214,-187 33,-187 33,-187 27,-187 21,-181 21,-175 21,-175 21,-116 21,-116 21,-110 27,-104 33,-104 33,-104 214,-104 214,-104 220,-104 226,-110 226,-116 226,-116 226,-175 226,-175 226,-181 220,-187 214,-187\"/>\n<text text-anchor=\"middle\" x=\"123.5\" y=\"-171.8\" font-family=\"Helvetica,sans-Serif\" font-size=\"14.00\" fill=\"#000000\">culmen_length_mm &lt;= 36.75</text>\n<text text-anchor=\"middle\" x=\"123.5\" y=\"-156.8\" font-family=\"Helvetica,sans-Serif\" font-size=\"14.00\" fill=\"#000000\">gini = 0.198</text>\n<text text-anchor=\"middle\" x=\"123.5\" y=\"-141.8\" font-family=\"Helvetica,sans-Serif\" font-size=\"14.00\" fill=\"#000000\">samples = 9</text>\n<text text-anchor=\"middle\" x=\"123.5\" y=\"-126.8\" font-family=\"Helvetica,sans-Serif\" font-size=\"14.00\" fill=\"#000000\">value = [8, 1, 0]</text>\n<text text-anchor=\"middle\" x=\"123.5\" y=\"-111.8\" font-family=\"Helvetica,sans-Serif\" font-size=\"14.00\" fill=\"#000000\">class = Adelie</text>\n</g>\n<!-- 3&#45;&gt;4 -->\n<g id=\"edge4\" class=\"edge\">\n<title>3&#45;&gt;4</title>\n<path fill=\"none\" stroke=\"#000000\" d=\"M234.6925,-222.8796C220.7642,-213.1868 205.8331,-202.7961 191.5769,-192.8752\"/>\n<polygon fill=\"#000000\" stroke=\"#000000\" points=\"193.4811,-189.9362 183.2737,-187.0969 189.4826,-195.6819 193.4811,-189.9362\"/>\n</g>\n<!-- 7 -->\n<g id=\"node8\" class=\"node\">\n<title>7</title>\n<path fill=\"#e58139\" stroke=\"#000000\" d=\"M363,-179.5C363,-179.5 256,-179.5 256,-179.5 250,-179.5 244,-173.5 244,-167.5 244,-167.5 244,-123.5 244,-123.5 244,-117.5 250,-111.5 256,-111.5 256,-111.5 363,-111.5 363,-111.5 369,-111.5 375,-117.5 375,-123.5 375,-123.5 375,-167.5 375,-167.5 375,-173.5 369,-179.5 363,-179.5\"/>\n<text text-anchor=\"middle\" x=\"309.5\" y=\"-164.3\" font-family=\"Helvetica,sans-Serif\" font-size=\"14.00\" fill=\"#000000\">gini = 0.0</text>\n<text text-anchor=\"middle\" x=\"309.5\" y=\"-149.3\" font-family=\"Helvetica,sans-Serif\" font-size=\"14.00\" fill=\"#000000\">samples = 102</text>\n<text text-anchor=\"middle\" x=\"309.5\" y=\"-134.3\" font-family=\"Helvetica,sans-Serif\" font-size=\"14.00\" fill=\"#000000\">value = [102, 0, 0]</text>\n<text text-anchor=\"middle\" x=\"309.5\" y=\"-119.3\" font-family=\"Helvetica,sans-Serif\" font-size=\"14.00\" fill=\"#000000\">class = Adelie</text>\n</g>\n<!-- 3&#45;&gt;7 -->\n<g id=\"edge7\" class=\"edge\">\n<title>3&#45;&gt;7</title>\n<path fill=\"none\" stroke=\"#000000\" d=\"M299.7463,-222.8796C301.0908,-212.2134 302.5418,-200.7021 303.9032,-189.9015\"/>\n<polygon fill=\"#000000\" stroke=\"#000000\" points=\"307.3964,-190.1742 305.1746,-179.8149 300.4514,-189.2987 307.3964,-190.1742\"/>\n</g>\n<!-- 5 -->\n<g id=\"node6\" class=\"node\">\n<title>5</title>\n<path fill=\"#e58139\" stroke=\"#000000\" d=\"M103,-68C103,-68 12,-68 12,-68 6,-68 0,-62 0,-56 0,-56 0,-12 0,-12 0,-6 6,0 12,0 12,0 103,0 103,0 109,0 115,-6 115,-12 115,-12 115,-56 115,-56 115,-62 109,-68 103,-68\"/>\n<text text-anchor=\"middle\" x=\"57.5\" y=\"-52.8\" font-family=\"Helvetica,sans-Serif\" font-size=\"14.00\" fill=\"#000000\">gini = 0.0</text>\n<text text-anchor=\"middle\" x=\"57.5\" y=\"-37.8\" font-family=\"Helvetica,sans-Serif\" font-size=\"14.00\" fill=\"#000000\">samples = 6</text>\n<text text-anchor=\"middle\" x=\"57.5\" y=\"-22.8\" font-family=\"Helvetica,sans-Serif\" font-size=\"14.00\" fill=\"#000000\">value = [6, 0, 0]</text>\n<text text-anchor=\"middle\" x=\"57.5\" y=\"-7.8\" font-family=\"Helvetica,sans-Serif\" font-size=\"14.00\" fill=\"#000000\">class = Adelie</text>\n</g>\n<!-- 4&#45;&gt;5 -->\n<g id=\"edge5\" class=\"edge\">\n<title>4&#45;&gt;5</title>\n<path fill=\"none\" stroke=\"#000000\" d=\"M98.924,-103.9815C93.7014,-95.1585 88.1771,-85.8258 82.9237,-76.9506\"/>\n<polygon fill=\"#000000\" stroke=\"#000000\" points=\"85.8874,-75.0863 77.7816,-68.2637 79.8636,-78.652 85.8874,-75.0863\"/>\n</g>\n<!-- 6 -->\n<g id=\"node7\" class=\"node\">\n<title>6</title>\n<path fill=\"#f2c09c\" stroke=\"#000000\" d=\"M236,-68C236,-68 145,-68 145,-68 139,-68 133,-62 133,-56 133,-56 133,-12 133,-12 133,-6 139,0 145,0 145,0 236,0 236,0 242,0 248,-6 248,-12 248,-12 248,-56 248,-56 248,-62 242,-68 236,-68\"/>\n<text text-anchor=\"middle\" x=\"190.5\" y=\"-52.8\" font-family=\"Helvetica,sans-Serif\" font-size=\"14.00\" fill=\"#000000\">gini = 0.444</text>\n<text text-anchor=\"middle\" x=\"190.5\" y=\"-37.8\" font-family=\"Helvetica,sans-Serif\" font-size=\"14.00\" fill=\"#000000\">samples = 3</text>\n<text text-anchor=\"middle\" x=\"190.5\" y=\"-22.8\" font-family=\"Helvetica,sans-Serif\" font-size=\"14.00\" fill=\"#000000\">value = [2, 1, 0]</text>\n<text text-anchor=\"middle\" x=\"190.5\" y=\"-7.8\" font-family=\"Helvetica,sans-Serif\" font-size=\"14.00\" fill=\"#000000\">class = Adelie</text>\n</g>\n<!-- 4&#45;&gt;6 -->\n<g id=\"edge6\" class=\"edge\">\n<title>4&#45;&gt;6</title>\n<path fill=\"none\" stroke=\"#000000\" d=\"M148.4483,-103.9815C153.7501,-95.1585 159.3581,-85.8258 164.6911,-76.9506\"/>\n<polygon fill=\"#000000\" stroke=\"#000000\" points=\"167.7605,-78.638 169.9111,-68.2637 161.7604,-75.0325 167.7605,-78.638\"/>\n</g>\n<!-- 9 -->\n<g id=\"node10\" class=\"node\">\n<title>9</title>\n<path fill=\"#9cf2c0\" stroke=\"#000000\" d=\"M538.5,-179.5C538.5,-179.5 434.5,-179.5 434.5,-179.5 428.5,-179.5 422.5,-173.5 422.5,-167.5 422.5,-167.5 422.5,-123.5 422.5,-123.5 422.5,-117.5 428.5,-111.5 434.5,-111.5 434.5,-111.5 538.5,-111.5 538.5,-111.5 544.5,-111.5 550.5,-117.5 550.5,-123.5 550.5,-123.5 550.5,-167.5 550.5,-167.5 550.5,-173.5 544.5,-179.5 538.5,-179.5\"/>\n<text text-anchor=\"middle\" x=\"486.5\" y=\"-164.3\" font-family=\"Helvetica,sans-Serif\" font-size=\"14.00\" fill=\"#000000\">gini = 0.444</text>\n<text text-anchor=\"middle\" x=\"486.5\" y=\"-149.3\" font-family=\"Helvetica,sans-Serif\" font-size=\"14.00\" fill=\"#000000\">samples = 3</text>\n<text text-anchor=\"middle\" x=\"486.5\" y=\"-134.3\" font-family=\"Helvetica,sans-Serif\" font-size=\"14.00\" fill=\"#000000\">value = [1, 2, 0]</text>\n<text text-anchor=\"middle\" x=\"486.5\" y=\"-119.3\" font-family=\"Helvetica,sans-Serif\" font-size=\"14.00\" fill=\"#000000\">class = Chinstrap</text>\n</g>\n<!-- 8&#45;&gt;9 -->\n<g id=\"edge9\" class=\"edge\">\n<title>8&#45;&gt;9</title>\n<path fill=\"none\" stroke=\"#000000\" d=\"M495.6035,-222.8796C494.3486,-212.2134 492.9944,-200.7021 491.7237,-189.9015\"/>\n<polygon fill=\"#000000\" stroke=\"#000000\" points=\"495.1816,-189.3375 490.5371,-179.8149 488.2295,-190.1554 495.1816,-189.3375\"/>\n</g>\n<!-- 10 -->\n<g id=\"node11\" class=\"node\">\n<title>10</title>\n<path fill=\"#e58139\" stroke=\"#000000\" d=\"M672,-179.5C672,-179.5 581,-179.5 581,-179.5 575,-179.5 569,-173.5 569,-167.5 569,-167.5 569,-123.5 569,-123.5 569,-117.5 575,-111.5 581,-111.5 581,-111.5 672,-111.5 672,-111.5 678,-111.5 684,-117.5 684,-123.5 684,-123.5 684,-167.5 684,-167.5 684,-173.5 678,-179.5 672,-179.5\"/>\n<text text-anchor=\"middle\" x=\"626.5\" y=\"-164.3\" font-family=\"Helvetica,sans-Serif\" font-size=\"14.00\" fill=\"#000000\">gini = 0.0</text>\n<text text-anchor=\"middle\" x=\"626.5\" y=\"-149.3\" font-family=\"Helvetica,sans-Serif\" font-size=\"14.00\" fill=\"#000000\">samples = 3</text>\n<text text-anchor=\"middle\" x=\"626.5\" y=\"-134.3\" font-family=\"Helvetica,sans-Serif\" font-size=\"14.00\" fill=\"#000000\">value = [3, 0, 0]</text>\n<text text-anchor=\"middle\" x=\"626.5\" y=\"-119.3\" font-family=\"Helvetica,sans-Serif\" font-size=\"14.00\" fill=\"#000000\">class = Adelie</text>\n</g>\n<!-- 8&#45;&gt;10 -->\n<g id=\"edge10\" class=\"edge\">\n<title>8&#45;&gt;10</title>\n<path fill=\"none\" stroke=\"#000000\" d=\"M544.5687,-222.8796C556.9102,-211.2237 570.3202,-198.5587 582.649,-186.9148\"/>\n<polygon fill=\"#000000\" stroke=\"#000000\" points=\"585.2996,-189.2258 590.1665,-179.8149 580.4932,-184.1366 585.2996,-189.2258\"/>\n</g>\n<!-- 12 -->\n<g id=\"node13\" class=\"node\">\n<title>12</title>\n<path fill=\"#f2c09c\" stroke=\"#000000\" d=\"M723,-298.5C723,-298.5 632,-298.5 632,-298.5 626,-298.5 620,-292.5 620,-286.5 620,-286.5 620,-242.5 620,-242.5 620,-236.5 626,-230.5 632,-230.5 632,-230.5 723,-230.5 723,-230.5 729,-230.5 735,-236.5 735,-242.5 735,-242.5 735,-286.5 735,-286.5 735,-292.5 729,-298.5 723,-298.5\"/>\n<text text-anchor=\"middle\" x=\"677.5\" y=\"-283.3\" font-family=\"Helvetica,sans-Serif\" font-size=\"14.00\" fill=\"#000000\">gini = 0.444</text>\n<text text-anchor=\"middle\" x=\"677.5\" y=\"-268.3\" font-family=\"Helvetica,sans-Serif\" font-size=\"14.00\" fill=\"#000000\">samples = 3</text>\n<text text-anchor=\"middle\" x=\"677.5\" y=\"-253.3\" font-family=\"Helvetica,sans-Serif\" font-size=\"14.00\" fill=\"#000000\">value = [2, 0, 1]</text>\n<text text-anchor=\"middle\" x=\"677.5\" y=\"-238.3\" font-family=\"Helvetica,sans-Serif\" font-size=\"14.00\" fill=\"#000000\">class = Adelie</text>\n</g>\n<!-- 11&#45;&gt;12 -->\n<g id=\"edge12\" class=\"edge\">\n<title>11&#45;&gt;12</title>\n<path fill=\"none\" stroke=\"#000000\" d=\"M682.0517,-341.8796C681.4243,-331.2134 680.7472,-319.7021 680.1119,-308.9015\"/>\n<polygon fill=\"#000000\" stroke=\"#000000\" points=\"683.5998,-308.5921 679.5185,-298.8149 676.6119,-309.0032 683.5998,-308.5921\"/>\n</g>\n<!-- 13 -->\n<g id=\"node14\" class=\"node\">\n<title>13</title>\n<path fill=\"#42e687\" stroke=\"#000000\" d=\"M946,-306C946,-306 765,-306 765,-306 759,-306 753,-300 753,-294 753,-294 753,-235 753,-235 753,-229 759,-223 765,-223 765,-223 946,-223 946,-223 952,-223 958,-229 958,-235 958,-235 958,-294 958,-294 958,-300 952,-306 946,-306\"/>\n<text text-anchor=\"middle\" x=\"855.5\" y=\"-290.8\" font-family=\"Helvetica,sans-Serif\" font-size=\"14.00\" fill=\"#000000\">culmen_length_mm &lt;= 44.75</text>\n<text text-anchor=\"middle\" x=\"855.5\" y=\"-275.8\" font-family=\"Helvetica,sans-Serif\" font-size=\"14.00\" fill=\"#000000\">gini = 0.083</text>\n<text text-anchor=\"middle\" x=\"855.5\" y=\"-260.8\" font-family=\"Helvetica,sans-Serif\" font-size=\"14.00\" fill=\"#000000\">samples = 46</text>\n<text text-anchor=\"middle\" x=\"855.5\" y=\"-245.8\" font-family=\"Helvetica,sans-Serif\" font-size=\"14.00\" fill=\"#000000\">value = [2, 44, 0]</text>\n<text text-anchor=\"middle\" x=\"855.5\" y=\"-230.8\" font-family=\"Helvetica,sans-Serif\" font-size=\"14.00\" fill=\"#000000\">class = Chinstrap</text>\n</g>\n<!-- 11&#45;&gt;13 -->\n<g id=\"edge13\" class=\"edge\">\n<title>11&#45;&gt;13</title>\n<path fill=\"none\" stroke=\"#000000\" d=\"M744.3075,-341.8796C758.2358,-332.1868 773.1669,-321.7961 787.4231,-311.8752\"/>\n<polygon fill=\"#000000\" stroke=\"#000000\" points=\"789.5174,-314.6819 795.7263,-306.0969 785.5189,-308.9362 789.5174,-314.6819\"/>\n</g>\n<!-- 14 -->\n<g id=\"node15\" class=\"node\">\n<title>14</title>\n<path fill=\"#ffffff\" stroke=\"#000000\" d=\"M853,-179.5C853,-179.5 762,-179.5 762,-179.5 756,-179.5 750,-173.5 750,-167.5 750,-167.5 750,-123.5 750,-123.5 750,-117.5 756,-111.5 762,-111.5 762,-111.5 853,-111.5 853,-111.5 859,-111.5 865,-117.5 865,-123.5 865,-123.5 865,-167.5 865,-167.5 865,-173.5 859,-179.5 853,-179.5\"/>\n<text text-anchor=\"middle\" x=\"807.5\" y=\"-164.3\" font-family=\"Helvetica,sans-Serif\" font-size=\"14.00\" fill=\"#000000\">gini = 0.5</text>\n<text text-anchor=\"middle\" x=\"807.5\" y=\"-149.3\" font-family=\"Helvetica,sans-Serif\" font-size=\"14.00\" fill=\"#000000\">samples = 4</text>\n<text text-anchor=\"middle\" x=\"807.5\" y=\"-134.3\" font-family=\"Helvetica,sans-Serif\" font-size=\"14.00\" fill=\"#000000\">value = [2, 2, 0]</text>\n<text text-anchor=\"middle\" x=\"807.5\" y=\"-119.3\" font-family=\"Helvetica,sans-Serif\" font-size=\"14.00\" fill=\"#000000\">class = Adelie</text>\n</g>\n<!-- 13&#45;&gt;14 -->\n<g id=\"edge14\" class=\"edge\">\n<title>13&#45;&gt;14</title>\n<path fill=\"none\" stroke=\"#000000\" d=\"M838.7119,-222.8796C834.3209,-211.9935 829.5748,-200.227 825.1408,-189.2344\"/>\n<polygon fill=\"#000000\" stroke=\"#000000\" points=\"828.328,-187.7796 821.3413,-179.8149 821.8362,-190.3982 828.328,-187.7796\"/>\n</g>\n<!-- 15 -->\n<g id=\"node16\" class=\"node\">\n<title>15</title>\n<path fill=\"#39e581\" stroke=\"#000000\" d=\"M999.5,-179.5C999.5,-179.5 895.5,-179.5 895.5,-179.5 889.5,-179.5 883.5,-173.5 883.5,-167.5 883.5,-167.5 883.5,-123.5 883.5,-123.5 883.5,-117.5 889.5,-111.5 895.5,-111.5 895.5,-111.5 999.5,-111.5 999.5,-111.5 1005.5,-111.5 1011.5,-117.5 1011.5,-123.5 1011.5,-123.5 1011.5,-167.5 1011.5,-167.5 1011.5,-173.5 1005.5,-179.5 999.5,-179.5\"/>\n<text text-anchor=\"middle\" x=\"947.5\" y=\"-164.3\" font-family=\"Helvetica,sans-Serif\" font-size=\"14.00\" fill=\"#000000\">gini = 0.0</text>\n<text text-anchor=\"middle\" x=\"947.5\" y=\"-149.3\" font-family=\"Helvetica,sans-Serif\" font-size=\"14.00\" fill=\"#000000\">samples = 42</text>\n<text text-anchor=\"middle\" x=\"947.5\" y=\"-134.3\" font-family=\"Helvetica,sans-Serif\" font-size=\"14.00\" fill=\"#000000\">value = [0, 42, 0]</text>\n<text text-anchor=\"middle\" x=\"947.5\" y=\"-119.3\" font-family=\"Helvetica,sans-Serif\" font-size=\"14.00\" fill=\"#000000\">class = Chinstrap</text>\n</g>\n<!-- 13&#45;&gt;15 -->\n<g id=\"edge15\" class=\"edge\">\n<title>13&#45;&gt;15</title>\n<path fill=\"none\" stroke=\"#000000\" d=\"M887.6771,-222.8796C896.4333,-211.5536 905.9262,-199.2748 914.7156,-187.9058\"/>\n<polygon fill=\"#000000\" stroke=\"#000000\" points=\"917.6234,-189.8671 920.9708,-179.8149 912.0854,-185.5856 917.6234,-189.8671\"/>\n</g>\n<!-- 17 -->\n<g id=\"node18\" class=\"node\">\n<title>17</title>\n<path fill=\"#8139e5\" stroke=\"#000000\" d=\"M935,-417.5C935,-417.5 828,-417.5 828,-417.5 822,-417.5 816,-411.5 816,-405.5 816,-405.5 816,-361.5 816,-361.5 816,-355.5 822,-349.5 828,-349.5 828,-349.5 935,-349.5 935,-349.5 941,-349.5 947,-355.5 947,-361.5 947,-361.5 947,-405.5 947,-405.5 947,-411.5 941,-417.5 935,-417.5\"/>\n<text text-anchor=\"middle\" x=\"881.5\" y=\"-402.3\" font-family=\"Helvetica,sans-Serif\" font-size=\"14.00\" fill=\"#000000\">gini = 0.0</text>\n<text text-anchor=\"middle\" x=\"881.5\" y=\"-387.3\" font-family=\"Helvetica,sans-Serif\" font-size=\"14.00\" fill=\"#000000\">samples = 102</text>\n<text text-anchor=\"middle\" x=\"881.5\" y=\"-372.3\" font-family=\"Helvetica,sans-Serif\" font-size=\"14.00\" fill=\"#000000\">value = [0, 0, 102]</text>\n<text text-anchor=\"middle\" x=\"881.5\" y=\"-357.3\" font-family=\"Helvetica,sans-Serif\" font-size=\"14.00\" fill=\"#000000\">class = Gentoo</text>\n</g>\n<!-- 16&#45;&gt;17 -->\n<g id=\"edge17\" class=\"edge\">\n<title>16&#45;&gt;17</title>\n<path fill=\"none\" stroke=\"#000000\" d=\"M891.904,-460.8796C890.4699,-450.2134 888.9221,-438.7021 887.47,-427.9015\"/>\n<polygon fill=\"#000000\" stroke=\"#000000\" points=\"890.9152,-427.2593 886.1138,-417.8149 883.9776,-428.1922 890.9152,-427.2593\"/>\n</g>\n<!-- 18 -->\n<g id=\"node19\" class=\"node\">\n<title>18</title>\n<path fill=\"#88efb3\" stroke=\"#000000\" d=\"M1155.5,-425C1155.5,-425 977.5,-425 977.5,-425 971.5,-425 965.5,-419 965.5,-413 965.5,-413 965.5,-354 965.5,-354 965.5,-348 971.5,-342 977.5,-342 977.5,-342 1155.5,-342 1155.5,-342 1161.5,-342 1167.5,-348 1167.5,-354 1167.5,-354 1167.5,-413 1167.5,-413 1167.5,-419 1161.5,-425 1155.5,-425\"/>\n<text text-anchor=\"middle\" x=\"1066.5\" y=\"-409.8\" font-family=\"Helvetica,sans-Serif\" font-size=\"14.00\" fill=\"#000000\">culmen_depth_mm &lt;= 19.25</text>\n<text text-anchor=\"middle\" x=\"1066.5\" y=\"-394.8\" font-family=\"Helvetica,sans-Serif\" font-size=\"14.00\" fill=\"#000000\">gini = 0.408</text>\n<text text-anchor=\"middle\" x=\"1066.5\" y=\"-379.8\" font-family=\"Helvetica,sans-Serif\" font-size=\"14.00\" fill=\"#000000\">samples = 7</text>\n<text text-anchor=\"middle\" x=\"1066.5\" y=\"-364.8\" font-family=\"Helvetica,sans-Serif\" font-size=\"14.00\" fill=\"#000000\">value = [2, 5, 0]</text>\n<text text-anchor=\"middle\" x=\"1066.5\" y=\"-349.8\" font-family=\"Helvetica,sans-Serif\" font-size=\"14.00\" fill=\"#000000\">class = Chinstrap</text>\n</g>\n<!-- 16&#45;&gt;18 -->\n<g id=\"edge18\" class=\"edge\">\n<title>16&#45;&gt;18</title>\n<path fill=\"none\" stroke=\"#000000\" d=\"M956.608,-460.8796C970.3734,-451.1868 985.1299,-440.7961 999.2193,-430.8752\"/>\n<polygon fill=\"#000000\" stroke=\"#000000\" points=\"1001.2641,-433.716 1007.4254,-425.0969 997.2339,-427.9926 1001.2641,-433.716\"/>\n</g>\n<!-- 19 -->\n<g id=\"node20\" class=\"node\">\n<title>19</title>\n<path fill=\"#f2c09c\" stroke=\"#000000\" d=\"M1104,-298.5C1104,-298.5 1013,-298.5 1013,-298.5 1007,-298.5 1001,-292.5 1001,-286.5 1001,-286.5 1001,-242.5 1001,-242.5 1001,-236.5 1007,-230.5 1013,-230.5 1013,-230.5 1104,-230.5 1104,-230.5 1110,-230.5 1116,-236.5 1116,-242.5 1116,-242.5 1116,-286.5 1116,-286.5 1116,-292.5 1110,-298.5 1104,-298.5\"/>\n<text text-anchor=\"middle\" x=\"1058.5\" y=\"-283.3\" font-family=\"Helvetica,sans-Serif\" font-size=\"14.00\" fill=\"#000000\">gini = 0.444</text>\n<text text-anchor=\"middle\" x=\"1058.5\" y=\"-268.3\" font-family=\"Helvetica,sans-Serif\" font-size=\"14.00\" fill=\"#000000\">samples = 3</text>\n<text text-anchor=\"middle\" x=\"1058.5\" y=\"-253.3\" font-family=\"Helvetica,sans-Serif\" font-size=\"14.00\" fill=\"#000000\">value = [2, 1, 0]</text>\n<text text-anchor=\"middle\" x=\"1058.5\" y=\"-238.3\" font-family=\"Helvetica,sans-Serif\" font-size=\"14.00\" fill=\"#000000\">class = Adelie</text>\n</g>\n<!-- 18&#45;&gt;19 -->\n<g id=\"edge19\" class=\"edge\">\n<title>18&#45;&gt;19</title>\n<path fill=\"none\" stroke=\"#000000\" d=\"M1063.702,-341.8796C1062.9849,-331.2134 1062.2111,-319.7021 1061.485,-308.9015\"/>\n<polygon fill=\"#000000\" stroke=\"#000000\" points=\"1064.9699,-308.5576 1060.8069,-298.8149 1057.9856,-309.0272 1064.9699,-308.5576\"/>\n</g>\n<!-- 20 -->\n<g id=\"node21\" class=\"node\">\n<title>20</title>\n<path fill=\"#39e581\" stroke=\"#000000\" d=\"M1250.5,-298.5C1250.5,-298.5 1146.5,-298.5 1146.5,-298.5 1140.5,-298.5 1134.5,-292.5 1134.5,-286.5 1134.5,-286.5 1134.5,-242.5 1134.5,-242.5 1134.5,-236.5 1140.5,-230.5 1146.5,-230.5 1146.5,-230.5 1250.5,-230.5 1250.5,-230.5 1256.5,-230.5 1262.5,-236.5 1262.5,-242.5 1262.5,-242.5 1262.5,-286.5 1262.5,-286.5 1262.5,-292.5 1256.5,-298.5 1250.5,-298.5\"/>\n<text text-anchor=\"middle\" x=\"1198.5\" y=\"-283.3\" font-family=\"Helvetica,sans-Serif\" font-size=\"14.00\" fill=\"#000000\">gini = 0.0</text>\n<text text-anchor=\"middle\" x=\"1198.5\" y=\"-268.3\" font-family=\"Helvetica,sans-Serif\" font-size=\"14.00\" fill=\"#000000\">samples = 4</text>\n<text text-anchor=\"middle\" x=\"1198.5\" y=\"-253.3\" font-family=\"Helvetica,sans-Serif\" font-size=\"14.00\" fill=\"#000000\">value = [0, 4, 0]</text>\n<text text-anchor=\"middle\" x=\"1198.5\" y=\"-238.3\" font-family=\"Helvetica,sans-Serif\" font-size=\"14.00\" fill=\"#000000\">class = Chinstrap</text>\n</g>\n<!-- 18&#45;&gt;20 -->\n<g id=\"edge20\" class=\"edge\">\n<title>18&#45;&gt;20</title>\n<path fill=\"none\" stroke=\"#000000\" d=\"M1112.6672,-341.8796C1125.7183,-330.1138 1139.9101,-317.3197 1152.9261,-305.5855\"/>\n<polygon fill=\"#000000\" stroke=\"#000000\" points=\"1155.3526,-308.1104 1160.4364,-298.8149 1150.6654,-302.9113 1155.3526,-308.1104\"/>\n</g>\n</g>\n</svg>\n"
          },
          "metadata": {},
          "execution_count": 65
        }
      ]
    },
    {
      "cell_type": "markdown",
      "source": [
        "##**5. Comparativa de modelos**"
      ],
      "metadata": {
        "id": "x953VHnO8JXh"
      }
    },
    {
      "cell_type": "markdown",
      "source": [
        "La comparativa entre los árboles de decisión:"
      ],
      "metadata": {
        "id": "ugRhYiKi94PQ"
      }
    },
    {
      "cell_type": "markdown",
      "source": [
        "![Imagen1.png](data:image/png;base64,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)"
      ],
      "metadata": {
        "id": "hgCoz6vZ8QuK"
      }
    },
    {
      "cell_type": "markdown",
      "source": [
        "La comparativa con los modelos empleados en el sprint 1:"
      ],
      "metadata": {
        "id": "XsUCct8d9lOc"
      }
    },
    {
      "cell_type": "markdown",
      "source": [
        "![Imagen1.png](data:image/png;base64,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)"
      ],
      "metadata": {
        "id": "hQMrdATn9_jo"
      }
    },
    {
      "cell_type": "markdown",
      "source": [
        "Los mejores resultados se tienen para la regresión softmax y el clasificador de vectores de soporte lineal. Es decir, se tienen una clases que son linealmente o \"cuasi\" linealmente separables, por lo que los modelos que suponen esta estructura en los datos tienen un gran desempeño. El árbol de decisión no presupone ningún tipo de estructura, lo que hace más difícil la predicción en estos casos."
      ],
      "metadata": {
        "id": "qQnd9YSx_fo8"
      }
    },
    {
      "cell_type": "markdown",
      "source": [
        "#**Sprint 3**"
      ],
      "metadata": {
        "id": "8JYeiqgIfX-3"
      }
    },
    {
      "cell_type": "markdown",
      "source": [
        "**ENTRENAMIENTO Y EVALUACIÓN DE DOS TIPOS DE ENSEMBLES BAJO DIFERENTES CONFIGURACIONES DE HIPERPARÁMETROS**"
      ],
      "metadata": {
        "id": "cJ9y0T0mqeqx"
      }
    },
    {
      "cell_type": "markdown",
      "source": [
        "Recalco que para cada uno de los modelos se preparó un bucle de 100 iteraciones, para entrenarlos y evaluar su score 100 veces, dando como resultado final la media de estas 100 puntuaciones. Se hizo esto puesto que los resultados del modelo presentan cierta variación para cada entrenamiento. "
      ],
      "metadata": {
        "id": "W4gVUBcbrBRe"
      }
    },
    {
      "cell_type": "markdown",
      "source": [
        "##**Entrenando y evaluando un BaggingClassifier**"
      ],
      "metadata": {
        "id": "aFfBtjhKrHe2"
      }
    },
    {
      "cell_type": "markdown",
      "source": [
        "Como algoritmo base para el ensemble se emplea un DecisionTreeClassifier con min_samples_split=5 como único parámetro regularizador. Se entrenan cuatro ensembles variando ligeramente sus hiperparámetros, y se presenta el score, y el tiempo que tardan en entrenarse 100 veces. "
      ],
      "metadata": {
        "id": "slanMaEFrToI"
      }
    },
    {
      "cell_type": "code",
      "source": [
        "from sklearn.ensemble import BaggingClassifier\n",
        "from sklearn.tree import DecisionTreeClassifier\n",
        "import numpy as np\n",
        "import time \n",
        "bag_clf = BaggingClassifier(DecisionTreeClassifier(min_samples_split=5))\n",
        "bag_score = []\n",
        "bag_score_train = []\n",
        "time0 = time.time()\n",
        "for i in range(100):\n",
        "  bag_clf.fit(X_train_prepared,y_train_tree)\n",
        "  bag_score.append(bag_clf.score(X_test_prepared,y_test_tree))\n",
        "  bag_score_train.append(bag_clf.score(X_train_prepared,y_train_tree))\n",
        "time1 = time.time()\n",
        "print(\"La precisión del ensemble en el conjunto de test:\", np.mean(bag_score))\n",
        "print(\"La precisión del ensemble en el conjunto de train:\", np.mean(bag_score_train))\n",
        "print(\"El tiempo de ejecución:\", time1-time0)"
      ],
      "metadata": {
        "colab": {
          "base_uri": "https://localhost:8080/"
        },
        "id": "31WOLytxF0jk",
        "outputId": "8ca6e7a1-9f4a-4da0-a366-6c0d5343f8bb"
      },
      "execution_count": null,
      "outputs": [
        {
          "output_type": "stream",
          "name": "stdout",
          "text": [
            "La precisión del ensemble en el conjunto de test: 0.9805797101449278\n",
            "La precisión del ensemble en el conjunto de train: 0.9934909090909091\n",
            "El tiempo de ejecución: 5.620558500289917\n"
          ]
        }
      ]
    },
    {
      "cell_type": "markdown",
      "source": [
        "\"Sampleando\" las instancias del conjunto de entrenamiento y aumentando el número de estimadores:"
      ],
      "metadata": {
        "id": "jQh5zF_GqzkT"
      }
    },
    {
      "cell_type": "code",
      "source": [
        "bag_clf = BaggingClassifier(DecisionTreeClassifier(min_samples_split=5),n_estimators=200, max_samples=250, bootstrap=True, n_jobs=-1)\n",
        "bag_score = []\n",
        "bag_score_train = []\n",
        "##!!Analizar también el tiempo de ejecución!!\n",
        "time0 = time.time()\n",
        "for i in range(100):\n",
        "  bag_clf.fit(X_train_prepared, y_train_tree)\n",
        "  bag_score.append(bag_clf.score(X_test_prepared,y_test_tree))\n",
        "  bag_score_train.append(bag_clf.score(X_train_prepared,y_train_tree))\n",
        "time1 = time.time()\n",
        "print(\"La precisión del ensemble en el conjunto de test:\", np.mean(bag_score))\n",
        "print(\"La precisión del ensemble en el conjunto de test:\", np.mean(bag_score_train))\n",
        "print(\"El tiempo de ejecución:\", time1-time0)"
      ],
      "metadata": {
        "colab": {
          "base_uri": "https://localhost:8080/"
        },
        "id": "bXw1Oo4-gzb9",
        "outputId": "6fe800e5-c746-4704-8187-9d08753c0189"
      },
      "execution_count": null,
      "outputs": [
        {
          "output_type": "stream",
          "name": "stdout",
          "text": [
            "La precisión del ensemble en el conjunto de test: 0.99768115942029\n",
            "La precisión del ensemble en el conjunto de test: 0.9986545454545456\n",
            "El tiempo de ejecución: 96.64862179756165\n"
          ]
        }
      ]
    },
    {
      "cell_type": "markdown",
      "source": [
        "El considerable aumento del número de estimadores empleados en el ensemble se traduce en una mejora significativa del desempeño del modelo, así como en el tiempo de ejecución."
      ],
      "metadata": {
        "id": "Cqakjd_WtV9R"
      }
    },
    {
      "cell_type": "markdown",
      "source": [
        "\"Sampleando\" las características del conjunto de datos:"
      ],
      "metadata": {
        "id": "w9m_gIj4qo2E"
      }
    },
    {
      "cell_type": "code",
      "source": [
        "bag_clf = BaggingClassifier(DecisionTreeClassifier(min_samples_split=5),n_estimators=200, max_samples=250, bootstrap=True, n_jobs=-1, max_features=0.5)\n",
        "bag_score = []\n",
        "time0 = time.time()\n",
        "for i in range(100):\n",
        "  bag_clf.fit(X_train_prepared, y_train)\n",
        "  bag_score.append(bag_clf.score(X_test_prepared,y_test))\n",
        "time1 = time.time() \n",
        "print(\"La precisión del ensemble en el conjunto de test:\", np.mean(bag_score))\n",
        "print(\"El tiempo de ejecución:\", time1-time0)"
      ],
      "metadata": {
        "colab": {
          "base_uri": "https://localhost:8080/"
        },
        "id": "Bqtmkqw5rHUi",
        "outputId": "cad28cf4-0545-4528-fcf3-58ef919a78ea"
      },
      "execution_count": null,
      "outputs": [
        {
          "output_type": "stream",
          "name": "stdout",
          "text": [
            "La precisión del ensemble en el conjunto de test: 0.9991304347826088\n",
            "El tiempo de ejecución: 46.54896664619446\n"
          ]
        }
      ]
    },
    {
      "cell_type": "markdown",
      "source": [
        "Sorprendentemente, reduciendo el número de características empleadas en cada estimador se obtiene un resultado final incluso mejor que en el caso anterior."
      ],
      "metadata": {
        "id": "oXt9FEJduGz0"
      }
    },
    {
      "cell_type": "markdown",
      "source": [
        "Aumento importante del número de estimadores:"
      ],
      "metadata": {
        "id": "AoNVxNeTuKqn"
      }
    },
    {
      "cell_type": "code",
      "source": [
        "bag_clf = BaggingClassifier(DecisionTreeClassifier(min_samples_split=5),n_estimators=500, max_samples=250, bootstrap=True, n_jobs=-1)\n",
        "bag_score = []\n",
        "time0 = time.time()\n",
        "for i in range(100):\n",
        "  bag_clf.fit(X_train_prepared, y_train)\n",
        "  bag_score.append(bag_clf.score(X_test_prepared,y_test))\n",
        "time1 = time.time()\n",
        "print(\"La precisión del ensemble en el conjunto de test:\", np.mean(bag_score))\n",
        "print(\"El tiempo de ejecución:\", time1-time0)"
      ],
      "metadata": {
        "colab": {
          "base_uri": "https://localhost:8080/"
        },
        "id": "lk8vazFrpW_u",
        "outputId": "b22bf1d6-3367-43e4-f538-7756ca45049c"
      },
      "execution_count": null,
      "outputs": [
        {
          "output_type": "stream",
          "name": "stdout",
          "text": [
            "La precisión del ensemble en el conjunto de test: 0.9995652173913043\n",
            "El tiempo de ejecución: 116.05638885498047\n"
          ]
        }
      ]
    },
    {
      "cell_type": "markdown",
      "source": [
        "Aumentar el número de estimadores no logra un score de 1, y aumenta el tiempo de ejecución como cabría esperar."
      ],
      "metadata": {
        "id": "v4Daf78_uXuj"
      }
    },
    {
      "cell_type": "markdown",
      "source": [
        "##**Entrenando y evaluando un Adaboost Classifier**"
      ],
      "metadata": {
        "id": "oJ9gx1qJx14Z"
      }
    },
    {
      "cell_type": "markdown",
      "source": [
        "El desempeño de este ensemble es mucho mejor que el del anterior, obteniéndose una precisión de 1 con tan sólo 10 estimadores."
      ],
      "metadata": {
        "id": "J6Z64LTgycel"
      }
    },
    {
      "cell_type": "code",
      "source": [
        "from sklearn.ensemble import AdaBoostClassifier\n",
        "ada_clf = AdaBoostClassifier(DecisionTreeClassifier(min_samples_split=5), n_estimators=10, learning_rate=0.5)\n",
        "ada_score = []\n",
        "time0 = time.time()\n",
        "for i in range(100):\n",
        "  ada_clf.fit(X_train_prepared,y_train)\n",
        "  ada_score.append(ada_clf.score(X_test_prepared,y_test))\n",
        "time1 = time.time()\n",
        "print(\"La precisión del ensemble en el conjunto de test:\", np.mean(bag_score))\n",
        "print(\"El tiempo de ejecución:\", time1-time0)"
      ],
      "metadata": {
        "colab": {
          "base_uri": "https://localhost:8080/"
        },
        "id": "vJiLfW_4Ivks",
        "outputId": "92b50503-46d9-48dd-affe-31d791add711"
      },
      "execution_count": null,
      "outputs": [
        {
          "output_type": "stream",
          "name": "stdout",
          "text": [
            "La precisión del ensemble en el conjunto de test: 0.9995652173913043\n",
            "El tiempo de ejecución: 0.866804838180542\n"
          ]
        }
      ]
    },
    {
      "cell_type": "code",
      "source": [
        "from sklearn.ensemble import AdaBoostClassifier\n",
        "ada_clf = AdaBoostClassifier(DecisionTreeClassifier(min_samples_split=5), n_estimators=100, learning_rate=1)\n",
        "ada_score = []\n",
        "ada_score_train = []\n",
        "time0 = time.time()\n",
        "for i in range(100):\n",
        "  ada_clf.fit(X_train_prepared,y_train_tree)\n",
        "  ada_score.append(ada_clf.score(X_test_prepared,y_test_tree))\n",
        "  ada_score_train.append(ada_clf.score(X_train_prepared,y_train_tree))\n",
        "time1 = time.time()\n",
        "print(\"La precisión del ensemble en el conjunto de test:\", np.mean(bag_score))\n",
        "print(\"La precisión del ensemble en el conjunto de train:\", np.mean(bag_score_train))\n",
        "print(\"El tiempo de ejecución:\", time1-time0)"
      ],
      "metadata": {
        "colab": {
          "base_uri": "https://localhost:8080/"
        },
        "id": "-bJTFsvEKR6J",
        "outputId": "4fe6bd4c-2b92-46cc-a00f-f70164dc3bda"
      },
      "execution_count": null,
      "outputs": [
        {
          "output_type": "stream",
          "name": "stdout",
          "text": [
            "La precisión del ensemble en el conjunto de test: 0.99768115942029\n",
            "La precisión del ensemble en el conjunto de train: 0.9986545454545456\n",
            "El tiempo de ejecución: 1.2330124378204346\n"
          ]
        }
      ]
    },
    {
      "cell_type": "markdown",
      "source": [
        "Este ensemble es mucho más rápido que el otro. El aumento de estimadores apenas se refleja en el tiempo de ejecución.\n",
        "AdaBoostClassifier es claramente superior a BaggingClassifier para este dataset."
      ],
      "metadata": {
        "id": "1frsFFeQy3ab"
      }
    },
    {
      "cell_type": "markdown",
      "source": [
        "##**Parte Opcional: Exploración de las clases BaggingRegressor y RandomForestRegressor**"
      ],
      "metadata": {
        "id": "TawGOrwQy5i4"
      }
    },
    {
      "cell_type": "markdown",
      "source": [
        "###**Importación y tratamiento inicial de los datos de las startups**"
      ],
      "metadata": {
        "id": "jcU4MM92Ndmq"
      }
    },
    {
      "cell_type": "code",
      "source": [
        "! kaggle datasets download farhanmd29/50-startups\n",
        "! unzip 50-startups.zip"
      ],
      "metadata": {
        "colab": {
          "base_uri": "https://localhost:8080/"
        },
        "id": "ZyQb8MtUOhJV",
        "outputId": "80828e25-7e27-434c-9dc8-f4c6ca144966"
      },
      "execution_count": null,
      "outputs": [
        {
          "output_type": "stream",
          "name": "stdout",
          "text": [
            "Downloading 50-startups.zip to /content\n",
            "\r  0% 0.00/1.30k [00:00<?, ?B/s]\n",
            "\r100% 1.30k/1.30k [00:00<00:00, 2.18MB/s]\n",
            "Archive:  50-startups.zip\n",
            "  inflating: 50_Startups.csv         \n"
          ]
        }
      ]
    },
    {
      "cell_type": "code",
      "source": [
        "import pandas as pd\n",
        "\n",
        "df = pd.read_csv('50_Startups.csv')\n",
        "df.head()"
      ],
      "metadata": {
        "colab": {
          "base_uri": "https://localhost:8080/",
          "height": 204
        },
        "id": "ga3xuVN_PJMs",
        "outputId": "b36a374b-ac5e-46d6-8d4a-13aa3aaa73d0"
      },
      "execution_count": null,
      "outputs": [
        {
          "output_type": "execute_result",
          "data": {
            "text/html": [
              "\n",
              "  <div id=\"df-91b6f397-6df3-40de-bbd1-33e705e004e4\">\n",
              "    <div class=\"colab-df-container\">\n",
              "      <div>\n",
              "<style scoped>\n",
              "    .dataframe tbody tr th:only-of-type {\n",
              "        vertical-align: middle;\n",
              "    }\n",
              "\n",
              "    .dataframe tbody tr th {\n",
              "        vertical-align: top;\n",
              "    }\n",
              "\n",
              "    .dataframe thead th {\n",
              "        text-align: right;\n",
              "    }\n",
              "</style>\n",
              "<table border=\"1\" class=\"dataframe\">\n",
              "  <thead>\n",
              "    <tr style=\"text-align: right;\">\n",
              "      <th></th>\n",
              "      <th>R&amp;D Spend</th>\n",
              "      <th>Administration</th>\n",
              "      <th>Marketing Spend</th>\n",
              "      <th>State</th>\n",
              "      <th>Profit</th>\n",
              "    </tr>\n",
              "  </thead>\n",
              "  <tbody>\n",
              "    <tr>\n",
              "      <th>0</th>\n",
              "      <td>165349.20</td>\n",
              "      <td>136897.80</td>\n",
              "      <td>471784.10</td>\n",
              "      <td>New York</td>\n",
              "      <td>192261.83</td>\n",
              "    </tr>\n",
              "    <tr>\n",
              "      <th>1</th>\n",
              "      <td>162597.70</td>\n",
              "      <td>151377.59</td>\n",
              "      <td>443898.53</td>\n",
              "      <td>California</td>\n",
              "      <td>191792.06</td>\n",
              "    </tr>\n",
              "    <tr>\n",
              "      <th>2</th>\n",
              "      <td>153441.51</td>\n",
              "      <td>101145.55</td>\n",
              "      <td>407934.54</td>\n",
              "      <td>Florida</td>\n",
              "      <td>191050.39</td>\n",
              "    </tr>\n",
              "    <tr>\n",
              "      <th>3</th>\n",
              "      <td>144372.41</td>\n",
              "      <td>118671.85</td>\n",
              "      <td>383199.62</td>\n",
              "      <td>New York</td>\n",
              "      <td>182901.99</td>\n",
              "    </tr>\n",
              "    <tr>\n",
              "      <th>4</th>\n",
              "      <td>142107.34</td>\n",
              "      <td>91391.77</td>\n",
              "      <td>366168.42</td>\n",
              "      <td>Florida</td>\n",
              "      <td>166187.94</td>\n",
              "    </tr>\n",
              "  </tbody>\n",
              "</table>\n",
              "</div>\n",
              "      <button class=\"colab-df-convert\" onclick=\"convertToInteractive('df-91b6f397-6df3-40de-bbd1-33e705e004e4')\"\n",
              "              title=\"Convert this dataframe to an interactive table.\"\n",
              "              style=\"display:none;\">\n",
              "        \n",
              "  <svg xmlns=\"http://www.w3.org/2000/svg\" height=\"24px\"viewBox=\"0 0 24 24\"\n",
              "       width=\"24px\">\n",
              "    <path d=\"M0 0h24v24H0V0z\" fill=\"none\"/>\n",
              "    <path d=\"M18.56 5.44l.94 2.06.94-2.06 2.06-.94-2.06-.94-.94-2.06-.94 2.06-2.06.94zm-11 1L8.5 8.5l.94-2.06 2.06-.94-2.06-.94L8.5 2.5l-.94 2.06-2.06.94zm10 10l.94 2.06.94-2.06 2.06-.94-2.06-.94-.94-2.06-.94 2.06-2.06.94z\"/><path d=\"M17.41 7.96l-1.37-1.37c-.4-.4-.92-.59-1.43-.59-.52 0-1.04.2-1.43.59L10.3 9.45l-7.72 7.72c-.78.78-.78 2.05 0 2.83L4 21.41c.39.39.9.59 1.41.59.51 0 1.02-.2 1.41-.59l7.78-7.78 2.81-2.81c.8-.78.8-2.07 0-2.86zM5.41 20L4 18.59l7.72-7.72 1.47 1.35L5.41 20z\"/>\n",
              "  </svg>\n",
              "      </button>\n",
              "      \n",
              "  <style>\n",
              "    .colab-df-container {\n",
              "      display:flex;\n",
              "      flex-wrap:wrap;\n",
              "      gap: 12px;\n",
              "    }\n",
              "\n",
              "    .colab-df-convert {\n",
              "      background-color: #E8F0FE;\n",
              "      border: none;\n",
              "      border-radius: 50%;\n",
              "      cursor: pointer;\n",
              "      display: none;\n",
              "      fill: #1967D2;\n",
              "      height: 32px;\n",
              "      padding: 0 0 0 0;\n",
              "      width: 32px;\n",
              "    }\n",
              "\n",
              "    .colab-df-convert:hover {\n",
              "      background-color: #E2EBFA;\n",
              "      box-shadow: 0px 1px 2px rgba(60, 64, 67, 0.3), 0px 1px 3px 1px rgba(60, 64, 67, 0.15);\n",
              "      fill: #174EA6;\n",
              "    }\n",
              "\n",
              "    [theme=dark] .colab-df-convert {\n",
              "      background-color: #3B4455;\n",
              "      fill: #D2E3FC;\n",
              "    }\n",
              "\n",
              "    [theme=dark] .colab-df-convert:hover {\n",
              "      background-color: #434B5C;\n",
              "      box-shadow: 0px 1px 3px 1px rgba(0, 0, 0, 0.15);\n",
              "      filter: drop-shadow(0px 1px 2px rgba(0, 0, 0, 0.3));\n",
              "      fill: #FFFFFF;\n",
              "    }\n",
              "  </style>\n",
              "\n",
              "      <script>\n",
              "        const buttonEl =\n",
              "          document.querySelector('#df-91b6f397-6df3-40de-bbd1-33e705e004e4 button.colab-df-convert');\n",
              "        buttonEl.style.display =\n",
              "          google.colab.kernel.accessAllowed ? 'block' : 'none';\n",
              "\n",
              "        async function convertToInteractive(key) {\n",
              "          const element = document.querySelector('#df-91b6f397-6df3-40de-bbd1-33e705e004e4');\n",
              "          const dataTable =\n",
              "            await google.colab.kernel.invokeFunction('convertToInteractive',\n",
              "                                                     [key], {});\n",
              "          if (!dataTable) return;\n",
              "\n",
              "          const docLinkHtml = 'Like what you see? Visit the ' +\n",
              "            '<a target=\"_blank\" href=https://colab.research.google.com/notebooks/data_table.ipynb>data table notebook</a>'\n",
              "            + ' to learn more about interactive tables.';\n",
              "          element.innerHTML = '';\n",
              "          dataTable['output_type'] = 'display_data';\n",
              "          await google.colab.output.renderOutput(dataTable, element);\n",
              "          const docLink = document.createElement('div');\n",
              "          docLink.innerHTML = docLinkHtml;\n",
              "          element.appendChild(docLink);\n",
              "        }\n",
              "      </script>\n",
              "    </div>\n",
              "  </div>\n",
              "  "
            ],
            "text/plain": [
              "   R&D Spend  Administration  Marketing Spend       State     Profit\n",
              "0  165349.20       136897.80        471784.10    New York  192261.83\n",
              "1  162597.70       151377.59        443898.53  California  191792.06\n",
              "2  153441.51       101145.55        407934.54     Florida  191050.39\n",
              "3  144372.41       118671.85        383199.62    New York  182901.99\n",
              "4  142107.34        91391.77        366168.42     Florida  166187.94"
            ]
          },
          "metadata": {},
          "execution_count": 93
        }
      ]
    },
    {
      "cell_type": "code",
      "source": [
        "df_num = df.drop('State', axis=1) # Eliminar variable categórica\n",
        "df_num.head()\n",
        "\n",
        "X = df_num.drop('Profit',axis=1)\n",
        "y = df_num['Profit']\n",
        "\n",
        "# Particionado en entrenamiento + test\n",
        "from sklearn.model_selection import train_test_split\n",
        "X_train, X_test, y_train, y_test = train_test_split(X, y, test_size = 0.2, random_state = 42)"
      ],
      "metadata": {
        "id": "0t04J9M2Pbd1"
      },
      "execution_count": null,
      "outputs": []
    },
    {
      "cell_type": "markdown",
      "source": [
        "###**Elección del mejor TreeRegressor**"
      ],
      "metadata": {
        "id": "i3FmXU-o0A_4"
      }
    },
    {
      "cell_type": "markdown",
      "source": [
        "Antes de entrenar y evaluar el BaggingRegressor y el RandomForestRegressor, se emplea GridSearchCV para buscar la mejor combinación de max:depth, min_samples_split y min_samples_leaf, teniendo: DecisionTreeRegressor(max_depth=5, min_samples_split=4, min_samples_leaf=2)."
      ],
      "metadata": {
        "id": "zrDpiGT-0PGn"
      }
    },
    {
      "cell_type": "code",
      "source": [
        "from sklearn.metrics import mean_squared_error\n",
        "from sklearn.model_selection import GridSearchCV\n",
        "from sklearn.tree import DecisionTreeRegressor\n",
        "parameters = {'max_depth':[1,2,3,4,5,6], 'min_samples_split':[2,4,6,8,10], 'min_samples_leaf':[1,2,3,4,5]}\n",
        "tree = DecisionTreeRegressor()\n",
        "tree_reg = GridSearchCV(tree, parameters,scoring='neg_root_mean_squared_error')\n",
        "tree_reg.fit(X_train, y_train)\n",
        "resultados = pd.DataFrame(tree_reg.cv_results_)\n",
        "resultados.filter(regex = '(param.*|mean_t|std_t)').drop(columns = 'params')\\\n",
        "    .sort_values('mean_test_score', ascending = False) \\\n",
        "    .head(10)"
      ],
      "metadata": {
        "colab": {
          "base_uri": "https://localhost:8080/",
          "height": 359
        },
        "id": "do1v-_S8x2PQ",
        "outputId": "f9f9fc77-a41c-4db8-fa53-1c7c4ef24883"
      },
      "execution_count": null,
      "outputs": [
        {
          "output_type": "execute_result",
          "data": {
            "text/html": [
              "\n",
              "  <div id=\"df-e5aee841-a71b-45c2-a807-d262d62960c9\">\n",
              "    <div class=\"colab-df-container\">\n",
              "      <div>\n",
              "<style scoped>\n",
              "    .dataframe tbody tr th:only-of-type {\n",
              "        vertical-align: middle;\n",
              "    }\n",
              "\n",
              "    .dataframe tbody tr th {\n",
              "        vertical-align: top;\n",
              "    }\n",
              "\n",
              "    .dataframe thead th {\n",
              "        text-align: right;\n",
              "    }\n",
              "</style>\n",
              "<table border=\"1\" class=\"dataframe\">\n",
              "  <thead>\n",
              "    <tr style=\"text-align: right;\">\n",
              "      <th></th>\n",
              "      <th>param_max_depth</th>\n",
              "      <th>param_min_samples_leaf</th>\n",
              "      <th>param_min_samples_split</th>\n",
              "      <th>mean_test_score</th>\n",
              "      <th>std_test_score</th>\n",
              "    </tr>\n",
              "  </thead>\n",
              "  <tbody>\n",
              "    <tr>\n",
              "      <th>106</th>\n",
              "      <td>5</td>\n",
              "      <td>2</td>\n",
              "      <td>4</td>\n",
              "      <td>-9933.294695</td>\n",
              "      <td>3360.707591</td>\n",
              "    </tr>\n",
              "    <tr>\n",
              "      <th>131</th>\n",
              "      <td>6</td>\n",
              "      <td>2</td>\n",
              "      <td>4</td>\n",
              "      <td>-10511.912919</td>\n",
              "      <td>4819.116512</td>\n",
              "    </tr>\n",
              "    <tr>\n",
              "      <th>130</th>\n",
              "      <td>6</td>\n",
              "      <td>2</td>\n",
              "      <td>2</td>\n",
              "      <td>-10615.660265</td>\n",
              "      <td>4872.845628</td>\n",
              "    </tr>\n",
              "    <tr>\n",
              "      <th>105</th>\n",
              "      <td>5</td>\n",
              "      <td>2</td>\n",
              "      <td>2</td>\n",
              "      <td>-10665.557761</td>\n",
              "      <td>4269.355121</td>\n",
              "    </tr>\n",
              "    <tr>\n",
              "      <th>137</th>\n",
              "      <td>6</td>\n",
              "      <td>3</td>\n",
              "      <td>6</td>\n",
              "      <td>-10711.389346</td>\n",
              "      <td>5339.913929</td>\n",
              "    </tr>\n",
              "    <tr>\n",
              "      <th>80</th>\n",
              "      <td>4</td>\n",
              "      <td>2</td>\n",
              "      <td>2</td>\n",
              "      <td>-10903.099958</td>\n",
              "      <td>3305.051594</td>\n",
              "    </tr>\n",
              "    <tr>\n",
              "      <th>101</th>\n",
              "      <td>5</td>\n",
              "      <td>1</td>\n",
              "      <td>4</td>\n",
              "      <td>-10983.183345</td>\n",
              "      <td>3102.510673</td>\n",
              "    </tr>\n",
              "    <tr>\n",
              "      <th>82</th>\n",
              "      <td>4</td>\n",
              "      <td>2</td>\n",
              "      <td>6</td>\n",
              "      <td>-11425.437794</td>\n",
              "      <td>5394.657094</td>\n",
              "    </tr>\n",
              "    <tr>\n",
              "      <th>135</th>\n",
              "      <td>6</td>\n",
              "      <td>3</td>\n",
              "      <td>2</td>\n",
              "      <td>-11473.746777</td>\n",
              "      <td>5505.191460</td>\n",
              "    </tr>\n",
              "    <tr>\n",
              "      <th>112</th>\n",
              "      <td>5</td>\n",
              "      <td>3</td>\n",
              "      <td>6</td>\n",
              "      <td>-11473.746777</td>\n",
              "      <td>5505.191460</td>\n",
              "    </tr>\n",
              "  </tbody>\n",
              "</table>\n",
              "</div>\n",
              "      <button class=\"colab-df-convert\" onclick=\"convertToInteractive('df-e5aee841-a71b-45c2-a807-d262d62960c9')\"\n",
              "              title=\"Convert this dataframe to an interactive table.\"\n",
              "              style=\"display:none;\">\n",
              "        \n",
              "  <svg xmlns=\"http://www.w3.org/2000/svg\" height=\"24px\"viewBox=\"0 0 24 24\"\n",
              "       width=\"24px\">\n",
              "    <path d=\"M0 0h24v24H0V0z\" fill=\"none\"/>\n",
              "    <path d=\"M18.56 5.44l.94 2.06.94-2.06 2.06-.94-2.06-.94-.94-2.06-.94 2.06-2.06.94zm-11 1L8.5 8.5l.94-2.06 2.06-.94-2.06-.94L8.5 2.5l-.94 2.06-2.06.94zm10 10l.94 2.06.94-2.06 2.06-.94-2.06-.94-.94-2.06-.94 2.06-2.06.94z\"/><path d=\"M17.41 7.96l-1.37-1.37c-.4-.4-.92-.59-1.43-.59-.52 0-1.04.2-1.43.59L10.3 9.45l-7.72 7.72c-.78.78-.78 2.05 0 2.83L4 21.41c.39.39.9.59 1.41.59.51 0 1.02-.2 1.41-.59l7.78-7.78 2.81-2.81c.8-.78.8-2.07 0-2.86zM5.41 20L4 18.59l7.72-7.72 1.47 1.35L5.41 20z\"/>\n",
              "  </svg>\n",
              "      </button>\n",
              "      \n",
              "  <style>\n",
              "    .colab-df-container {\n",
              "      display:flex;\n",
              "      flex-wrap:wrap;\n",
              "      gap: 12px;\n",
              "    }\n",
              "\n",
              "    .colab-df-convert {\n",
              "      background-color: #E8F0FE;\n",
              "      border: none;\n",
              "      border-radius: 50%;\n",
              "      cursor: pointer;\n",
              "      display: none;\n",
              "      fill: #1967D2;\n",
              "      height: 32px;\n",
              "      padding: 0 0 0 0;\n",
              "      width: 32px;\n",
              "    }\n",
              "\n",
              "    .colab-df-convert:hover {\n",
              "      background-color: #E2EBFA;\n",
              "      box-shadow: 0px 1px 2px rgba(60, 64, 67, 0.3), 0px 1px 3px 1px rgba(60, 64, 67, 0.15);\n",
              "      fill: #174EA6;\n",
              "    }\n",
              "\n",
              "    [theme=dark] .colab-df-convert {\n",
              "      background-color: #3B4455;\n",
              "      fill: #D2E3FC;\n",
              "    }\n",
              "\n",
              "    [theme=dark] .colab-df-convert:hover {\n",
              "      background-color: #434B5C;\n",
              "      box-shadow: 0px 1px 3px 1px rgba(0, 0, 0, 0.15);\n",
              "      filter: drop-shadow(0px 1px 2px rgba(0, 0, 0, 0.3));\n",
              "      fill: #FFFFFF;\n",
              "    }\n",
              "  </style>\n",
              "\n",
              "      <script>\n",
              "        const buttonEl =\n",
              "          document.querySelector('#df-e5aee841-a71b-45c2-a807-d262d62960c9 button.colab-df-convert');\n",
              "        buttonEl.style.display =\n",
              "          google.colab.kernel.accessAllowed ? 'block' : 'none';\n",
              "\n",
              "        async function convertToInteractive(key) {\n",
              "          const element = document.querySelector('#df-e5aee841-a71b-45c2-a807-d262d62960c9');\n",
              "          const dataTable =\n",
              "            await google.colab.kernel.invokeFunction('convertToInteractive',\n",
              "                                                     [key], {});\n",
              "          if (!dataTable) return;\n",
              "\n",
              "          const docLinkHtml = 'Like what you see? Visit the ' +\n",
              "            '<a target=\"_blank\" href=https://colab.research.google.com/notebooks/data_table.ipynb>data table notebook</a>'\n",
              "            + ' to learn more about interactive tables.';\n",
              "          element.innerHTML = '';\n",
              "          dataTable['output_type'] = 'display_data';\n",
              "          await google.colab.output.renderOutput(dataTable, element);\n",
              "          const docLink = document.createElement('div');\n",
              "          docLink.innerHTML = docLinkHtml;\n",
              "          element.appendChild(docLink);\n",
              "        }\n",
              "      </script>\n",
              "    </div>\n",
              "  </div>\n",
              "  "
            ],
            "text/plain": [
              "    param_max_depth param_min_samples_leaf  ... mean_test_score  std_test_score\n",
              "106               5                      2  ...    -9933.294695     3360.707591\n",
              "131               6                      2  ...   -10511.912919     4819.116512\n",
              "130               6                      2  ...   -10615.660265     4872.845628\n",
              "105               5                      2  ...   -10665.557761     4269.355121\n",
              "137               6                      3  ...   -10711.389346     5339.913929\n",
              "80                4                      2  ...   -10903.099958     3305.051594\n",
              "101               5                      1  ...   -10983.183345     3102.510673\n",
              "82                4                      2  ...   -11425.437794     5394.657094\n",
              "135               6                      3  ...   -11473.746777     5505.191460\n",
              "112               5                      3  ...   -11473.746777     5505.191460\n",
              "\n",
              "[10 rows x 5 columns]"
            ]
          },
          "metadata": {},
          "execution_count": 95
        }
      ]
    },
    {
      "cell_type": "code",
      "source": [
        "tree_reg.best_estimator_"
      ],
      "metadata": {
        "colab": {
          "base_uri": "https://localhost:8080/"
        },
        "id": "Pq_VOfCc9W9e",
        "outputId": "3034c51b-0cd8-418e-d613-e7aa678feb87"
      },
      "execution_count": null,
      "outputs": [
        {
          "output_type": "execute_result",
          "data": {
            "text/plain": [
              "DecisionTreeRegressor(max_depth=5, min_samples_leaf=2, min_samples_split=4)"
            ]
          },
          "metadata": {},
          "execution_count": 96
        }
      ]
    },
    {
      "cell_type": "markdown",
      "source": [
        "###**Entrenamiento y evaluación de un BaggingRegressor**"
      ],
      "metadata": {
        "id": "hJzU6B6T0Yrf"
      }
    },
    {
      "cell_type": "markdown",
      "source": [
        "El RMSE en los ejemplos de clase con los otros dos algoritmos rondaba 10000, utilizando árboles de decisión con una profundidad máxima únicamente de 2, en ensembles con 100 estimadores. Se mejoran los resultados aumentando el número de estimadores y modificando los hiperparámetros del árbol de decisión como se ha comentado."
      ],
      "metadata": {
        "id": "1WdoN3Of0_Zy"
      }
    },
    {
      "cell_type": "markdown",
      "source": [
        "\n",
        "\n",
        "> Hiperparámetros por defecto\n",
        "\n"
      ],
      "metadata": {
        "id": "tNQ5K26F1BXz"
      }
    },
    {
      "cell_type": "code",
      "source": [
        "from sklearn.ensemble import BaggingRegressor\n",
        "from sklearn.tree import DecisionTreeRegressor\n",
        "\n",
        "bag_reg = BaggingRegressor(n_estimators=500)\n",
        "RMSE = []\n",
        "for i in range(100):\n",
        "  bag_reg.fit(X_train, y_train)\n",
        "  y_pred = bag_reg.predict(X_test)\n",
        "  RMSE.append(np.sqrt(mean_squared_error(y_test, y_pred)))\n",
        "print('RMSE=', np.mean(RMSE)) "
      ],
      "metadata": {
        "colab": {
          "base_uri": "https://localhost:8080/"
        },
        "id": "maexQjmuswoq",
        "outputId": "848d4be3-cdcf-4b76-b4b6-b905b2b3eb5c"
      },
      "execution_count": null,
      "outputs": [
        {
          "output_type": "stream",
          "name": "stdout",
          "text": [
            "RMSE= 9087.905278304504\n"
          ]
        }
      ]
    },
    {
      "cell_type": "markdown",
      "source": [
        "\n",
        "\n",
        "> Hiperparámetros buscados\n",
        "\n"
      ],
      "metadata": {
        "id": "t33xXEfj1JnS"
      }
    },
    {
      "cell_type": "code",
      "source": [
        "bag_reg = BaggingRegressor(DecisionTreeRegressor(max_depth=5, min_samples_leaf=2, min_samples_split=4), n_estimators=500)\n",
        "RMSE = []\n",
        "for i in range(100):\n",
        "  bag_reg.fit(X_train, y_train)\n",
        "  y_pred = bag_reg.predict(X_test)\n",
        "  RMSE.append(np.sqrt(mean_squared_error(y_test, y_pred)))\n",
        "print('RMSE=', np.mean(RMSE)) "
      ],
      "metadata": {
        "colab": {
          "base_uri": "https://localhost:8080/"
        },
        "id": "RI6PqyV5vdS8",
        "outputId": "c51c47e7-c997-47dc-c89a-a8daa6d01d64"
      },
      "execution_count": null,
      "outputs": [
        {
          "output_type": "stream",
          "name": "stdout",
          "text": [
            "RMSE= 8929.451755000442\n"
          ]
        }
      ]
    },
    {
      "cell_type": "markdown",
      "source": [
        "###**Entrenamiento y evaluación de un RandomForestRegressor**"
      ],
      "metadata": {
        "id": "C5Kj0yo71bGQ"
      }
    },
    {
      "cell_type": "markdown",
      "source": [
        "\n",
        "\n",
        "> Hiperparámetros por defecto\n",
        "\n"
      ],
      "metadata": {
        "id": "5fmR7m0c1svg"
      }
    },
    {
      "cell_type": "code",
      "source": [
        "from sklearn.ensemble import RandomForestRegressor\n",
        "for_reg = RandomForestRegressor(n_estimators=500)\n",
        "RMSE = []\n",
        "for i in range(100):\n",
        "  for_reg.fit(X_train, y_train)\n",
        "  y_pred = for_reg.predict(X_test)\n",
        "  RMSE.append(np.sqrt(mean_squared_error(y_test, y_pred)))\n",
        "print('RMSE=', np.mean(RMSE)) "
      ],
      "metadata": {
        "colab": {
          "base_uri": "https://localhost:8080/"
        },
        "id": "5Vabr9rbCwri",
        "outputId": "b02426ff-4453-4e39-883b-56cfb4139aaf"
      },
      "execution_count": null,
      "outputs": [
        {
          "output_type": "stream",
          "name": "stdout",
          "text": [
            "RMSE= 9079.615784223879\n"
          ]
        }
      ]
    },
    {
      "cell_type": "markdown",
      "source": [
        "\n",
        "\n",
        "> Hiperparámetros buscados\n",
        "\n"
      ],
      "metadata": {
        "id": "6losaalJ11k_"
      }
    },
    {
      "cell_type": "code",
      "source": [
        "for_reg = RandomForestRegressor(max_depth=5, min_samples_leaf=2, min_samples_split=4,n_estimators=500)\n",
        "RMSE = []\n",
        "for i in range(100):\n",
        "  for_reg.fit(X_train, y_train)\n",
        "  y_pred = for_reg.predict(X_test)\n",
        "  RMSE.append(np.sqrt(mean_squared_error(y_test, y_pred)))\n",
        "print('RMSE=', np.mean(RMSE)) "
      ],
      "metadata": {
        "colab": {
          "base_uri": "https://localhost:8080/"
        },
        "id": "TSZK6wZSH7CL",
        "outputId": "9e66b3a8-bdaf-4d5f-81ea-43b6d8cac10c"
      },
      "execution_count": null,
      "outputs": [
        {
          "output_type": "stream",
          "name": "stdout",
          "text": [
            "RMSE= 8923.60228400156\n"
          ]
        }
      ]
    },
    {
      "cell_type": "markdown",
      "source": [
        "#**Parte Opcional**"
      ],
      "metadata": {
        "id": "mFykv0-Q9Igb"
      }
    },
    {
      "cell_type": "markdown",
      "source": [
        "Multitud de modelos han dado un resultado óptimo en la clasificación de pingüinos, pero podemos quedarnos con el AdaBoostClassifier por su velocidad y precisión, que hemos empleado con un DecisionTreeClassifier como algoritmo de base. Por tanto, se emplea GridSearchCV para buscar la mejor configuración de hiperparámetros para un árbol de decisión."
      ],
      "metadata": {
        "id": "hvPnHOxz9MS5"
      }
    },
    {
      "cell_type": "code",
      "source": [
        "parameters = {'max_depth':[1,2,3,4,5,6], 'min_samples_split':[2,4,6,8,10], 'min_samples_leaf':[1,2,3,4,5]}\n",
        "tree = DecisionTreeClassifier()\n",
        "tree_clf = GridSearchCV(tree, parameters)\n",
        "tree_clf.fit(X_train_prepared, y_train_tree)\n",
        "resultados = pd.DataFrame(tree_clf.cv_results_)\n",
        "resultados.filter(regex = '(param.*|mean_t|std_t)').drop(columns = 'params')\\\n",
        "    .sort_values('mean_test_score', ascending = False) \\\n",
        "    .head(10)"
      ],
      "metadata": {
        "colab": {
          "base_uri": "https://localhost:8080/",
          "height": 359
        },
        "id": "1j-wGzr1-UMI",
        "outputId": "03fa3033-9c71-4988-e851-a75919ab97c1"
      },
      "execution_count": null,
      "outputs": [
        {
          "output_type": "execute_result",
          "data": {
            "text/html": [
              "\n",
              "  <div id=\"df-8cdc4adb-88b7-41cd-bb68-71ca343160a1\">\n",
              "    <div class=\"colab-df-container\">\n",
              "      <div>\n",
              "<style scoped>\n",
              "    .dataframe tbody tr th:only-of-type {\n",
              "        vertical-align: middle;\n",
              "    }\n",
              "\n",
              "    .dataframe tbody tr th {\n",
              "        vertical-align: top;\n",
              "    }\n",
              "\n",
              "    .dataframe thead th {\n",
              "        text-align: right;\n",
              "    }\n",
              "</style>\n",
              "<table border=\"1\" class=\"dataframe\">\n",
              "  <thead>\n",
              "    <tr style=\"text-align: right;\">\n",
              "      <th></th>\n",
              "      <th>param_max_depth</th>\n",
              "      <th>param_min_samples_leaf</th>\n",
              "      <th>param_min_samples_split</th>\n",
              "      <th>mean_test_score</th>\n",
              "      <th>std_test_score</th>\n",
              "    </tr>\n",
              "  </thead>\n",
              "  <tbody>\n",
              "    <tr>\n",
              "      <th>81</th>\n",
              "      <td>4</td>\n",
              "      <td>2</td>\n",
              "      <td>4</td>\n",
              "      <td>0.967273</td>\n",
              "      <td>0.017814</td>\n",
              "    </tr>\n",
              "    <tr>\n",
              "      <th>100</th>\n",
              "      <td>5</td>\n",
              "      <td>1</td>\n",
              "      <td>2</td>\n",
              "      <td>0.967273</td>\n",
              "      <td>0.021203</td>\n",
              "    </tr>\n",
              "    <tr>\n",
              "      <th>75</th>\n",
              "      <td>4</td>\n",
              "      <td>1</td>\n",
              "      <td>2</td>\n",
              "      <td>0.963636</td>\n",
              "      <td>0.016262</td>\n",
              "    </tr>\n",
              "    <tr>\n",
              "      <th>50</th>\n",
              "      <td>3</td>\n",
              "      <td>1</td>\n",
              "      <td>2</td>\n",
              "      <td>0.963636</td>\n",
              "      <td>0.011499</td>\n",
              "    </tr>\n",
              "    <tr>\n",
              "      <th>82</th>\n",
              "      <td>4</td>\n",
              "      <td>2</td>\n",
              "      <td>6</td>\n",
              "      <td>0.963636</td>\n",
              "      <td>0.016262</td>\n",
              "    </tr>\n",
              "    <tr>\n",
              "      <th>85</th>\n",
              "      <td>4</td>\n",
              "      <td>3</td>\n",
              "      <td>2</td>\n",
              "      <td>0.963636</td>\n",
              "      <td>0.016262</td>\n",
              "    </tr>\n",
              "    <tr>\n",
              "      <th>87</th>\n",
              "      <td>4</td>\n",
              "      <td>3</td>\n",
              "      <td>6</td>\n",
              "      <td>0.963636</td>\n",
              "      <td>0.016262</td>\n",
              "    </tr>\n",
              "    <tr>\n",
              "      <th>91</th>\n",
              "      <td>4</td>\n",
              "      <td>4</td>\n",
              "      <td>4</td>\n",
              "      <td>0.963636</td>\n",
              "      <td>0.019917</td>\n",
              "    </tr>\n",
              "    <tr>\n",
              "      <th>95</th>\n",
              "      <td>4</td>\n",
              "      <td>5</td>\n",
              "      <td>2</td>\n",
              "      <td>0.963636</td>\n",
              "      <td>0.019917</td>\n",
              "    </tr>\n",
              "    <tr>\n",
              "      <th>99</th>\n",
              "      <td>4</td>\n",
              "      <td>5</td>\n",
              "      <td>10</td>\n",
              "      <td>0.963636</td>\n",
              "      <td>0.019917</td>\n",
              "    </tr>\n",
              "  </tbody>\n",
              "</table>\n",
              "</div>\n",
              "      <button class=\"colab-df-convert\" onclick=\"convertToInteractive('df-8cdc4adb-88b7-41cd-bb68-71ca343160a1')\"\n",
              "              title=\"Convert this dataframe to an interactive table.\"\n",
              "              style=\"display:none;\">\n",
              "        \n",
              "  <svg xmlns=\"http://www.w3.org/2000/svg\" height=\"24px\"viewBox=\"0 0 24 24\"\n",
              "       width=\"24px\">\n",
              "    <path d=\"M0 0h24v24H0V0z\" fill=\"none\"/>\n",
              "    <path d=\"M18.56 5.44l.94 2.06.94-2.06 2.06-.94-2.06-.94-.94-2.06-.94 2.06-2.06.94zm-11 1L8.5 8.5l.94-2.06 2.06-.94-2.06-.94L8.5 2.5l-.94 2.06-2.06.94zm10 10l.94 2.06.94-2.06 2.06-.94-2.06-.94-.94-2.06-.94 2.06-2.06.94z\"/><path d=\"M17.41 7.96l-1.37-1.37c-.4-.4-.92-.59-1.43-.59-.52 0-1.04.2-1.43.59L10.3 9.45l-7.72 7.72c-.78.78-.78 2.05 0 2.83L4 21.41c.39.39.9.59 1.41.59.51 0 1.02-.2 1.41-.59l7.78-7.78 2.81-2.81c.8-.78.8-2.07 0-2.86zM5.41 20L4 18.59l7.72-7.72 1.47 1.35L5.41 20z\"/>\n",
              "  </svg>\n",
              "      </button>\n",
              "      \n",
              "  <style>\n",
              "    .colab-df-container {\n",
              "      display:flex;\n",
              "      flex-wrap:wrap;\n",
              "      gap: 12px;\n",
              "    }\n",
              "\n",
              "    .colab-df-convert {\n",
              "      background-color: #E8F0FE;\n",
              "      border: none;\n",
              "      border-radius: 50%;\n",
              "      cursor: pointer;\n",
              "      display: none;\n",
              "      fill: #1967D2;\n",
              "      height: 32px;\n",
              "      padding: 0 0 0 0;\n",
              "      width: 32px;\n",
              "    }\n",
              "\n",
              "    .colab-df-convert:hover {\n",
              "      background-color: #E2EBFA;\n",
              "      box-shadow: 0px 1px 2px rgba(60, 64, 67, 0.3), 0px 1px 3px 1px rgba(60, 64, 67, 0.15);\n",
              "      fill: #174EA6;\n",
              "    }\n",
              "\n",
              "    [theme=dark] .colab-df-convert {\n",
              "      background-color: #3B4455;\n",
              "      fill: #D2E3FC;\n",
              "    }\n",
              "\n",
              "    [theme=dark] .colab-df-convert:hover {\n",
              "      background-color: #434B5C;\n",
              "      box-shadow: 0px 1px 3px 1px rgba(0, 0, 0, 0.15);\n",
              "      filter: drop-shadow(0px 1px 2px rgba(0, 0, 0, 0.3));\n",
              "      fill: #FFFFFF;\n",
              "    }\n",
              "  </style>\n",
              "\n",
              "      <script>\n",
              "        const buttonEl =\n",
              "          document.querySelector('#df-8cdc4adb-88b7-41cd-bb68-71ca343160a1 button.colab-df-convert');\n",
              "        buttonEl.style.display =\n",
              "          google.colab.kernel.accessAllowed ? 'block' : 'none';\n",
              "\n",
              "        async function convertToInteractive(key) {\n",
              "          const element = document.querySelector('#df-8cdc4adb-88b7-41cd-bb68-71ca343160a1');\n",
              "          const dataTable =\n",
              "            await google.colab.kernel.invokeFunction('convertToInteractive',\n",
              "                                                     [key], {});\n",
              "          if (!dataTable) return;\n",
              "\n",
              "          const docLinkHtml = 'Like what you see? Visit the ' +\n",
              "            '<a target=\"_blank\" href=https://colab.research.google.com/notebooks/data_table.ipynb>data table notebook</a>'\n",
              "            + ' to learn more about interactive tables.';\n",
              "          element.innerHTML = '';\n",
              "          dataTable['output_type'] = 'display_data';\n",
              "          await google.colab.output.renderOutput(dataTable, element);\n",
              "          const docLink = document.createElement('div');\n",
              "          docLink.innerHTML = docLinkHtml;\n",
              "          element.appendChild(docLink);\n",
              "        }\n",
              "      </script>\n",
              "    </div>\n",
              "  </div>\n",
              "  "
            ],
            "text/plain": [
              "    param_max_depth param_min_samples_leaf  ... mean_test_score  std_test_score\n",
              "81                4                      2  ...        0.967273        0.017814\n",
              "100               5                      1  ...        0.967273        0.021203\n",
              "75                4                      1  ...        0.963636        0.016262\n",
              "50                3                      1  ...        0.963636        0.011499\n",
              "82                4                      2  ...        0.963636        0.016262\n",
              "85                4                      3  ...        0.963636        0.016262\n",
              "87                4                      3  ...        0.963636        0.016262\n",
              "91                4                      4  ...        0.963636        0.019917\n",
              "95                4                      5  ...        0.963636        0.019917\n",
              "99                4                      5  ...        0.963636        0.019917\n",
              "\n",
              "[10 rows x 5 columns]"
            ]
          },
          "metadata": {},
          "execution_count": 101
        }
      ]
    },
    {
      "cell_type": "code",
      "source": [
        "tree_clf.best_estimator_"
      ],
      "metadata": {
        "colab": {
          "base_uri": "https://localhost:8080/"
        },
        "id": "-rP_F7Bm_bF5",
        "outputId": "23e3d8f7-ce9c-4212-b21b-0616c49146c3"
      },
      "execution_count": null,
      "outputs": [
        {
          "output_type": "execute_result",
          "data": {
            "text/plain": [
              "DecisionTreeClassifier(max_depth=4, min_samples_leaf=2, min_samples_split=4)"
            ]
          },
          "metadata": {},
          "execution_count": 102
        }
      ]
    },
    {
      "cell_type": "code",
      "source": [
        "from sklearn.ensemble import AdaBoostClassifier\n",
        "ada_clf = AdaBoostClassifier(DecisionTreeClassifier(max_depth=4, min_samples_leaf=2, min_samples_split=4), n_estimators=100, learning_rate=1)\n",
        "ada_score = []\n",
        "time0 = time.time()\n",
        "for i in range(100):\n",
        "  ada_clf.fit(X_train_prepared,y_train_tree)\n",
        "  ada_score.append(ada_clf.score(X_test_prepared,y_test_tree))\n",
        "time1 = time.time()\n",
        "print(\"La precisión del ensemble en el conjunto de test:\", np.mean(bag_score))\n",
        "print(\"El tiempo de ejecución:\", time1-time0)"
      ],
      "metadata": {
        "colab": {
          "base_uri": "https://localhost:8080/"
        },
        "id": "5y0NU_1E_nzX",
        "outputId": "0bde3513-17b5-402a-b530-13292304bb38"
      },
      "execution_count": null,
      "outputs": [
        {
          "output_type": "stream",
          "name": "stdout",
          "text": [
            "La precisión del ensemble en el conjunto de test: 0.9995652173913043\n",
            "El tiempo de ejecución: 4.199790000915527\n"
          ]
        }
      ]
    },
    {
      "cell_type": "markdown",
      "source": [
        "Se produce un aumento en el tiempo de ejecución."
      ],
      "metadata": {
        "id": "cdieTNYFAJTT"
      }
    }
  ]
}
