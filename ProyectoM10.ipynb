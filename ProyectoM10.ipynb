{
  "cells": [
    {
      "cell_type": "markdown",
      "id": "f430cc82-0e07-4345-b40c-3a1e22de51ff",
      "metadata": {
        "id": "f430cc82-0e07-4345-b40c-3a1e22de51ff"
      },
      "source": [
        "<h1><font color=\"#113D68\" size=5>Redes neuronales y deep learning</font></h1>\n",
        "\n",
        "\n",
        "\n",
        "<h1><font color=\"#113D68\" size=6>Caso Práctico: análisis de un problema de regresión con Deep Learning</font></h1>\n",
        "\n",
        "\n",
        "<br><br>\n",
        "<div style=\"text-align: right\">\n",
        "<font size=3>Daniel González</font><br>\n",
        "<font size=3>Semana 3: Ajuste de modelos de Deep Learning</font><br>\n",
        "<font size=3>IEBS</font>\n",
        "</div>\n",
        "\n",
        "---\n"
      ]
    },
    {
      "cell_type": "markdown",
      "id": "1dba54fa-f73e-40c2-9883-b4186be0a564",
      "metadata": {
        "id": "1dba54fa-f73e-40c2-9883-b4186be0a564"
      },
      "source": [
        "<a id=\"indice\"></a>\n",
        "<h2><font color=\"#004D7F\" size=5>Índice</font></h2>\n",
        "\n",
        "* [Caso práctico](#section1)\n",
        "    - [Parte obligatoria](#section1.1)\n",
        "    - [Parte opcional](#section1.2)\n",
        "    - [Objetivos](#section1.3)\n",
        "    - [Criterios de entrega](#section1.4)\n",
        "    - [Temporalización](#section1.5)\n",
        "* [California Housing Dataset](#section2)\n",
        "* [Establecer una función de coste adecuada a nuestro problema](#section3)\n",
        "* [Overfitting sobre un pequeño conjunto de datos](#section4)\n",
        "    - [Ejercicio 1](section4.1)\n",
        "    - [Ejercicio 2](section4.2)\n",
        "    - [Ejercicio 3](section4.3)\n",
        "    - [Ejercicio 4](section4.4)\n",
        "    - [Ejercicio 5](section4.5)\n",
        "* [Elegimos un Optimizer](#section5)\n",
        "    - [Ejercicio 6](section5.1)\n",
        "    - [Ejercicio 7](section5.2)\n",
        "    - [Ejercicio 8](section5.3)\n",
        "* [Probar diferentes configuraciones con un número pequeño de epochs](#section6)\n",
        "    - [Ejercicio 9](section6.1)\n",
        "    - [Ejercicio 10](section6.2)\n",
        "* [Ajuste refinado de los parámetros con más epochs](#section7)\n",
        "    - [Ejercicio 11](section7.1)\n",
        "    - [Ejercicio 12](section7.2)"
      ]
    },
    {
      "cell_type": "code",
      "execution_count": 1,
      "id": "e063b23e-4fb9-42ea-b062-48b9657a0acd",
      "metadata": {
        "id": "e063b23e-4fb9-42ea-b062-48b9657a0acd"
      },
      "outputs": [],
      "source": [
        "import tensorflow as tf\n",
        "import numpy as np\n",
        "import pandas as pd\n",
        "\n",
        "# Para mostrar gráficas\n",
        "import matplotlib.pyplot as plt\n",
        "%matplotlib inline\n",
        "\n",
        "# Anaconda fixing problem\n",
        "import os\n",
        "os.environ['KMP_DUPLICATE_LIB_OK']='True'"
      ]
    },
    {
      "cell_type": "markdown",
      "id": "6e317bcf-3b1a-45ca-8505-8472b270353f",
      "metadata": {
        "id": "6e317bcf-3b1a-45ca-8505-8472b270353f"
      },
      "source": [
        "# <font color=\"#004D7F\" size=5>Caso práctico</font>\n",
        "\n",
        "El objetivo de este caso práctico es simular como se haría un análisis completo de un problema para resolverlo con Deep Learning. Nos pondremos en la piel de un *data scientist* dedicado a analizar y crear modelos de Deep Learning para pasarlos a producción y ser desplegados en una aplicación.\n",
        "\n",
        "**Destacar que este caso práctico es la continuación de la última actividad realizada en la semana anterior. En la actividad de la semana anterior encontramos la mejor arquitectura para los datos que tenemos y ahora vmoas a realizar más experimentos jugando con los optimizers y el valor del learning rate.**\n",
        "\n",
        "Imaginemos que tenemos un dataset completo que queremos explotar, nuestra labor será coger este dataset (California Housing Dataset) y desde 0 intentar llegar conseguir un modelo que tenga un buen rendimiento ajustándolo poco a poco como hemos visto en clase. Por lo que tendrmeos que entrerar distintas redes y comparar los resultados que obtengamos en cada experimento para ver cual es mejor.\n",
        "\n",
        "Cada experimento que tendremos que realizar estará bien definido, la red que deberéis crear y entrenar será proporcinada por lo que solamente tendréis que crear la red que se nos indica con TensorFlow y realizar el entrenamiento de la misma.\n",
        "\n",
        "## <font color=\"#004D7F\" size=4>Parte obligatoria</font>\n",
        "\n",
        "Será obligatorio realizar cada uno de los ejercicios que están definidos. En cada ejercicio está definida la red que se tiene que crear y la configuración con la que se tiene que entrenar, por lo que solamente tendréis que pasar esa definición a código con TensorFlow.\n",
        "\n",
        "Para tener una buena práctica en la realización de este caso práctico se ofrecen esta recomendaciones:\n",
        "\n",
        "- Utiliza correctamente el sistema de celdas de jupyter. La libreta está realizada de tal forma que solo tendréis que completar las celdas que se indican, ya sea con código o con texto en markdown. Se recomienda rellenar solamente las celdas indicadas para que quede un informe limpio y fácil de seguir. Si fuera necesario incluir más celdas por cualquier motivo se puede hacer pero realizarlo con cuidado para no ensuciar demasiado la libreta.\n",
        "<br><br>\n",
        "- Las redes que tendréis que crear en cada experimento son las vistas en clase, por lo que os podéis inspirar en los ejemplos vistos en los tutoriales. Os recomiendo que no copiéis y peguéis código tal cual, sino que lo escribáis por vuestra cuenta y entendáis lo que estáis haciendo en cada momento. Tomaros el tiempo que haga falta para entender cada paso.\n",
        "<br><br>\n",
        "- Comprueba que todo se ejecuta correctamente antes de enviar tu trabajo. La mejor forma de enviarlo es exportando la libreta a pdf o html para enviarla en un formato más profesional.\n",
        "\n",
        "## <font color=\"#004D7F\" size=4>Parte opcional</font>\n",
        "La parte opcional son los últimos ejercicios donde tendréis que sacar una conclusión de si la red que habéis llegado a conseguir tiene un buen rendimiento.\n",
        "\n",
        "## <font color=\"#004D7F\" size=4>Objetivos</font>\n",
        "* Cargar y entender los datos del dataset California Housing con los que se trabajarán.\n",
        "* Crear cada una de las redes indicadas en los experimentos.\n",
        "* Entrenar cada una de las redes creadas en los experimentos.\n",
        "* Entender los resultados obtenidos en cada entrenamiento.\n",
        "\n",
        "## <font color=\"#004D7F\" size=4>Criterios de entrega</font>\n",
        "Se deberá entregar una libreta de jupyter, aunque se agradecerá que el formato entregado se html o pdf, el trabajo debe estar autocontenido, incluyendo código y texto explicativo para cada sección. "
      ]
    },
    {
      "cell_type": "markdown",
      "id": "4f1aaf67-907f-4b6b-afeb-590f5e5b0e47",
      "metadata": {
        "id": "4f1aaf67-907f-4b6b-afeb-590f5e5b0e47"
      },
      "source": [
        "# <font color=\"#004D7F\" size=5>California Housing Dataset</font>\n",
        "En este notebook vamos a usar un dataset nuevo, el dataset es muy parecido al dataset del precio de las casas de boston. Esta vez vamos a utilizar un conjunto de datos que contienen información sobre el precio de las casas encontradas en un distrito de California. Las columnas son las siguientes:\n",
        "\n",
        "- _longitude_: cuanto de al oeste está una casa; un valor más alto está más al oeste.\n",
        "- _latitude_: cuanto de al norte está una casa; un valor más alto está más al norte.\n",
        "- _housing_median_age_: edad media de una casa; un valor bajo es una casa más nueva.\n",
        "- _total_rooms_: número total de habitaciones.\n",
        "- _total_bedrooms_: número total de dormitorios.\n",
        "- _population_: número total de personas que residen.\n",
        "- _households_: número total de hogares, un grupo de personas que residen dentro de una unidad de vivienda.\n",
        "- _median_income_: ingreso medio de los hogares dentro de un bloque de casas (medido en decenas de miles de dólares).\n",
        "- _ocean_proximity_: ubicación de la casa cerca del océano o mar.\n",
        "- _median_house_value (**variables a predecir**)_: valor medio de la vivienda (medido en dólares).\n",
        "\n",
        "Vamos a cargar los datos desde el fichero `housing.csv`:"
      ]
    },
    {
      "cell_type": "code",
      "execution_count": 2,
      "id": "ad482b16-92bc-42a2-8515-cfc9d9018a81",
      "metadata": {
        "id": "ad482b16-92bc-42a2-8515-cfc9d9018a81"
      },
      "outputs": [],
      "source": [
        "df = pd.read_csv('housing.csv')"
      ]
    },
    {
      "cell_type": "code",
      "execution_count": 3,
      "id": "815c3f5b-9019-4799-865c-25419f6814d1",
      "metadata": {
        "colab": {
          "base_uri": "https://localhost:8080/",
          "height": 270
        },
        "id": "815c3f5b-9019-4799-865c-25419f6814d1",
        "outputId": "2dd64901-bc0f-4b08-cd90-8732a1d645fe"
      },
      "outputs": [
        {
          "output_type": "execute_result",
          "data": {
            "text/plain": [
              "   longitude  latitude  housing_median_age  total_rooms  total_bedrooms  \\\n",
              "0    -122.23     37.88                41.0        880.0           129.0   \n",
              "1    -122.22     37.86                21.0       7099.0          1106.0   \n",
              "2    -122.24     37.85                52.0       1467.0           190.0   \n",
              "3    -122.25     37.85                52.0       1274.0           235.0   \n",
              "4    -122.25     37.85                52.0       1627.0           280.0   \n",
              "\n",
              "   population  households  median_income  ocean_proximity  median_house_value  \n",
              "0       322.0       126.0         8.3252                3            452600.0  \n",
              "1      2401.0      1138.0         8.3014                3            358500.0  \n",
              "2       496.0       177.0         7.2574                3            352100.0  \n",
              "3       558.0       219.0         5.6431                3            341300.0  \n",
              "4       565.0       259.0         3.8462                3            342200.0  "
            ],
            "text/html": [
              "\n",
              "  <div id=\"df-b5944277-86f0-4a3b-8d6c-05a05813341d\">\n",
              "    <div class=\"colab-df-container\">\n",
              "      <div>\n",
              "<style scoped>\n",
              "    .dataframe tbody tr th:only-of-type {\n",
              "        vertical-align: middle;\n",
              "    }\n",
              "\n",
              "    .dataframe tbody tr th {\n",
              "        vertical-align: top;\n",
              "    }\n",
              "\n",
              "    .dataframe thead th {\n",
              "        text-align: right;\n",
              "    }\n",
              "</style>\n",
              "<table border=\"1\" class=\"dataframe\">\n",
              "  <thead>\n",
              "    <tr style=\"text-align: right;\">\n",
              "      <th></th>\n",
              "      <th>longitude</th>\n",
              "      <th>latitude</th>\n",
              "      <th>housing_median_age</th>\n",
              "      <th>total_rooms</th>\n",
              "      <th>total_bedrooms</th>\n",
              "      <th>population</th>\n",
              "      <th>households</th>\n",
              "      <th>median_income</th>\n",
              "      <th>ocean_proximity</th>\n",
              "      <th>median_house_value</th>\n",
              "    </tr>\n",
              "  </thead>\n",
              "  <tbody>\n",
              "    <tr>\n",
              "      <th>0</th>\n",
              "      <td>-122.23</td>\n",
              "      <td>37.88</td>\n",
              "      <td>41.0</td>\n",
              "      <td>880.0</td>\n",
              "      <td>129.0</td>\n",
              "      <td>322.0</td>\n",
              "      <td>126.0</td>\n",
              "      <td>8.3252</td>\n",
              "      <td>3</td>\n",
              "      <td>452600.0</td>\n",
              "    </tr>\n",
              "    <tr>\n",
              "      <th>1</th>\n",
              "      <td>-122.22</td>\n",
              "      <td>37.86</td>\n",
              "      <td>21.0</td>\n",
              "      <td>7099.0</td>\n",
              "      <td>1106.0</td>\n",
              "      <td>2401.0</td>\n",
              "      <td>1138.0</td>\n",
              "      <td>8.3014</td>\n",
              "      <td>3</td>\n",
              "      <td>358500.0</td>\n",
              "    </tr>\n",
              "    <tr>\n",
              "      <th>2</th>\n",
              "      <td>-122.24</td>\n",
              "      <td>37.85</td>\n",
              "      <td>52.0</td>\n",
              "      <td>1467.0</td>\n",
              "      <td>190.0</td>\n",
              "      <td>496.0</td>\n",
              "      <td>177.0</td>\n",
              "      <td>7.2574</td>\n",
              "      <td>3</td>\n",
              "      <td>352100.0</td>\n",
              "    </tr>\n",
              "    <tr>\n",
              "      <th>3</th>\n",
              "      <td>-122.25</td>\n",
              "      <td>37.85</td>\n",
              "      <td>52.0</td>\n",
              "      <td>1274.0</td>\n",
              "      <td>235.0</td>\n",
              "      <td>558.0</td>\n",
              "      <td>219.0</td>\n",
              "      <td>5.6431</td>\n",
              "      <td>3</td>\n",
              "      <td>341300.0</td>\n",
              "    </tr>\n",
              "    <tr>\n",
              "      <th>4</th>\n",
              "      <td>-122.25</td>\n",
              "      <td>37.85</td>\n",
              "      <td>52.0</td>\n",
              "      <td>1627.0</td>\n",
              "      <td>280.0</td>\n",
              "      <td>565.0</td>\n",
              "      <td>259.0</td>\n",
              "      <td>3.8462</td>\n",
              "      <td>3</td>\n",
              "      <td>342200.0</td>\n",
              "    </tr>\n",
              "  </tbody>\n",
              "</table>\n",
              "</div>\n",
              "      <button class=\"colab-df-convert\" onclick=\"convertToInteractive('df-b5944277-86f0-4a3b-8d6c-05a05813341d')\"\n",
              "              title=\"Convert this dataframe to an interactive table.\"\n",
              "              style=\"display:none;\">\n",
              "        \n",
              "  <svg xmlns=\"http://www.w3.org/2000/svg\" height=\"24px\"viewBox=\"0 0 24 24\"\n",
              "       width=\"24px\">\n",
              "    <path d=\"M0 0h24v24H0V0z\" fill=\"none\"/>\n",
              "    <path d=\"M18.56 5.44l.94 2.06.94-2.06 2.06-.94-2.06-.94-.94-2.06-.94 2.06-2.06.94zm-11 1L8.5 8.5l.94-2.06 2.06-.94-2.06-.94L8.5 2.5l-.94 2.06-2.06.94zm10 10l.94 2.06.94-2.06 2.06-.94-2.06-.94-.94-2.06-.94 2.06-2.06.94z\"/><path d=\"M17.41 7.96l-1.37-1.37c-.4-.4-.92-.59-1.43-.59-.52 0-1.04.2-1.43.59L10.3 9.45l-7.72 7.72c-.78.78-.78 2.05 0 2.83L4 21.41c.39.39.9.59 1.41.59.51 0 1.02-.2 1.41-.59l7.78-7.78 2.81-2.81c.8-.78.8-2.07 0-2.86zM5.41 20L4 18.59l7.72-7.72 1.47 1.35L5.41 20z\"/>\n",
              "  </svg>\n",
              "      </button>\n",
              "      \n",
              "  <style>\n",
              "    .colab-df-container {\n",
              "      display:flex;\n",
              "      flex-wrap:wrap;\n",
              "      gap: 12px;\n",
              "    }\n",
              "\n",
              "    .colab-df-convert {\n",
              "      background-color: #E8F0FE;\n",
              "      border: none;\n",
              "      border-radius: 50%;\n",
              "      cursor: pointer;\n",
              "      display: none;\n",
              "      fill: #1967D2;\n",
              "      height: 32px;\n",
              "      padding: 0 0 0 0;\n",
              "      width: 32px;\n",
              "    }\n",
              "\n",
              "    .colab-df-convert:hover {\n",
              "      background-color: #E2EBFA;\n",
              "      box-shadow: 0px 1px 2px rgba(60, 64, 67, 0.3), 0px 1px 3px 1px rgba(60, 64, 67, 0.15);\n",
              "      fill: #174EA6;\n",
              "    }\n",
              "\n",
              "    [theme=dark] .colab-df-convert {\n",
              "      background-color: #3B4455;\n",
              "      fill: #D2E3FC;\n",
              "    }\n",
              "\n",
              "    [theme=dark] .colab-df-convert:hover {\n",
              "      background-color: #434B5C;\n",
              "      box-shadow: 0px 1px 3px 1px rgba(0, 0, 0, 0.15);\n",
              "      filter: drop-shadow(0px 1px 2px rgba(0, 0, 0, 0.3));\n",
              "      fill: #FFFFFF;\n",
              "    }\n",
              "  </style>\n",
              "\n",
              "      <script>\n",
              "        const buttonEl =\n",
              "          document.querySelector('#df-b5944277-86f0-4a3b-8d6c-05a05813341d button.colab-df-convert');\n",
              "        buttonEl.style.display =\n",
              "          google.colab.kernel.accessAllowed ? 'block' : 'none';\n",
              "\n",
              "        async function convertToInteractive(key) {\n",
              "          const element = document.querySelector('#df-b5944277-86f0-4a3b-8d6c-05a05813341d');\n",
              "          const dataTable =\n",
              "            await google.colab.kernel.invokeFunction('convertToInteractive',\n",
              "                                                     [key], {});\n",
              "          if (!dataTable) return;\n",
              "\n",
              "          const docLinkHtml = 'Like what you see? Visit the ' +\n",
              "            '<a target=\"_blank\" href=https://colab.research.google.com/notebooks/data_table.ipynb>data table notebook</a>'\n",
              "            + ' to learn more about interactive tables.';\n",
              "          element.innerHTML = '';\n",
              "          dataTable['output_type'] = 'display_data';\n",
              "          await google.colab.output.renderOutput(dataTable, element);\n",
              "          const docLink = document.createElement('div');\n",
              "          docLink.innerHTML = docLinkHtml;\n",
              "          element.appendChild(docLink);\n",
              "        }\n",
              "      </script>\n",
              "    </div>\n",
              "  </div>\n",
              "  "
            ]
          },
          "metadata": {},
          "execution_count": 3
        }
      ],
      "source": [
        "df.head()"
      ]
    },
    {
      "cell_type": "code",
      "execution_count": 4,
      "id": "584e62e4-716b-4fe5-b093-8cd0897b1147",
      "metadata": {
        "colab": {
          "base_uri": "https://localhost:8080/"
        },
        "id": "584e62e4-716b-4fe5-b093-8cd0897b1147",
        "outputId": "c3fab64c-028e-4181-b9ec-fa9e936269c6"
      },
      "outputs": [
        {
          "output_type": "execute_result",
          "data": {
            "text/plain": [
              "(20433, 10)"
            ]
          },
          "metadata": {},
          "execution_count": 4
        }
      ],
      "source": [
        "df.shape"
      ]
    },
    {
      "cell_type": "markdown",
      "id": "5dcbc720-9ae5-4573-b717-380fc57300db",
      "metadata": {
        "id": "5dcbc720-9ae5-4573-b717-380fc57300db"
      },
      "source": [
        "Vamos a separar la variable objetivo del resto de variables (accedemos al campo value para que los datos sean de tipo _numpy array_ y se puedan usar como variable de entrada de nuestra red):"
      ]
    },
    {
      "cell_type": "code",
      "execution_count": 5,
      "id": "66f94dde-c456-4e7c-8d66-c29989a936d5",
      "metadata": {
        "colab": {
          "base_uri": "https://localhost:8080/"
        },
        "id": "66f94dde-c456-4e7c-8d66-c29989a936d5",
        "outputId": "14857d58-ddcb-49cf-e6f6-eaece82f30bf"
      },
      "outputs": [
        {
          "output_type": "execute_result",
          "data": {
            "text/plain": [
              "Index(['longitude', 'latitude', 'housing_median_age', 'total_rooms',\n",
              "       'total_bedrooms', 'population', 'households', 'median_income',\n",
              "       'ocean_proximity', 'median_house_value'],\n",
              "      dtype='object')"
            ]
          },
          "metadata": {},
          "execution_count": 5
        }
      ],
      "source": [
        "df.columns"
      ]
    },
    {
      "cell_type": "code",
      "execution_count": 6,
      "id": "a3dc67f7-96c7-4d68-a9de-cd7e987d4317",
      "metadata": {
        "id": "a3dc67f7-96c7-4d68-a9de-cd7e987d4317"
      },
      "outputs": [],
      "source": [
        "x = df[['longitude', 'latitude', 'housing_median_age', 'total_rooms',\n",
        "       'total_bedrooms', 'population', 'households', 'median_income',\n",
        "       'ocean_proximity']].values\n",
        "y = df[['median_house_value']].values"
      ]
    },
    {
      "cell_type": "markdown",
      "id": "2c2083f7-4a8a-4d7e-8d84-29c7bc8ab5e4",
      "metadata": {
        "id": "2c2083f7-4a8a-4d7e-8d84-29c7bc8ab5e4"
      },
      "source": [
        "## 1. Establecer una función de coste adecuada a nuestro problema.\n",
        "\n",
        "En este caso, como es un problema de regresión y los valores de nuestros datos son tan grandes, elegimos la función de coste `mean_absolute_percentage_error`, este error varía entre los valores 100 y 0 donde 100 es el pero error que podemos llegar a tener y 0 es el mejor error, por lo que en nuestros entrenamientos buscaremos un error más cercano a 0."
      ]
    },
    {
      "cell_type": "code",
      "execution_count": 7,
      "id": "ecce9bab-53be-4608-9ed1-22681a002b45",
      "metadata": {
        "id": "ecce9bab-53be-4608-9ed1-22681a002b45"
      },
      "outputs": [],
      "source": [
        "actual_loss = 'mean_absolute_percentage_error'"
      ]
    },
    {
      "cell_type": "markdown",
      "id": "de461a42-39f5-4e95-834b-3e44dd827b1e",
      "metadata": {
        "id": "de461a42-39f5-4e95-834b-3e44dd827b1e"
      },
      "source": [
        "## 2. Overfitting sobre un pequeño conjunto de datos.\n",
        "\n",
        "Ahora, como ya hemos visto en clase vamos a encontrar una estructura de red que encaje con los datos que vamos a utilizar. Vamos a crear varias redes a ver que talfuncionan.\n",
        "\n",
        "Para hacer entrenamientos rápidos y ver si la red se adapta a los datos vamos a usar solo un subconjunto de los datos, es decir usaremos 1000 datos y no usaremos conjunto de validación. "
      ]
    },
    {
      "cell_type": "markdown",
      "id": "be35e870-17dc-4bd6-b980-dfc15407e273",
      "metadata": {
        "id": "be35e870-17dc-4bd6-b980-dfc15407e273"
      },
      "source": [
        "### <font color=\"#004D7F\" size=4>Ejercicio 1</font>\n",
        "\n",
        "Crear una red con la siguiente configuración y entrénala:\n",
        "\n",
        "- **Configuración de la red**:\n",
        "    - Arquitectura de la red:\n",
        "        - *1º Capa*: capa de entrada donde indiques la dimensión de los datos.\n",
        "        - *2º Capa*: capa densa con 8 neuronas y función de activación *relu*.\n",
        "        - *3º Capa*: capa densa con 8 neuronas y función de activación *relu*.\n",
        "        - *4º Capa*: capa de salida con una neurona sin función de activación.\n",
        "        \n",
        "    - Tipo de entrenamiento:\n",
        "        - *Epochs*: 30\n",
        "        - *Optimizador*: *adam*\n",
        "        - *Learning Rate*: 0.001"
      ]
    },
    {
      "cell_type": "code",
      "execution_count": 8,
      "metadata": {
        "colab": {
          "base_uri": "https://localhost:8080/"
        },
        "id": "9a4fb414-5ca3-47bc-a796-cfbe3ba2252f",
        "outputId": "103b3719-7df3-49a4-a00b-03201a42474c"
      },
      "outputs": [
        {
          "output_type": "stream",
          "name": "stdout",
          "text": [
            "Model: \"sequential\"\n",
            "_________________________________________________________________\n",
            " Layer (type)                Output Shape              Param #   \n",
            "=================================================================\n",
            " dense (Dense)               (None, 8)                 80        \n",
            "                                                                 \n",
            " dense_1 (Dense)             (None, 8)                 72        \n",
            "                                                                 \n",
            " dense_2 (Dense)             (None, 1)                 9         \n",
            "                                                                 \n",
            "=================================================================\n",
            "Total params: 161\n",
            "Trainable params: 161\n",
            "Non-trainable params: 0\n",
            "_________________________________________________________________\n"
          ]
        }
      ],
      "source": [
        "# Definimos la red\n",
        "model = tf.keras.models.Sequential([\n",
        "        tf.keras.layers.InputLayer(input_shape=(9,)),\n",
        "        tf.keras.layers.Dense(8, activation = 'relu'),\n",
        "        tf.keras.layers.Dense(8, activation = 'relu'),\n",
        "        tf.keras.layers.Dense(1)                            \n",
        "])\n",
        "\n",
        "model.summary()"
      ],
      "id": "9a4fb414-5ca3-47bc-a796-cfbe3ba2252f"
    },
    {
      "cell_type": "code",
      "source": [
        "# Definimos el optimizador\n",
        "opt = tf.keras.optimizers.Adam(learning_rate = 0.001)\n",
        "\n",
        "# Compilamos el modelo\n",
        "model.compile(optimizer = opt\n",
        "              ,loss     = actual_loss\n",
        "              ,metrics   = ['mse'])"
      ],
      "metadata": {
        "id": "ilu4oxaO-duT"
      },
      "execution_count": 9,
      "outputs": [],
      "id": "ilu4oxaO-duT"
    },
    {
      "cell_type": "code",
      "source": [
        "# Entrenamos para las 2000 primeras imágenes y durante 30 epochs\n",
        "hist = model.fit(x[0:2000], y[0:2000], epochs=30)"
      ],
      "metadata": {
        "colab": {
          "base_uri": "https://localhost:8080/"
        },
        "id": "8JOgVQU6AwQc",
        "outputId": "fbf989b3-408f-40c4-cdc7-e988e9a2e537"
      },
      "execution_count": 10,
      "outputs": [
        {
          "output_type": "stream",
          "name": "stdout",
          "text": [
            "Epoch 1/30\n",
            "63/63 [==============================] - 1s 1ms/step - loss: 99.1995 - mse: 45424594944.0000\n",
            "Epoch 2/30\n",
            "63/63 [==============================] - 0s 1ms/step - loss: 97.6918 - mse: 44446896128.0000\n",
            "Epoch 3/30\n",
            "63/63 [==============================] - 0s 1ms/step - loss: 94.5696 - mse: 42484039680.0000\n",
            "Epoch 4/30\n",
            "63/63 [==============================] - 0s 2ms/step - loss: 88.9149 - mse: 39059935232.0000\n",
            "Epoch 5/30\n",
            "63/63 [==============================] - 0s 2ms/step - loss: 79.3736 - mse: 33993517056.0000\n",
            "Epoch 6/30\n",
            "63/63 [==============================] - 0s 1ms/step - loss: 67.4908 - mse: 27739879424.0000\n",
            "Epoch 7/30\n",
            "63/63 [==============================] - 0s 1ms/step - loss: 56.9157 - mse: 22409185280.0000\n",
            "Epoch 8/30\n",
            "63/63 [==============================] - 0s 2ms/step - loss: 51.2404 - mse: 19432574976.0000\n",
            "Epoch 9/30\n",
            "63/63 [==============================] - 0s 2ms/step - loss: 49.4945 - mse: 18375421952.0000\n",
            "Epoch 10/30\n",
            "63/63 [==============================] - 0s 1ms/step - loss: 49.1126 - mse: 18165798912.0000\n",
            "Epoch 11/30\n",
            "63/63 [==============================] - 0s 1ms/step - loss: 48.9851 - mse: 18071214080.0000\n",
            "Epoch 12/30\n",
            "63/63 [==============================] - 0s 1ms/step - loss: 48.8918 - mse: 18012620800.0000\n",
            "Epoch 13/30\n",
            "63/63 [==============================] - 0s 1ms/step - loss: 48.7820 - mse: 17952157696.0000\n",
            "Epoch 14/30\n",
            "63/63 [==============================] - 0s 2ms/step - loss: 48.6864 - mse: 17884581888.0000\n",
            "Epoch 15/30\n",
            "63/63 [==============================] - 0s 2ms/step - loss: 48.5931 - mse: 17859229696.0000\n",
            "Epoch 16/30\n",
            "63/63 [==============================] - 0s 2ms/step - loss: 48.4919 - mse: 17781633024.0000\n",
            "Epoch 17/30\n",
            "63/63 [==============================] - 0s 1ms/step - loss: 48.3874 - mse: 17746114560.0000\n",
            "Epoch 18/30\n",
            "63/63 [==============================] - 0s 2ms/step - loss: 48.3037 - mse: 17741049856.0000\n",
            "Epoch 19/30\n",
            "63/63 [==============================] - 0s 2ms/step - loss: 48.2198 - mse: 17653151744.0000\n",
            "Epoch 20/30\n",
            "63/63 [==============================] - 0s 2ms/step - loss: 48.0840 - mse: 17580914688.0000\n",
            "Epoch 21/30\n",
            "63/63 [==============================] - 0s 2ms/step - loss: 48.0117 - mse: 17551728640.0000\n",
            "Epoch 22/30\n",
            "63/63 [==============================] - 0s 1ms/step - loss: 47.8684 - mse: 17482958848.0000\n",
            "Epoch 23/30\n",
            "63/63 [==============================] - 0s 1ms/step - loss: 47.7738 - mse: 17456349184.0000\n",
            "Epoch 24/30\n",
            "63/63 [==============================] - 0s 2ms/step - loss: 47.6579 - mse: 17354027008.0000\n",
            "Epoch 25/30\n",
            "63/63 [==============================] - 0s 2ms/step - loss: 47.5591 - mse: 17296193536.0000\n",
            "Epoch 26/30\n",
            "63/63 [==============================] - 0s 2ms/step - loss: 47.4397 - mse: 17273708544.0000\n",
            "Epoch 27/30\n",
            "63/63 [==============================] - 0s 1ms/step - loss: 47.3259 - mse: 17216284672.0000\n",
            "Epoch 28/30\n",
            "63/63 [==============================] - 0s 1ms/step - loss: 47.2171 - mse: 17120425984.0000\n",
            "Epoch 29/30\n",
            "63/63 [==============================] - 0s 1ms/step - loss: 47.0947 - mse: 17054751744.0000\n",
            "Epoch 30/30\n",
            "63/63 [==============================] - 0s 2ms/step - loss: 46.9732 - mse: 16986555392.0000\n"
          ]
        }
      ],
      "id": "8JOgVQU6AwQc"
    },
    {
      "cell_type": "markdown",
      "id": "fdb3cb0e-6ed1-4a13-a391-4166ef00b2ed",
      "metadata": {
        "id": "fdb3cb0e-6ed1-4a13-a391-4166ef00b2ed"
      },
      "source": [
        "### <font color=\"#004D7F\" size=4>Ejercicio 2</font>\n",
        "\n",
        "Vamos a complicar un poco más la arquitectura de la red:\n",
        "\n",
        "- **Configuración de la red**:\n",
        "    - Arquitectura de la red:\n",
        "        - *1º Capa*: capa de entrada donde indiques la dimensión de los datos.\n",
        "        - *2º Capa*: capa densa con 64 neuronas y función de activación *relu*.\n",
        "        - *3º Capa*: capa densa con 32 neuronas y función de activación *relu*.\n",
        "        - *4º Capa*: capa densa con 32 neuronas y función de activación *relu*.\n",
        "        - *5º Capa*: capa de salida con una neurona sin función de activación.\n",
        "        \n",
        "    - Tipo de entrenamiento:\n",
        "        - *Epochs*: 30\n",
        "        - *Optimizador*: *adam*\n",
        "        - *Learning Rate*: 0.001"
      ]
    },
    {
      "cell_type": "code",
      "execution_count": 11,
      "metadata": {
        "colab": {
          "base_uri": "https://localhost:8080/"
        },
        "id": "e5c9b03d-ec66-4cfc-bcc5-8502b0bf6250",
        "outputId": "96cd3ee1-a078-4412-fe27-f42e777bbb9a"
      },
      "outputs": [
        {
          "output_type": "stream",
          "name": "stdout",
          "text": [
            "Model: \"sequential_1\"\n",
            "_________________________________________________________________\n",
            " Layer (type)                Output Shape              Param #   \n",
            "=================================================================\n",
            " dense_3 (Dense)             (None, 64)                640       \n",
            "                                                                 \n",
            " dense_4 (Dense)             (None, 32)                2080      \n",
            "                                                                 \n",
            " dense_5 (Dense)             (None, 32)                1056      \n",
            "                                                                 \n",
            " dense_6 (Dense)             (None, 1)                 33        \n",
            "                                                                 \n",
            "=================================================================\n",
            "Total params: 3,809\n",
            "Trainable params: 3,809\n",
            "Non-trainable params: 0\n",
            "_________________________________________________________________\n"
          ]
        }
      ],
      "source": [
        "# Definimos la red\n",
        "model = tf.keras.models.Sequential([\n",
        "        tf.keras.layers.InputLayer(input_shape=(9,)),\n",
        "        tf.keras.layers.Dense(64, activation = 'relu'),\n",
        "        tf.keras.layers.Dense(32, activation = 'relu'),\n",
        "        tf.keras.layers.Dense(32, activation = 'relu'),\n",
        "        tf.keras.layers.Dense(1)                            \n",
        "])\n",
        "\n",
        "model.summary()"
      ],
      "id": "e5c9b03d-ec66-4cfc-bcc5-8502b0bf6250"
    },
    {
      "cell_type": "code",
      "source": [
        "# Definimos el optimizador\n",
        "opt = tf.keras.optimizers.Adam(learning_rate = 0.001)\n",
        "\n",
        "# Compilamos el modelo\n",
        "model.compile(optimizer = opt\n",
        "              ,loss     = actual_loss\n",
        "              ,metrics   = ['mse'])"
      ],
      "metadata": {
        "id": "KT7bFA1WFplb"
      },
      "execution_count": 12,
      "outputs": [],
      "id": "KT7bFA1WFplb"
    },
    {
      "cell_type": "code",
      "source": [
        "# Entrenamos para las 2000 primeras imágenes y durante 30 epochs\n",
        "hist = model.fit(x[0:2000], y[0:2000], epochs=30)"
      ],
      "metadata": {
        "colab": {
          "base_uri": "https://localhost:8080/"
        },
        "id": "FBEFXqV3FxjU",
        "outputId": "45772b8e-fa9b-4cf7-b6a0-c2f765280a77"
      },
      "execution_count": 13,
      "outputs": [
        {
          "output_type": "stream",
          "name": "stdout",
          "text": [
            "Epoch 1/30\n",
            "63/63 [==============================] - 1s 2ms/step - loss: 98.7940 - mse: 45100212224.0000\n",
            "Epoch 2/30\n",
            "63/63 [==============================] - 0s 2ms/step - loss: 82.5732 - mse: 35589165056.0000\n",
            "Epoch 3/30\n",
            "63/63 [==============================] - 0s 2ms/step - loss: 50.8683 - mse: 18815762432.0000\n",
            "Epoch 4/30\n",
            "63/63 [==============================] - 0s 2ms/step - loss: 48.9743 - mse: 18018017280.0000\n",
            "Epoch 5/30\n",
            "63/63 [==============================] - 0s 2ms/step - loss: 48.5352 - mse: 17773219840.0000\n",
            "Epoch 6/30\n",
            "63/63 [==============================] - 0s 2ms/step - loss: 48.0761 - mse: 17567412224.0000\n",
            "Epoch 7/30\n",
            "63/63 [==============================] - 0s 2ms/step - loss: 47.5779 - mse: 17232103424.0000\n",
            "Epoch 8/30\n",
            "63/63 [==============================] - 0s 2ms/step - loss: 46.9141 - mse: 16843692032.0000\n",
            "Epoch 9/30\n",
            "63/63 [==============================] - 0s 2ms/step - loss: 46.3271 - mse: 16696851456.0000\n",
            "Epoch 10/30\n",
            "63/63 [==============================] - 0s 2ms/step - loss: 45.3224 - mse: 16043623424.0000\n",
            "Epoch 11/30\n",
            "63/63 [==============================] - 0s 2ms/step - loss: 44.4190 - mse: 15743222784.0000\n",
            "Epoch 12/30\n",
            "63/63 [==============================] - 0s 2ms/step - loss: 43.2857 - mse: 14969965568.0000\n",
            "Epoch 13/30\n",
            "63/63 [==============================] - 0s 2ms/step - loss: 41.8606 - mse: 14403985408.0000\n",
            "Epoch 14/30\n",
            "63/63 [==============================] - 0s 2ms/step - loss: 40.6625 - mse: 13605288960.0000\n",
            "Epoch 15/30\n",
            "63/63 [==============================] - 0s 2ms/step - loss: 39.5273 - mse: 12998766592.0000\n",
            "Epoch 16/30\n",
            "63/63 [==============================] - 0s 2ms/step - loss: 38.5130 - mse: 12347596800.0000\n",
            "Epoch 17/30\n",
            "63/63 [==============================] - 0s 2ms/step - loss: 37.9812 - mse: 11965597696.0000\n",
            "Epoch 18/30\n",
            "63/63 [==============================] - 0s 2ms/step - loss: 37.3124 - mse: 11277599744.0000\n",
            "Epoch 19/30\n",
            "63/63 [==============================] - 0s 2ms/step - loss: 36.9105 - mse: 11096468480.0000\n",
            "Epoch 20/30\n",
            "63/63 [==============================] - 0s 2ms/step - loss: 36.6364 - mse: 10731184128.0000\n",
            "Epoch 21/30\n",
            "63/63 [==============================] - 0s 2ms/step - loss: 36.4409 - mse: 10693052416.0000\n",
            "Epoch 22/30\n",
            "63/63 [==============================] - 0s 2ms/step - loss: 36.1972 - mse: 10056192000.0000\n",
            "Epoch 23/30\n",
            "63/63 [==============================] - 0s 2ms/step - loss: 35.9213 - mse: 10083476480.0000\n",
            "Epoch 24/30\n",
            "63/63 [==============================] - 0s 2ms/step - loss: 35.8607 - mse: 9739570176.0000\n",
            "Epoch 25/30\n",
            "63/63 [==============================] - 0s 2ms/step - loss: 35.6886 - mse: 9741176832.0000\n",
            "Epoch 26/30\n",
            "63/63 [==============================] - 0s 2ms/step - loss: 35.6702 - mse: 9877908480.0000\n",
            "Epoch 27/30\n",
            "63/63 [==============================] - 0s 2ms/step - loss: 35.5062 - mse: 9583401984.0000\n",
            "Epoch 28/30\n",
            "63/63 [==============================] - 0s 2ms/step - loss: 35.4516 - mse: 9624269824.0000\n",
            "Epoch 29/30\n",
            "63/63 [==============================] - 0s 2ms/step - loss: 35.5467 - mse: 9311134720.0000\n",
            "Epoch 30/30\n",
            "63/63 [==============================] - 0s 2ms/step - loss: 35.3910 - mse: 9288610816.0000\n"
          ]
        }
      ],
      "id": "FBEFXqV3FxjU"
    },
    {
      "cell_type": "markdown",
      "id": "5a95d5de-4044-46f0-a5c1-18e9a1514c55",
      "metadata": {
        "id": "5a95d5de-4044-46f0-a5c1-18e9a1514c55"
      },
      "source": [
        "### <font color=\"#004D7F\" size=4>Ejercicio 3</font>\n",
        "\n",
        "Vamos a complicar aun más la arquitectura de la red:\n",
        "\n",
        "- **Configuración de la red**:\n",
        "    - Arquitectura de la red:\n",
        "        - *1º Capa*: capa de entrada donde indiques la dimensión de los datos.\n",
        "        - *2º Capa*: capa densa con 128 neuronas y función de activación *relu*.\n",
        "        - *3º Capa*: capa densa con 64 neuronas y función de activación *relu*.\n",
        "        - *4º Capa*: capa densa con 32 neuronas y función de activación *relu*.\n",
        "        - *5º Capa*: capa densa con 16 neuronas y función de activación *relu*.\n",
        "        - *6º Capa*: capa de salida con una neurona sin función de activación.\n",
        "        \n",
        "    - Tipo de entrenamiento:\n",
        "        - *Epochs*: 30\n",
        "        - *Optimizador*: *adam*\n",
        "        - *Learning Rate*: 0.001"
      ]
    },
    {
      "cell_type": "code",
      "execution_count": 14,
      "metadata": {
        "colab": {
          "base_uri": "https://localhost:8080/"
        },
        "id": "038f48ba-ed0f-44d1-a57c-ceca899347af",
        "outputId": "0e22eda1-71aa-4ede-92ec-79cb52d68fed"
      },
      "outputs": [
        {
          "output_type": "stream",
          "name": "stdout",
          "text": [
            "Model: \"sequential_2\"\n",
            "_________________________________________________________________\n",
            " Layer (type)                Output Shape              Param #   \n",
            "=================================================================\n",
            " dense_7 (Dense)             (None, 128)               1280      \n",
            "                                                                 \n",
            " dense_8 (Dense)             (None, 64)                8256      \n",
            "                                                                 \n",
            " dense_9 (Dense)             (None, 32)                2080      \n",
            "                                                                 \n",
            " dense_10 (Dense)            (None, 16)                528       \n",
            "                                                                 \n",
            " dense_11 (Dense)            (None, 1)                 17        \n",
            "                                                                 \n",
            "=================================================================\n",
            "Total params: 12,161\n",
            "Trainable params: 12,161\n",
            "Non-trainable params: 0\n",
            "_________________________________________________________________\n"
          ]
        }
      ],
      "source": [
        "# Definimos la red\n",
        "model = tf.keras.models.Sequential([\n",
        "        tf.keras.layers.InputLayer(input_shape=(9,)),\n",
        "        tf.keras.layers.Dense(128, activation = 'relu'),\n",
        "        tf.keras.layers.Dense(64, activation = 'relu'),\n",
        "        tf.keras.layers.Dense(32, activation = 'relu'),\n",
        "        tf.keras.layers.Dense(16, activation = 'relu'),\n",
        "        tf.keras.layers.Dense(1)                            \n",
        "])\n",
        "\n",
        "model.summary()"
      ],
      "id": "038f48ba-ed0f-44d1-a57c-ceca899347af"
    },
    {
      "cell_type": "code",
      "source": [
        "# Definimos el optimizador\n",
        "opt = tf.keras.optimizers.Adam(learning_rate = 0.001)\n",
        "\n",
        "# Compilamos el modelo\n",
        "model.compile(optimizer = opt\n",
        "              ,loss     = actual_loss\n",
        "              ,metrics   = ['mse'])"
      ],
      "metadata": {
        "id": "iSPNbg2yGwT_"
      },
      "execution_count": 15,
      "outputs": [],
      "id": "iSPNbg2yGwT_"
    },
    {
      "cell_type": "code",
      "source": [
        "# Entrenamos para las 2000 primeras imágenes y durante 30 epochs\n",
        "hist = model.fit(x[0:2000], y[0:2000], epochs=30)"
      ],
      "metadata": {
        "colab": {
          "base_uri": "https://localhost:8080/"
        },
        "id": "bUQyyKkGG2P0",
        "outputId": "1fe8d50b-d147-42e9-f18d-acca87843006"
      },
      "execution_count": 16,
      "outputs": [
        {
          "output_type": "stream",
          "name": "stdout",
          "text": [
            "Epoch 1/30\n",
            "63/63 [==============================] - 1s 2ms/step - loss: 89.9089 - mse: 39580520448.0000\n",
            "Epoch 2/30\n",
            "63/63 [==============================] - 0s 2ms/step - loss: 50.3918 - mse: 18816454656.0000\n",
            "Epoch 3/30\n",
            "63/63 [==============================] - 0s 2ms/step - loss: 48.4409 - mse: 17662261248.0000\n",
            "Epoch 4/30\n",
            "63/63 [==============================] - 0s 2ms/step - loss: 47.4361 - mse: 17366048768.0000\n",
            "Epoch 5/30\n",
            "63/63 [==============================] - 0s 2ms/step - loss: 46.1384 - mse: 16566771712.0000\n",
            "Epoch 6/30\n",
            "63/63 [==============================] - 0s 2ms/step - loss: 44.2803 - mse: 15551823872.0000\n",
            "Epoch 7/30\n",
            "63/63 [==============================] - 0s 2ms/step - loss: 41.9586 - mse: 14179960832.0000\n",
            "Epoch 8/30\n",
            "63/63 [==============================] - 0s 2ms/step - loss: 39.6398 - mse: 13086186496.0000\n",
            "Epoch 9/30\n",
            "63/63 [==============================] - 0s 2ms/step - loss: 38.1168 - mse: 12008608768.0000\n",
            "Epoch 10/30\n",
            "63/63 [==============================] - 0s 2ms/step - loss: 37.1139 - mse: 11131763712.0000\n",
            "Epoch 11/30\n",
            "63/63 [==============================] - 0s 2ms/step - loss: 36.5037 - mse: 10505115648.0000\n",
            "Epoch 12/30\n",
            "63/63 [==============================] - 0s 2ms/step - loss: 36.7061 - mse: 10153485312.0000\n",
            "Epoch 13/30\n",
            "63/63 [==============================] - 0s 2ms/step - loss: 36.3602 - mse: 10175222784.0000\n",
            "Epoch 14/30\n",
            "63/63 [==============================] - 0s 2ms/step - loss: 35.7690 - mse: 9758305280.0000\n",
            "Epoch 15/30\n",
            "63/63 [==============================] - 0s 2ms/step - loss: 35.8017 - mse: 9677800448.0000\n",
            "Epoch 16/30\n",
            "63/63 [==============================] - 0s 2ms/step - loss: 35.4620 - mse: 9463413760.0000\n",
            "Epoch 17/30\n",
            "63/63 [==============================] - 0s 2ms/step - loss: 35.2378 - mse: 9180349440.0000\n",
            "Epoch 18/30\n",
            "63/63 [==============================] - 0s 2ms/step - loss: 35.3459 - mse: 9406860288.0000\n",
            "Epoch 19/30\n",
            "63/63 [==============================] - 0s 2ms/step - loss: 35.0655 - mse: 9046809600.0000\n",
            "Epoch 20/30\n",
            "63/63 [==============================] - 0s 2ms/step - loss: 34.7829 - mse: 8957743104.0000\n",
            "Epoch 21/30\n",
            "63/63 [==============================] - 0s 2ms/step - loss: 34.8427 - mse: 8797320192.0000\n",
            "Epoch 22/30\n",
            "63/63 [==============================] - 0s 2ms/step - loss: 34.5566 - mse: 8803085312.0000\n",
            "Epoch 23/30\n",
            "63/63 [==============================] - 0s 2ms/step - loss: 34.3793 - mse: 8580693504.0000\n",
            "Epoch 24/30\n",
            "63/63 [==============================] - 0s 2ms/step - loss: 34.3537 - mse: 8759802880.0000\n",
            "Epoch 25/30\n",
            "63/63 [==============================] - 0s 2ms/step - loss: 34.1720 - mse: 8309118464.0000\n",
            "Epoch 26/30\n",
            "63/63 [==============================] - 0s 2ms/step - loss: 33.9454 - mse: 8301053440.0000\n",
            "Epoch 27/30\n",
            "63/63 [==============================] - 0s 2ms/step - loss: 33.7045 - mse: 8238581248.0000\n",
            "Epoch 28/30\n",
            "63/63 [==============================] - 0s 2ms/step - loss: 33.7379 - mse: 8245993472.0000\n",
            "Epoch 29/30\n",
            "63/63 [==============================] - 0s 2ms/step - loss: 33.3096 - mse: 7973747200.0000\n",
            "Epoch 30/30\n",
            "63/63 [==============================] - 0s 2ms/step - loss: 33.1420 - mse: 7933219840.0000\n"
          ]
        }
      ],
      "id": "bUQyyKkGG2P0"
    },
    {
      "cell_type": "markdown",
      "id": "16c6b16e-38c3-4535-a833-6c7f30195d97",
      "metadata": {
        "id": "16c6b16e-38c3-4535-a833-6c7f30195d97"
      },
      "source": [
        "### <font color=\"#004D7F\" size=4>Ejercicio 4</font>\n",
        "\n",
        "Vamos a hacer una última red con más capas y neuronas:\n",
        "\n",
        "- **Configuración de la red**:\n",
        "    - Arquitectura de la red:\n",
        "        - *1º Capa*: capa de entrada donde indiques la dimensión de los datos.\n",
        "        - *2º Capa*: capa densa con 1024 neuronas y función de activación *relu*.\n",
        "        - *3º Capa*: capa densa con 512 neuronas y función de activación *relu*.\n",
        "        - *4º Capa*: capa densa con 256 neuronas y función de activación *relu*.\n",
        "        - *5º Capa*: capa densa con 128 neuronas y función de activación *relu*.\n",
        "        - *6º Capa*: capa densa con 64 neuronas y función de activación *relu*.\n",
        "        - *7º Capa*: capa densa con 32 neuronas y función de activación *relu*.\n",
        "        - *8º Capa*: capa densa con 16 neuronas y función de activación *relu*.\n",
        "        - *9º Capa*: capa de salida con una neurona sin función de activación.\n",
        "        \n",
        "    - Tipo de entrenamiento:\n",
        "        - *Epochs*: 30\n",
        "        - *Optimizador*: *adam*\n",
        "        - *Learning Rate*: 0.001"
      ]
    },
    {
      "cell_type": "code",
      "execution_count": 17,
      "metadata": {
        "colab": {
          "base_uri": "https://localhost:8080/"
        },
        "id": "a734f432-b266-41e3-8b57-1cffdd59a8d9",
        "outputId": "6c95c374-1c5f-4fcc-bbb6-0fb1de7ab146"
      },
      "outputs": [
        {
          "output_type": "stream",
          "name": "stdout",
          "text": [
            "Model: \"sequential_3\"\n",
            "_________________________________________________________________\n",
            " Layer (type)                Output Shape              Param #   \n",
            "=================================================================\n",
            " dense_12 (Dense)            (None, 1024)              10240     \n",
            "                                                                 \n",
            " dense_13 (Dense)            (None, 512)               524800    \n",
            "                                                                 \n",
            " dense_14 (Dense)            (None, 256)               131328    \n",
            "                                                                 \n",
            " dense_15 (Dense)            (None, 128)               32896     \n",
            "                                                                 \n",
            " dense_16 (Dense)            (None, 64)                8256      \n",
            "                                                                 \n",
            " dense_17 (Dense)            (None, 32)                2080      \n",
            "                                                                 \n",
            " dense_18 (Dense)            (None, 16)                528       \n",
            "                                                                 \n",
            " dense_19 (Dense)            (None, 1)                 17        \n",
            "                                                                 \n",
            "=================================================================\n",
            "Total params: 710,145\n",
            "Trainable params: 710,145\n",
            "Non-trainable params: 0\n",
            "_________________________________________________________________\n"
          ]
        }
      ],
      "source": [
        "# Definimos la red\n",
        "model = tf.keras.models.Sequential([\n",
        "        tf.keras.layers.InputLayer(input_shape=(9,)),\n",
        "        tf.keras.layers.Dense(1024, activation = 'relu'),\n",
        "        tf.keras.layers.Dense(512,  activation = 'relu'),\n",
        "        tf.keras.layers.Dense(256,  activation = 'relu'),\n",
        "        tf.keras.layers.Dense(128,  activation = 'relu'),\n",
        "        tf.keras.layers.Dense(64,   activation = 'relu'),\n",
        "        tf.keras.layers.Dense(32,   activation = 'relu'),\n",
        "        tf.keras.layers.Dense(16,   activation = 'relu'),\n",
        "        tf.keras.layers.Dense(1)                            \n",
        "])\n",
        "\n",
        "model.summary()"
      ],
      "id": "a734f432-b266-41e3-8b57-1cffdd59a8d9"
    },
    {
      "cell_type": "code",
      "source": [
        "# Definimos el optimizador\n",
        "opt = tf.keras.optimizers.Adam(learning_rate = 0.001)\n",
        "\n",
        "# Compilamos el modelo\n",
        "model.compile(optimizer = opt\n",
        "              ,loss     = actual_loss\n",
        "              ,metrics   = ['mse'])"
      ],
      "metadata": {
        "id": "9HAM8RdoHsBl"
      },
      "execution_count": 18,
      "outputs": [],
      "id": "9HAM8RdoHsBl"
    },
    {
      "cell_type": "code",
      "source": [
        "# Entrenamos para las 2000 primeras imágenes y durante 30 epochs\n",
        "hist = model.fit(x[0:2000], y[0:2000], epochs=30)"
      ],
      "metadata": {
        "colab": {
          "base_uri": "https://localhost:8080/"
        },
        "id": "w7T_F0ftHyRo",
        "outputId": "a28ecdc8-edbc-4b25-e758-eda08a7a7c43"
      },
      "execution_count": 19,
      "outputs": [
        {
          "output_type": "stream",
          "name": "stdout",
          "text": [
            "Epoch 1/30\n",
            "63/63 [==============================] - 1s 12ms/step - loss: 67.4567 - mse: 28158437376.0000\n",
            "Epoch 2/30\n",
            "63/63 [==============================] - 1s 12ms/step - loss: 46.9559 - mse: 16984725504.0000\n",
            "Epoch 3/30\n",
            "63/63 [==============================] - 1s 12ms/step - loss: 39.8275 - mse: 13182286848.0000\n",
            "Epoch 4/30\n",
            "63/63 [==============================] - 1s 11ms/step - loss: 36.6464 - mse: 10190423040.0000\n",
            "Epoch 5/30\n",
            "63/63 [==============================] - 1s 12ms/step - loss: 36.6004 - mse: 9708301312.0000\n",
            "Epoch 6/30\n",
            "63/63 [==============================] - 1s 11ms/step - loss: 35.8847 - mse: 9290943488.0000\n",
            "Epoch 7/30\n",
            "63/63 [==============================] - 1s 11ms/step - loss: 35.1898 - mse: 8877618176.0000\n",
            "Epoch 8/30\n",
            "63/63 [==============================] - 1s 11ms/step - loss: 34.5969 - mse: 8667054080.0000\n",
            "Epoch 9/30\n",
            "63/63 [==============================] - 1s 12ms/step - loss: 34.7732 - mse: 8633371648.0000\n",
            "Epoch 10/30\n",
            "63/63 [==============================] - 1s 12ms/step - loss: 34.3175 - mse: 8308578304.0000\n",
            "Epoch 11/30\n",
            "63/63 [==============================] - 1s 11ms/step - loss: 32.7450 - mse: 7211660800.0000\n",
            "Epoch 12/30\n",
            "63/63 [==============================] - 1s 12ms/step - loss: 31.9893 - mse: 7152951808.0000\n",
            "Epoch 13/30\n",
            "63/63 [==============================] - 1s 12ms/step - loss: 30.8748 - mse: 6367954432.0000\n",
            "Epoch 14/30\n",
            "63/63 [==============================] - 1s 12ms/step - loss: 29.1255 - mse: 5531700736.0000\n",
            "Epoch 15/30\n",
            "63/63 [==============================] - 1s 12ms/step - loss: 29.7747 - mse: 5982488576.0000\n",
            "Epoch 16/30\n",
            "63/63 [==============================] - 1s 12ms/step - loss: 28.2892 - mse: 5202671616.0000\n",
            "Epoch 17/30\n",
            "63/63 [==============================] - 1s 12ms/step - loss: 27.9338 - mse: 4938513920.0000\n",
            "Epoch 18/30\n",
            "63/63 [==============================] - 1s 12ms/step - loss: 27.5448 - mse: 5094196736.0000\n",
            "Epoch 19/30\n",
            "63/63 [==============================] - 1s 12ms/step - loss: 26.5297 - mse: 4572044800.0000\n",
            "Epoch 20/30\n",
            "63/63 [==============================] - 1s 12ms/step - loss: 26.6740 - mse: 4798370816.0000\n",
            "Epoch 21/30\n",
            "63/63 [==============================] - 1s 11ms/step - loss: 25.9837 - mse: 4418012672.0000\n",
            "Epoch 22/30\n",
            "63/63 [==============================] - 1s 12ms/step - loss: 26.3400 - mse: 4584777216.0000\n",
            "Epoch 23/30\n",
            "63/63 [==============================] - 1s 11ms/step - loss: 26.2340 - mse: 4544354304.0000\n",
            "Epoch 24/30\n",
            "63/63 [==============================] - 1s 11ms/step - loss: 25.1811 - mse: 4209244160.0000\n",
            "Epoch 25/30\n",
            "63/63 [==============================] - 1s 12ms/step - loss: 24.3978 - mse: 4086776832.0000\n",
            "Epoch 26/30\n",
            "63/63 [==============================] - 1s 12ms/step - loss: 25.0580 - mse: 4074177792.0000\n",
            "Epoch 27/30\n",
            "63/63 [==============================] - 1s 12ms/step - loss: 24.9873 - mse: 4151958016.0000\n",
            "Epoch 28/30\n",
            "63/63 [==============================] - 1s 11ms/step - loss: 24.8460 - mse: 4091108352.0000\n",
            "Epoch 29/30\n",
            "63/63 [==============================] - 1s 12ms/step - loss: 24.2691 - mse: 4069558272.0000\n",
            "Epoch 30/30\n",
            "63/63 [==============================] - 1s 12ms/step - loss: 24.6794 - mse: 4222214912.0000\n"
          ]
        }
      ],
      "id": "w7T_F0ftHyRo"
    },
    {
      "cell_type": "markdown",
      "id": "22d5229a-67db-44b9-ace7-a7878b6ca373",
      "metadata": {
        "id": "22d5229a-67db-44b9-ace7-a7878b6ca373"
      },
      "source": [
        "### <font color=\"#004D7F\" size=4>Ejercicio 5</font>\n",
        "Compara los resultados obtenidos en cada una de las arquitecturas definidas y quédate con la mejor. **¿En qué experimento se obtiene los mejores resultados?**\n",
        "\n",
        "La arquitectura elegida la usaremos en el caso práctico para seguir ajustando nuestro modelo y alcanzar un buen rendimiento."
      ]
    },
    {
      "cell_type": "markdown",
      "source": [
        "**El modelo con un mejor resultado es el último, el de la estructura más compleja con el error más pequeño de 23.72.**\n",
        "\n",
        "Para el resto de modelos el error es superior a 30, por lo que la arquitectura elegida para el caso prático debe ser la última. "
      ],
      "metadata": {
        "id": "S-eP5Wq6Kal_"
      },
      "id": "S-eP5Wq6Kal_"
    },
    {
      "cell_type": "markdown",
      "id": "2f38ec3e-3d9e-4b52-a9c2-40a4f8857e6f",
      "metadata": {
        "id": "2f38ec3e-3d9e-4b52-a9c2-40a4f8857e6f"
      },
      "source": [
        "## 3. Elegimos un Optimizer."
      ]
    },
    {
      "cell_type": "markdown",
      "id": "ed8c324c-5701-442e-9127-e1891e88e475",
      "metadata": {
        "id": "ed8c324c-5701-442e-9127-e1891e88e475"
      },
      "source": [
        "Hemos establecido Adam en los entrenamientos anteriores. Vamos a comprobarlo para el conjunto de validación como funciona y después probaremos a usar un optimizador SGD."
      ]
    },
    {
      "cell_type": "markdown",
      "id": "17f6353c-328c-46ab-8b48-53ad5da43948",
      "metadata": {
        "tags": [],
        "id": "17f6353c-328c-46ab-8b48-53ad5da43948"
      },
      "source": [
        "### <font color=\"#004D7F\" size=4>Ejercicio 6</font>\n",
        "\n",
        "Usa la mejor arquitectura y configuración de entrenamiento de los ejercicios anteriores y entrena con la siguiente configuración:\n",
        "\n",
        "- Usa un `validation_split` de 0.2\n",
        "- Utiliza todos los datos y no solo 1000.\n",
        "- Usa 5 epochs en total."
      ]
    },
    {
      "cell_type": "code",
      "execution_count": 24,
      "id": "7bdad0c5-e32f-42c3-a00b-8adae93b2997",
      "metadata": {
        "id": "7bdad0c5-e32f-42c3-a00b-8adae93b2997"
      },
      "outputs": [],
      "source": [
        "# Definimos la red\n",
        "model = tf.keras.models.Sequential([\n",
        "        tf.keras.layers.InputLayer(input_shape=(9,)),\n",
        "        tf.keras.layers.Dense(1024, activation = 'relu'),\n",
        "        tf.keras.layers.Dense(512,  activation = 'relu'),\n",
        "        tf.keras.layers.Dense(256,  activation = 'relu'),\n",
        "        tf.keras.layers.Dense(128,  activation = 'relu'),\n",
        "        tf.keras.layers.Dense(64,   activation = 'relu'),\n",
        "        tf.keras.layers.Dense(32,   activation = 'relu'),\n",
        "        tf.keras.layers.Dense(16,   activation = 'relu'),\n",
        "        tf.keras.layers.Dense(1)                            \n",
        "])\n",
        "\n",
        "# Definimos el optimizador\n",
        "opt = tf.keras.optimizers.Adam(learning_rate = 0.001)\n",
        "\n",
        "# Compilamos el modelo\n",
        "model.compile(optimizer = opt\n",
        "              ,loss     = actual_loss\n",
        "              ,metrics   = ['mse'])\n"
      ]
    },
    {
      "cell_type": "code",
      "source": [
        "hist = model.fit(x, y, validation_split=0.2, epochs=5)"
      ],
      "metadata": {
        "colab": {
          "base_uri": "https://localhost:8080/"
        },
        "id": "s_UNeyfkJ01M",
        "outputId": "3a41a3ad-5473-4c6b-ac96-29fd058b7b79"
      },
      "id": "s_UNeyfkJ01M",
      "execution_count": 25,
      "outputs": [
        {
          "output_type": "stream",
          "name": "stdout",
          "text": [
            "Epoch 1/5\n",
            "511/511 [==============================] - 7s 12ms/step - loss: 47.9685 - mse: 20356384768.0000 - val_loss: 46.7061 - val_mse: 21429348352.0000\n",
            "Epoch 2/5\n",
            "511/511 [==============================] - 7s 15ms/step - loss: 40.5254 - mse: 14647263232.0000 - val_loss: 42.9591 - val_mse: 13285870592.0000\n",
            "Epoch 3/5\n",
            "511/511 [==============================] - 10s 20ms/step - loss: 37.4898 - mse: 11658259456.0000 - val_loss: 38.8294 - val_mse: 13211436032.0000\n",
            "Epoch 4/5\n",
            "511/511 [==============================] - 8s 15ms/step - loss: 34.6225 - mse: 9859941376.0000 - val_loss: 38.0751 - val_mse: 12861975552.0000\n",
            "Epoch 5/5\n",
            "511/511 [==============================] - 6s 12ms/step - loss: 32.7891 - mse: 8963173376.0000 - val_loss: 34.6308 - val_mse: 8502236672.0000\n"
          ]
        }
      ]
    },
    {
      "cell_type": "markdown",
      "id": "56a927c1-3ca7-431a-90d1-e9554c0d6dcb",
      "metadata": {
        "tags": [],
        "id": "56a927c1-3ca7-431a-90d1-e9554c0d6dcb"
      },
      "source": [
        "### <font color=\"#004D7F\" size=4>Ejercicio 7</font>\n",
        "\n",
        "Realiza el mismo entrenamiento que el ejercicio anterior pero usa un optimizador **SGD** en lugar de un Adam."
      ]
    },
    {
      "cell_type": "code",
      "execution_count": 26,
      "id": "8ca696c2-cdce-4391-9d81-20d768bf0537",
      "metadata": {
        "id": "8ca696c2-cdce-4391-9d81-20d768bf0537"
      },
      "outputs": [],
      "source": [
        "# Definimos la red\n",
        "model = tf.keras.models.Sequential([\n",
        "        tf.keras.layers.InputLayer(input_shape=(9,)),\n",
        "        tf.keras.layers.Dense(1024, activation = 'relu'),\n",
        "        tf.keras.layers.Dense(512,  activation = 'relu'),\n",
        "        tf.keras.layers.Dense(256,  activation = 'relu'),\n",
        "        tf.keras.layers.Dense(128,  activation = 'relu'),\n",
        "        tf.keras.layers.Dense(64,   activation = 'relu'),\n",
        "        tf.keras.layers.Dense(32,   activation = 'relu'),\n",
        "        tf.keras.layers.Dense(16,   activation = 'relu'),\n",
        "        tf.keras.layers.Dense(1)                            \n",
        "])\n",
        "\n",
        "# Definimos el optimizador\n",
        "opt = tf.keras.optimizers.SGD(learning_rate = 0.001)\n",
        "\n",
        "# Compilamos el modelo\n",
        "model.compile(optimizer = opt\n",
        "              ,loss     = actual_loss\n",
        "              ,metrics   = ['mse'])"
      ]
    },
    {
      "cell_type": "code",
      "source": [
        "hist = model.fit(x, y, validation_split=0.2, epochs=5)"
      ],
      "metadata": {
        "colab": {
          "base_uri": "https://localhost:8080/"
        },
        "id": "FJfblwWwN6xs",
        "outputId": "9b69f1ad-7890-41ba-aa63-b70bb5fdef74"
      },
      "id": "FJfblwWwN6xs",
      "execution_count": 27,
      "outputs": [
        {
          "output_type": "stream",
          "name": "stdout",
          "text": [
            "Epoch 1/5\n",
            "511/511 [==============================] - 6s 12ms/step - loss: 99.9533 - mse: 53744885760.0000 - val_loss: 99.8877 - val_mse: 65388019712.0000\n",
            "Epoch 2/5\n",
            "511/511 [==============================] - 6s 11ms/step - loss: 90.4246 - mse: 47847170048.0000 - val_loss: 56.5573 - val_mse: 30365820928.0000\n",
            "Epoch 3/5\n",
            "511/511 [==============================] - 5s 11ms/step - loss: 56.6154 - mse: 27030695936.0000 - val_loss: 56.3435 - val_mse: 30776334336.0000\n",
            "Epoch 4/5\n",
            "511/511 [==============================] - 6s 11ms/step - loss: 56.0184 - mse: 26811715584.0000 - val_loss: 56.4178 - val_mse: 32003117056.0000\n",
            "Epoch 5/5\n",
            "511/511 [==============================] - 5s 11ms/step - loss: 53.9897 - mse: 25519964160.0000 - val_loss: 52.5975 - val_mse: 24054743040.0000\n"
          ]
        }
      ]
    },
    {
      "cell_type": "markdown",
      "id": "e1964d40-54a1-4b33-83d0-f0102ffbc267",
      "metadata": {
        "tags": [],
        "id": "e1964d40-54a1-4b33-83d0-f0102ffbc267"
      },
      "source": [
        "### <font color=\"#004D7F\" size=4>Ejercicio 8</font>\n",
        "\n",
        "**¿Qué optimizador ha funcionado mejor?**\n",
        "\n",
        "El optimizador que eligas tendrás que usarlo en los siguientes ejercicios."
      ]
    },
    {
      "cell_type": "markdown",
      "source": [
        "El optimizador Adam funciona mucho mejor, con un error considerablemente menor, además de ser bastante más rápido.\n",
        "\n",
        "Por lo tanto es el escogido, a pesar de presentar un poco más de sobreajuste."
      ],
      "metadata": {
        "id": "hEKPekkOOsm0"
      },
      "id": "hEKPekkOOsm0"
    },
    {
      "cell_type": "markdown",
      "id": "77b03e79-c55c-48dd-815b-26536ed2923d",
      "metadata": {
        "id": "77b03e79-c55c-48dd-815b-26536ed2923d"
      },
      "source": [
        "## 4. Probar diferentes configuraciones con un número pequeño de epochs.\n",
        "\n",
        "Vamos a realizar diferentes experimentos cambiando el learning rate de nuestro optimizador."
      ]
    },
    {
      "cell_type": "markdown",
      "id": "5c01a951-e821-4346-b159-0bce6f98b133",
      "metadata": {
        "tags": [],
        "id": "5c01a951-e821-4346-b159-0bce6f98b133"
      },
      "source": [
        "### <font color=\"#004D7F\" size=4>Ejercicio 9</font>\n",
        "\n",
        "Realiza un entrenamiento con la arquitectura y el optimizador que mejor te ha funcionado y utilizar un **learning rate de 0.1**."
      ]
    },
    {
      "cell_type": "code",
      "execution_count": 28,
      "id": "58be2b19-aece-4194-86d9-254528c54bf1",
      "metadata": {
        "id": "58be2b19-aece-4194-86d9-254528c54bf1"
      },
      "outputs": [],
      "source": [
        "# Definimos la red\n",
        "model = tf.keras.models.Sequential([\n",
        "        tf.keras.layers.InputLayer(input_shape=(9,)),\n",
        "        tf.keras.layers.Dense(1024, activation = 'relu'),\n",
        "        tf.keras.layers.Dense(512,  activation = 'relu'),\n",
        "        tf.keras.layers.Dense(256,  activation = 'relu'),\n",
        "        tf.keras.layers.Dense(128,  activation = 'relu'),\n",
        "        tf.keras.layers.Dense(64,   activation = 'relu'),\n",
        "        tf.keras.layers.Dense(32,   activation = 'relu'),\n",
        "        tf.keras.layers.Dense(16,   activation = 'relu'),\n",
        "        tf.keras.layers.Dense(1)                            \n",
        "])\n",
        "\n",
        "# Definimos el optimizador\n",
        "opt = tf.keras.optimizers.Adam(learning_rate = 0.1)\n",
        "\n",
        "# Compilamos el modelo\n",
        "model.compile(optimizer = opt\n",
        "              ,loss     = actual_loss\n",
        "              ,metrics   = ['mse'])"
      ]
    },
    {
      "cell_type": "code",
      "source": [
        "hist = model.fit(x, y, validation_split=0.2, epochs=5)"
      ],
      "metadata": {
        "colab": {
          "base_uri": "https://localhost:8080/"
        },
        "id": "1Ws8XsinQDor",
        "outputId": "547bb3c1-2430-4648-bf54-91424ca22ae3"
      },
      "id": "1Ws8XsinQDor",
      "execution_count": 29,
      "outputs": [
        {
          "output_type": "stream",
          "name": "stdout",
          "text": [
            "Epoch 1/5\n",
            "511/511 [==============================] - 7s 13ms/step - loss: 188.2527 - mse: 30688237584384.0000 - val_loss: 50.2555 - val_mse: 28705568768.0000\n",
            "Epoch 2/5\n",
            "511/511 [==============================] - 7s 13ms/step - loss: 43.9527 - mse: 16920639488.0000 - val_loss: 46.7850 - val_mse: 14691013632.0000\n",
            "Epoch 3/5\n",
            "511/511 [==============================] - 6s 12ms/step - loss: 41.4642 - mse: 14989522944.0000 - val_loss: 44.3394 - val_mse: 22178490368.0000\n",
            "Epoch 4/5\n",
            "511/511 [==============================] - 7s 13ms/step - loss: 39.6982 - mse: 13477186560.0000 - val_loss: 38.1256 - val_mse: 11935060992.0000\n",
            "Epoch 5/5\n",
            "511/511 [==============================] - 7s 13ms/step - loss: 35.7711 - mse: 10711843840.0000 - val_loss: 33.6643 - val_mse: 10528449536.0000\n"
          ]
        }
      ]
    },
    {
      "cell_type": "markdown",
      "id": "464a5792-743d-43f6-8cdd-651ad86309a1",
      "metadata": {
        "tags": [],
        "id": "464a5792-743d-43f6-8cdd-651ad86309a1"
      },
      "source": [
        "### <font color=\"#004D7F\" size=4>Ejercicio 10</font>\n",
        "\n",
        "Realiza el mismo entrenamiento que el ejercicio anterior pero esta vez usa un **learning rate de 0.0001**."
      ]
    },
    {
      "cell_type": "code",
      "execution_count": 30,
      "id": "fc098f90-e0e6-4984-8d2c-daf290f41f49",
      "metadata": {
        "id": "fc098f90-e0e6-4984-8d2c-daf290f41f49"
      },
      "outputs": [],
      "source": [
        "# Definimos la red\n",
        "model = tf.keras.models.Sequential([\n",
        "        tf.keras.layers.InputLayer(input_shape=(9,)),\n",
        "        tf.keras.layers.Dense(1024, activation = 'relu'),\n",
        "        tf.keras.layers.Dense(512,  activation = 'relu'),\n",
        "        tf.keras.layers.Dense(256,  activation = 'relu'),\n",
        "        tf.keras.layers.Dense(128,  activation = 'relu'),\n",
        "        tf.keras.layers.Dense(64,   activation = 'relu'),\n",
        "        tf.keras.layers.Dense(32,   activation = 'relu'),\n",
        "        tf.keras.layers.Dense(16,   activation = 'relu'),\n",
        "        tf.keras.layers.Dense(1)                            \n",
        "])\n",
        "\n",
        "# Definimos el optimizador\n",
        "opt = tf.keras.optimizers.Adam(learning_rate = 0.0001)\n",
        "\n",
        "# Compilamos el modelo\n",
        "model.compile(optimizer = opt\n",
        "              ,loss     = actual_loss\n",
        "              ,metrics   = ['mse'])"
      ]
    },
    {
      "cell_type": "code",
      "source": [
        "hist = model.fit(x, y, validation_split=0.2, epochs=5)"
      ],
      "metadata": {
        "colab": {
          "base_uri": "https://localhost:8080/"
        },
        "id": "1DtytO5mRfJe",
        "outputId": "97ac20c9-4a03-4fe1-a887-df4547256fb8"
      },
      "id": "1DtytO5mRfJe",
      "execution_count": 31,
      "outputs": [
        {
          "output_type": "stream",
          "name": "stdout",
          "text": [
            "Epoch 1/5\n",
            "511/511 [==============================] - 7s 12ms/step - loss: 62.8611 - mse: 30908313600.0000 - val_loss: 54.5193 - val_mse: 29978992640.0000\n",
            "Epoch 2/5\n",
            "511/511 [==============================] - 6s 13ms/step - loss: 48.6505 - mse: 22331412480.0000 - val_loss: 48.1535 - val_mse: 23801964544.0000\n",
            "Epoch 3/5\n",
            "511/511 [==============================] - 6s 12ms/step - loss: 42.5612 - mse: 17344192512.0000 - val_loss: 47.5099 - val_mse: 21165588480.0000\n",
            "Epoch 4/5\n",
            "511/511 [==============================] - 6s 12ms/step - loss: 41.6865 - mse: 16258280448.0000 - val_loss: 47.2327 - val_mse: 20961980416.0000\n",
            "Epoch 5/5\n",
            "511/511 [==============================] - 6s 12ms/step - loss: 41.1655 - mse: 15666521088.0000 - val_loss: 46.4695 - val_mse: 19898593280.0000\n"
          ]
        }
      ]
    },
    {
      "cell_type": "markdown",
      "id": "05214e09-3642-488e-9499-1659520cb329",
      "metadata": {
        "id": "05214e09-3642-488e-9499-1659520cb329"
      },
      "source": [
        "## 5. Ajuste refinado de los parámetros con más epochs. [Opcional]\n",
        "\n",
        "Por último vamos a realizar un entrenamiento más largo para ver hasta donde llega el rendimiento de nuestro modelo."
      ]
    },
    {
      "cell_type": "markdown",
      "id": "bce78f8d-3b8e-4450-8d7e-3545682b87e6",
      "metadata": {
        "tags": [],
        "id": "bce78f8d-3b8e-4450-8d7e-3545682b87e6"
      },
      "source": [
        "### <font color=\"#004D7F\" size=4>Ejercicio 11 [Opcional]</font> \n",
        "\n",
        "**¿Entre los entrenamientos usando learning rates igual a 0.001, 0.1 y 0.0001 cual ha funcionado mejor?**\n",
        "\n",
        "Con el experimento que mejor haya funcionado haz un entrenamiento usando 30 epochs y ver que tal funciona el entrenamiento con más epochs."
      ]
    },
    {
      "cell_type": "markdown",
      "source": [
        "Ha sido con un leaning rate de 0.001 con el que se ha obtenido un menor error, y por tanto con el que nos vamos a quedar."
      ],
      "metadata": {
        "id": "60r2ALcQSh0S"
      },
      "id": "60r2ALcQSh0S"
    },
    {
      "cell_type": "code",
      "execution_count": 32,
      "id": "c29c834b-2c2e-4d03-b870-a2078f76c44c",
      "metadata": {
        "id": "c29c834b-2c2e-4d03-b870-a2078f76c44c"
      },
      "outputs": [],
      "source": [
        "# Definimos la red\n",
        "model = tf.keras.models.Sequential([\n",
        "        tf.keras.layers.InputLayer(input_shape=(9,)),\n",
        "        tf.keras.layers.Dense(1024, activation = 'relu'),\n",
        "        tf.keras.layers.Dense(512,  activation = 'relu'),\n",
        "        tf.keras.layers.Dense(256,  activation = 'relu'),\n",
        "        tf.keras.layers.Dense(128,  activation = 'relu'),\n",
        "        tf.keras.layers.Dense(64,   activation = 'relu'),\n",
        "        tf.keras.layers.Dense(32,   activation = 'relu'),\n",
        "        tf.keras.layers.Dense(16,   activation = 'relu'),\n",
        "        tf.keras.layers.Dense(1)                            \n",
        "])\n",
        "\n",
        "# Definimos el optimizador\n",
        "opt = tf.keras.optimizers.Adam(learning_rate = 0.001)\n",
        "\n",
        "# Compilamos el modelo\n",
        "model.compile(optimizer = opt\n",
        "              ,loss     = actual_loss\n",
        "              ,metrics   = ['mse'])"
      ]
    },
    {
      "cell_type": "code",
      "source": [
        "hist = model.fit(x, y, validation_split=0.2, epochs=30)"
      ],
      "metadata": {
        "colab": {
          "base_uri": "https://localhost:8080/"
        },
        "id": "-2gN8vR2a5e0",
        "outputId": "302bfc58-8f6a-468d-8f26-e8776d1e4d02"
      },
      "id": "-2gN8vR2a5e0",
      "execution_count": 33,
      "outputs": [
        {
          "output_type": "stream",
          "name": "stdout",
          "text": [
            "Epoch 1/30\n",
            "511/511 [==============================] - 7s 13ms/step - loss: 47.6977 - mse: 20238592000.0000 - val_loss: 46.9655 - val_mse: 17020938240.0000\n",
            "Epoch 2/30\n",
            "511/511 [==============================] - 6s 13ms/step - loss: 40.9258 - mse: 15032146944.0000 - val_loss: 43.5460 - val_mse: 13602348032.0000\n",
            "Epoch 3/30\n",
            "511/511 [==============================] - 7s 13ms/step - loss: 36.8207 - mse: 11457460224.0000 - val_loss: 39.4110 - val_mse: 10465299456.0000\n",
            "Epoch 4/30\n",
            "511/511 [==============================] - 7s 13ms/step - loss: 34.9941 - mse: 10018782208.0000 - val_loss: 35.9371 - val_mse: 9603629056.0000\n",
            "Epoch 5/30\n",
            "511/511 [==============================] - 7s 13ms/step - loss: 32.1493 - mse: 8567905280.0000 - val_loss: 34.1783 - val_mse: 10922311680.0000\n",
            "Epoch 6/30\n",
            "511/511 [==============================] - 6s 12ms/step - loss: 30.9104 - mse: 8052169728.0000 - val_loss: 33.4396 - val_mse: 11114896384.0000\n",
            "Epoch 7/30\n",
            "511/511 [==============================] - 6s 12ms/step - loss: 30.3303 - mse: 7738622976.0000 - val_loss: 32.8445 - val_mse: 10952354816.0000\n",
            "Epoch 8/30\n",
            "511/511 [==============================] - 6s 13ms/step - loss: 29.4612 - mse: 7384204800.0000 - val_loss: 30.3992 - val_mse: 6790116864.0000\n",
            "Epoch 9/30\n",
            "511/511 [==============================] - 6s 13ms/step - loss: 29.0071 - mse: 7171399168.0000 - val_loss: 32.1895 - val_mse: 10952008704.0000\n",
            "Epoch 10/30\n",
            "511/511 [==============================] - 6s 12ms/step - loss: 27.8488 - mse: 6664835072.0000 - val_loss: 28.3559 - val_mse: 8388783616.0000\n",
            "Epoch 11/30\n",
            "511/511 [==============================] - 6s 12ms/step - loss: 28.3827 - mse: 6858330112.0000 - val_loss: 34.0672 - val_mse: 11918010368.0000\n",
            "Epoch 12/30\n",
            "511/511 [==============================] - 7s 13ms/step - loss: 27.1880 - mse: 6395452928.0000 - val_loss: 27.1021 - val_mse: 6718014976.0000\n",
            "Epoch 13/30\n",
            "511/511 [==============================] - 6s 12ms/step - loss: 27.5008 - mse: 6435247104.0000 - val_loss: 27.9219 - val_mse: 7868201984.0000\n",
            "Epoch 14/30\n",
            "511/511 [==============================] - 6s 12ms/step - loss: 28.2010 - mse: 6615523328.0000 - val_loss: 28.0138 - val_mse: 6849903104.0000\n",
            "Epoch 15/30\n",
            "511/511 [==============================] - 6s 12ms/step - loss: 27.2329 - mse: 6265321472.0000 - val_loss: 31.0343 - val_mse: 9862311936.0000\n",
            "Epoch 16/30\n",
            "511/511 [==============================] - 6s 12ms/step - loss: 27.6254 - mse: 6394410496.0000 - val_loss: 28.9591 - val_mse: 8580475392.0000\n",
            "Epoch 17/30\n",
            "511/511 [==============================] - 7s 14ms/step - loss: 26.5136 - mse: 6019078144.0000 - val_loss: 27.7505 - val_mse: 7464321536.0000\n",
            "Epoch 18/30\n",
            "511/511 [==============================] - 7s 13ms/step - loss: 26.3097 - mse: 5891158016.0000 - val_loss: 26.8686 - val_mse: 6957575168.0000\n",
            "Epoch 19/30\n",
            "511/511 [==============================] - 6s 12ms/step - loss: 26.9463 - mse: 6009079808.0000 - val_loss: 29.7453 - val_mse: 8829719552.0000\n",
            "Epoch 20/30\n",
            "511/511 [==============================] - 6s 12ms/step - loss: 26.2594 - mse: 5756152832.0000 - val_loss: 27.1411 - val_mse: 7054556672.0000\n",
            "Epoch 21/30\n",
            "511/511 [==============================] - 6s 12ms/step - loss: 25.8563 - mse: 5648529408.0000 - val_loss: 27.0258 - val_mse: 7275678208.0000\n",
            "Epoch 22/30\n",
            "511/511 [==============================] - 6s 12ms/step - loss: 25.7088 - mse: 5625596928.0000 - val_loss: 29.6432 - val_mse: 8704622592.0000\n",
            "Epoch 23/30\n",
            "511/511 [==============================] - 7s 14ms/step - loss: 26.3188 - mse: 5689451520.0000 - val_loss: 28.3069 - val_mse: 7463455744.0000\n",
            "Epoch 24/30\n",
            "511/511 [==============================] - 11s 21ms/step - loss: 25.4345 - mse: 5527881728.0000 - val_loss: 26.4514 - val_mse: 6522798592.0000\n",
            "Epoch 25/30\n",
            "511/511 [==============================] - 10s 20ms/step - loss: 26.0403 - mse: 5624728576.0000 - val_loss: 30.9266 - val_mse: 9614583808.0000\n",
            "Epoch 26/30\n",
            "511/511 [==============================] - 7s 13ms/step - loss: 25.5787 - mse: 5498107904.0000 - val_loss: 32.7930 - val_mse: 11129409536.0000\n",
            "Epoch 27/30\n",
            "511/511 [==============================] - 7s 13ms/step - loss: 25.5777 - mse: 5518258176.0000 - val_loss: 29.3674 - val_mse: 9255024640.0000\n",
            "Epoch 28/30\n",
            "511/511 [==============================] - 6s 12ms/step - loss: 25.1441 - mse: 5397005312.0000 - val_loss: 30.9901 - val_mse: 9812012032.0000\n",
            "Epoch 29/30\n",
            "511/511 [==============================] - 6s 12ms/step - loss: 25.1781 - mse: 5457298944.0000 - val_loss: 29.5094 - val_mse: 9498703872.0000\n",
            "Epoch 30/30\n",
            "511/511 [==============================] - 6s 12ms/step - loss: 25.0772 - mse: 5382745088.0000 - val_loss: 27.1914 - val_mse: 7188204544.0000\n"
          ]
        }
      ]
    },
    {
      "cell_type": "markdown",
      "id": "122a9867-c26b-4a60-9990-5676eb76b7b6",
      "metadata": {
        "tags": [],
        "id": "122a9867-c26b-4a60-9990-5676eb76b7b6"
      },
      "source": [
        "### <font color=\"#004D7F\" size=4>Ejercicio 12 [Opcional]</font> \n",
        "\n",
        "Muestra en una gráfica como ha evolucionado el entrenamiento."
      ]
    },
    {
      "cell_type": "code",
      "execution_count": 38,
      "id": "4b6ac9ba-15d1-40b1-b052-7b2d1324c0f9",
      "metadata": {
        "id": "4b6ac9ba-15d1-40b1-b052-7b2d1324c0f9"
      },
      "outputs": [],
      "source": [
        "def show_results(hist):\n",
        "    fig=plt.figure(figsize=(60, 40))\n",
        "\n",
        "    # error\n",
        "    fig.add_subplot(10, 10, 1)\n",
        "    plt.title('Loss')\n",
        "    plt.plot(hist.history['loss'], label='train')\n",
        "    plt.plot(hist.history['val_loss'], label='val')\n",
        "    plt.legend()\n",
        "    \n",
        "    # precision\n",
        "    fig.add_subplot(10, 10, 2)\n",
        "    plt.title('Accuracy')\n",
        "    plt.plot(hist.history['mse'], label='train')\n",
        "    plt.plot(hist.history['val_mse'], label='val')\n",
        "    plt.legend()\n",
        "\n",
        "    plt.legend()\n",
        "    plt.show()"
      ]
    },
    {
      "cell_type": "code",
      "source": [
        "show_results(hist)"
      ],
      "metadata": {
        "colab": {
          "base_uri": "https://localhost:8080/",
          "height": 248
        },
        "id": "g0Zn22Irbfo2",
        "outputId": "a8ecf6e3-359e-46ca-dd69-a20ef51e82b2"
      },
      "id": "g0Zn22Irbfo2",
      "execution_count": 39,
      "outputs": [
        {
          "output_type": "display_data",
          "data": {
            "text/plain": [
              "<Figure size 4320x2880 with 2 Axes>"
            ],
            "image/png": "[encoded data removed]"
          },
          "metadata": {
            "needs_background": "light"
          }
        }
      ]
    }
  ],
  "metadata": {
    "kernelspec": {
      "display_name": "Python 3 (ipykernel)",
      "language": "python",
      "name": "python3"
    },
    "language_info": {
      "codemirror_mode": {
        "name": "ipython",
        "version": 3
      },
      "file_extension": ".py",
      "mimetype": "text/x-python",
      "name": "python",
      "nbconvert_exporter": "python",
      "pygments_lexer": "ipython3",
      "version": "3.8.8"
    },
    "colab": {
      "name": "ProyectoM10.ipynb",
      "provenance": []
    }
  },
  "nbformat": 4,
  "nbformat_minor": 5
}