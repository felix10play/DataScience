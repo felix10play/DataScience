{
  "nbformat": 4,
  "nbformat_minor": 0,
  "metadata": {
    "colab": {
      "name": "Proyecto_M2.ipynb",
      "provenance": [],
      "collapsed_sections": [],
      "toc_visible": true
    },
    "kernelspec": {
      "name": "python3",
      "display_name": "Python 3"
    },
    "language_info": {
      "name": "python"
    }
  },
  "cells": [
    {
      "cell_type": "markdown",
      "source": [
        "# 1. Importación del dataset\n",
        "Se importa el dataset desde kaggle."
      ],
      "metadata": {
        "id": "OKgx8UorQQg1"
      }
    },
    {
      "cell_type": "code",
      "execution_count": 99,
      "metadata": {
        "id": "yEFYS9Sf2Tix"
      },
      "outputs": [],
      "source": [
        "from google.colab import files\n",
        "!pip install -q kaggle"
      ]
    },
    {
      "cell_type": "code",
      "source": [
        "uploaded = files.upload()"
      ],
      "metadata": {
        "colab": {
          "resources": {
            "http://localhost:8080/nbextensions/google.colab/files.js": {
              "data": "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",
              "ok": true,
              "headers": [
                [
                  "content-type",
                  "application/javascript"
                ]
              ],
              "status": 200,
              "status_text": ""
            }
          },
          "base_uri": "https://localhost:8080/",
          "height": 73
        },
        "id": "CVvxB-6fQ5_z",
        "outputId": "02acefe0-c489-4f57-f824-2f624ee33747"
      },
      "execution_count": 100,
      "outputs": [
        {
          "output_type": "display_data",
          "data": {
            "text/html": [
              "\n",
              "     <input type=\"file\" id=\"files-8beff07a-a876-4154-b1d4-25f8295dcd64\" name=\"files[]\" multiple disabled\n",
              "        style=\"border:none\" />\n",
              "     <output id=\"result-8beff07a-a876-4154-b1d4-25f8295dcd64\">\n",
              "      Upload widget is only available when the cell has been executed in the\n",
              "      current browser session. Please rerun this cell to enable.\n",
              "      </output>\n",
              "      <script src=\"/nbextensions/google.colab/files.js\"></script> "
            ],
            "text/plain": [
              "<IPython.core.display.HTML object>"
            ]
          },
          "metadata": {}
        },
        {
          "output_type": "stream",
          "name": "stdout",
          "text": [
            "Saving kaggle.json to kaggle.json\n"
          ]
        }
      ]
    },
    {
      "cell_type": "code",
      "source": [
        "!kaggle datasets download -d shree1992/housedata"
      ],
      "metadata": {
        "colab": {
          "base_uri": "https://localhost:8080/"
        },
        "id": "Yla-CZHrQDjL",
        "outputId": "59085588-8671-48a6-9bce-aa59588cba92"
      },
      "execution_count": 101,
      "outputs": [
        {
          "output_type": "stream",
          "name": "stdout",
          "text": [
            "Warning: Your Kaggle API key is readable by other users on this system! To fix this, you can run 'chmod 600 /root/.kaggle/kaggle.json'\n",
            "housedata.zip: Skipping, found more recently modified local copy (use --force to force download)\n"
          ]
        }
      ]
    },
    {
      "cell_type": "code",
      "source": [
        "!mv kaggle.json /root/.kaggle/kaggle.json"
      ],
      "metadata": {
        "id": "UEYXWrYKQOk3"
      },
      "execution_count": 102,
      "outputs": []
    },
    {
      "cell_type": "code",
      "source": [
        "!kaggle datasets download -d shree1992/housedata"
      ],
      "metadata": {
        "colab": {
          "base_uri": "https://localhost:8080/"
        },
        "id": "wVEM-S5CQxPx",
        "outputId": "686cf9d1-57e0-4420-c9d4-470993ed786c"
      },
      "execution_count": 103,
      "outputs": [
        {
          "output_type": "stream",
          "name": "stdout",
          "text": [
            "Warning: Your Kaggle API key is readable by other users on this system! To fix this, you can run 'chmod 600 /root/.kaggle/kaggle.json'\n",
            "housedata.zip: Skipping, found more recently modified local copy (use --force to force download)\n"
          ]
        }
      ]
    },
    {
      "cell_type": "code",
      "source": [
        "!unzip housedata.zip"
      ],
      "metadata": {
        "colab": {
          "base_uri": "https://localhost:8080/"
        },
        "id": "jdlB7LYaRTLw",
        "outputId": "7a07af40-84bb-4d36-f563-2bc1eab70d4c"
      },
      "execution_count": 104,
      "outputs": [
        {
          "output_type": "stream",
          "name": "stdout",
          "text": [
            "Archive:  housedata.zip\n",
            "replace data.csv? [y]es, [n]o, [A]ll, [N]one, [r]ename: y\n",
            "  inflating: data.csv                \n",
            "replace data.dat? [y]es, [n]o, [A]ll, [N]one, [r]ename: y\n",
            "  inflating: data.dat                \n",
            "replace output.csv? [y]es, [n]o, [A]ll, [N]one, [r]ename: y\n",
            "  inflating: output.csv              \n"
          ]
        }
      ]
    },
    {
      "cell_type": "code",
      "source": [
        "import pandas as pd\n",
        "house_data = pd.read_csv('data.csv')"
      ],
      "metadata": {
        "id": "keyPgHZmR_Uw"
      },
      "execution_count": 165,
      "outputs": []
    },
    {
      "cell_type": "markdown",
      "source": [
        "# 2. Análisis exploratorio de los datos"
      ],
      "metadata": {
        "id": "VFl-xI1nSfiF"
      }
    },
    {
      "cell_type": "markdown",
      "source": [
        "## Exploración de los datos\n",
        "Previamente a la visualización gráfica de los datos, debe realizarse una exploración de los mismos que nos permita comprenderlos.\n",
        "\n",
        "Para ello, se inspecciona el dataset y se extraen características fundamentales del mismo como su tamaño (filas y columnas), el tipo de datos, el nombre de las columnas, la presencia de nulos.... "
      ],
      "metadata": {
        "id": "CKWC5z3MSpcc"
      }
    },
    {
      "cell_type": "code",
      "source": [
        "print(\"Los 5 primeros registros del dataset:\")\n",
        "house_data.head()"
      ],
      "metadata": {
        "colab": {
          "base_uri": "https://localhost:8080/",
          "height": 431
        },
        "id": "iV8OU87sSsp2",
        "outputId": "5bba9241-1a3a-438e-bbbc-2e6a98232607"
      },
      "execution_count": 166,
      "outputs": [
        {
          "output_type": "stream",
          "name": "stdout",
          "text": [
            "Los 5 primeros registros del dataset:\n"
          ]
        },
        {
          "output_type": "execute_result",
          "data": {
            "text/html": [
              "\n",
              "  <div id=\"df-d1ae5f78-16a9-4214-be43-1a2dd1ba6ee0\">\n",
              "    <div class=\"colab-df-container\">\n",
              "      <div>\n",
              "<style scoped>\n",
              "    .dataframe tbody tr th:only-of-type {\n",
              "        vertical-align: middle;\n",
              "    }\n",
              "\n",
              "    .dataframe tbody tr th {\n",
              "        vertical-align: top;\n",
              "    }\n",
              "\n",
              "    .dataframe thead th {\n",
              "        text-align: right;\n",
              "    }\n",
              "</style>\n",
              "<table border=\"1\" class=\"dataframe\">\n",
              "  <thead>\n",
              "    <tr style=\"text-align: right;\">\n",
              "      <th></th>\n",
              "      <th>date</th>\n",
              "      <th>price</th>\n",
              "      <th>bedrooms</th>\n",
              "      <th>bathrooms</th>\n",
              "      <th>sqft_living</th>\n",
              "      <th>sqft_lot</th>\n",
              "      <th>floors</th>\n",
              "      <th>waterfront</th>\n",
              "      <th>view</th>\n",
              "      <th>condition</th>\n",
              "      <th>sqft_above</th>\n",
              "      <th>sqft_basement</th>\n",
              "      <th>yr_built</th>\n",
              "      <th>yr_renovated</th>\n",
              "      <th>street</th>\n",
              "      <th>city</th>\n",
              "      <th>statezip</th>\n",
              "      <th>country</th>\n",
              "    </tr>\n",
              "  </thead>\n",
              "  <tbody>\n",
              "    <tr>\n",
              "      <th>0</th>\n",
              "      <td>2014-05-02 00:00:00</td>\n",
              "      <td>313000.0</td>\n",
              "      <td>3.0</td>\n",
              "      <td>1.50</td>\n",
              "      <td>1340</td>\n",
              "      <td>7912</td>\n",
              "      <td>1.5</td>\n",
              "      <td>0</td>\n",
              "      <td>0</td>\n",
              "      <td>3</td>\n",
              "      <td>1340</td>\n",
              "      <td>0</td>\n",
              "      <td>1955</td>\n",
              "      <td>2005</td>\n",
              "      <td>18810 Densmore Ave N</td>\n",
              "      <td>Shoreline</td>\n",
              "      <td>WA 98133</td>\n",
              "      <td>USA</td>\n",
              "    </tr>\n",
              "    <tr>\n",
              "      <th>1</th>\n",
              "      <td>2014-05-02 00:00:00</td>\n",
              "      <td>2384000.0</td>\n",
              "      <td>5.0</td>\n",
              "      <td>2.50</td>\n",
              "      <td>3650</td>\n",
              "      <td>9050</td>\n",
              "      <td>2.0</td>\n",
              "      <td>0</td>\n",
              "      <td>4</td>\n",
              "      <td>5</td>\n",
              "      <td>3370</td>\n",
              "      <td>280</td>\n",
              "      <td>1921</td>\n",
              "      <td>0</td>\n",
              "      <td>709 W Blaine St</td>\n",
              "      <td>Seattle</td>\n",
              "      <td>WA 98119</td>\n",
              "      <td>USA</td>\n",
              "    </tr>\n",
              "    <tr>\n",
              "      <th>2</th>\n",
              "      <td>2014-05-02 00:00:00</td>\n",
              "      <td>342000.0</td>\n",
              "      <td>3.0</td>\n",
              "      <td>2.00</td>\n",
              "      <td>1930</td>\n",
              "      <td>11947</td>\n",
              "      <td>1.0</td>\n",
              "      <td>0</td>\n",
              "      <td>0</td>\n",
              "      <td>4</td>\n",
              "      <td>1930</td>\n",
              "      <td>0</td>\n",
              "      <td>1966</td>\n",
              "      <td>0</td>\n",
              "      <td>26206-26214 143rd Ave SE</td>\n",
              "      <td>Kent</td>\n",
              "      <td>WA 98042</td>\n",
              "      <td>USA</td>\n",
              "    </tr>\n",
              "    <tr>\n",
              "      <th>3</th>\n",
              "      <td>2014-05-02 00:00:00</td>\n",
              "      <td>420000.0</td>\n",
              "      <td>3.0</td>\n",
              "      <td>2.25</td>\n",
              "      <td>2000</td>\n",
              "      <td>8030</td>\n",
              "      <td>1.0</td>\n",
              "      <td>0</td>\n",
              "      <td>0</td>\n",
              "      <td>4</td>\n",
              "      <td>1000</td>\n",
              "      <td>1000</td>\n",
              "      <td>1963</td>\n",
              "      <td>0</td>\n",
              "      <td>857 170th Pl NE</td>\n",
              "      <td>Bellevue</td>\n",
              "      <td>WA 98008</td>\n",
              "      <td>USA</td>\n",
              "    </tr>\n",
              "    <tr>\n",
              "      <th>4</th>\n",
              "      <td>2014-05-02 00:00:00</td>\n",
              "      <td>550000.0</td>\n",
              "      <td>4.0</td>\n",
              "      <td>2.50</td>\n",
              "      <td>1940</td>\n",
              "      <td>10500</td>\n",
              "      <td>1.0</td>\n",
              "      <td>0</td>\n",
              "      <td>0</td>\n",
              "      <td>4</td>\n",
              "      <td>1140</td>\n",
              "      <td>800</td>\n",
              "      <td>1976</td>\n",
              "      <td>1992</td>\n",
              "      <td>9105 170th Ave NE</td>\n",
              "      <td>Redmond</td>\n",
              "      <td>WA 98052</td>\n",
              "      <td>USA</td>\n",
              "    </tr>\n",
              "  </tbody>\n",
              "</table>\n",
              "</div>\n",
              "      <button class=\"colab-df-convert\" onclick=\"convertToInteractive('df-d1ae5f78-16a9-4214-be43-1a2dd1ba6ee0')\"\n",
              "              title=\"Convert this dataframe to an interactive table.\"\n",
              "              style=\"display:none;\">\n",
              "        \n",
              "  <svg xmlns=\"http://www.w3.org/2000/svg\" height=\"24px\"viewBox=\"0 0 24 24\"\n",
              "       width=\"24px\">\n",
              "    <path d=\"M0 0h24v24H0V0z\" fill=\"none\"/>\n",
              "    <path d=\"M18.56 5.44l.94 2.06.94-2.06 2.06-.94-2.06-.94-.94-2.06-.94 2.06-2.06.94zm-11 1L8.5 8.5l.94-2.06 2.06-.94-2.06-.94L8.5 2.5l-.94 2.06-2.06.94zm10 10l.94 2.06.94-2.06 2.06-.94-2.06-.94-.94-2.06-.94 2.06-2.06.94z\"/><path d=\"M17.41 7.96l-1.37-1.37c-.4-.4-.92-.59-1.43-.59-.52 0-1.04.2-1.43.59L10.3 9.45l-7.72 7.72c-.78.78-.78 2.05 0 2.83L4 21.41c.39.39.9.59 1.41.59.51 0 1.02-.2 1.41-.59l7.78-7.78 2.81-2.81c.8-.78.8-2.07 0-2.86zM5.41 20L4 18.59l7.72-7.72 1.47 1.35L5.41 20z\"/>\n",
              "  </svg>\n",
              "      </button>\n",
              "      \n",
              "  <style>\n",
              "    .colab-df-container {\n",
              "      display:flex;\n",
              "      flex-wrap:wrap;\n",
              "      gap: 12px;\n",
              "    }\n",
              "\n",
              "    .colab-df-convert {\n",
              "      background-color: #E8F0FE;\n",
              "      border: none;\n",
              "      border-radius: 50%;\n",
              "      cursor: pointer;\n",
              "      display: none;\n",
              "      fill: #1967D2;\n",
              "      height: 32px;\n",
              "      padding: 0 0 0 0;\n",
              "      width: 32px;\n",
              "    }\n",
              "\n",
              "    .colab-df-convert:hover {\n",
              "      background-color: #E2EBFA;\n",
              "      box-shadow: 0px 1px 2px rgba(60, 64, 67, 0.3), 0px 1px 3px 1px rgba(60, 64, 67, 0.15);\n",
              "      fill: #174EA6;\n",
              "    }\n",
              "\n",
              "    [theme=dark] .colab-df-convert {\n",
              "      background-color: #3B4455;\n",
              "      fill: #D2E3FC;\n",
              "    }\n",
              "\n",
              "    [theme=dark] .colab-df-convert:hover {\n",
              "      background-color: #434B5C;\n",
              "      box-shadow: 0px 1px 3px 1px rgba(0, 0, 0, 0.15);\n",
              "      filter: drop-shadow(0px 1px 2px rgba(0, 0, 0, 0.3));\n",
              "      fill: #FFFFFF;\n",
              "    }\n",
              "  </style>\n",
              "\n",
              "      <script>\n",
              "        const buttonEl =\n",
              "          document.querySelector('#df-d1ae5f78-16a9-4214-be43-1a2dd1ba6ee0 button.colab-df-convert');\n",
              "        buttonEl.style.display =\n",
              "          google.colab.kernel.accessAllowed ? 'block' : 'none';\n",
              "\n",
              "        async function convertToInteractive(key) {\n",
              "          const element = document.querySelector('#df-d1ae5f78-16a9-4214-be43-1a2dd1ba6ee0');\n",
              "          const dataTable =\n",
              "            await google.colab.kernel.invokeFunction('convertToInteractive',\n",
              "                                                     [key], {});\n",
              "          if (!dataTable) return;\n",
              "\n",
              "          const docLinkHtml = 'Like what you see? Visit the ' +\n",
              "            '<a target=\"_blank\" href=https://colab.research.google.com/notebooks/data_table.ipynb>data table notebook</a>'\n",
              "            + ' to learn more about interactive tables.';\n",
              "          element.innerHTML = '';\n",
              "          dataTable['output_type'] = 'display_data';\n",
              "          await google.colab.output.renderOutput(dataTable, element);\n",
              "          const docLink = document.createElement('div');\n",
              "          docLink.innerHTML = docLinkHtml;\n",
              "          element.appendChild(docLink);\n",
              "        }\n",
              "      </script>\n",
              "    </div>\n",
              "  </div>\n",
              "  "
            ],
            "text/plain": [
              "                  date      price  bedrooms  ...       city  statezip  country\n",
              "0  2014-05-02 00:00:00   313000.0       3.0  ...  Shoreline  WA 98133      USA\n",
              "1  2014-05-02 00:00:00  2384000.0       5.0  ...    Seattle  WA 98119      USA\n",
              "2  2014-05-02 00:00:00   342000.0       3.0  ...       Kent  WA 98042      USA\n",
              "3  2014-05-02 00:00:00   420000.0       3.0  ...   Bellevue  WA 98008      USA\n",
              "4  2014-05-02 00:00:00   550000.0       4.0  ...    Redmond  WA 98052      USA\n",
              "\n",
              "[5 rows x 18 columns]"
            ]
          },
          "metadata": {},
          "execution_count": 166
        }
      ]
    },
    {
      "cell_type": "code",
      "source": [
        "nombre_columnas = (house_data.columns.tolist())\n",
        "print(\"El nombre de las columnas:\", nombre_columnas)"
      ],
      "metadata": {
        "colab": {
          "base_uri": "https://localhost:8080/"
        },
        "id": "p5EzYiedZ85k",
        "outputId": "57fa22cb-f2b3-4dd8-9972-6810a6666250"
      },
      "execution_count": 167,
      "outputs": [
        {
          "output_type": "stream",
          "name": "stdout",
          "text": [
            "El nombre de las columnas: ['date', 'price', 'bedrooms', 'bathrooms', 'sqft_living', 'sqft_lot', 'floors', 'waterfront', 'view', 'condition', 'sqft_above', 'sqft_basement', 'yr_built', 'yr_renovated', 'street', 'city', 'statezip', 'country']\n"
          ]
        }
      ]
    },
    {
      "cell_type": "code",
      "source": [
        "significado_columnas = ['Fecha', 'Precio', 'Número habitaciones', 'Número baños', 'Área habitable (pies cuadrados)', 'Área total (pies cuadrados)', 'Plantas', 'Vistas al mar', 'Calidad vistas(0-4)', 'Estado vivienda(0-5)','Área superior (pies cuadrados)','Área sótano (pies cuadrados)','Año de construcción','Año de renovación','Calle','Ciudad','Código ZIP','País']\n",
        "nombre_sign_col = dict(zip(nombre_columnas, significado_columnas))\n",
        "print(\"El nombre de las columnas junto con sus ignificado:\")\n",
        "nombre_sign_col"
      ],
      "metadata": {
        "colab": {
          "base_uri": "https://localhost:8080/"
        },
        "id": "PsnFkRQel93V",
        "outputId": "1f192237-505f-4f52-ddd6-68938e1cd8e6"
      },
      "execution_count": 168,
      "outputs": [
        {
          "output_type": "stream",
          "name": "stdout",
          "text": [
            "El nombre de las columnas junto con sus ignificado:\n"
          ]
        },
        {
          "output_type": "execute_result",
          "data": {
            "text/plain": [
              "{'bathrooms': 'Número baños',\n",
              " 'bedrooms': 'Número habitaciones',\n",
              " 'city': 'Ciudad',\n",
              " 'condition': 'Estado vivienda(0-5)',\n",
              " 'country': 'País',\n",
              " 'date': 'Fecha',\n",
              " 'floors': 'Plantas',\n",
              " 'price': 'Precio',\n",
              " 'sqft_above': 'Área superior (pies cuadrados)',\n",
              " 'sqft_basement': 'Área sótano (pies cuadrados)',\n",
              " 'sqft_living': 'Área habitable (pies cuadrados)',\n",
              " 'sqft_lot': 'Área total (pies cuadrados)',\n",
              " 'statezip': 'Código ZIP',\n",
              " 'street': 'Calle',\n",
              " 'view': 'Calidad vistas(0-4)',\n",
              " 'waterfront': 'Vistas al mar',\n",
              " 'yr_built': 'Año de construcción',\n",
              " 'yr_renovated': 'Año de renovación'}"
            ]
          },
          "metadata": {},
          "execution_count": 168
        }
      ]
    },
    {
      "cell_type": "code",
      "source": [
        "print(\"Algunos datos estadísticos del dataset\")\n",
        "house_data.describe().transpose()"
      ],
      "metadata": {
        "colab": {
          "base_uri": "https://localhost:8080/",
          "height": 474
        },
        "id": "TzNgEmZFgi_p",
        "outputId": "ee641784-443f-4287-f2c6-411a7b726a98"
      },
      "execution_count": 169,
      "outputs": [
        {
          "output_type": "stream",
          "name": "stdout",
          "text": [
            "Algunos datos estadísticos del dataset\n"
          ]
        },
        {
          "output_type": "execute_result",
          "data": {
            "text/html": [
              "\n",
              "  <div id=\"df-a31d4551-5b18-4a8a-ae60-5aa2f027c84e\">\n",
              "    <div class=\"colab-df-container\">\n",
              "      <div>\n",
              "<style scoped>\n",
              "    .dataframe tbody tr th:only-of-type {\n",
              "        vertical-align: middle;\n",
              "    }\n",
              "\n",
              "    .dataframe tbody tr th {\n",
              "        vertical-align: top;\n",
              "    }\n",
              "\n",
              "    .dataframe thead th {\n",
              "        text-align: right;\n",
              "    }\n",
              "</style>\n",
              "<table border=\"1\" class=\"dataframe\">\n",
              "  <thead>\n",
              "    <tr style=\"text-align: right;\">\n",
              "      <th></th>\n",
              "      <th>count</th>\n",
              "      <th>mean</th>\n",
              "      <th>std</th>\n",
              "      <th>min</th>\n",
              "      <th>25%</th>\n",
              "      <th>50%</th>\n",
              "      <th>75%</th>\n",
              "      <th>max</th>\n",
              "    </tr>\n",
              "  </thead>\n",
              "  <tbody>\n",
              "    <tr>\n",
              "      <th>price</th>\n",
              "      <td>4600.0</td>\n",
              "      <td>551962.988473</td>\n",
              "      <td>563834.702547</td>\n",
              "      <td>0.0</td>\n",
              "      <td>322875.00</td>\n",
              "      <td>460943.461539</td>\n",
              "      <td>654962.50</td>\n",
              "      <td>26590000.0</td>\n",
              "    </tr>\n",
              "    <tr>\n",
              "      <th>bedrooms</th>\n",
              "      <td>4600.0</td>\n",
              "      <td>3.400870</td>\n",
              "      <td>0.908848</td>\n",
              "      <td>0.0</td>\n",
              "      <td>3.00</td>\n",
              "      <td>3.000000</td>\n",
              "      <td>4.00</td>\n",
              "      <td>9.0</td>\n",
              "    </tr>\n",
              "    <tr>\n",
              "      <th>bathrooms</th>\n",
              "      <td>4600.0</td>\n",
              "      <td>2.160815</td>\n",
              "      <td>0.783781</td>\n",
              "      <td>0.0</td>\n",
              "      <td>1.75</td>\n",
              "      <td>2.250000</td>\n",
              "      <td>2.50</td>\n",
              "      <td>8.0</td>\n",
              "    </tr>\n",
              "    <tr>\n",
              "      <th>sqft_living</th>\n",
              "      <td>4600.0</td>\n",
              "      <td>2139.346957</td>\n",
              "      <td>963.206916</td>\n",
              "      <td>370.0</td>\n",
              "      <td>1460.00</td>\n",
              "      <td>1980.000000</td>\n",
              "      <td>2620.00</td>\n",
              "      <td>13540.0</td>\n",
              "    </tr>\n",
              "    <tr>\n",
              "      <th>sqft_lot</th>\n",
              "      <td>4600.0</td>\n",
              "      <td>14852.516087</td>\n",
              "      <td>35884.436145</td>\n",
              "      <td>638.0</td>\n",
              "      <td>5000.75</td>\n",
              "      <td>7683.000000</td>\n",
              "      <td>11001.25</td>\n",
              "      <td>1074218.0</td>\n",
              "    </tr>\n",
              "    <tr>\n",
              "      <th>floors</th>\n",
              "      <td>4600.0</td>\n",
              "      <td>1.512065</td>\n",
              "      <td>0.538288</td>\n",
              "      <td>1.0</td>\n",
              "      <td>1.00</td>\n",
              "      <td>1.500000</td>\n",
              "      <td>2.00</td>\n",
              "      <td>3.5</td>\n",
              "    </tr>\n",
              "    <tr>\n",
              "      <th>waterfront</th>\n",
              "      <td>4600.0</td>\n",
              "      <td>0.007174</td>\n",
              "      <td>0.084404</td>\n",
              "      <td>0.0</td>\n",
              "      <td>0.00</td>\n",
              "      <td>0.000000</td>\n",
              "      <td>0.00</td>\n",
              "      <td>1.0</td>\n",
              "    </tr>\n",
              "    <tr>\n",
              "      <th>view</th>\n",
              "      <td>4600.0</td>\n",
              "      <td>0.240652</td>\n",
              "      <td>0.778405</td>\n",
              "      <td>0.0</td>\n",
              "      <td>0.00</td>\n",
              "      <td>0.000000</td>\n",
              "      <td>0.00</td>\n",
              "      <td>4.0</td>\n",
              "    </tr>\n",
              "    <tr>\n",
              "      <th>condition</th>\n",
              "      <td>4600.0</td>\n",
              "      <td>3.451739</td>\n",
              "      <td>0.677230</td>\n",
              "      <td>1.0</td>\n",
              "      <td>3.00</td>\n",
              "      <td>3.000000</td>\n",
              "      <td>4.00</td>\n",
              "      <td>5.0</td>\n",
              "    </tr>\n",
              "    <tr>\n",
              "      <th>sqft_above</th>\n",
              "      <td>4600.0</td>\n",
              "      <td>1827.265435</td>\n",
              "      <td>862.168977</td>\n",
              "      <td>370.0</td>\n",
              "      <td>1190.00</td>\n",
              "      <td>1590.000000</td>\n",
              "      <td>2300.00</td>\n",
              "      <td>9410.0</td>\n",
              "    </tr>\n",
              "    <tr>\n",
              "      <th>sqft_basement</th>\n",
              "      <td>4600.0</td>\n",
              "      <td>312.081522</td>\n",
              "      <td>464.137228</td>\n",
              "      <td>0.0</td>\n",
              "      <td>0.00</td>\n",
              "      <td>0.000000</td>\n",
              "      <td>610.00</td>\n",
              "      <td>4820.0</td>\n",
              "    </tr>\n",
              "    <tr>\n",
              "      <th>yr_built</th>\n",
              "      <td>4600.0</td>\n",
              "      <td>1970.786304</td>\n",
              "      <td>29.731848</td>\n",
              "      <td>1900.0</td>\n",
              "      <td>1951.00</td>\n",
              "      <td>1976.000000</td>\n",
              "      <td>1997.00</td>\n",
              "      <td>2014.0</td>\n",
              "    </tr>\n",
              "    <tr>\n",
              "      <th>yr_renovated</th>\n",
              "      <td>4600.0</td>\n",
              "      <td>808.608261</td>\n",
              "      <td>979.414536</td>\n",
              "      <td>0.0</td>\n",
              "      <td>0.00</td>\n",
              "      <td>0.000000</td>\n",
              "      <td>1999.00</td>\n",
              "      <td>2014.0</td>\n",
              "    </tr>\n",
              "  </tbody>\n",
              "</table>\n",
              "</div>\n",
              "      <button class=\"colab-df-convert\" onclick=\"convertToInteractive('df-a31d4551-5b18-4a8a-ae60-5aa2f027c84e')\"\n",
              "              title=\"Convert this dataframe to an interactive table.\"\n",
              "              style=\"display:none;\">\n",
              "        \n",
              "  <svg xmlns=\"http://www.w3.org/2000/svg\" height=\"24px\"viewBox=\"0 0 24 24\"\n",
              "       width=\"24px\">\n",
              "    <path d=\"M0 0h24v24H0V0z\" fill=\"none\"/>\n",
              "    <path d=\"M18.56 5.44l.94 2.06.94-2.06 2.06-.94-2.06-.94-.94-2.06-.94 2.06-2.06.94zm-11 1L8.5 8.5l.94-2.06 2.06-.94-2.06-.94L8.5 2.5l-.94 2.06-2.06.94zm10 10l.94 2.06.94-2.06 2.06-.94-2.06-.94-.94-2.06-.94 2.06-2.06.94z\"/><path d=\"M17.41 7.96l-1.37-1.37c-.4-.4-.92-.59-1.43-.59-.52 0-1.04.2-1.43.59L10.3 9.45l-7.72 7.72c-.78.78-.78 2.05 0 2.83L4 21.41c.39.39.9.59 1.41.59.51 0 1.02-.2 1.41-.59l7.78-7.78 2.81-2.81c.8-.78.8-2.07 0-2.86zM5.41 20L4 18.59l7.72-7.72 1.47 1.35L5.41 20z\"/>\n",
              "  </svg>\n",
              "      </button>\n",
              "      \n",
              "  <style>\n",
              "    .colab-df-container {\n",
              "      display:flex;\n",
              "      flex-wrap:wrap;\n",
              "      gap: 12px;\n",
              "    }\n",
              "\n",
              "    .colab-df-convert {\n",
              "      background-color: #E8F0FE;\n",
              "      border: none;\n",
              "      border-radius: 50%;\n",
              "      cursor: pointer;\n",
              "      display: none;\n",
              "      fill: #1967D2;\n",
              "      height: 32px;\n",
              "      padding: 0 0 0 0;\n",
              "      width: 32px;\n",
              "    }\n",
              "\n",
              "    .colab-df-convert:hover {\n",
              "      background-color: #E2EBFA;\n",
              "      box-shadow: 0px 1px 2px rgba(60, 64, 67, 0.3), 0px 1px 3px 1px rgba(60, 64, 67, 0.15);\n",
              "      fill: #174EA6;\n",
              "    }\n",
              "\n",
              "    [theme=dark] .colab-df-convert {\n",
              "      background-color: #3B4455;\n",
              "      fill: #D2E3FC;\n",
              "    }\n",
              "\n",
              "    [theme=dark] .colab-df-convert:hover {\n",
              "      background-color: #434B5C;\n",
              "      box-shadow: 0px 1px 3px 1px rgba(0, 0, 0, 0.15);\n",
              "      filter: drop-shadow(0px 1px 2px rgba(0, 0, 0, 0.3));\n",
              "      fill: #FFFFFF;\n",
              "    }\n",
              "  </style>\n",
              "\n",
              "      <script>\n",
              "        const buttonEl =\n",
              "          document.querySelector('#df-a31d4551-5b18-4a8a-ae60-5aa2f027c84e button.colab-df-convert');\n",
              "        buttonEl.style.display =\n",
              "          google.colab.kernel.accessAllowed ? 'block' : 'none';\n",
              "\n",
              "        async function convertToInteractive(key) {\n",
              "          const element = document.querySelector('#df-a31d4551-5b18-4a8a-ae60-5aa2f027c84e');\n",
              "          const dataTable =\n",
              "            await google.colab.kernel.invokeFunction('convertToInteractive',\n",
              "                                                     [key], {});\n",
              "          if (!dataTable) return;\n",
              "\n",
              "          const docLinkHtml = 'Like what you see? Visit the ' +\n",
              "            '<a target=\"_blank\" href=https://colab.research.google.com/notebooks/data_table.ipynb>data table notebook</a>'\n",
              "            + ' to learn more about interactive tables.';\n",
              "          element.innerHTML = '';\n",
              "          dataTable['output_type'] = 'display_data';\n",
              "          await google.colab.output.renderOutput(dataTable, element);\n",
              "          const docLink = document.createElement('div');\n",
              "          docLink.innerHTML = docLinkHtml;\n",
              "          element.appendChild(docLink);\n",
              "        }\n",
              "      </script>\n",
              "    </div>\n",
              "  </div>\n",
              "  "
            ],
            "text/plain": [
              "                count           mean  ...        75%         max\n",
              "price          4600.0  551962.988473  ...  654962.50  26590000.0\n",
              "bedrooms       4600.0       3.400870  ...       4.00         9.0\n",
              "bathrooms      4600.0       2.160815  ...       2.50         8.0\n",
              "sqft_living    4600.0    2139.346957  ...    2620.00     13540.0\n",
              "sqft_lot       4600.0   14852.516087  ...   11001.25   1074218.0\n",
              "floors         4600.0       1.512065  ...       2.00         3.5\n",
              "waterfront     4600.0       0.007174  ...       0.00         1.0\n",
              "view           4600.0       0.240652  ...       0.00         4.0\n",
              "condition      4600.0       3.451739  ...       4.00         5.0\n",
              "sqft_above     4600.0    1827.265435  ...    2300.00      9410.0\n",
              "sqft_basement  4600.0     312.081522  ...     610.00      4820.0\n",
              "yr_built       4600.0    1970.786304  ...    1997.00      2014.0\n",
              "yr_renovated   4600.0     808.608261  ...    1999.00      2014.0\n",
              "\n",
              "[13 rows x 8 columns]"
            ]
          },
          "metadata": {},
          "execution_count": 169
        }
      ]
    },
    {
      "cell_type": "code",
      "source": [
        "print(\"Se tienen\", house_data.shape[0], \"filas\")\n",
        "print(\"Se tienen\", house_data.shape[1], \"columnas\")"
      ],
      "metadata": {
        "colab": {
          "base_uri": "https://localhost:8080/"
        },
        "id": "2X-U-A-Ngp6i",
        "outputId": "fe9275f4-8688-4e83-d92a-b6442b8c1c17"
      },
      "execution_count": 170,
      "outputs": [
        {
          "output_type": "stream",
          "name": "stdout",
          "text": [
            "Se tienen 4600 filas\n",
            "Se tienen 18 columnas\n"
          ]
        }
      ]
    },
    {
      "cell_type": "code",
      "source": [
        "print(\"El número de nulos por columna:\")\n",
        "house_data.isnull().sum()"
      ],
      "metadata": {
        "colab": {
          "base_uri": "https://localhost:8080/"
        },
        "id": "B98wwKVGg_cH",
        "outputId": "1fd0ed91-5918-4534-c845-d59a608ce775"
      },
      "execution_count": 171,
      "outputs": [
        {
          "output_type": "stream",
          "name": "stdout",
          "text": [
            "El número de nulos por columna:\n"
          ]
        },
        {
          "output_type": "execute_result",
          "data": {
            "text/plain": [
              "date             0\n",
              "price            0\n",
              "bedrooms         0\n",
              "bathrooms        0\n",
              "sqft_living      0\n",
              "sqft_lot         0\n",
              "floors           0\n",
              "waterfront       0\n",
              "view             0\n",
              "condition        0\n",
              "sqft_above       0\n",
              "sqft_basement    0\n",
              "yr_built         0\n",
              "yr_renovated     0\n",
              "street           0\n",
              "city             0\n",
              "statezip         0\n",
              "country          0\n",
              "dtype: int64"
            ]
          },
          "metadata": {},
          "execution_count": 171
        }
      ]
    },
    {
      "cell_type": "markdown",
      "source": [
        "Con lo cual no va a ser necesario realizar un tratamiento de nulos."
      ],
      "metadata": {
        "id": "8pf733xbhD2T"
      }
    },
    {
      "cell_type": "code",
      "source": [
        "print(\"El tipo de datos del dataset:\")\n",
        "house_data.dtypes"
      ],
      "metadata": {
        "colab": {
          "base_uri": "https://localhost:8080/"
        },
        "id": "bV_hzAeWhi51",
        "outputId": "171e039c-30bd-454c-89d2-ca99f64194dd"
      },
      "execution_count": 172,
      "outputs": [
        {
          "output_type": "stream",
          "name": "stdout",
          "text": [
            "El tipo de datos del dataset:\n"
          ]
        },
        {
          "output_type": "execute_result",
          "data": {
            "text/plain": [
              "date              object\n",
              "price            float64\n",
              "bedrooms         float64\n",
              "bathrooms        float64\n",
              "sqft_living        int64\n",
              "sqft_lot           int64\n",
              "floors           float64\n",
              "waterfront         int64\n",
              "view               int64\n",
              "condition          int64\n",
              "sqft_above         int64\n",
              "sqft_basement      int64\n",
              "yr_built           int64\n",
              "yr_renovated       int64\n",
              "street            object\n",
              "city              object\n",
              "statezip          object\n",
              "country           object\n",
              "dtype: object"
            ]
          },
          "metadata": {},
          "execution_count": 172
        }
      ]
    },
    {
      "cell_type": "markdown",
      "source": [
        "La gran mayoría son variables cuantitativas, bien de tipo entero, o bien de tipo decimal. Las variables cualitativas son de tipo objeto. "
      ],
      "metadata": {
        "id": "t7KcUyM5hsxD"
      }
    },
    {
      "cell_type": "markdown",
      "source": [
        "## Visualización gráfica de los datos\n",
        "Una vez explorados los datos se procede a visualizarlos gráficamente empleando matplotlib.pyplot y seaborn.\n",
        "\n",
        "Se realizan histogramas, gráficos de dispersión... y lo que se representa gráficamente debe estar acorde con los datos estadísticos que se vieron previamente."
      ],
      "metadata": {
        "id": "ow-t_YvgifSa"
      }
    },
    {
      "cell_type": "code",
      "source": [
        "import matplotlib.pyplot as plt\n",
        "import seaborn as sns"
      ],
      "metadata": {
        "id": "Jg3IYIXAirKS"
      },
      "execution_count": 173,
      "outputs": []
    },
    {
      "cell_type": "code",
      "source": [
        "house_data.hist(figsize=[12,10])[0]"
      ],
      "metadata": {
        "colab": {
          "base_uri": "https://localhost:8080/",
          "height": 694
        },
        "id": "T1THE0cqrKea",
        "outputId": "928a8084-4dec-419e-a3ca-1e73e13ad3e6"
      },
      "execution_count": 174,
      "outputs": [
        {
          "output_type": "execute_result",
          "data": {
            "text/plain": [
              "array([<matplotlib.axes._subplots.AxesSubplot object at 0x7fda1882bb90>,\n",
              "       <matplotlib.axes._subplots.AxesSubplot object at 0x7fda18154450>,\n",
              "       <matplotlib.axes._subplots.AxesSubplot object at 0x7fda18159d10>,\n",
              "       <matplotlib.axes._subplots.AxesSubplot object at 0x7fda180ee210>],\n",
              "      dtype=object)"
            ]
          },
          "metadata": {},
          "execution_count": 174
        },
        {
          "output_type": "display_data",
          "data": {
            "image/png": "[encoded data removed]",
            "text/plain": [
              "<Figure size 864x720 with 16 Axes>"
            ]
          },
          "metadata": {
            "needs_background": "light"
          }
        }
      ]
    },
    {
      "cell_type": "markdown",
      "source": [
        "En general, estos histogramas no dan información interesante y son adecuados, sin embargo, el hecho de que existan valores extremos (se podrían considerar anómalos) dificulta trabajar con ciertas características o visualizarlas, como pueden ser el precio o el área total. Por ejemplo, el hecho de que exista una enorme diferencia entre el precio más bajo y el más alto (ver código abajo) va a derivar en que todos los datos \"normales\" aparezcan muy comprimidos o formando parte del mismo conjunto en la visualización (se puede ver en el histograma de precios) para que el gráfico (su eje), pueda incluir todos los datos. Esto se podría corregir quizá empleando una escala logarítmica o de otro tipo, pero podríamos perder comprensión de nuestros datos. Además, estos valores \"anómalos\", a priori van a perjudicar el entrenamiento del modelo, pues se va a centrar en ajustar bien estos valores, pues de no hacerlo se tendrían errores muy grandes debido a la magnitud de los mismos (Es como si estos puntos tuviesen más peso que el resto además de ser más \"sospechosos\")."
      ],
      "metadata": {
        "id": "Goomm3_v2CZ9"
      }
    },
    {
      "cell_type": "code",
      "source": [
        "precio_maximo = house_data['price'].max()\n",
        "precio_minimo = house_data['price'].min()\n",
        "print(\"El precio máximo es:\", (precio_maximo))\n",
        "print(\"El precio mínimo es:\", precio_minimo)"
      ],
      "metadata": {
        "colab": {
          "base_uri": "https://localhost:8080/"
        },
        "id": "RkkGlD2g66gD",
        "outputId": "828d337e-bb88-4cbe-bcb2-199075fd3d50"
      },
      "execution_count": 175,
      "outputs": [
        {
          "output_type": "stream",
          "name": "stdout",
          "text": [
            "El precio máximo es: 26590000.0\n",
            "El precio mínimo es: 0.0\n"
          ]
        }
      ]
    },
    {
      "cell_type": "markdown",
      "source": [
        "Precios tan alejados de la media no van a ayudar en la predicción del precio de la mayoría de viviendas, mientras que un precio nulo no puede ser más que un dato erróneo.\n",
        "Para solucionar esto se va a crear una función que permite extraer los datos de ambos extremos, y al mismo tiempo almacenarlos por si fueran necesarios en un futuro.\n",
        "\n",
        "Se va a utilizar como mínimo de precio 1 para descartar todos aquellos de cero, y se descarta también el 2% de precios más altos."
      ],
      "metadata": {
        "id": "qjEeLhbp8G0t"
      }
    },
    {
      "cell_type": "code",
      "source": [
        "import numpy as np"
      ],
      "metadata": {
        "id": "J1W_KILDO29s"
      },
      "execution_count": 176,
      "outputs": []
    },
    {
      "cell_type": "code",
      "source": [
        "def eliminar_anomalos(data,x):\n",
        "  q98 = np.percentile(data[x],98)\n",
        "  bajo, alto = 1, q98\n",
        "  anomalos = data[(data[x]>alto) & (data[x]<bajo)]\n",
        "  data     = data[(data[x]<alto) & (data[x]>bajo)]\n",
        "  return data"
      ],
      "metadata": {
        "id": "sYef__n8uwrk"
      },
      "execution_count": 177,
      "outputs": []
    },
    {
      "cell_type": "code",
      "source": [
        "house_data = eliminar_anomalos(house_data,'price')"
      ],
      "metadata": {
        "id": "-Tqtc19oyDeZ"
      },
      "execution_count": 178,
      "outputs": []
    },
    {
      "cell_type": "markdown",
      "source": [
        "Una vez aplicada la función ya se puede ver una distribución de precios mucho más relevante y significariva."
      ],
      "metadata": {
        "id": "PMTv8SPwonYm"
      }
    },
    {
      "cell_type": "code",
      "source": [
        "house_data['price'].hist(bins=20)"
      ],
      "metadata": {
        "colab": {
          "base_uri": "https://localhost:8080/",
          "height": 296
        },
        "id": "jNUUJpiTyxkc",
        "outputId": "4ff6faad-ef38-4d68-e622-335047a476c1"
      },
      "execution_count": 179,
      "outputs": [
        {
          "output_type": "execute_result",
          "data": {
            "text/plain": [
              "<matplotlib.axes._subplots.AxesSubplot at 0x7fda17acd550>"
            ]
          },
          "metadata": {},
          "execution_count": 179
        },
        {
          "output_type": "display_data",
          "data": {
            "image/png": "[encoded data removed]",
            "text/plain": [
              "<Figure size 432x288 with 1 Axes>"
            ]
          },
          "metadata": {
            "needs_background": "light"
          }
        }
      ]
    },
    {
      "cell_type": "markdown",
      "source": [
        "Se hace lo mismo para las áreas."
      ],
      "metadata": {
        "id": "Z5E_Ykg8o6Ul"
      }
    },
    {
      "cell_type": "code",
      "source": [
        "house_data = eliminar_anomalos(house_data,'sqft_lot')"
      ],
      "metadata": {
        "id": "YDQL9gFt3CG7"
      },
      "execution_count": 180,
      "outputs": []
    },
    {
      "cell_type": "code",
      "source": [
        "house_data['sqft_lot'].hist(bins=20)"
      ],
      "metadata": {
        "colab": {
          "base_uri": "https://localhost:8080/",
          "height": 283
        },
        "id": "fwWunzKF2usP",
        "outputId": "0f43ca62-3d5e-4e75-fa1f-7a966a4d19a8"
      },
      "execution_count": 181,
      "outputs": [
        {
          "output_type": "execute_result",
          "data": {
            "text/plain": [
              "<matplotlib.axes._subplots.AxesSubplot at 0x7fda179d2cd0>"
            ]
          },
          "metadata": {},
          "execution_count": 181
        },
        {
          "output_type": "display_data",
          "data": {
            "image/png": "[encoded data removed]",
            "text/plain": [
              "<Figure size 432x288 with 1 Axes>"
            ]
          },
          "metadata": {
            "needs_background": "light"
          }
        }
      ]
    },
    {
      "cell_type": "code",
      "source": [
        "house_data['sqft_living'].hist(bins=20)"
      ],
      "metadata": {
        "colab": {
          "base_uri": "https://localhost:8080/",
          "height": 282
        },
        "id": "_0F8zkaQ8ogX",
        "outputId": "1281892a-f882-45a3-a13a-d850f7d32044"
      },
      "execution_count": 182,
      "outputs": [
        {
          "output_type": "execute_result",
          "data": {
            "text/plain": [
              "<matplotlib.axes._subplots.AxesSubplot at 0x7fda17905050>"
            ]
          },
          "metadata": {},
          "execution_count": 182
        },
        {
          "output_type": "display_data",
          "data": {
            "image/png": "[encoded data removed]",
            "text/plain": [
              "<Figure size 432x288 with 1 Axes>"
            ]
          },
          "metadata": {
            "needs_background": "light"
          }
        }
      ]
    },
    {
      "cell_type": "code",
      "source": [
        "print('El tamaño del dataset una vez eliminados anómalos:',house_data.shape)"
      ],
      "metadata": {
        "colab": {
          "base_uri": "https://localhost:8080/"
        },
        "id": "5OWlxN5e3Q2G",
        "outputId": "ee101d6a-db8f-4dad-ee56-d590ecfd92eb"
      },
      "execution_count": 183,
      "outputs": [
        {
          "output_type": "stream",
          "name": "stdout",
          "text": [
            "El tamaño del dataset una vez eliminados anómalos: (4369, 18)\n"
          ]
        }
      ]
    },
    {
      "cell_type": "markdown",
      "source": [
        "En cuanto al año de renovación, no se podía extraer información de su histograma, ni de la función describe (mean:880), pues a las viviendas no renovadas se les asocia el año cero.\n",
        "Se muestra un histograma solo con las viviendas renovadas:"
      ],
      "metadata": {
        "id": "2E61VOufpRTH"
      }
    },
    {
      "cell_type": "code",
      "source": [
        "yr_renovated_yes = house_data[house_data['yr_renovated']!=0]['yr_renovated']\n",
        "yr_renovated_yes.hist()"
      ],
      "metadata": {
        "colab": {
          "base_uri": "https://localhost:8080/",
          "height": 282
        },
        "id": "CRoxX1Yv6Isk",
        "outputId": "90985663-c6f1-4fd5-f948-1ee4e95822cc"
      },
      "execution_count": 184,
      "outputs": [
        {
          "output_type": "execute_result",
          "data": {
            "text/plain": [
              "<matplotlib.axes._subplots.AxesSubplot at 0x7fda17892450>"
            ]
          },
          "metadata": {},
          "execution_count": 184
        },
        {
          "output_type": "display_data",
          "data": {
            "image/png": "[encoded data removed]",
            "text/plain": [
              "<Figure size 432x288 with 1 Axes>"
            ]
          },
          "metadata": {
            "needs_background": "light"
          }
        }
      ]
    },
    {
      "cell_type": "code",
      "source": [
        "print('Se han renovado', yr_renovated_yes.size, 'viviendas.')"
      ],
      "metadata": {
        "colab": {
          "base_uri": "https://localhost:8080/"
        },
        "id": "pYzfE6mIp1MQ",
        "outputId": "0ab62317-68e4-4aee-959a-5631aeef20e0"
      },
      "execution_count": 185,
      "outputs": [
        {
          "output_type": "stream",
          "name": "stdout",
          "text": [
            "Se han renovado 1773 viviendas.\n"
          ]
        }
      ]
    },
    {
      "cell_type": "markdown",
      "source": [
        "En cuánto a las vistas al mar:"
      ],
      "metadata": {
        "id": "pLhZqs-Urn3b"
      }
    },
    {
      "cell_type": "code",
      "source": [
        "house_data['waterfront'].value_counts()"
      ],
      "metadata": {
        "colab": {
          "base_uri": "https://localhost:8080/"
        },
        "id": "6xw1Zlcg390T",
        "outputId": "ca86e644-9e4c-4d2d-82eb-3376f27459d6"
      },
      "execution_count": 186,
      "outputs": [
        {
          "output_type": "execute_result",
          "data": {
            "text/plain": [
              "0    4350\n",
              "1      19\n",
              "Name: waterfront, dtype: int64"
            ]
          },
          "metadata": {},
          "execution_count": 186
        }
      ]
    },
    {
      "cell_type": "code",
      "source": [
        "house_data['bedrooms'].value_counts()"
      ],
      "metadata": {
        "colab": {
          "base_uri": "https://localhost:8080/"
        },
        "id": "odT9Xb9M83Jc",
        "outputId": "bd74f5d8-357d-4d37-9a9d-733ab67e60f0"
      },
      "execution_count": 187,
      "outputs": [
        {
          "output_type": "execute_result",
          "data": {
            "text/plain": [
              "3.0    1975\n",
              "4.0    1440\n",
              "2.0     552\n",
              "5.0     300\n",
              "6.0      50\n",
              "1.0      37\n",
              "7.0      11\n",
              "0.0       2\n",
              "8.0       1\n",
              "9.0       1\n",
              "Name: bedrooms, dtype: int64"
            ]
          },
          "metadata": {},
          "execution_count": 187
        }
      ]
    },
    {
      "cell_type": "markdown",
      "source": [
        "A todas luces no se tiene una muestra suficiente de casas con 7,8 y 0 habitaciones, por lo que incluírlas en el modelo podría traducirse en un sesgo en el coeficiente del modelo asociado a esa variable predictora."
      ],
      "metadata": {
        "id": "BMbbxhdQPkRO"
      }
    },
    {
      "cell_type": "code",
      "source": [
        "house_data = house_data[(house_data['bedrooms'] > 0) & (house_data['bedrooms'] < 8)]"
      ],
      "metadata": {
        "id": "EhmGaA5OQWKe"
      },
      "execution_count": 188,
      "outputs": []
    },
    {
      "cell_type": "code",
      "source": [
        "sns.scatterplot(x='bedrooms', y='price', data=house_data, hue='condition', style='waterfront', palette=\"magma\")"
      ],
      "metadata": {
        "colab": {
          "base_uri": "https://localhost:8080/",
          "height": 307
        },
        "id": "OUkzzy-ZRvZP",
        "outputId": "4edecb26-3aff-4b1a-ef08-d99b5592b978"
      },
      "execution_count": 189,
      "outputs": [
        {
          "output_type": "execute_result",
          "data": {
            "text/plain": [
              "<matplotlib.axes._subplots.AxesSubplot at 0x7fda17813950>"
            ]
          },
          "metadata": {},
          "execution_count": 189
        },
        {
          "output_type": "display_data",
          "data": {
            "image/png": "[encoded data removed]",
            "text/plain": [
              "<Figure size 432x288 with 1 Axes>"
            ]
          },
          "metadata": {
            "needs_background": "light"
          }
        }
      ]
    },
    {
      "cell_type": "code",
      "source": [
        "sns.scatterplot(x='yr_built', y='price', data=house_data, hue='condition', style='waterfront', palette=\"magma\")"
      ],
      "metadata": {
        "colab": {
          "base_uri": "https://localhost:8080/",
          "height": 308
        },
        "id": "swCLMcRyu38t",
        "outputId": "3421e333-65ed-4516-b4d4-212605a7b581"
      },
      "execution_count": 190,
      "outputs": [
        {
          "output_type": "execute_result",
          "data": {
            "text/plain": [
              "<matplotlib.axes._subplots.AxesSubplot at 0x7fda186f3bd0>"
            ]
          },
          "metadata": {},
          "execution_count": 190
        },
        {
          "output_type": "display_data",
          "data": {
            "image/png": "[encoded data removed]",
            "text/plain": [
              "<Figure size 432x288 with 1 Axes>"
            ]
          },
          "metadata": {
            "needs_background": "light"
          }
        }
      ]
    },
    {
      "cell_type": "code",
      "source": [
        "sns.scatterplot(x='sqft_lot', y='price', data=house_data, hue='condition', style='waterfront', palette=\"magma\")"
      ],
      "metadata": {
        "colab": {
          "base_uri": "https://localhost:8080/",
          "height": 308
        },
        "id": "yM-4gfESSYBi",
        "outputId": "4c7c3729-0327-46c2-b5bf-87d99dae19ac"
      },
      "execution_count": 191,
      "outputs": [
        {
          "output_type": "execute_result",
          "data": {
            "text/plain": [
              "<matplotlib.axes._subplots.AxesSubplot at 0x7fda177a70d0>"
            ]
          },
          "metadata": {},
          "execution_count": 191
        },
        {
          "output_type": "display_data",
          "data": {
            "image/png": "[encoded data removed]",
            "text/plain": [
              "<Figure size 432x288 with 1 Axes>"
            ]
          },
          "metadata": {
            "needs_background": "light"
          }
        }
      ]
    },
    {
      "cell_type": "markdown",
      "source": [
        "Queda patente que en este caso, es mucho más dificil que en el sprint previo predecir, a partir de la visualización gráfica la tendencia de la variable objetivo en función de una o unas pocas variables predictoras. Esto se puede comprobar a partir de la correlación entre variables:"
      ],
      "metadata": {
        "id": "bmUTd_VyXhf5"
      }
    },
    {
      "cell_type": "code",
      "source": [
        "corr = house_data.corr()\n",
        "sns.heatmap(corr, annot=True)"
      ],
      "metadata": {
        "colab": {
          "base_uri": "https://localhost:8080/",
          "height": 350
        },
        "id": "9aTKGAQEXAD8",
        "outputId": "71ed2dfd-9b4d-4d93-9266-90cf23595f81"
      },
      "execution_count": 192,
      "outputs": [
        {
          "output_type": "execute_result",
          "data": {
            "text/plain": [
              "<matplotlib.axes._subplots.AxesSubplot at 0x7fda176bb6d0>"
            ]
          },
          "metadata": {},
          "execution_count": 192
        },
        {
          "output_type": "display_data",
          "data": {
            "image/png": "[encoded data removed]",
            "text/plain": [
              "<Figure size 432x288 with 2 Axes>"
            ]
          },
          "metadata": {
            "needs_background": "light"
          }
        }
      ]
    },
    {
      "cell_type": "markdown",
      "source": [
        "La variable objetivo ('price') está fuertemente correlacionada con muchas de las variables predictoras cuantitativas, y algunas para las que la correlación es débil, están sin embargo, fuertemente correlacionadas con aquellas otras. Y esto, es sin tener en cuenta las variables cualitativas. Está claro que para predecir el precio de la vivienda va a ser necesario un modelo complejo."
      ],
      "metadata": {
        "id": "a3vkmndgaCIo"
      }
    },
    {
      "cell_type": "markdown",
      "source": [
        "# 3. Fase de entrenamiento y validación\n",
        "En estas dos fases se plantean una serie de hipótesis predictivas basadas en nuestra comprensión previa de los datos, se entrenan y posteriormente se evalúa su rendimiento según una o varias métricas, empleando en este caso el error cuadrático medio. \n",
        "\n",
        "El flujo de trabajo habitual es comenzar por una hipótesis lo más sencilla posible, como puede ser una regresión lineal simple y evaluar su rendimiento en función de la métrica o métricas que mejor se ajusten a nuestro problema. En caso de que el rendimiento del modelo no sea suficiente este se va refinando, considerando por ejemplo una regresión lineal múltiple o la también introducción de las variables cualitativas en el modelo.\n"
      ],
      "metadata": {
        "id": "yE5ymvbCcu3Q"
      }
    },
    {
      "cell_type": "markdown",
      "source": [
        "## 1. Hipótesis Inicial: Regresión Lineal Simple\n",
        "Así que, a pesar de lo comentado anteriormente se comenzará por una regresión lineal simple empleando como variable predictora la que está correlacionada más fuertemente con la objetivo, es decir \"sqft_living\"."
      ],
      "metadata": {
        "id": "t9ivgGZFdqsJ"
      }
    },
    {
      "cell_type": "code",
      "source": [
        "X = house_data['sqft_living'].values\n",
        "y = house_data['price'].values"
      ],
      "metadata": {
        "id": "osCIbVoBd3dq"
      },
      "execution_count": 193,
      "outputs": []
    },
    {
      "cell_type": "code",
      "source": [
        "from sklearn.model_selection import train_test_split\n",
        "X_train, X_test, y_train, y_test = train_test_split(X, y, test_size=0.20, random_state=43)"
      ],
      "metadata": {
        "id": "rmseJwK0CFAr"
      },
      "execution_count": 194,
      "outputs": []
    },
    {
      "cell_type": "code",
      "source": [
        "from sklearn.linear_model import LinearRegression\n",
        "lin_reg = LinearRegression()\n",
        "X_train = X_train.reshape(-1,1)\n",
        "lin_reg.fit(X_train, y_train)"
      ],
      "metadata": {
        "colab": {
          "base_uri": "https://localhost:8080/"
        },
        "id": "L2yccfbzCKIf",
        "outputId": "94e9f670-c574-4607-fe08-0c999738c737"
      },
      "execution_count": 195,
      "outputs": [
        {
          "output_type": "execute_result",
          "data": {
            "text/plain": [
              "LinearRegression()"
            ]
          },
          "metadata": {},
          "execution_count": 195
        }
      ]
    },
    {
      "cell_type": "code",
      "source": [
        "X_test       = X_test.reshape(-1,1)\n",
        "y_pred       = lin_reg.predict(X_test)\n",
        "y_pred_train = lin_reg.predict(X_train)"
      ],
      "metadata": {
        "id": "w0snhQ7WCah1"
      },
      "execution_count": 196,
      "outputs": []
    },
    {
      "cell_type": "code",
      "source": [
        "from sklearn.metrics import mean_squared_error\n",
        "mse_hipot1_train = mean_squared_error(y_true = y_train, y_pred = y_pred_train)\n",
        "mse_hipot1_test  = mean_squared_error(y_true = y_test, y_pred = y_pred)\n",
        "print('Error cuadrático Medio (MSE) HIPO 1 TRAIN =' + str(mse_hipot1_train))\n",
        "print('Error cuadrático Medio (MSE) HIPO 1 TEST =' + str(mse_hipot1_test))"
      ],
      "metadata": {
        "colab": {
          "base_uri": "https://localhost:8080/"
        },
        "id": "-pTsh4JlCgca",
        "outputId": "e54f33cc-83c9-407a-cc6d-1102f360e75e"
      },
      "execution_count": 197,
      "outputs": [
        {
          "output_type": "stream",
          "name": "stdout",
          "text": [
            "Error cuadrático Medio (MSE) HIPO 1 TRAIN =39071667166.700676\n",
            "Error cuadrático Medio (MSE) HIPO 1 TEST =37008011061.08332\n"
          ]
        }
      ]
    },
    {
      "cell_type": "markdown",
      "source": [
        "El error cuadrático medio es inmenso, como cabía esperar, pues ya se ha comentado la necesidad de un modelo mucho más complejo."
      ],
      "metadata": {
        "id": "pGfRmdPxCoBT"
      }
    },
    {
      "cell_type": "markdown",
      "source": [
        "## 2. Segunda hipótesis: Regresión lineal múltiple con variables cuantitativas\n",
        "Visto el muy mal desempeño de la regresión lineal simple, se va a realizar una regresión múltiple, comenzando únicamente con variables cuantitativas, para posteriormente inlcuír las cualitativas previo análisis de las mismas. \n",
        "\n",
        "Puesto que nuestro dataset contiene muchas columnas es interesante comenzar viendo si es posible descartar alguna característica. Si nos fijamos en la correlación entre las mismas, se puede ver que \"sqft_above\" está fuertemente correlacionada con \"sqft_living\" como es lógico, y puede ser redundante, pues al tener \"sqft_basement\", \"sqft_above\" no dejará de ser la una menos la otra, y estará implícitamente en el dataset. Vamos a probar a descartar esta variable, y comparar el rendimiento para ver si esta es una buena estrategia a seguir en futuros datasets.  "
      ],
      "metadata": {
        "id": "Gh3zX5_CC7Da"
      }
    },
    {
      "cell_type": "code",
      "source": [
        "cat_col = []\n",
        "columns = house_data.columns.tolist()\n",
        "for i in columns:\n",
        "   if house_data[f'{i}'].dtypes == 'object':\n",
        "    cat_col.append(i)\n",
        "print ('Las columnas con variables categóricas son:',cat_col)\n",
        "var_elim = cat_col.copy()\n",
        "var_elim.append('price')\n",
        "var_elim.append('sqft_above')\n",
        "X2 = house_data.drop(var_elim,axis=1).values"
      ],
      "metadata": {
        "colab": {
          "base_uri": "https://localhost:8080/"
        },
        "id": "5Z642VSzGrX-",
        "outputId": "6173cb25-b86b-4d79-c261-7b0821195806"
      },
      "execution_count": 198,
      "outputs": [
        {
          "output_type": "stream",
          "name": "stdout",
          "text": [
            "Las columnas con variables categóricas son: ['date', 'street', 'city', 'statezip', 'country']\n"
          ]
        }
      ]
    },
    {
      "cell_type": "code",
      "source": [
        "lin_reg2 = LinearRegression()\n",
        "X_train2, X_test2, y_train2, y_test2 = train_test_split(X2, y, test_size=0.2, random_state=43)\n",
        "lin_reg2.fit(X_train2, y_train2) "
      ],
      "metadata": {
        "colab": {
          "base_uri": "https://localhost:8080/"
        },
        "id": "UdRFo61JMchJ",
        "outputId": "2e4ee8e2-b577-4735-e75f-c219be1ee15a"
      },
      "execution_count": 199,
      "outputs": [
        {
          "output_type": "execute_result",
          "data": {
            "text/plain": [
              "LinearRegression()"
            ]
          },
          "metadata": {},
          "execution_count": 199
        }
      ]
    },
    {
      "cell_type": "code",
      "source": [
        "y_pred2       = lin_reg2.predict(X_test2)\n",
        "y_pred_train2 = lin_reg2.predict(X_train2) "
      ],
      "metadata": {
        "id": "DTflrAgLMqNj"
      },
      "execution_count": 200,
      "outputs": []
    },
    {
      "cell_type": "code",
      "source": [
        "mse_hipot2_train = mean_squared_error(y_true = y_train2, y_pred = y_pred_train2)\n",
        "mse_hipot2_test = mean_squared_error(y_true = y_test2, y_pred = y_pred2)\n",
        "print('Error cuadrático Medio (MSE) HIPO 1 TRAIN =' + str(mse_hipot1_train))\n",
        "print('Error cuadrático Medio (MSE) HIPO 1 TEST =' + str(mse_hipot1_test))\n",
        "print('Error cuadrático Medio (MSE) HIPO 2 TRAIN =' + str(mse_hipot2_train))\n",
        "print('Error cuadrático Medio (MSE) HIPO 2 TEST =' + str(mse_hipot2_test))"
      ],
      "metadata": {
        "colab": {
          "base_uri": "https://localhost:8080/"
        },
        "id": "zkMGp4wZMuq8",
        "outputId": "b174a34e-635d-4e09-9095-b47e972807ae"
      },
      "execution_count": 201,
      "outputs": [
        {
          "output_type": "stream",
          "name": "stdout",
          "text": [
            "Error cuadrático Medio (MSE) HIPO 1 TRAIN =39071667166.700676\n",
            "Error cuadrático Medio (MSE) HIPO 1 TEST =37008011061.08332\n",
            "Error cuadrático Medio (MSE) HIPO 2 TRAIN =32671957201.10976\n",
            "Error cuadrático Medio (MSE) HIPO 2 TEST =31279502092.748554\n"
          ]
        }
      ]
    },
    {
      "cell_type": "markdown",
      "source": [
        "La mejora es considerable, pero seguimos con un error muy grande. Antes de pasar a las variables categóricas vamos a comparar el error con el que se tiene al si considerar \"sqft_above\"."
      ],
      "metadata": {
        "id": "ku79wMdRNMZW"
      }
    },
    {
      "cell_type": "code",
      "source": [
        "var_elim.remove('sqft_above')\n",
        "var_elim"
      ],
      "metadata": {
        "colab": {
          "base_uri": "https://localhost:8080/"
        },
        "id": "0CKLxPlvNrSZ",
        "outputId": "0072f59a-ad0b-40a3-b283-e1cb092e50ec"
      },
      "execution_count": 202,
      "outputs": [
        {
          "output_type": "execute_result",
          "data": {
            "text/plain": [
              "['date', 'street', 'city', 'statezip', 'country', 'price']"
            ]
          },
          "metadata": {},
          "execution_count": 202
        }
      ]
    },
    {
      "cell_type": "code",
      "source": [
        "X2 = house_data.drop(var_elim,axis=1).values\n",
        "lin_reg2_above = LinearRegression()\n",
        "X_train2_above, X_test2_above, y_train2_above, y_test2_above = train_test_split(X2, y, test_size=0.2, random_state=43)\n",
        "lin_reg2_above.fit(X_train2_above, y_train2_above) "
      ],
      "metadata": {
        "colab": {
          "base_uri": "https://localhost:8080/"
        },
        "id": "JG-uCLT1Otz_",
        "outputId": "5994fe77-455f-46dc-a977-8e0e6e000ff2"
      },
      "execution_count": 203,
      "outputs": [
        {
          "output_type": "execute_result",
          "data": {
            "text/plain": [
              "LinearRegression()"
            ]
          },
          "metadata": {},
          "execution_count": 203
        }
      ]
    },
    {
      "cell_type": "code",
      "source": [
        "y_pred2_above       = lin_reg2_above.predict(X_test2_above)\n",
        "y_pred_train2_above = lin_reg2_above.predict(X_train2_above) "
      ],
      "metadata": {
        "id": "yxVIcdM1PHrL"
      },
      "execution_count": 204,
      "outputs": []
    },
    {
      "cell_type": "code",
      "source": [
        "mse_hipot2_train_above = mean_squared_error(y_true = y_train2_above, y_pred = y_pred_train2_above)\n",
        "mse_hipot2_test = mean_squared_error(y_true = y_test2_above, y_pred = y_pred2_above)\n",
        "print('Error cuadrático Medio (MSE) HIPO 1 TRAIN =' + str(mse_hipot1_train))\n",
        "print('Error cuadrático Medio (MSE) HIPO 1 TEST =' + str(mse_hipot1_test))\n",
        "print('Error cuadrático Medio (MSE) HIPO 2 TRAIN =' + str(mse_hipot2_train))\n",
        "print('Error cuadrático Medio (MSE) HIPO 2 TEST =' + str(mse_hipot2_test))\n",
        "print('Error cuadrático Medio (MSE) HIPO 2 TRAIN(w/ \"sqft_above\") =' + str(mse_hipot2_train))\n",
        "print('Error cuadrático Medio (MSE) HIPO 2 TEST(w/ \"sqft_above\") =' + str(mse_hipot2_test))"
      ],
      "metadata": {
        "colab": {
          "base_uri": "https://localhost:8080/"
        },
        "id": "MDlO-eFKP0ZO",
        "outputId": "680f1cf2-3f45-4900-d035-4b67faddedab"
      },
      "execution_count": 205,
      "outputs": [
        {
          "output_type": "stream",
          "name": "stdout",
          "text": [
            "Error cuadrático Medio (MSE) HIPO 1 TRAIN =39071667166.700676\n",
            "Error cuadrático Medio (MSE) HIPO 1 TEST =37008011061.08332\n",
            "Error cuadrático Medio (MSE) HIPO 2 TRAIN =32671957201.10976\n",
            "Error cuadrático Medio (MSE) HIPO 2 TEST =31279502092.74482\n",
            "Error cuadrático Medio (MSE) HIPO 2 TRAIN(w/ \"sqft_above\") =32671957201.10976\n",
            "Error cuadrático Medio (MSE) HIPO 2 TEST(w/ \"sqft_above\") =31279502092.74482\n"
          ]
        }
      ]
    },
    {
      "cell_type": "markdown",
      "source": [
        "**El error es el mismo** empleando la variable \"sqft_above\" que sin emplearla, por lo que vamos a seguir trabajando sin ella. "
      ],
      "metadata": {
        "id": "BE14RpmRQnwh"
      }
    },
    {
      "cell_type": "markdown",
      "source": [
        "## 3. Tercera Hipótesis: Regresión lineal múltiple con variables cualitativas.\n",
        "Vamos ahora a considerar las variables categóricas, pero para ello previamente debemos realizar un análisis de las mismas. Esto quizá se pudo incluir en en al apartado de análisis exploratorio, pero considero que queda más compacto aquí. "
      ],
      "metadata": {
        "id": "Dx3SCTT6Q-aS"
      }
    },
    {
      "cell_type": "code",
      "source": [
        "print ('Las columnas con variables categóricas son:',cat_col)"
      ],
      "metadata": {
        "colab": {
          "base_uri": "https://localhost:8080/"
        },
        "id": "cJK39_LYSdNV",
        "outputId": "65972bb5-f6fe-41cb-d4ce-b8ff2f06949e"
      },
      "execution_count": 206,
      "outputs": [
        {
          "output_type": "stream",
          "name": "stdout",
          "text": [
            "Las columnas con variables categóricas son: ['date', 'street', 'city', 'statezip', 'country']\n"
          ]
        }
      ]
    },
    {
      "cell_type": "markdown",
      "source": [
        "Vamos a ver como es posible descartar varias de ellas:"
      ],
      "metadata": {
        "id": "MrML6rtKTsFd"
      }
    },
    {
      "cell_type": "code",
      "source": [
        "house_data['country'].value_counts()"
      ],
      "metadata": {
        "colab": {
          "base_uri": "https://localhost:8080/"
        },
        "id": "hxnfthzIUJZO",
        "outputId": "b306ab52-bba1-4722-ad42-1546a4dd919d"
      },
      "execution_count": 207,
      "outputs": [
        {
          "output_type": "execute_result",
          "data": {
            "text/plain": [
              "USA    4365\n",
              "Name: country, dtype: int64"
            ]
          },
          "metadata": {},
          "execution_count": 207
        }
      ]
    },
    {
      "cell_type": "markdown",
      "source": [
        "Para la variable **\"Country\"** únicamente se tiene como salida USA, por lo que no aporta ninguna información a nuestro modelo y se va a descartar."
      ],
      "metadata": {
        "id": "8pqZ0qcgUVj_"
      }
    },
    {
      "cell_type": "code",
      "source": [
        "house_data['date'].unique()"
      ],
      "metadata": {
        "colab": {
          "base_uri": "https://localhost:8080/"
        },
        "id": "3Eihwx2oVHsI",
        "outputId": "b7cd2e62-07c3-403d-fb4b-29697edb215f"
      },
      "execution_count": 208,
      "outputs": [
        {
          "output_type": "execute_result",
          "data": {
            "text/plain": [
              "array(['2014-05-02 00:00:00', '2014-05-03 00:00:00',\n",
              "       '2014-05-04 00:00:00', '2014-05-05 00:00:00',\n",
              "       '2014-05-06 00:00:00', '2014-05-07 00:00:00',\n",
              "       '2014-05-08 00:00:00', '2014-05-09 00:00:00',\n",
              "       '2014-05-10 00:00:00', '2014-05-11 00:00:00',\n",
              "       '2014-05-12 00:00:00', '2014-05-13 00:00:00',\n",
              "       '2014-05-14 00:00:00', '2014-05-15 00:00:00',\n",
              "       '2014-05-16 00:00:00', '2014-05-17 00:00:00',\n",
              "       '2014-05-18 00:00:00', '2014-05-19 00:00:00',\n",
              "       '2014-05-20 00:00:00', '2014-05-21 00:00:00',\n",
              "       '2014-05-22 00:00:00', '2014-05-23 00:00:00',\n",
              "       '2014-05-24 00:00:00', '2014-05-25 00:00:00',\n",
              "       '2014-05-26 00:00:00', '2014-05-27 00:00:00',\n",
              "       '2014-05-28 00:00:00', '2014-05-29 00:00:00',\n",
              "       '2014-05-30 00:00:00', '2014-05-31 00:00:00',\n",
              "       '2014-06-01 00:00:00', '2014-06-02 00:00:00',\n",
              "       '2014-06-03 00:00:00', '2014-06-04 00:00:00',\n",
              "       '2014-06-05 00:00:00', '2014-06-06 00:00:00',\n",
              "       '2014-06-07 00:00:00', '2014-06-08 00:00:00',\n",
              "       '2014-06-09 00:00:00', '2014-06-10 00:00:00',\n",
              "       '2014-06-11 00:00:00', '2014-06-12 00:00:00',\n",
              "       '2014-06-13 00:00:00', '2014-06-14 00:00:00',\n",
              "       '2014-06-15 00:00:00', '2014-06-16 00:00:00',\n",
              "       '2014-06-17 00:00:00', '2014-06-18 00:00:00',\n",
              "       '2014-06-19 00:00:00', '2014-06-20 00:00:00',\n",
              "       '2014-06-21 00:00:00', '2014-06-22 00:00:00',\n",
              "       '2014-06-23 00:00:00', '2014-06-24 00:00:00',\n",
              "       '2014-06-25 00:00:00', '2014-06-26 00:00:00',\n",
              "       '2014-06-27 00:00:00', '2014-06-28 00:00:00',\n",
              "       '2014-06-29 00:00:00', '2014-06-30 00:00:00',\n",
              "       '2014-07-01 00:00:00', '2014-07-02 00:00:00',\n",
              "       '2014-07-03 00:00:00', '2014-07-04 00:00:00',\n",
              "       '2014-07-05 00:00:00', '2014-07-06 00:00:00',\n",
              "       '2014-07-07 00:00:00', '2014-07-08 00:00:00',\n",
              "       '2014-07-09 00:00:00', '2014-07-10 00:00:00'], dtype=object)"
            ]
          },
          "metadata": {},
          "execution_count": 208
        }
      ]
    },
    {
      "cell_type": "markdown",
      "source": [
        "**\"Date\"** tampoco proporciona información relevante para el modelo, pues las fechas de venta (suponemos, aunque podría ser fecha de registro en el dataset) son muy próximas y por tanto irrelevantes. Si sería interesante si abarcasen un mayor periodo de tiempo, suficiente para incluir fluctuaciones en el mercado."
      ],
      "metadata": {
        "id": "N1hDaFHKVoJx"
      }
    },
    {
      "cell_type": "markdown",
      "source": [
        "**\"Statezip\"** es bastante redundante con \"City\" y \"Street\" por lo que tampoco se va a incluir. Vamos a analizar estas dos últimas."
      ],
      "metadata": {
        "id": "uYS31TYiWtXT"
      }
    },
    {
      "cell_type": "code",
      "source": [
        "house_data['street'].value_counts()"
      ],
      "metadata": {
        "colab": {
          "base_uri": "https://localhost:8080/"
        },
        "id": "pr9TG30dqFRi",
        "outputId": "776b8df7-3230-46f8-ad31-1055a572a1d0"
      },
      "execution_count": 209,
      "outputs": [
        {
          "output_type": "execute_result",
          "data": {
            "text/plain": [
              "2520 Mulberry Walk NE    4\n",
              "2500 Mulberry Walk NE    3\n",
              "615 NW 92nd St           2\n",
              "Indian Trail             2\n",
              "5968 44th Ave S          2\n",
              "                        ..\n",
              "1833 220th Pl NE         1\n",
              "759 Ilwaco Pl NE         1\n",
              "6444 Carleton Ave S      1\n",
              "13232 5th Ave SW         1\n",
              "1223 269th Ave SE        1\n",
              "Name: street, Length: 4292, dtype: int64"
            ]
          },
          "metadata": {},
          "execution_count": 209
        }
      ]
    },
    {
      "cell_type": "markdown",
      "source": [
        "No se tiene una muestra suficiente para cada calle, y se tienen 4292 calles distintas, por lo que trabajar con esta variable no es posible."
      ],
      "metadata": {
        "id": "0hEMiSMhqe6A"
      }
    },
    {
      "cell_type": "code",
      "source": [
        "house_data['city'].value_counts()"
      ],
      "metadata": {
        "colab": {
          "base_uri": "https://localhost:8080/"
        },
        "id": "J895nxZJnuos",
        "outputId": "5ea97a2b-8d38-493e-e3dc-87104c4f2f48"
      },
      "execution_count": 210,
      "outputs": [
        {
          "output_type": "execute_result",
          "data": {
            "text/plain": [
              "Seattle                1528\n",
              "Renton                  284\n",
              "Bellevue                264\n",
              "Redmond                 221\n",
              "Kirkland                184\n",
              "Kent                    180\n",
              "Issaquah                177\n",
              "Sammamish               167\n",
              "Auburn                  165\n",
              "Federal Way             145\n",
              "Shoreline               120\n",
              "Woodinville             104\n",
              "Maple Valley             92\n",
              "Burien                   71\n",
              "Snoqualmie               67\n",
              "Mercer Island            66\n",
              "Kenmore                  64\n",
              "Des Moines               58\n",
              "North Bend               47\n",
              "Covington                41\n",
              "Duvall                   36\n",
              "Lake Forest Park         34\n",
              "Newcastle                33\n",
              "Bothell                  33\n",
              "SeaTac                   28\n",
              "Tukwila                  28\n",
              "Vashon                   23\n",
              "Enumclaw                 20\n",
              "Normandy Park            17\n",
              "Carnation                17\n",
              "Black Diamond             8\n",
              "Fall City                 7\n",
              "Clyde Hill                7\n",
              "Pacific                   6\n",
              "Algona                    5\n",
              "Ravensdale                4\n",
              "Medina                    3\n",
              "Skykomish                 3\n",
              "Milton                    2\n",
              "Yarrow Point              2\n",
              "Preston                   1\n",
              "Beaux Arts Village        1\n",
              "Snoqualmie Pass           1\n",
              "Inglewood-Finn Hill       1\n",
              "Name: city, dtype: int64"
            ]
          },
          "metadata": {},
          "execution_count": 210
        }
      ]
    },
    {
      "cell_type": "markdown",
      "source": [
        "Puesto que se tiene una gran cantidad de ciudades, y cada una de ellas generaría una columna, vamos a quedarnos con las que aparecen más frecuentemente, para mejorar en términos de eficiencia (generando menos columnas a analizar, podría ser fundamental en un dataset muy grande) y de predicción (considerar calles que solo aparecen una vez no ayuda al modelo). A las casas situadas en ciudades minoritarias se les asignará como ciudad \"other_city\". Se va a emplear como umbral 30 apariciones. "
      ],
      "metadata": {
        "id": "NjmNaeDbq9Mx"
      }
    },
    {
      "cell_type": "code",
      "source": [
        "ciudades = house_data.groupby('city').count()[['price']].rename(columns={'price':'times'})\n",
        "ciudades_cambiar = ciudades[ciudades['times']<30].index.tolist()\n",
        "ciudades_cambiar"
      ],
      "metadata": {
        "colab": {
          "base_uri": "https://localhost:8080/"
        },
        "id": "9tg6ER_9xHCm",
        "outputId": "5184c550-89e2-4d08-a4e6-2c7813757521"
      },
      "execution_count": 211,
      "outputs": [
        {
          "output_type": "execute_result",
          "data": {
            "text/plain": [
              "['Algona',\n",
              " 'Beaux Arts Village',\n",
              " 'Black Diamond',\n",
              " 'Carnation',\n",
              " 'Clyde Hill',\n",
              " 'Enumclaw',\n",
              " 'Fall City',\n",
              " 'Inglewood-Finn Hill',\n",
              " 'Medina',\n",
              " 'Milton',\n",
              " 'Normandy Park',\n",
              " 'Pacific',\n",
              " 'Preston',\n",
              " 'Ravensdale',\n",
              " 'SeaTac',\n",
              " 'Skykomish',\n",
              " 'Snoqualmie Pass',\n",
              " 'Tukwila',\n",
              " 'Vashon',\n",
              " 'Yarrow Point']"
            ]
          },
          "metadata": {},
          "execution_count": 211
        }
      ]
    },
    {
      "cell_type": "code",
      "source": [
        "house_data['city'] = house_data['city'].replace(ciudades_cambiar,\"Other_city\")\n",
        "house_data['city'].value_counts()"
      ],
      "metadata": {
        "colab": {
          "base_uri": "https://localhost:8080/"
        },
        "id": "eAcKwwdJ1Z9E",
        "outputId": "1e06b68c-7292-401d-dfed-93def20ace8a"
      },
      "execution_count": 212,
      "outputs": [
        {
          "output_type": "execute_result",
          "data": {
            "text/plain": [
              "Seattle             1528\n",
              "Renton               284\n",
              "Bellevue             264\n",
              "Redmond              221\n",
              "Kirkland             184\n",
              "Other_city           184\n",
              "Kent                 180\n",
              "Issaquah             177\n",
              "Sammamish            167\n",
              "Auburn               165\n",
              "Federal Way          145\n",
              "Shoreline            120\n",
              "Woodinville          104\n",
              "Maple Valley          92\n",
              "Burien                71\n",
              "Snoqualmie            67\n",
              "Mercer Island         66\n",
              "Kenmore               64\n",
              "Des Moines            58\n",
              "North Bend            47\n",
              "Covington             41\n",
              "Duvall                36\n",
              "Lake Forest Park      34\n",
              "Bothell               33\n",
              "Newcastle             33\n",
              "Name: city, dtype: int64"
            ]
          },
          "metadata": {},
          "execution_count": 212
        }
      ]
    },
    {
      "cell_type": "code",
      "source": [
        "house_data_hipot3 = pd.get_dummies(data=house_data, prefix='city', columns=['city'])\n",
        "house_data_hipot3 = house_data_hipot3.drop(['country', 'statezip','street','date'], axis=1)\n",
        "house_data_hipot3.head()"
      ],
      "metadata": {
        "colab": {
          "base_uri": "https://localhost:8080/",
          "height": 305
        },
        "id": "VexXJBmG3v3g",
        "outputId": "badb2f31-72b6-4b95-c3b5-1aec4c0d03ae"
      },
      "execution_count": 213,
      "outputs": [
        {
          "output_type": "execute_result",
          "data": {
            "text/html": [
              "\n",
              "  <div id=\"df-af9c7b3d-9614-42fb-bc23-627536da6262\">\n",
              "    <div class=\"colab-df-container\">\n",
              "      <div>\n",
              "<style scoped>\n",
              "    .dataframe tbody tr th:only-of-type {\n",
              "        vertical-align: middle;\n",
              "    }\n",
              "\n",
              "    .dataframe tbody tr th {\n",
              "        vertical-align: top;\n",
              "    }\n",
              "\n",
              "    .dataframe thead th {\n",
              "        text-align: right;\n",
              "    }\n",
              "</style>\n",
              "<table border=\"1\" class=\"dataframe\">\n",
              "  <thead>\n",
              "    <tr style=\"text-align: right;\">\n",
              "      <th></th>\n",
              "      <th>price</th>\n",
              "      <th>bedrooms</th>\n",
              "      <th>bathrooms</th>\n",
              "      <th>sqft_living</th>\n",
              "      <th>sqft_lot</th>\n",
              "      <th>floors</th>\n",
              "      <th>waterfront</th>\n",
              "      <th>view</th>\n",
              "      <th>condition</th>\n",
              "      <th>sqft_above</th>\n",
              "      <th>sqft_basement</th>\n",
              "      <th>yr_built</th>\n",
              "      <th>yr_renovated</th>\n",
              "      <th>city_Auburn</th>\n",
              "      <th>city_Bellevue</th>\n",
              "      <th>city_Bothell</th>\n",
              "      <th>city_Burien</th>\n",
              "      <th>city_Covington</th>\n",
              "      <th>city_Des Moines</th>\n",
              "      <th>city_Duvall</th>\n",
              "      <th>city_Federal Way</th>\n",
              "      <th>city_Issaquah</th>\n",
              "      <th>city_Kenmore</th>\n",
              "      <th>city_Kent</th>\n",
              "      <th>city_Kirkland</th>\n",
              "      <th>city_Lake Forest Park</th>\n",
              "      <th>city_Maple Valley</th>\n",
              "      <th>city_Mercer Island</th>\n",
              "      <th>city_Newcastle</th>\n",
              "      <th>city_North Bend</th>\n",
              "      <th>city_Other_city</th>\n",
              "      <th>city_Redmond</th>\n",
              "      <th>city_Renton</th>\n",
              "      <th>city_Sammamish</th>\n",
              "      <th>city_Seattle</th>\n",
              "      <th>city_Shoreline</th>\n",
              "      <th>city_Snoqualmie</th>\n",
              "      <th>city_Woodinville</th>\n",
              "    </tr>\n",
              "  </thead>\n",
              "  <tbody>\n",
              "    <tr>\n",
              "      <th>0</th>\n",
              "      <td>313000.0</td>\n",
              "      <td>3.0</td>\n",
              "      <td>1.50</td>\n",
              "      <td>1340</td>\n",
              "      <td>7912</td>\n",
              "      <td>1.5</td>\n",
              "      <td>0</td>\n",
              "      <td>0</td>\n",
              "      <td>3</td>\n",
              "      <td>1340</td>\n",
              "      <td>0</td>\n",
              "      <td>1955</td>\n",
              "      <td>2005</td>\n",
              "      <td>0</td>\n",
              "      <td>0</td>\n",
              "      <td>0</td>\n",
              "      <td>0</td>\n",
              "      <td>0</td>\n",
              "      <td>0</td>\n",
              "      <td>0</td>\n",
              "      <td>0</td>\n",
              "      <td>0</td>\n",
              "      <td>0</td>\n",
              "      <td>0</td>\n",
              "      <td>0</td>\n",
              "      <td>0</td>\n",
              "      <td>0</td>\n",
              "      <td>0</td>\n",
              "      <td>0</td>\n",
              "      <td>0</td>\n",
              "      <td>0</td>\n",
              "      <td>0</td>\n",
              "      <td>0</td>\n",
              "      <td>0</td>\n",
              "      <td>0</td>\n",
              "      <td>1</td>\n",
              "      <td>0</td>\n",
              "      <td>0</td>\n",
              "    </tr>\n",
              "    <tr>\n",
              "      <th>2</th>\n",
              "      <td>342000.0</td>\n",
              "      <td>3.0</td>\n",
              "      <td>2.00</td>\n",
              "      <td>1930</td>\n",
              "      <td>11947</td>\n",
              "      <td>1.0</td>\n",
              "      <td>0</td>\n",
              "      <td>0</td>\n",
              "      <td>4</td>\n",
              "      <td>1930</td>\n",
              "      <td>0</td>\n",
              "      <td>1966</td>\n",
              "      <td>0</td>\n",
              "      <td>0</td>\n",
              "      <td>0</td>\n",
              "      <td>0</td>\n",
              "      <td>0</td>\n",
              "      <td>0</td>\n",
              "      <td>0</td>\n",
              "      <td>0</td>\n",
              "      <td>0</td>\n",
              "      <td>0</td>\n",
              "      <td>0</td>\n",
              "      <td>1</td>\n",
              "      <td>0</td>\n",
              "      <td>0</td>\n",
              "      <td>0</td>\n",
              "      <td>0</td>\n",
              "      <td>0</td>\n",
              "      <td>0</td>\n",
              "      <td>0</td>\n",
              "      <td>0</td>\n",
              "      <td>0</td>\n",
              "      <td>0</td>\n",
              "      <td>0</td>\n",
              "      <td>0</td>\n",
              "      <td>0</td>\n",
              "      <td>0</td>\n",
              "    </tr>\n",
              "    <tr>\n",
              "      <th>3</th>\n",
              "      <td>420000.0</td>\n",
              "      <td>3.0</td>\n",
              "      <td>2.25</td>\n",
              "      <td>2000</td>\n",
              "      <td>8030</td>\n",
              "      <td>1.0</td>\n",
              "      <td>0</td>\n",
              "      <td>0</td>\n",
              "      <td>4</td>\n",
              "      <td>1000</td>\n",
              "      <td>1000</td>\n",
              "      <td>1963</td>\n",
              "      <td>0</td>\n",
              "      <td>0</td>\n",
              "      <td>1</td>\n",
              "      <td>0</td>\n",
              "      <td>0</td>\n",
              "      <td>0</td>\n",
              "      <td>0</td>\n",
              "      <td>0</td>\n",
              "      <td>0</td>\n",
              "      <td>0</td>\n",
              "      <td>0</td>\n",
              "      <td>0</td>\n",
              "      <td>0</td>\n",
              "      <td>0</td>\n",
              "      <td>0</td>\n",
              "      <td>0</td>\n",
              "      <td>0</td>\n",
              "      <td>0</td>\n",
              "      <td>0</td>\n",
              "      <td>0</td>\n",
              "      <td>0</td>\n",
              "      <td>0</td>\n",
              "      <td>0</td>\n",
              "      <td>0</td>\n",
              "      <td>0</td>\n",
              "      <td>0</td>\n",
              "    </tr>\n",
              "    <tr>\n",
              "      <th>4</th>\n",
              "      <td>550000.0</td>\n",
              "      <td>4.0</td>\n",
              "      <td>2.50</td>\n",
              "      <td>1940</td>\n",
              "      <td>10500</td>\n",
              "      <td>1.0</td>\n",
              "      <td>0</td>\n",
              "      <td>0</td>\n",
              "      <td>4</td>\n",
              "      <td>1140</td>\n",
              "      <td>800</td>\n",
              "      <td>1976</td>\n",
              "      <td>1992</td>\n",
              "      <td>0</td>\n",
              "      <td>0</td>\n",
              "      <td>0</td>\n",
              "      <td>0</td>\n",
              "      <td>0</td>\n",
              "      <td>0</td>\n",
              "      <td>0</td>\n",
              "      <td>0</td>\n",
              "      <td>0</td>\n",
              "      <td>0</td>\n",
              "      <td>0</td>\n",
              "      <td>0</td>\n",
              "      <td>0</td>\n",
              "      <td>0</td>\n",
              "      <td>0</td>\n",
              "      <td>0</td>\n",
              "      <td>0</td>\n",
              "      <td>0</td>\n",
              "      <td>1</td>\n",
              "      <td>0</td>\n",
              "      <td>0</td>\n",
              "      <td>0</td>\n",
              "      <td>0</td>\n",
              "      <td>0</td>\n",
              "      <td>0</td>\n",
              "    </tr>\n",
              "    <tr>\n",
              "      <th>5</th>\n",
              "      <td>490000.0</td>\n",
              "      <td>2.0</td>\n",
              "      <td>1.00</td>\n",
              "      <td>880</td>\n",
              "      <td>6380</td>\n",
              "      <td>1.0</td>\n",
              "      <td>0</td>\n",
              "      <td>0</td>\n",
              "      <td>3</td>\n",
              "      <td>880</td>\n",
              "      <td>0</td>\n",
              "      <td>1938</td>\n",
              "      <td>1994</td>\n",
              "      <td>0</td>\n",
              "      <td>0</td>\n",
              "      <td>0</td>\n",
              "      <td>0</td>\n",
              "      <td>0</td>\n",
              "      <td>0</td>\n",
              "      <td>0</td>\n",
              "      <td>0</td>\n",
              "      <td>0</td>\n",
              "      <td>0</td>\n",
              "      <td>0</td>\n",
              "      <td>0</td>\n",
              "      <td>0</td>\n",
              "      <td>0</td>\n",
              "      <td>0</td>\n",
              "      <td>0</td>\n",
              "      <td>0</td>\n",
              "      <td>0</td>\n",
              "      <td>0</td>\n",
              "      <td>0</td>\n",
              "      <td>0</td>\n",
              "      <td>1</td>\n",
              "      <td>0</td>\n",
              "      <td>0</td>\n",
              "      <td>0</td>\n",
              "    </tr>\n",
              "  </tbody>\n",
              "</table>\n",
              "</div>\n",
              "      <button class=\"colab-df-convert\" onclick=\"convertToInteractive('df-af9c7b3d-9614-42fb-bc23-627536da6262')\"\n",
              "              title=\"Convert this dataframe to an interactive table.\"\n",
              "              style=\"display:none;\">\n",
              "        \n",
              "  <svg xmlns=\"http://www.w3.org/2000/svg\" height=\"24px\"viewBox=\"0 0 24 24\"\n",
              "       width=\"24px\">\n",
              "    <path d=\"M0 0h24v24H0V0z\" fill=\"none\"/>\n",
              "    <path d=\"M18.56 5.44l.94 2.06.94-2.06 2.06-.94-2.06-.94-.94-2.06-.94 2.06-2.06.94zm-11 1L8.5 8.5l.94-2.06 2.06-.94-2.06-.94L8.5 2.5l-.94 2.06-2.06.94zm10 10l.94 2.06.94-2.06 2.06-.94-2.06-.94-.94-2.06-.94 2.06-2.06.94z\"/><path d=\"M17.41 7.96l-1.37-1.37c-.4-.4-.92-.59-1.43-.59-.52 0-1.04.2-1.43.59L10.3 9.45l-7.72 7.72c-.78.78-.78 2.05 0 2.83L4 21.41c.39.39.9.59 1.41.59.51 0 1.02-.2 1.41-.59l7.78-7.78 2.81-2.81c.8-.78.8-2.07 0-2.86zM5.41 20L4 18.59l7.72-7.72 1.47 1.35L5.41 20z\"/>\n",
              "  </svg>\n",
              "      </button>\n",
              "      \n",
              "  <style>\n",
              "    .colab-df-container {\n",
              "      display:flex;\n",
              "      flex-wrap:wrap;\n",
              "      gap: 12px;\n",
              "    }\n",
              "\n",
              "    .colab-df-convert {\n",
              "      background-color: #E8F0FE;\n",
              "      border: none;\n",
              "      border-radius: 50%;\n",
              "      cursor: pointer;\n",
              "      display: none;\n",
              "      fill: #1967D2;\n",
              "      height: 32px;\n",
              "      padding: 0 0 0 0;\n",
              "      width: 32px;\n",
              "    }\n",
              "\n",
              "    .colab-df-convert:hover {\n",
              "      background-color: #E2EBFA;\n",
              "      box-shadow: 0px 1px 2px rgba(60, 64, 67, 0.3), 0px 1px 3px 1px rgba(60, 64, 67, 0.15);\n",
              "      fill: #174EA6;\n",
              "    }\n",
              "\n",
              "    [theme=dark] .colab-df-convert {\n",
              "      background-color: #3B4455;\n",
              "      fill: #D2E3FC;\n",
              "    }\n",
              "\n",
              "    [theme=dark] .colab-df-convert:hover {\n",
              "      background-color: #434B5C;\n",
              "      box-shadow: 0px 1px 3px 1px rgba(0, 0, 0, 0.15);\n",
              "      filter: drop-shadow(0px 1px 2px rgba(0, 0, 0, 0.3));\n",
              "      fill: #FFFFFF;\n",
              "    }\n",
              "  </style>\n",
              "\n",
              "      <script>\n",
              "        const buttonEl =\n",
              "          document.querySelector('#df-af9c7b3d-9614-42fb-bc23-627536da6262 button.colab-df-convert');\n",
              "        buttonEl.style.display =\n",
              "          google.colab.kernel.accessAllowed ? 'block' : 'none';\n",
              "\n",
              "        async function convertToInteractive(key) {\n",
              "          const element = document.querySelector('#df-af9c7b3d-9614-42fb-bc23-627536da6262');\n",
              "          const dataTable =\n",
              "            await google.colab.kernel.invokeFunction('convertToInteractive',\n",
              "                                                     [key], {});\n",
              "          if (!dataTable) return;\n",
              "\n",
              "          const docLinkHtml = 'Like what you see? Visit the ' +\n",
              "            '<a target=\"_blank\" href=https://colab.research.google.com/notebooks/data_table.ipynb>data table notebook</a>'\n",
              "            + ' to learn more about interactive tables.';\n",
              "          element.innerHTML = '';\n",
              "          dataTable['output_type'] = 'display_data';\n",
              "          await google.colab.output.renderOutput(dataTable, element);\n",
              "          const docLink = document.createElement('div');\n",
              "          docLink.innerHTML = docLinkHtml;\n",
              "          element.appendChild(docLink);\n",
              "        }\n",
              "      </script>\n",
              "    </div>\n",
              "  </div>\n",
              "  "
            ],
            "text/plain": [
              "      price  bedrooms  ...  city_Snoqualmie  city_Woodinville\n",
              "0  313000.0       3.0  ...                0                 0\n",
              "2  342000.0       3.0  ...                0                 0\n",
              "3  420000.0       3.0  ...                0                 0\n",
              "4  550000.0       4.0  ...                0                 0\n",
              "5  490000.0       2.0  ...                0                 0\n",
              "\n",
              "[5 rows x 38 columns]"
            ]
          },
          "metadata": {},
          "execution_count": 213
        }
      ]
    },
    {
      "cell_type": "code",
      "source": [
        "X3 = house_data_hipot3.drop('price', axis=1).values\n",
        "y3 = house_data_hipot3['price']\n",
        "lin_reg3 = LinearRegression()\n",
        "X_train3, X_test3, y_train3, y_test3 = train_test_split(X3, y3, test_size=0.2, random_state=43)\n",
        "lin_reg3.fit(X_train3, y_train3) "
      ],
      "metadata": {
        "colab": {
          "base_uri": "https://localhost:8080/"
        },
        "id": "tghI-UW75pBX",
        "outputId": "78140217-121b-4353-cb6e-11a36c3fe485"
      },
      "execution_count": 214,
      "outputs": [
        {
          "output_type": "execute_result",
          "data": {
            "text/plain": [
              "LinearRegression()"
            ]
          },
          "metadata": {},
          "execution_count": 214
        }
      ]
    },
    {
      "cell_type": "code",
      "source": [
        "y_pred3       = lin_reg3.predict(X_test3)\n",
        "y_pred_train3 = lin_reg3.predict(X_train3) "
      ],
      "metadata": {
        "id": "1JlQadzw6Koe"
      },
      "execution_count": 215,
      "outputs": []
    },
    {
      "cell_type": "code",
      "source": [
        "mse_hipot3_train = mean_squared_error(y_true = y_train3, y_pred = y_pred_train3)\n",
        "mse_hipot3_test  = mean_squared_error(y_true = y_test3, y_pred = y_pred3)\n",
        "print('Error cuadrático Medio (MSE) HIPO 1 TRAIN =' + str(mse_hipot1_train))\n",
        "print('Error cuadrático Medio (MSE) HIPO 1 TEST =' + str(mse_hipot1_test))\n",
        "print('Error cuadrático Medio (MSE) HIPO 2 TRAIN =' + str(mse_hipot2_train))\n",
        "print('Error cuadrático Medio (MSE) HIPO 2 TEST =' + str(mse_hipot2_test))\n",
        "print('Error cuadrático Medio (MSE) HIPO 2 TRAIN(w/ cat) =' + str(mse_hipot3_train))\n",
        "print('Error cuadrático Medio (MSE) HIPO 2 TEST(w/ cat) =' + str(mse_hipot3_test))"
      ],
      "metadata": {
        "colab": {
          "base_uri": "https://localhost:8080/"
        },
        "id": "ChkBzAid6xQB",
        "outputId": "d32415e3-0d33-4447-d7ec-ef98988e6316"
      },
      "execution_count": 216,
      "outputs": [
        {
          "output_type": "stream",
          "name": "stdout",
          "text": [
            "Error cuadrático Medio (MSE) HIPO 1 TRAIN =39071667166.700676\n",
            "Error cuadrático Medio (MSE) HIPO 1 TEST =37008011061.08332\n",
            "Error cuadrático Medio (MSE) HIPO 2 TRAIN =32671957201.10976\n",
            "Error cuadrático Medio (MSE) HIPO 2 TEST =31279502092.74482\n",
            "Error cuadrático Medio (MSE) HIPO 2 TRAIN(w/ cat) =20836977010.53552\n",
            "Error cuadrático Medio (MSE) HIPO 2 TEST(w/ cat) =22389855809.391975\n"
          ]
        }
      ]
    },
    {
      "cell_type": "markdown",
      "source": [
        "**La mejora es enorme** al haber introducido la variable \"city\", por lo que vamos a continuar trabajando con este modelo y pasamos a la tercera hipótesis en la que se va a incluir el escalado.\n"
      ],
      "metadata": {
        "id": "rGhTFby37cxu"
      }
    },
    {
      "cell_type": "markdown",
      "source": [
        "## Cuarta Hipótesis: Regresión lineal múltiple con escalado.\n",
        "El hecho de que la propia variable objetivo ('price') sea superior en varios órdenes de magnitud a las demás nos invita a escalarla para que esto no afecte al entrenamiento del modelo. Se comienza escalando únicamente esta, pero es apreciable que hay importantes diferencias entre las variables predictoras en su orden de magnitud. Por lo demás se sigue la misma metodología que en el apartado anterior.\n"
      ],
      "metadata": {
        "id": "8Q7B2a0S-qsf"
      }
    },
    {
      "cell_type": "code",
      "source": [
        "from sklearn.preprocessing import StandardScaler\n",
        "scaler = StandardScaler()\n",
        "X4 = X3\n",
        "y4 = scaler.fit_transform(y3.to_numpy().reshape(-1,1))\n",
        "y4 = y4.reshape(1,-1)[0]\n",
        "X_train4, X_test4, y_train4, y_test4 = train_test_split(X4, y4, test_size=0.2, random_state=43)\n",
        "lin_reg4 = LinearRegression() \n",
        "lin_reg4.fit(X_train4, y_train4)"
      ],
      "metadata": {
        "colab": {
          "base_uri": "https://localhost:8080/"
        },
        "id": "LKDGYx5-_kVQ",
        "outputId": "09291ab2-d02d-4997-cc8b-847f833262f2"
      },
      "execution_count": 217,
      "outputs": [
        {
          "output_type": "execute_result",
          "data": {
            "text/plain": [
              "LinearRegression()"
            ]
          },
          "metadata": {},
          "execution_count": 217
        }
      ]
    },
    {
      "cell_type": "code",
      "source": [
        "y_pred4       = lin_reg4.predict(X_test4)\n",
        "y_pred_train4 = lin_reg4.predict(X_train4)"
      ],
      "metadata": {
        "id": "ai03g5ZdA5b1"
      },
      "execution_count": 218,
      "outputs": []
    },
    {
      "cell_type": "code",
      "source": [
        "mse_hipot4_train = mean_squared_error(y_true = y_train4, y_pred = y_pred_train4)\n",
        "mse_hipot4_test = mean_squared_error(y_true = y_test4, y_pred = y_pred4)\n",
        "print('Error cuadrático Medio (MSE) HIPO 1 TRAIN =' + str(mse_hipot1_train))\n",
        "print('Error cuadrático Medio (MSE) HIPO 1 TEST =' + str(mse_hipot1_test))\n",
        "print('Error cuadrático Medio (MSE) HIPO 2 TRAIN =' + str(mse_hipot2_train))\n",
        "print('Error cuadrático Medio (MSE) HIPO 2 TEST =' + str(mse_hipot2_test))\n",
        "print('Error cuadrático Medio (MSE) HIPO 3 TRAIN =' + str(mse_hipot3_train))\n",
        "print('Error cuadrático Medio (MSE) HIPO 3 TEST =' + str(mse_hipot3_test))\n",
        "print('Error cuadrático Medio (MSE) HIPO 4 TRAIN =' + str(mse_hipot4_train))\n",
        "print('Error cuadrático Medio (MSE) HIPO 4 TEST =' + str(mse_hipot4_test))"
      ],
      "metadata": {
        "colab": {
          "base_uri": "https://localhost:8080/"
        },
        "id": "vtkb_-ywBIHx",
        "outputId": "2addbecd-d7de-40b2-d783-664b8aedbd48"
      },
      "execution_count": 219,
      "outputs": [
        {
          "output_type": "stream",
          "name": "stdout",
          "text": [
            "Error cuadrático Medio (MSE) HIPO 1 TRAIN =39071667166.700676\n",
            "Error cuadrático Medio (MSE) HIPO 1 TEST =37008011061.08332\n",
            "Error cuadrático Medio (MSE) HIPO 2 TRAIN =32671957201.10976\n",
            "Error cuadrático Medio (MSE) HIPO 2 TEST =31279502092.74482\n",
            "Error cuadrático Medio (MSE) HIPO 3 TRAIN =20836977010.53552\n",
            "Error cuadrático Medio (MSE) HIPO 3 TEST =22389855809.391975\n",
            "Error cuadrático Medio (MSE) HIPO 4 TRAIN =0.30748648231395964\n",
            "Error cuadrático Medio (MSE) HIPO 4 TEST =0.3303975149703034\n"
          ]
        }
      ]
    },
    {
      "cell_type": "markdown",
      "source": [
        "El modelo ha mejorado sustancialmente, pero todavía necesita hacerlo más. No podemos dejarnos llevar por pensar que el error es pequeño al ser de 0.3, pues al haber escalado la variable objetivo el rango de esta es mucho más pequeño:"
      ],
      "metadata": {
        "id": "YuhEthTUBeQH"
      }
    },
    {
      "cell_type": "code",
      "source": [
        "print(y4.max())\n",
        "print(y4.min())"
      ],
      "metadata": {
        "colab": {
          "base_uri": "https://localhost:8080/"
        },
        "id": "dVpmOySKjY8r",
        "outputId": "008b3e4e-605e-4989-dd59-723af6150397"
      },
      "execution_count": 220,
      "outputs": [
        {
          "output_type": "stream",
          "name": "stdout",
          "text": [
            "4.273249631886307\n",
            "-1.939150583520872\n"
          ]
        }
      ]
    },
    {
      "cell_type": "markdown",
      "source": [
        "Se procede pues a escalar también las variables predictoras, algunas de ellas muy grandes como los áreas."
      ],
      "metadata": {
        "id": "aYP-c9y6j5bK"
      }
    },
    {
      "cell_type": "code",
      "source": [
        "from sklearn.preprocessing import StandardScaler\n",
        "scaler = StandardScaler()\n",
        "X4_sc = scaler.fit_transform(X3)\n",
        "y4 = scaler.fit_transform(y3.to_numpy().reshape(-1,1))\n",
        "y4 = y4.reshape(1,-1)[0]\n",
        "X_train4_sc, X_test4_sc, y_train4, y_test4 = train_test_split(X4_sc, y4, test_size=0.2, random_state=43)\n",
        "lin_reg4_sc = LinearRegression() \n",
        "lin_reg4_sc.fit(X_train4_sc, y_train4)"
      ],
      "metadata": {
        "colab": {
          "base_uri": "https://localhost:8080/"
        },
        "id": "-3A1F-o9F1lt",
        "outputId": "aa3d0c14-939d-491a-dbf6-c9b05aa90527"
      },
      "execution_count": 221,
      "outputs": [
        {
          "output_type": "execute_result",
          "data": {
            "text/plain": [
              "LinearRegression()"
            ]
          },
          "metadata": {},
          "execution_count": 221
        }
      ]
    },
    {
      "cell_type": "code",
      "source": [
        "y_pred4_sc       = lin_reg4_sc.predict(X_test4_sc)\n",
        "y_pred_train4_sc = lin_reg4_sc.predict(X_train4_sc)"
      ],
      "metadata": {
        "id": "EUoVBN9qHWh8"
      },
      "execution_count": 222,
      "outputs": []
    },
    {
      "cell_type": "code",
      "source": [
        "mse_hipot4_train_sc = mean_squared_error(y_true = y_train4, y_pred = y_pred_train4_sc)\n",
        "mse_hipot4_test_sc = mean_squared_error(y_true = y_test4, y_pred = y_pred4_sc)\n",
        "print('Error cuadrático Medio (MSE) HIPO 1 TRAIN =' + str(mse_hipot1_train))\n",
        "print('Error cuadrático Medio (MSE) HIPO 1 TEST =' + str(mse_hipot1_test))\n",
        "print('Error cuadrático Medio (MSE) HIPO 2 TRAIN =' + str(mse_hipot2_train))\n",
        "print('Error cuadrático Medio (MSE) HIPO 2 TEST =' + str(mse_hipot2_test))\n",
        "print('Error cuadrático Medio (MSE) HIPO 3 TRAIN =' + str(mse_hipot3_train))\n",
        "print('Error cuadrático Medio (MSE) HIPO 3 TEST =' + str(mse_hipot3_test))\n",
        "print('Error cuadrático Medio (MSE) HIPO 4 TRAIN =' + str(mse_hipot4_train))\n",
        "print('Error cuadrático Medio (MSE) HIPO 4 TEST =' + str(mse_hipot4_test))\n",
        "print('Error cuadrático Medio (MSE) HIPO 4 TRAIN(w/ scaler) =' + str(mse_hipot4_train_sc))\n",
        "print('Error cuadrático Medio (MSE) HIPO 4 TEST(w/ scaler) =' + str(mse_hipot4_test_sc))"
      ],
      "metadata": {
        "colab": {
          "base_uri": "https://localhost:8080/"
        },
        "id": "k6Sz7VlAHhjk",
        "outputId": "99bb5a87-d53c-456e-ed3a-e076ff67ea37"
      },
      "execution_count": 223,
      "outputs": [
        {
          "output_type": "stream",
          "name": "stdout",
          "text": [
            "Error cuadrático Medio (MSE) HIPO 1 TRAIN =39071667166.700676\n",
            "Error cuadrático Medio (MSE) HIPO 1 TEST =37008011061.08332\n",
            "Error cuadrático Medio (MSE) HIPO 2 TRAIN =32671957201.10976\n",
            "Error cuadrático Medio (MSE) HIPO 2 TEST =31279502092.74482\n",
            "Error cuadrático Medio (MSE) HIPO 3 TRAIN =20836977010.53552\n",
            "Error cuadrático Medio (MSE) HIPO 3 TEST =22389855809.391975\n",
            "Error cuadrático Medio (MSE) HIPO 4 TRAIN =0.30748648231395964\n",
            "Error cuadrático Medio (MSE) HIPO 4 TEST =0.3303975149703034\n",
            "Error cuadrático Medio (MSE) HIPO 4 TRAIN(w/ scaler) =0.30808116750749126\n",
            "Error cuadrático Medio (MSE) HIPO 4 TEST(w/ scaler) =0.33003214408289167\n"
          ]
        }
      ]
    },
    {
      "cell_type": "markdown",
      "source": [
        "Esto no se traduce en una mejoría en la métrica, se ha probado también con otros \"scalers\" y el rendimiento ha sido peor.\n",
        "\n",
        "\n",
        " "
      ],
      "metadata": {
        "id": "JO4VJes8kLJU"
      }
    }
  ]
}
