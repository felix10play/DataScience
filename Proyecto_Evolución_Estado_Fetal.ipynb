{
  "nbformat": 4,
  "nbformat_minor": 0,
  "metadata": {
    "colab": {
      "name": "Proyecto_M4.ipynb",
      "provenance": [],
      "collapsed_sections": [
        "0E4QHqPRI-OJ",
        "ZHmgCMEgKfAC",
        "5iuQV-lfL2lz",
        "h5eZhqtZSXR4"
      ]
    },
    "kernelspec": {
      "name": "python3",
      "display_name": "Python 3"
    },
    "language_info": {
      "name": "python"
    }
  },
  "cells": [
    {
      "cell_type": "markdown",
      "source": [
        "#**PROYECTO**\n",
        "\n",
        "EVALUACIÓN DEL ESTADO DE SALUD DE UN BEBÉ DURANTE EL PARTO."
      ],
      "metadata": {
        "id": "uf7A4VHiIu8G"
      }
    },
    {
      "cell_type": "markdown",
      "source": [
        "##**FASE 1: Carga de datos y análisis descriptivo.**"
      ],
      "metadata": {
        "id": "J-M7Iw-DgpOa"
      }
    },
    {
      "cell_type": "code",
      "execution_count": 127,
      "metadata": {
        "id": "oWz3x0yYamdH"
      },
      "outputs": [],
      "source": [
        "# IMPORTACION DE LIBRERIAS\n",
        "import numpy as np\n",
        "import pandas as pd\n",
        "\n",
        "# LIBRERIAS PARA HACER GRAFICOS\n",
        "import seaborn as sns\n",
        "import matplotlib.pyplot as plt\n",
        "import plotly.express as xp"
      ]
    },
    {
      "cell_type": "code",
      "source": [
        "file = '/content/Sprint/ASI_casoPractico.csv'\n",
        "data = pd.read_csv(file, sep = ';')\n",
        "data.head()"
      ],
      "metadata": {
        "colab": {
          "base_uri": "https://localhost:8080/",
          "height": 270
        },
        "id": "UqYf76pybGAS",
        "outputId": "fdd127e4-1dfe-4ab3-e5f8-fa00ec6c5275"
      },
      "execution_count": 128,
      "outputs": [
        {
          "output_type": "execute_result",
          "data": {
            "text/html": [
              "\n",
              "  <div id=\"df-2a65e4f6-741b-4a09-a642-6f672556fbdb\">\n",
              "    <div class=\"colab-df-container\">\n",
              "      <div>\n",
              "<style scoped>\n",
              "    .dataframe tbody tr th:only-of-type {\n",
              "        vertical-align: middle;\n",
              "    }\n",
              "\n",
              "    .dataframe tbody tr th {\n",
              "        vertical-align: top;\n",
              "    }\n",
              "\n",
              "    .dataframe thead th {\n",
              "        text-align: right;\n",
              "    }\n",
              "</style>\n",
              "<table border=\"1\" class=\"dataframe\">\n",
              "  <thead>\n",
              "    <tr style=\"text-align: right;\">\n",
              "      <th></th>\n",
              "      <th>ID</th>\n",
              "      <th>b</th>\n",
              "      <th>e</th>\n",
              "      <th>LBE</th>\n",
              "      <th>AC</th>\n",
              "      <th>FM</th>\n",
              "      <th>UC</th>\n",
              "      <th>ASTV</th>\n",
              "      <th>MSTV</th>\n",
              "      <th>ALTV</th>\n",
              "      <th>MLTV</th>\n",
              "      <th>DL</th>\n",
              "      <th>DS</th>\n",
              "      <th>DP</th>\n",
              "      <th>DR</th>\n",
              "      <th>Width</th>\n",
              "      <th>Min</th>\n",
              "      <th>Max</th>\n",
              "      <th>Nmax</th>\n",
              "      <th>Nzeros</th>\n",
              "      <th>Mode</th>\n",
              "      <th>Mean</th>\n",
              "      <th>Median</th>\n",
              "      <th>Variance</th>\n",
              "      <th>Tendency</th>\n",
              "      <th>Target</th>\n",
              "    </tr>\n",
              "  </thead>\n",
              "  <tbody>\n",
              "    <tr>\n",
              "      <th>0</th>\n",
              "      <td>1</td>\n",
              "      <td>240</td>\n",
              "      <td>357</td>\n",
              "      <td>120</td>\n",
              "      <td>0</td>\n",
              "      <td>0</td>\n",
              "      <td>0</td>\n",
              "      <td>73</td>\n",
              "      <td>0.5</td>\n",
              "      <td>43</td>\n",
              "      <td>2.4</td>\n",
              "      <td>0</td>\n",
              "      <td>0</td>\n",
              "      <td>0</td>\n",
              "      <td>0</td>\n",
              "      <td>64</td>\n",
              "      <td>62</td>\n",
              "      <td>126</td>\n",
              "      <td>2</td>\n",
              "      <td>0</td>\n",
              "      <td>120</td>\n",
              "      <td>137</td>\n",
              "      <td>121</td>\n",
              "      <td>73</td>\n",
              "      <td>1</td>\n",
              "      <td>1</td>\n",
              "    </tr>\n",
              "    <tr>\n",
              "      <th>1</th>\n",
              "      <td>2</td>\n",
              "      <td>5</td>\n",
              "      <td>632</td>\n",
              "      <td>132</td>\n",
              "      <td>4</td>\n",
              "      <td>0</td>\n",
              "      <td>4</td>\n",
              "      <td>17</td>\n",
              "      <td>2.1</td>\n",
              "      <td>0</td>\n",
              "      <td>10.4</td>\n",
              "      <td>2</td>\n",
              "      <td>0</td>\n",
              "      <td>0</td>\n",
              "      <td>0</td>\n",
              "      <td>130</td>\n",
              "      <td>68</td>\n",
              "      <td>198</td>\n",
              "      <td>6</td>\n",
              "      <td>1</td>\n",
              "      <td>141</td>\n",
              "      <td>136</td>\n",
              "      <td>140</td>\n",
              "      <td>12</td>\n",
              "      <td>0</td>\n",
              "      <td>0</td>\n",
              "    </tr>\n",
              "    <tr>\n",
              "      <th>2</th>\n",
              "      <td>3</td>\n",
              "      <td>177</td>\n",
              "      <td>779</td>\n",
              "      <td>133</td>\n",
              "      <td>2</td>\n",
              "      <td>0</td>\n",
              "      <td>5</td>\n",
              "      <td>16</td>\n",
              "      <td>2.1</td>\n",
              "      <td>0</td>\n",
              "      <td>13.4</td>\n",
              "      <td>2</td>\n",
              "      <td>0</td>\n",
              "      <td>0</td>\n",
              "      <td>0</td>\n",
              "      <td>130</td>\n",
              "      <td>68</td>\n",
              "      <td>198</td>\n",
              "      <td>5</td>\n",
              "      <td>1</td>\n",
              "      <td>141</td>\n",
              "      <td>135</td>\n",
              "      <td>138</td>\n",
              "      <td>13</td>\n",
              "      <td>0</td>\n",
              "      <td>0</td>\n",
              "    </tr>\n",
              "    <tr>\n",
              "      <th>3</th>\n",
              "      <td>4</td>\n",
              "      <td>411</td>\n",
              "      <td>1192</td>\n",
              "      <td>134</td>\n",
              "      <td>2</td>\n",
              "      <td>0</td>\n",
              "      <td>6</td>\n",
              "      <td>16</td>\n",
              "      <td>2.4</td>\n",
              "      <td>0</td>\n",
              "      <td>23.0</td>\n",
              "      <td>2</td>\n",
              "      <td>0</td>\n",
              "      <td>0</td>\n",
              "      <td>0</td>\n",
              "      <td>117</td>\n",
              "      <td>53</td>\n",
              "      <td>170</td>\n",
              "      <td>11</td>\n",
              "      <td>0</td>\n",
              "      <td>137</td>\n",
              "      <td>134</td>\n",
              "      <td>137</td>\n",
              "      <td>13</td>\n",
              "      <td>1</td>\n",
              "      <td>0</td>\n",
              "    </tr>\n",
              "    <tr>\n",
              "      <th>4</th>\n",
              "      <td>5</td>\n",
              "      <td>533</td>\n",
              "      <td>1147</td>\n",
              "      <td>132</td>\n",
              "      <td>4</td>\n",
              "      <td>0</td>\n",
              "      <td>5</td>\n",
              "      <td>16</td>\n",
              "      <td>2.4</td>\n",
              "      <td>0</td>\n",
              "      <td>19.9</td>\n",
              "      <td>0</td>\n",
              "      <td>0</td>\n",
              "      <td>0</td>\n",
              "      <td>0</td>\n",
              "      <td>117</td>\n",
              "      <td>53</td>\n",
              "      <td>170</td>\n",
              "      <td>9</td>\n",
              "      <td>0</td>\n",
              "      <td>137</td>\n",
              "      <td>136</td>\n",
              "      <td>138</td>\n",
              "      <td>11</td>\n",
              "      <td>1</td>\n",
              "      <td>0</td>\n",
              "    </tr>\n",
              "  </tbody>\n",
              "</table>\n",
              "</div>\n",
              "      <button class=\"colab-df-convert\" onclick=\"convertToInteractive('df-2a65e4f6-741b-4a09-a642-6f672556fbdb')\"\n",
              "              title=\"Convert this dataframe to an interactive table.\"\n",
              "              style=\"display:none;\">\n",
              "        \n",
              "  <svg xmlns=\"http://www.w3.org/2000/svg\" height=\"24px\"viewBox=\"0 0 24 24\"\n",
              "       width=\"24px\">\n",
              "    <path d=\"M0 0h24v24H0V0z\" fill=\"none\"/>\n",
              "    <path d=\"M18.56 5.44l.94 2.06.94-2.06 2.06-.94-2.06-.94-.94-2.06-.94 2.06-2.06.94zm-11 1L8.5 8.5l.94-2.06 2.06-.94-2.06-.94L8.5 2.5l-.94 2.06-2.06.94zm10 10l.94 2.06.94-2.06 2.06-.94-2.06-.94-.94-2.06-.94 2.06-2.06.94z\"/><path d=\"M17.41 7.96l-1.37-1.37c-.4-.4-.92-.59-1.43-.59-.52 0-1.04.2-1.43.59L10.3 9.45l-7.72 7.72c-.78.78-.78 2.05 0 2.83L4 21.41c.39.39.9.59 1.41.59.51 0 1.02-.2 1.41-.59l7.78-7.78 2.81-2.81c.8-.78.8-2.07 0-2.86zM5.41 20L4 18.59l7.72-7.72 1.47 1.35L5.41 20z\"/>\n",
              "  </svg>\n",
              "      </button>\n",
              "      \n",
              "  <style>\n",
              "    .colab-df-container {\n",
              "      display:flex;\n",
              "      flex-wrap:wrap;\n",
              "      gap: 12px;\n",
              "    }\n",
              "\n",
              "    .colab-df-convert {\n",
              "      background-color: #E8F0FE;\n",
              "      border: none;\n",
              "      border-radius: 50%;\n",
              "      cursor: pointer;\n",
              "      display: none;\n",
              "      fill: #1967D2;\n",
              "      height: 32px;\n",
              "      padding: 0 0 0 0;\n",
              "      width: 32px;\n",
              "    }\n",
              "\n",
              "    .colab-df-convert:hover {\n",
              "      background-color: #E2EBFA;\n",
              "      box-shadow: 0px 1px 2px rgba(60, 64, 67, 0.3), 0px 1px 3px 1px rgba(60, 64, 67, 0.15);\n",
              "      fill: #174EA6;\n",
              "    }\n",
              "\n",
              "    [theme=dark] .colab-df-convert {\n",
              "      background-color: #3B4455;\n",
              "      fill: #D2E3FC;\n",
              "    }\n",
              "\n",
              "    [theme=dark] .colab-df-convert:hover {\n",
              "      background-color: #434B5C;\n",
              "      box-shadow: 0px 1px 3px 1px rgba(0, 0, 0, 0.15);\n",
              "      filter: drop-shadow(0px 1px 2px rgba(0, 0, 0, 0.3));\n",
              "      fill: #FFFFFF;\n",
              "    }\n",
              "  </style>\n",
              "\n",
              "      <script>\n",
              "        const buttonEl =\n",
              "          document.querySelector('#df-2a65e4f6-741b-4a09-a642-6f672556fbdb button.colab-df-convert');\n",
              "        buttonEl.style.display =\n",
              "          google.colab.kernel.accessAllowed ? 'block' : 'none';\n",
              "\n",
              "        async function convertToInteractive(key) {\n",
              "          const element = document.querySelector('#df-2a65e4f6-741b-4a09-a642-6f672556fbdb');\n",
              "          const dataTable =\n",
              "            await google.colab.kernel.invokeFunction('convertToInteractive',\n",
              "                                                     [key], {});\n",
              "          if (!dataTable) return;\n",
              "\n",
              "          const docLinkHtml = 'Like what you see? Visit the ' +\n",
              "            '<a target=\"_blank\" href=https://colab.research.google.com/notebooks/data_table.ipynb>data table notebook</a>'\n",
              "            + ' to learn more about interactive tables.';\n",
              "          element.innerHTML = '';\n",
              "          dataTable['output_type'] = 'display_data';\n",
              "          await google.colab.output.renderOutput(dataTable, element);\n",
              "          const docLink = document.createElement('div');\n",
              "          docLink.innerHTML = docLinkHtml;\n",
              "          element.appendChild(docLink);\n",
              "        }\n",
              "      </script>\n",
              "    </div>\n",
              "  </div>\n",
              "  "
            ],
            "text/plain": [
              "   ID    b     e  LBE  AC  FM  ...  Mode  Mean  Median  Variance  Tendency  Target\n",
              "0   1  240   357  120   0   0  ...   120   137     121        73         1       1\n",
              "1   2    5   632  132   4   0  ...   141   136     140        12         0       0\n",
              "2   3  177   779  133   2   0  ...   141   135     138        13         0       0\n",
              "3   4  411  1192  134   2   0  ...   137   134     137        13         1       0\n",
              "4   5  533  1147  132   4   0  ...   137   136     138        11         1       0\n",
              "\n",
              "[5 rows x 26 columns]"
            ]
          },
          "metadata": {},
          "execution_count": 128
        }
      ]
    },
    {
      "cell_type": "markdown",
      "source": [
        "**Como análisis descriptivo se incluyen las tareas del sprint 1:**"
      ],
      "metadata": {
        "id": "YYlrjb4-nlS7"
      }
    },
    {
      "cell_type": "markdown",
      "source": [
        "###**1.Clasifique cada variable según su tipo, cualitativa o cuantitativa discreta o continúu.**"
      ],
      "metadata": {
        "id": "Gh_rk46syVfS"
      }
    },
    {
      "cell_type": "markdown",
      "source": [
        "Las definiciones de cada tipo de variable:\n",
        "- Cualitativas: Aquellas que representan cualidades o características categóricas, es decir no toman valores numéricos.\n",
        "- Cuantitativas: Aquellas que cuantifican, es decir, toman valores numéricos:\n",
        " - Discretas: Tienen como resultado un numero contable de valores (Ej: Numero de hijos de una familia, numero de coches que tienes...)\n",
        " - Continuas: Pueden tomar cualquier valor dentro de un intervalo y suelen ser características medibles (Ej: Temperatura, altura de una persona...)"
      ],
      "metadata": {
        "id": "GyTROMHn1fmX"
      }
    },
    {
      "cell_type": "code",
      "source": [
        "nombre_columnas      = data.columns.tolist()\n",
        "significado_columnas = ['Identification','Start Instant','End Instant','Baseline Value','Accelerations','Foetal Movement','Uterine Contractions','Percentage of time with abnormal short term variability','Mean value of short term variability','Percentage of time with abnormal long term variability','Mean value of long term variability','Light Decelerations','Severe Decelerations','Prolongued Decelerations','Repetitive Decelerations',' Histogram Width','Low freq. of the histogram','High freq. of the histogram','Number of histogram peaks','Number of histogram zeros','Histogram Mode','Histogram Mean','Histogram Median','Histogram variance','Histogram tendency','Target']\n",
        "columnas             = dict(zip(nombre_columnas, significado_columnas))"
      ],
      "metadata": {
        "id": "Qp6FIZX63pkE"
      },
      "execution_count": 129,
      "outputs": []
    },
    {
      "cell_type": "markdown",
      "source": [
        "Antes de clasificar las variables se recopilan todas ellas y se les dota de una pequeña descripción:"
      ],
      "metadata": {
        "id": "1tnu8CnT9ho1"
      }
    },
    {
      "cell_type": "code",
      "source": [
        "columnas"
      ],
      "metadata": {
        "colab": {
          "base_uri": "https://localhost:8080/"
        },
        "id": "DCZnK2yu7OiN",
        "outputId": "c8c5ee62-35a3-4f58-f463-4c412ad37785"
      },
      "execution_count": 130,
      "outputs": [
        {
          "output_type": "execute_result",
          "data": {
            "text/plain": [
              "{'AC': 'Accelerations',\n",
              " 'ALTV': 'Percentage of time with abnormal long term variability',\n",
              " 'ASTV': 'Percentage of time with abnormal short term variability',\n",
              " 'DL': 'Light Decelerations',\n",
              " 'DP': 'Prolongued Decelerations',\n",
              " 'DR': 'Repetitive Decelerations',\n",
              " 'DS': 'Severe Decelerations',\n",
              " 'FM': 'Foetal Movement',\n",
              " 'ID': 'Identification',\n",
              " 'LBE': 'Baseline Value',\n",
              " 'MLTV': 'Mean value of long term variability',\n",
              " 'MSTV': 'Mean value of short term variability',\n",
              " 'Max': 'High freq. of the histogram',\n",
              " 'Mean': 'Histogram Mean',\n",
              " 'Median': 'Histogram Median',\n",
              " 'Min': 'Low freq. of the histogram',\n",
              " 'Mode': 'Histogram Mode',\n",
              " 'Nmax': 'Number of histogram peaks',\n",
              " 'Nzeros': 'Number of histogram zeros',\n",
              " 'Target': 'Target',\n",
              " 'Tendency': 'Histogram tendency',\n",
              " 'UC': 'Uterine Contractions',\n",
              " 'Variance': 'Histogram variance',\n",
              " 'Width': ' Histogram Width',\n",
              " 'b': 'Start Instant',\n",
              " 'e': 'End Instant'}"
            ]
          },
          "metadata": {},
          "execution_count": 130
        }
      ]
    },
    {
      "cell_type": "markdown",
      "source": [
        "A partir del `data.info()` realizado al inicio, ya podemos concluir que todas las variables son cuantitativas, pues todas son de tipo numérico. Ahora, en base a la pequeña descripción de cada variable, y por ejemplo, el número de elementos únicos para cada una de ellas que se obtuvo al inicio, se van a clasificar las variables en continuas y discretas.\n",
        "- Cuantitativa Continua = CC\n",
        "- Cuantitativa Discreta = CD"
      ],
      "metadata": {
        "id": "uyD_B3E2963u"
      }
    },
    {
      "cell_type": "code",
      "source": [
        "tipo_variables = ['CD','CC','CC','CC','CD','CD','CD','CC','CC','CC','CC','CD','CD','CD','CD','CC','CC','CC','CD','CD','CC','CC','CC','CC','CD','CD']\n",
        "tipo_variables = dict(zip(nombre_columnas,tipo_variables))"
      ],
      "metadata": {
        "id": "yditLT_4_K3E"
      },
      "execution_count": 131,
      "outputs": []
    },
    {
      "cell_type": "code",
      "source": [
        "tipo_variables"
      ],
      "metadata": {
        "colab": {
          "base_uri": "https://localhost:8080/"
        },
        "id": "Pib8iKmZC3u0",
        "outputId": "a3a6d032-31ec-40a3-94a4-24e2074b88b8"
      },
      "execution_count": 132,
      "outputs": [
        {
          "output_type": "execute_result",
          "data": {
            "text/plain": [
              "{'AC': 'CD',\n",
              " 'ALTV': 'CC',\n",
              " 'ASTV': 'CC',\n",
              " 'DL': 'CD',\n",
              " 'DP': 'CD',\n",
              " 'DR': 'CD',\n",
              " 'DS': 'CD',\n",
              " 'FM': 'CD',\n",
              " 'ID': 'CD',\n",
              " 'LBE': 'CC',\n",
              " 'MLTV': 'CC',\n",
              " 'MSTV': 'CC',\n",
              " 'Max': 'CC',\n",
              " 'Mean': 'CC',\n",
              " 'Median': 'CC',\n",
              " 'Min': 'CC',\n",
              " 'Mode': 'CC',\n",
              " 'Nmax': 'CD',\n",
              " 'Nzeros': 'CD',\n",
              " 'Target': 'CD',\n",
              " 'Tendency': 'CD',\n",
              " 'UC': 'CD',\n",
              " 'Variance': 'CC',\n",
              " 'Width': 'CC',\n",
              " 'b': 'CC',\n",
              " 'e': 'CC'}"
            ]
          },
          "metadata": {},
          "execution_count": 132
        }
      ]
    },
    {
      "cell_type": "markdown",
      "source": [
        "###**2. ¿Cuál es la proporción de estados fetales normales?¿Y anormales?**"
      ],
      "metadata": {
        "id": "Vg96FEmfWQ4l"
      }
    },
    {
      "cell_type": "markdown",
      "source": [
        "Mediante `matplotlib.pyplot.pie(x,..,labels=..,autopct=...)` se realiza un gráfico de tarta del vector x, en donde el área de cada porción viene dada por $x/sum(x)$. Con \"labels\" proporcionamos las etiquetas para cada porción y con autopct habilitamos que en cada una de ellas aparezca su porcentaje con respecto al gráfico.  \n",
        "Como lista x pasamos aquella que contiene el total de estados normales y anormales como sus dos elementos."
      ],
      "metadata": {
        "id": "8za1bwtfXGT2"
      }
    },
    {
      "cell_type": "code",
      "source": [
        "a, b = data['Target'].value_counts()\n",
        "plt.figure(figsize = (13,5))\n",
        "plt.subplot(121)\n",
        "plt.pie([a, b], labels=[\"Normal\", \"Anormal\"], autopct=\"%1.0f%%\")\n",
        "print(data[\"Target\"].value_counts())"
      ],
      "metadata": {
        "colab": {
          "base_uri": "https://localhost:8080/",
          "height": 355
        },
        "id": "GWiLA2HjRkDt",
        "outputId": "8d132041-ec84-4084-afc3-8f28b026bffa"
      },
      "execution_count": 133,
      "outputs": [
        {
          "output_type": "stream",
          "name": "stdout",
          "text": [
            "0    1655\n",
            "1     471\n",
            "Name: Target, dtype: int64\n"
          ]
        },
        {
          "output_type": "display_data",
          "data": {
            "image/png": "[encoded data removed]",
            "text/plain": [
              "<Figure size 936x360 with 1 Axes>"
            ]
          },
          "metadata": {}
        }
      ]
    },
    {
      "cell_type": "markdown",
      "source": [
        "###**3. Obtenga las medidas de centralización, localización y dispersión para las variables:  FM, ALTV y Median.**"
      ],
      "metadata": {
        "id": "2vgz6q1gc_BK"
      }
    },
    {
      "cell_type": "markdown",
      "source": [
        "Se va a emplear `pandas.Dataframe.describe()` que genera una serie de estadisticas descriptivas, incluyendo medidas de centralización como la media y la mediana ($=P_{50}$), de localización como los percentiles 25, 50 y 75, y de dispersión como la desviación estándar, el máximo y el mínimo. Recoge prácticamente todas las estadísticas descriptivas fundamentales. "
      ],
      "metadata": {
        "id": "Jx9ACHXxeiy5"
      }
    },
    {
      "cell_type": "code",
      "source": [
        "FM_statistics     = data.FM.describe().T\n",
        "ALTV_statistics   = data.ALTV.describe().T\n",
        "Median_statistics = data.Median.describe().T"
      ],
      "metadata": {
        "id": "WGNHQTq3Ruut"
      },
      "execution_count": 134,
      "outputs": []
    },
    {
      "cell_type": "code",
      "source": [
        "FM_statistics"
      ],
      "metadata": {
        "colab": {
          "base_uri": "https://localhost:8080/"
        },
        "id": "ESTr1wT3dwNz",
        "outputId": "522a1b42-9bcf-431e-e367-fafbebb671ba"
      },
      "execution_count": 135,
      "outputs": [
        {
          "output_type": "execute_result",
          "data": {
            "text/plain": [
              "count    2126.000000\n",
              "mean        7.241298\n",
              "std        37.125309\n",
              "min         0.000000\n",
              "25%         0.000000\n",
              "50%         0.000000\n",
              "75%         2.000000\n",
              "max       564.000000\n",
              "Name: FM, dtype: float64"
            ]
          },
          "metadata": {},
          "execution_count": 135
        }
      ]
    },
    {
      "cell_type": "markdown",
      "source": [
        "Llama la atención la gran dispersión en los datos, con una valor muy grande para la desviación estándar ($\\approx 5·\\mu$), y un gran tamaño de rango ($max-min$), lo que junto a los percentiles, nos habla de la presencia datos extremos, pues el 75% de los datos tienen un valor inferior a 2. Es una característica de gran variabilidad. "
      ],
      "metadata": {
        "id": "1ZiCtR6Bgx_B"
      }
    },
    {
      "cell_type": "code",
      "source": [
        "ALTV_statistics"
      ],
      "metadata": {
        "colab": {
          "base_uri": "https://localhost:8080/"
        },
        "id": "JXw7Xz3ld3CZ",
        "outputId": "3ca63c6e-a50f-4f3d-abb5-0018fcf30a83"
      },
      "execution_count": 136,
      "outputs": [
        {
          "output_type": "execute_result",
          "data": {
            "text/plain": [
              "count    2126.00000\n",
              "mean        9.84666\n",
              "std        18.39688\n",
              "min         0.00000\n",
              "25%         0.00000\n",
              "50%         0.00000\n",
              "75%        11.00000\n",
              "max        91.00000\n",
              "Name: ALTV, dtype: float64"
            ]
          },
          "metadata": {},
          "execution_count": 136
        }
      ]
    },
    {
      "cell_type": "markdown",
      "source": [
        "Para ALTV se tiene un comportamiento similar aunque con una menor dispersión."
      ],
      "metadata": {
        "id": "VOQzbVPtd-33"
      }
    },
    {
      "cell_type": "code",
      "source": [
        "Median_statistics"
      ],
      "metadata": {
        "colab": {
          "base_uri": "https://localhost:8080/"
        },
        "id": "7tI_q8Red5s0",
        "outputId": "e005b7fe-f8ff-4051-f24e-d0663316d590"
      },
      "execution_count": 137,
      "outputs": [
        {
          "output_type": "execute_result",
          "data": {
            "text/plain": [
              "count    2126.000000\n",
              "mean      138.090310\n",
              "std        14.466589\n",
              "min        77.000000\n",
              "25%       129.000000\n",
              "50%       139.000000\n",
              "75%       148.000000\n",
              "max       186.000000\n",
              "Name: Median, dtype: float64"
            ]
          },
          "metadata": {},
          "execution_count": 137
        }
      ]
    },
    {
      "cell_type": "markdown",
      "source": [
        "Para \"Median\" el comportamiento es radicalmente opuesto a los dos casos anteriores presentando el conjunto una localización mucho mayor. De hecho, empleando como criterio para determinar los valores atípicos que lo son aquellos que no están en el intervalo $[Q_{1}-1.5RIQ, Q_{3}+1.5RIQ]$, incluso el máximo y mínimo, aún siendo atípicos, están bastante próximos a este intervalo."
      ],
      "metadata": {
        "id": "K8Z4SEmSee6l"
      }
    },
    {
      "cell_type": "markdown",
      "source": [
        "###**4. Obtenga el histograma para las variables: LBE, DS y Min.**\n",
        "\n"
      ],
      "metadata": {
        "id": "SHFaA50pwlAG"
      }
    },
    {
      "cell_type": "markdown",
      "source": [
        "Mediante el histograma se puede ver como se distribuye la población en función de una característica, en este caso LBE, DS y Min."
      ],
      "metadata": {
        "id": "cFBNZHeDxqFf"
      }
    },
    {
      "cell_type": "code",
      "source": [
        "fig, axs = plt.subplots(1, 3, figsize=(12, 4), sharey=False)\n",
        "data['LBE'].hist(ax=axs[0]).set_title('LBE')\n",
        "data['DS'].hist(ax=axs[1]).set_title('DS')\n",
        "data['Min'].hist(ax=axs[2]).set_title('Min')\n",
        "plt.show()"
      ],
      "metadata": {
        "colab": {
          "base_uri": "https://localhost:8080/",
          "height": 281
        },
        "id": "aw3L08QSVkUA",
        "outputId": "aa20321d-264d-4345-c2f1-5aa01b2184c3"
      },
      "execution_count": 138,
      "outputs": [
        {
          "output_type": "display_data",
          "data": {
            "image/png": "[encoded data removed]",
            "text/plain": [
              "<Figure size 864x288 with 3 Axes>"
            ]
          },
          "metadata": {
            "needs_background": "light"
          }
        }
      ]
    },
    {
      "cell_type": "markdown",
      "source": [
        "Podemos extraer conclusiones interesantes a partir de estos histogramas:\n",
        "- LBE: Es la característica con una distribución más uniforme, que incluso podría modelizarse como una gaussiana.\n",
        "- DS: Es una variable dicotómica, que solo toma dos valores, y uno de ellos con muchisima más frecuencia que el otro. Va a aportar muy poca información a nuestro conjunto.\n",
        "- Min: Una variable con una distribución más compleja que las dos anteriores."
      ],
      "metadata": {
        "id": "k4mws5ZczQ9n"
      }
    },
    {
      "cell_type": "markdown",
      "source": [
        "###**5. Obtenga un gráfico box-plot para las variables: AC, ASTV y Mean.** "
      ],
      "metadata": {
        "id": "9tRSZME0yhez"
      }
    },
    {
      "cell_type": "markdown",
      "source": [
        "Mediante `pandas.Dataframe.boxplot` se construye una gráfica de caja (boxplot) para las variables AC, ASTV Y Mean. El gráfico de cajas permite representar gráficamente los datos a través de sus cuartiles. La caja se extiende desde el primer al tercer cuartil y la línea que lo cruza se corresponde con el segundo cuartil o mediana.\n",
        "También muestra los datos atípicos, es decir, áquellos que están fuera del intervalo representado por las líneas que salen de la caja y de valor:\n",
        "\n",
        "\\begin{align}\n",
        "[Q_{1}-1.5·RIQ, &Q_{3}+1.5·RIQ];\\\\\n",
        "RIQ = &Q_{3}-Q_{1}\n",
        "\\end{align}"
      ],
      "metadata": {
        "id": "JgPNL1EjzGaG"
      }
    },
    {
      "cell_type": "code",
      "source": [
        "data.boxplot(column=['AC','ASTV','Mean'],vert=False)"
      ],
      "metadata": {
        "colab": {
          "base_uri": "https://localhost:8080/",
          "height": 282
        },
        "id": "qyMiYNspXIEV",
        "outputId": "107e5bbd-2d9a-4407-ed84-d01b2d953782"
      },
      "execution_count": 139,
      "outputs": [
        {
          "output_type": "execute_result",
          "data": {
            "text/plain": [
              "<matplotlib.axes._subplots.AxesSubplot at 0x7f58dcd26550>"
            ]
          },
          "metadata": {},
          "execution_count": 139
        },
        {
          "output_type": "display_data",
          "data": {
            "image/png": "[encoded data removed]",
            "text/plain": [
              "<Figure size 432x288 with 1 Axes>"
            ]
          },
          "metadata": {
            "needs_background": "light"
          }
        }
      ]
    },
    {
      "cell_type": "markdown",
      "source": [
        "Es llamativa la presencia de una gran cantidad de valores atípicos en Mean y AC, y de ninguno en ASTV. La variable AC parece ser una importante variable explicativa, pues el grueso de sus valores (interior de la caja) está poco disperso, sin embargo, presenta una importante cantidad de valores atípicos, que probablemente estén relacionados con el estado anormal del feto (menos frecuente). Así, cabe esperar que se trate de una variable que varíe fuertemente según cual sea el target. "
      ],
      "metadata": {
        "id": "QNJ15MlRcggT"
      }
    },
    {
      "cell_type": "markdown",
      "source": [
        "##**FASE 2: Muestreo. Conjunto de entrenamiento y test**"
      ],
      "metadata": {
        "id": "_--83TXolNf_"
      }
    },
    {
      "cell_type": "markdown",
      "source": [
        "###**1. Enumere las 3 variables explicativas que presentan mayor correlación con el target.**"
      ],
      "metadata": {
        "id": "0E4QHqPRI-OJ"
      }
    },
    {
      "cell_type": "markdown",
      "source": [
        "Para ello vamos a emplear la función de pandas `DataFrame.corr()`, que devuelve una matriz de correlación de Pearson. Cada elemento [i,j] de esta matriz contiene la correlación lineal de Pearson entre la variable i y la j. \n",
        "En primer lugar, antes de responder a la cuestión se puede visualizar esta matriz por medio de un mapa de calor."
      ],
      "metadata": {
        "id": "XjoUVVz4WBGY"
      }
    },
    {
      "cell_type": "code",
      "source": [
        "plt.figure(figsize=(20,20))\n",
        "corr = data.corr()\n",
        "cmap = sns.color_palette(\"light:b\", as_cmap=True)\n",
        "sns.heatmap(corr, annot=True, cmap=cmap)"
      ],
      "metadata": {
        "colab": {
          "base_uri": "https://localhost:8080/",
          "height": 1000
        },
        "id": "xlMUo-KfblgW",
        "outputId": "410f8faf-6e8a-4f49-89dc-0f9e60a55072"
      },
      "execution_count": 140,
      "outputs": [
        {
          "output_type": "execute_result",
          "data": {
            "text/plain": [
              "<matplotlib.axes._subplots.AxesSubplot at 0x7f58dcaa0c50>"
            ]
          },
          "metadata": {},
          "execution_count": 140
        },
        {
          "output_type": "display_data",
          "data": {
            "image/png": "[encoded data removed]",
            "text/plain": [
              "<Figure size 1440x1440 with 2 Axes>"
            ]
          },
          "metadata": {
            "needs_background": "light"
          }
        }
      ]
    },
    {
      "cell_type": "markdown",
      "source": [
        "Puesto que vamos a analizar las variables que presentan una mayor correlación con el Target, nos basta coger la última fila o columna de la matriz, pues como se puede ver en el mapa, es la que contiene la correlación del Target con todas las demás variables.\n",
        "\n",
        "`data.corr()` devuelve la matriz de correlación como un dataframe, con lo que basta con seleccionar la columna del Target. Posteriormente, se calcula el valor absoluto de las correlaciones, para no despreciar las correlaciones negativas a la hora de calcular las máximas mediante `dataFrame.nlargest()` "
      ],
      "metadata": {
        "id": "zbkNVa8sX4sU"
      }
    },
    {
      "cell_type": "code",
      "source": [
        "corr = data.corr()\n",
        "corr_target = corr['Target']\n",
        "corr_target = np.sqrt(corr['Target']**2)\n",
        "print('El valor absoluto de las correlaciones:\\n', corr_target)"
      ],
      "metadata": {
        "colab": {
          "base_uri": "https://localhost:8080/"
        },
        "id": "HPeV6xbkcDYU",
        "outputId": "78d6cd19-0609-4395-954d-40e1b9edec06"
      },
      "execution_count": 141,
      "outputs": [
        {
          "output_type": "stream",
          "name": "stdout",
          "text": [
            "El valor absoluto de las correlaciones:\n",
            " ID          0.203026\n",
            "b           0.156009\n",
            "e           0.159325\n",
            "LBE         0.251875\n",
            "AC          0.369470\n",
            "FM          0.043953\n",
            "UC          0.213611\n",
            "ASTV        0.493391\n",
            "MSTV        0.207717\n",
            "ALTV        0.489400\n",
            "MLTV        0.172519\n",
            "DL          0.029696\n",
            "DS          0.087967\n",
            "DP          0.340647\n",
            "DR               NaN\n",
            "Width       0.142182\n",
            "Min         0.158171\n",
            "Max         0.048106\n",
            "Nmax        0.060354\n",
            "Nzeros      0.031163\n",
            "Mode        0.092320\n",
            "Mean        0.059107\n",
            "Median      0.047890\n",
            "Variance    0.085948\n",
            "Tendency    0.066529\n",
            "Target      1.000000\n",
            "Name: Target, dtype: float64\n"
          ]
        }
      ]
    },
    {
      "cell_type": "markdown",
      "source": [
        "Se utiliza n=4, pues la máximo correlación va a ser la del target consigo mismo, que luego se descartará para quedarse con las tres siguientes."
      ],
      "metadata": {
        "id": "S_4mKSEsb9Rb"
      }
    },
    {
      "cell_type": "code",
      "source": [
        "maximos = corr_target.nlargest(n=4)\n",
        "maximos =[maximos.index[1],maximos.index[2],maximos.index[3]]\n",
        "print('Las tres variables que presentan una mayor correlación con el target son:', maximos)"
      ],
      "metadata": {
        "colab": {
          "base_uri": "https://localhost:8080/"
        },
        "id": "rRQ1DGOUhcS_",
        "outputId": "c1ec364d-3377-4886-9b87-514007ae746b"
      },
      "execution_count": 142,
      "outputs": [
        {
          "output_type": "stream",
          "name": "stdout",
          "text": [
            "Las tres variables que presentan una mayor correlación con el target son: ['ASTV', 'ALTV', 'AC']\n"
          ]
        }
      ]
    },
    {
      "cell_type": "markdown",
      "source": [
        "###**2. Cree un conjunto de entrenamiento y otro de test a partir del conjunto inicial de datos donde el conjunto de entrenamiento contenga el 60% de las observaciones.**"
      ],
      "metadata": {
        "id": "ZHmgCMEgKfAC"
      }
    },
    {
      "cell_type": "markdown",
      "source": [
        "Previamente a realizar la partición del dataset en un conjunto de entrenamiento y otro de test, se eliminan una serie de variables, pues como se vió en clase no aportan información relevante:\n",
        "- ID: No es más que el identificador de cada prueba.\n",
        "- b y e: Son el instante de inicio y final de la prueba, lo que no es relevante para su resultado final.\n",
        "- DR: Únicamente toma un valor, por lo que no tiene capacidad para influir en el resultado."
      ],
      "metadata": {
        "id": "ly8VtbPdclf_"
      }
    },
    {
      "cell_type": "code",
      "source": [
        "data = data.drop([\"ID\",\"b\",\"e\",\"DR\"], axis = 1)\n",
        "data.head()"
      ],
      "metadata": {
        "colab": {
          "base_uri": "https://localhost:8080/",
          "height": 270
        },
        "id": "dcppP8LCPoLh",
        "outputId": "662c6df0-9baf-43f5-b3b6-f5fb78f2863a"
      },
      "execution_count": 143,
      "outputs": [
        {
          "output_type": "execute_result",
          "data": {
            "text/html": [
              "\n",
              "  <div id=\"df-57a6309e-700b-47d1-8e3f-bb8c6991d404\">\n",
              "    <div class=\"colab-df-container\">\n",
              "      <div>\n",
              "<style scoped>\n",
              "    .dataframe tbody tr th:only-of-type {\n",
              "        vertical-align: middle;\n",
              "    }\n",
              "\n",
              "    .dataframe tbody tr th {\n",
              "        vertical-align: top;\n",
              "    }\n",
              "\n",
              "    .dataframe thead th {\n",
              "        text-align: right;\n",
              "    }\n",
              "</style>\n",
              "<table border=\"1\" class=\"dataframe\">\n",
              "  <thead>\n",
              "    <tr style=\"text-align: right;\">\n",
              "      <th></th>\n",
              "      <th>LBE</th>\n",
              "      <th>AC</th>\n",
              "      <th>FM</th>\n",
              "      <th>UC</th>\n",
              "      <th>ASTV</th>\n",
              "      <th>MSTV</th>\n",
              "      <th>ALTV</th>\n",
              "      <th>MLTV</th>\n",
              "      <th>DL</th>\n",
              "      <th>DS</th>\n",
              "      <th>DP</th>\n",
              "      <th>Width</th>\n",
              "      <th>Min</th>\n",
              "      <th>Max</th>\n",
              "      <th>Nmax</th>\n",
              "      <th>Nzeros</th>\n",
              "      <th>Mode</th>\n",
              "      <th>Mean</th>\n",
              "      <th>Median</th>\n",
              "      <th>Variance</th>\n",
              "      <th>Tendency</th>\n",
              "      <th>Target</th>\n",
              "    </tr>\n",
              "  </thead>\n",
              "  <tbody>\n",
              "    <tr>\n",
              "      <th>0</th>\n",
              "      <td>120</td>\n",
              "      <td>0</td>\n",
              "      <td>0</td>\n",
              "      <td>0</td>\n",
              "      <td>73</td>\n",
              "      <td>0.5</td>\n",
              "      <td>43</td>\n",
              "      <td>2.4</td>\n",
              "      <td>0</td>\n",
              "      <td>0</td>\n",
              "      <td>0</td>\n",
              "      <td>64</td>\n",
              "      <td>62</td>\n",
              "      <td>126</td>\n",
              "      <td>2</td>\n",
              "      <td>0</td>\n",
              "      <td>120</td>\n",
              "      <td>137</td>\n",
              "      <td>121</td>\n",
              "      <td>73</td>\n",
              "      <td>1</td>\n",
              "      <td>1</td>\n",
              "    </tr>\n",
              "    <tr>\n",
              "      <th>1</th>\n",
              "      <td>132</td>\n",
              "      <td>4</td>\n",
              "      <td>0</td>\n",
              "      <td>4</td>\n",
              "      <td>17</td>\n",
              "      <td>2.1</td>\n",
              "      <td>0</td>\n",
              "      <td>10.4</td>\n",
              "      <td>2</td>\n",
              "      <td>0</td>\n",
              "      <td>0</td>\n",
              "      <td>130</td>\n",
              "      <td>68</td>\n",
              "      <td>198</td>\n",
              "      <td>6</td>\n",
              "      <td>1</td>\n",
              "      <td>141</td>\n",
              "      <td>136</td>\n",
              "      <td>140</td>\n",
              "      <td>12</td>\n",
              "      <td>0</td>\n",
              "      <td>0</td>\n",
              "    </tr>\n",
              "    <tr>\n",
              "      <th>2</th>\n",
              "      <td>133</td>\n",
              "      <td>2</td>\n",
              "      <td>0</td>\n",
              "      <td>5</td>\n",
              "      <td>16</td>\n",
              "      <td>2.1</td>\n",
              "      <td>0</td>\n",
              "      <td>13.4</td>\n",
              "      <td>2</td>\n",
              "      <td>0</td>\n",
              "      <td>0</td>\n",
              "      <td>130</td>\n",
              "      <td>68</td>\n",
              "      <td>198</td>\n",
              "      <td>5</td>\n",
              "      <td>1</td>\n",
              "      <td>141</td>\n",
              "      <td>135</td>\n",
              "      <td>138</td>\n",
              "      <td>13</td>\n",
              "      <td>0</td>\n",
              "      <td>0</td>\n",
              "    </tr>\n",
              "    <tr>\n",
              "      <th>3</th>\n",
              "      <td>134</td>\n",
              "      <td>2</td>\n",
              "      <td>0</td>\n",
              "      <td>6</td>\n",
              "      <td>16</td>\n",
              "      <td>2.4</td>\n",
              "      <td>0</td>\n",
              "      <td>23.0</td>\n",
              "      <td>2</td>\n",
              "      <td>0</td>\n",
              "      <td>0</td>\n",
              "      <td>117</td>\n",
              "      <td>53</td>\n",
              "      <td>170</td>\n",
              "      <td>11</td>\n",
              "      <td>0</td>\n",
              "      <td>137</td>\n",
              "      <td>134</td>\n",
              "      <td>137</td>\n",
              "      <td>13</td>\n",
              "      <td>1</td>\n",
              "      <td>0</td>\n",
              "    </tr>\n",
              "    <tr>\n",
              "      <th>4</th>\n",
              "      <td>132</td>\n",
              "      <td>4</td>\n",
              "      <td>0</td>\n",
              "      <td>5</td>\n",
              "      <td>16</td>\n",
              "      <td>2.4</td>\n",
              "      <td>0</td>\n",
              "      <td>19.9</td>\n",
              "      <td>0</td>\n",
              "      <td>0</td>\n",
              "      <td>0</td>\n",
              "      <td>117</td>\n",
              "      <td>53</td>\n",
              "      <td>170</td>\n",
              "      <td>9</td>\n",
              "      <td>0</td>\n",
              "      <td>137</td>\n",
              "      <td>136</td>\n",
              "      <td>138</td>\n",
              "      <td>11</td>\n",
              "      <td>1</td>\n",
              "      <td>0</td>\n",
              "    </tr>\n",
              "  </tbody>\n",
              "</table>\n",
              "</div>\n",
              "      <button class=\"colab-df-convert\" onclick=\"convertToInteractive('df-57a6309e-700b-47d1-8e3f-bb8c6991d404')\"\n",
              "              title=\"Convert this dataframe to an interactive table.\"\n",
              "              style=\"display:none;\">\n",
              "        \n",
              "  <svg xmlns=\"http://www.w3.org/2000/svg\" height=\"24px\"viewBox=\"0 0 24 24\"\n",
              "       width=\"24px\">\n",
              "    <path d=\"M0 0h24v24H0V0z\" fill=\"none\"/>\n",
              "    <path d=\"M18.56 5.44l.94 2.06.94-2.06 2.06-.94-2.06-.94-.94-2.06-.94 2.06-2.06.94zm-11 1L8.5 8.5l.94-2.06 2.06-.94-2.06-.94L8.5 2.5l-.94 2.06-2.06.94zm10 10l.94 2.06.94-2.06 2.06-.94-2.06-.94-.94-2.06-.94 2.06-2.06.94z\"/><path d=\"M17.41 7.96l-1.37-1.37c-.4-.4-.92-.59-1.43-.59-.52 0-1.04.2-1.43.59L10.3 9.45l-7.72 7.72c-.78.78-.78 2.05 0 2.83L4 21.41c.39.39.9.59 1.41.59.51 0 1.02-.2 1.41-.59l7.78-7.78 2.81-2.81c.8-.78.8-2.07 0-2.86zM5.41 20L4 18.59l7.72-7.72 1.47 1.35L5.41 20z\"/>\n",
              "  </svg>\n",
              "      </button>\n",
              "      \n",
              "  <style>\n",
              "    .colab-df-container {\n",
              "      display:flex;\n",
              "      flex-wrap:wrap;\n",
              "      gap: 12px;\n",
              "    }\n",
              "\n",
              "    .colab-df-convert {\n",
              "      background-color: #E8F0FE;\n",
              "      border: none;\n",
              "      border-radius: 50%;\n",
              "      cursor: pointer;\n",
              "      display: none;\n",
              "      fill: #1967D2;\n",
              "      height: 32px;\n",
              "      padding: 0 0 0 0;\n",
              "      width: 32px;\n",
              "    }\n",
              "\n",
              "    .colab-df-convert:hover {\n",
              "      background-color: #E2EBFA;\n",
              "      box-shadow: 0px 1px 2px rgba(60, 64, 67, 0.3), 0px 1px 3px 1px rgba(60, 64, 67, 0.15);\n",
              "      fill: #174EA6;\n",
              "    }\n",
              "\n",
              "    [theme=dark] .colab-df-convert {\n",
              "      background-color: #3B4455;\n",
              "      fill: #D2E3FC;\n",
              "    }\n",
              "\n",
              "    [theme=dark] .colab-df-convert:hover {\n",
              "      background-color: #434B5C;\n",
              "      box-shadow: 0px 1px 3px 1px rgba(0, 0, 0, 0.15);\n",
              "      filter: drop-shadow(0px 1px 2px rgba(0, 0, 0, 0.3));\n",
              "      fill: #FFFFFF;\n",
              "    }\n",
              "  </style>\n",
              "\n",
              "      <script>\n",
              "        const buttonEl =\n",
              "          document.querySelector('#df-57a6309e-700b-47d1-8e3f-bb8c6991d404 button.colab-df-convert');\n",
              "        buttonEl.style.display =\n",
              "          google.colab.kernel.accessAllowed ? 'block' : 'none';\n",
              "\n",
              "        async function convertToInteractive(key) {\n",
              "          const element = document.querySelector('#df-57a6309e-700b-47d1-8e3f-bb8c6991d404');\n",
              "          const dataTable =\n",
              "            await google.colab.kernel.invokeFunction('convertToInteractive',\n",
              "                                                     [key], {});\n",
              "          if (!dataTable) return;\n",
              "\n",
              "          const docLinkHtml = 'Like what you see? Visit the ' +\n",
              "            '<a target=\"_blank\" href=https://colab.research.google.com/notebooks/data_table.ipynb>data table notebook</a>'\n",
              "            + ' to learn more about interactive tables.';\n",
              "          element.innerHTML = '';\n",
              "          dataTable['output_type'] = 'display_data';\n",
              "          await google.colab.output.renderOutput(dataTable, element);\n",
              "          const docLink = document.createElement('div');\n",
              "          docLink.innerHTML = docLinkHtml;\n",
              "          element.appendChild(docLink);\n",
              "        }\n",
              "      </script>\n",
              "    </div>\n",
              "  </div>\n",
              "  "
            ],
            "text/plain": [
              "   LBE  AC  FM  UC  ASTV  MSTV  ...  Mode  Mean  Median  Variance  Tendency  Target\n",
              "0  120   0   0   0    73   0.5  ...   120   137     121        73         1       1\n",
              "1  132   4   0   4    17   2.1  ...   141   136     140        12         0       0\n",
              "2  133   2   0   5    16   2.1  ...   141   135     138        13         0       0\n",
              "3  134   2   0   6    16   2.4  ...   137   134     137        13         1       0\n",
              "4  132   4   0   5    16   2.4  ...   137   136     138        11         1       0\n",
              "\n",
              "[5 rows x 22 columns]"
            ]
          },
          "metadata": {},
          "execution_count": 143
        }
      ]
    },
    {
      "cell_type": "markdown",
      "source": [
        "Se realiza la partición:"
      ],
      "metadata": {
        "id": "MOPBLCa8dop3"
      }
    },
    {
      "cell_type": "code",
      "source": [
        "from sklearn.model_selection import train_test_split\n",
        "X = data.loc[:, data.columns != \"Target\"]\n",
        "y = data.loc[:, data.columns == \"Target\"]\n",
        "X_train, X_test, y_train, y_test = train_test_split(X, y, test_size = 0.40, random_state = 0)"
      ],
      "metadata": {
        "id": "4d7pd2jOLTD2"
      },
      "execution_count": 144,
      "outputs": []
    },
    {
      "cell_type": "markdown",
      "source": [
        "##**FASE 3: Ajuste del algoritmo de Naive Bayes.**"
      ],
      "metadata": {
        "id": "Fbc5SsP4jBcU"
      }
    },
    {
      "cell_type": "markdown",
      "source": [
        "###**1. A partir del conjunto de entrenamiento ajuste un modelo a partir del algoritmo de Naive Bayes.**"
      ],
      "metadata": {
        "id": "5iuQV-lfL2lz"
      }
    },
    {
      "cell_type": "markdown",
      "source": [
        "Se ajusta a un modelo a partir del algoritmo de Naive Bayes, concretamente a `GaussianNB()`, el usado preferentemente cuando las variables explicativas son de tipo continuo, y que asigna a la distribución de probabilidad de cada variable explicativa condicionada por el target una distribución gaussiana:\n",
        "\n",
        "\\begin{align}\n",
        "P(x_{i}|y) = \\frac{1}{\\sqrt{2\\pi\\sigma^2}}exp\\Big(-\\frac{(x-\\mu)^2}{2\\sigma^2}\\Big)\n",
        "\\end{align}\n",
        "\n",
        "Por tanto, esta se suma a la previa y mas fuerte suposición \"Naive\" de independencia entre las variables explicativas.\n",
        "\n",
        "¿Por qué escoger `GaussianNB()`? \n",
        "- Como se dijo, se usa para variables explicativas de tipo continua. En este caso, hay más continuas que discretas, aunque la diferencia es pequeña. También es importante el hecho de que las dos que presentan una mayor correlación con el target también lo son.\n",
        "\n",
        "\n",
        "\n"
      ],
      "metadata": {
        "id": "Uo2tVZZid54_"
      }
    },
    {
      "cell_type": "code",
      "source": [
        "from sklearn.naive_bayes import GaussianNB\n",
        "gnb = GaussianNB()\n",
        "\n",
        "modelNB = gnb.fit(X_train, y_train.values.ravel())\n",
        "y_pred_train = modelNB.predict_proba(X_train) \n",
        "y_pred_test = modelNB.predict_proba(X_test)"
      ],
      "metadata": {
        "id": "It4zNxfDPdO6"
      },
      "execution_count": 145,
      "outputs": []
    },
    {
      "cell_type": "markdown",
      "source": [
        "###**2. Obtenga la curva ROC y el área bajo la curva para los conjuntos de entrenamiento y test.**"
      ],
      "metadata": {
        "id": "h5eZhqtZSXR4"
      }
    },
    {
      "cell_type": "markdown",
      "source": [
        "La curva ROC es una métrica de validación empleada en algoritmos de clasificación binaria (En este caso, enfermo o sano). En ella se representa la sensibilidad frente a uno menos la especifidad.\n",
        "\n",
        "\\begin{align}\n",
        "S = \\frac{VP}{VP+FN}=TPR\\\\\n",
        "1-E=1-\\frac{VN}{VN+FP}=1-TNR&=FPR\n",
        "\\end{align}\n",
        "\n",
        "La función `sklearn.metrics.roc_curve` computa TPR y FPR, empleando diferentes umbrales para determinar si el resultado es positivo o negativo y a partir de ellos se representa la curva ROC. Es decir, exige una mayor o menor \"seguridad\" para caracterizar la variable objetivo como positiva. Por ejemplo, se puede exigir que el valor estimado sea superior a 0.9, lo que se traduce en un alto número de verdaderos negativos pero también en la pérdida de verdaderos positivos, con el consecuente aumento de falsos negativos, y por tanto una baja sensibilidad y alta especificidad. Por otro lado, exigiendo un valor superior a 0.1, se tendría una alta sensibilidad y una baja especificidad. \n",
        "\n",
        "Así, computando TPR y FPR para diferentes umbrales entre 0 y 1 se construye la curva ROC, que por lo dicho debe comenzar en (0,0) a la izquierda y acabar en (1,1) a la derecha, y que idealmente tendría la siguiente forma:\n",
        "\n",
        "![image.png](data:image/png;base64,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)\n",
        "\n",
        "En este caso el área bajo la curva es obviamente 1. Cuanto más se acerque a este valor el área bajo la curva, mejor será el modelo, de ahí que hablemos de la curva ROC como métrica. Este área se calcula por medio de la función `sklearn.metrics.auc`"
      ],
      "metadata": {
        "id": "PjiVJD9RkC4M"
      }
    },
    {
      "cell_type": "code",
      "source": [
        "from sklearn.metrics import roc_curve,auc\n",
        "\n",
        "fpr_train, tpr_train, _ = roc_curve(y_train, y_pred_train[:, 1])\n",
        "roc_auc_train = auc(fpr_train, tpr_train)\n",
        "\n",
        "fpr_test, tpr_test, _ = roc_curve(y_test, y_pred_test[:, 1])\n",
        "roc_auc_test = auc(fpr_test, tpr_test)\n",
        "\n",
        "plt.plot(fpr_train,tpr_train,color=\"darkgreen\",lw=2,label=\"ROC curve (area = %0.2f)\" % roc_auc_train,)\n",
        "plt.plot(fpr_test,tpr_test,color=\"darkred\",lw=2,label=\"ROC curve (area = %0.2f)\" % roc_auc_test,)\n",
        "plt.xlabel(\"False Positive Rate\")\n",
        "plt.ylabel(\"True Positive Rate\")\n",
        "plt.title(\"ROC\")\n",
        "plt.legend(loc=\"lower right\")\n",
        "plt.show()"
      ],
      "metadata": {
        "colab": {
          "base_uri": "https://localhost:8080/",
          "height": 295
        },
        "id": "b7aNcSL-SbhS",
        "outputId": "8fcf1f67-b84f-4984-fdf1-1682d21e5214"
      },
      "execution_count": 146,
      "outputs": [
        {
          "output_type": "display_data",
          "data": {
            "image/png": "[encoded data removed]",
            "text/plain": [
              "<Figure size 432x288 with 1 Axes>"
            ]
          },
          "metadata": {
            "needs_background": "light"
          }
        }
      ]
    },
    {
      "cell_type": "markdown",
      "source": [
        "El modelo tiene un desempeño bastante bueno, pues el área está próxima a uno, y no hay \"overfitting\", pues las áreas son muy similares para el conjunto de test y entrenamiento."
      ],
      "metadata": {
        "id": "pECWTrvlJvv5"
      }
    },
    {
      "cell_type": "markdown",
      "source": [
        "###**3. Adicional: Ajuste al algoritmo Naive Bayes Multinomial**"
      ],
      "metadata": {
        "id": "jYfjQU8GqPeU"
      }
    },
    {
      "cell_type": "markdown",
      "source": [
        "Cómo se sugirió para el proyecto final, se prueba con un ajuste Naive Bayes alternativo, en este caso con el multinomial. Este algoritmo hace uso de variables discretas, por lo que es necesario discretizar o categorizar las variables continuas, para luego asociarles una distribución multinomial. En primer lugar, se genera una copia del dataframe sobre la que se va a trabajar.  "
      ],
      "metadata": {
        "id": "5g-OmLH3cC0x"
      }
    },
    {
      "cell_type": "code",
      "source": [
        "data_copy = data.copy()\n",
        "data_copy.head()"
      ],
      "metadata": {
        "colab": {
          "base_uri": "https://localhost:8080/",
          "height": 270
        },
        "id": "L7FBomzuq3FQ",
        "outputId": "108966db-b024-4582-ce73-0cf7fbfb00c5"
      },
      "execution_count": 147,
      "outputs": [
        {
          "output_type": "execute_result",
          "data": {
            "text/html": [
              "\n",
              "  <div id=\"df-dd08fb33-c46f-47f7-b5e7-a9b81ff6cc49\">\n",
              "    <div class=\"colab-df-container\">\n",
              "      <div>\n",
              "<style scoped>\n",
              "    .dataframe tbody tr th:only-of-type {\n",
              "        vertical-align: middle;\n",
              "    }\n",
              "\n",
              "    .dataframe tbody tr th {\n",
              "        vertical-align: top;\n",
              "    }\n",
              "\n",
              "    .dataframe thead th {\n",
              "        text-align: right;\n",
              "    }\n",
              "</style>\n",
              "<table border=\"1\" class=\"dataframe\">\n",
              "  <thead>\n",
              "    <tr style=\"text-align: right;\">\n",
              "      <th></th>\n",
              "      <th>LBE</th>\n",
              "      <th>AC</th>\n",
              "      <th>FM</th>\n",
              "      <th>UC</th>\n",
              "      <th>ASTV</th>\n",
              "      <th>MSTV</th>\n",
              "      <th>ALTV</th>\n",
              "      <th>MLTV</th>\n",
              "      <th>DL</th>\n",
              "      <th>DS</th>\n",
              "      <th>DP</th>\n",
              "      <th>Width</th>\n",
              "      <th>Min</th>\n",
              "      <th>Max</th>\n",
              "      <th>Nmax</th>\n",
              "      <th>Nzeros</th>\n",
              "      <th>Mode</th>\n",
              "      <th>Mean</th>\n",
              "      <th>Median</th>\n",
              "      <th>Variance</th>\n",
              "      <th>Tendency</th>\n",
              "      <th>Target</th>\n",
              "    </tr>\n",
              "  </thead>\n",
              "  <tbody>\n",
              "    <tr>\n",
              "      <th>0</th>\n",
              "      <td>120</td>\n",
              "      <td>0</td>\n",
              "      <td>0</td>\n",
              "      <td>0</td>\n",
              "      <td>73</td>\n",
              "      <td>0.5</td>\n",
              "      <td>43</td>\n",
              "      <td>2.4</td>\n",
              "      <td>0</td>\n",
              "      <td>0</td>\n",
              "      <td>0</td>\n",
              "      <td>64</td>\n",
              "      <td>62</td>\n",
              "      <td>126</td>\n",
              "      <td>2</td>\n",
              "      <td>0</td>\n",
              "      <td>120</td>\n",
              "      <td>137</td>\n",
              "      <td>121</td>\n",
              "      <td>73</td>\n",
              "      <td>1</td>\n",
              "      <td>1</td>\n",
              "    </tr>\n",
              "    <tr>\n",
              "      <th>1</th>\n",
              "      <td>132</td>\n",
              "      <td>4</td>\n",
              "      <td>0</td>\n",
              "      <td>4</td>\n",
              "      <td>17</td>\n",
              "      <td>2.1</td>\n",
              "      <td>0</td>\n",
              "      <td>10.4</td>\n",
              "      <td>2</td>\n",
              "      <td>0</td>\n",
              "      <td>0</td>\n",
              "      <td>130</td>\n",
              "      <td>68</td>\n",
              "      <td>198</td>\n",
              "      <td>6</td>\n",
              "      <td>1</td>\n",
              "      <td>141</td>\n",
              "      <td>136</td>\n",
              "      <td>140</td>\n",
              "      <td>12</td>\n",
              "      <td>0</td>\n",
              "      <td>0</td>\n",
              "    </tr>\n",
              "    <tr>\n",
              "      <th>2</th>\n",
              "      <td>133</td>\n",
              "      <td>2</td>\n",
              "      <td>0</td>\n",
              "      <td>5</td>\n",
              "      <td>16</td>\n",
              "      <td>2.1</td>\n",
              "      <td>0</td>\n",
              "      <td>13.4</td>\n",
              "      <td>2</td>\n",
              "      <td>0</td>\n",
              "      <td>0</td>\n",
              "      <td>130</td>\n",
              "      <td>68</td>\n",
              "      <td>198</td>\n",
              "      <td>5</td>\n",
              "      <td>1</td>\n",
              "      <td>141</td>\n",
              "      <td>135</td>\n",
              "      <td>138</td>\n",
              "      <td>13</td>\n",
              "      <td>0</td>\n",
              "      <td>0</td>\n",
              "    </tr>\n",
              "    <tr>\n",
              "      <th>3</th>\n",
              "      <td>134</td>\n",
              "      <td>2</td>\n",
              "      <td>0</td>\n",
              "      <td>6</td>\n",
              "      <td>16</td>\n",
              "      <td>2.4</td>\n",
              "      <td>0</td>\n",
              "      <td>23.0</td>\n",
              "      <td>2</td>\n",
              "      <td>0</td>\n",
              "      <td>0</td>\n",
              "      <td>117</td>\n",
              "      <td>53</td>\n",
              "      <td>170</td>\n",
              "      <td>11</td>\n",
              "      <td>0</td>\n",
              "      <td>137</td>\n",
              "      <td>134</td>\n",
              "      <td>137</td>\n",
              "      <td>13</td>\n",
              "      <td>1</td>\n",
              "      <td>0</td>\n",
              "    </tr>\n",
              "    <tr>\n",
              "      <th>4</th>\n",
              "      <td>132</td>\n",
              "      <td>4</td>\n",
              "      <td>0</td>\n",
              "      <td>5</td>\n",
              "      <td>16</td>\n",
              "      <td>2.4</td>\n",
              "      <td>0</td>\n",
              "      <td>19.9</td>\n",
              "      <td>0</td>\n",
              "      <td>0</td>\n",
              "      <td>0</td>\n",
              "      <td>117</td>\n",
              "      <td>53</td>\n",
              "      <td>170</td>\n",
              "      <td>9</td>\n",
              "      <td>0</td>\n",
              "      <td>137</td>\n",
              "      <td>136</td>\n",
              "      <td>138</td>\n",
              "      <td>11</td>\n",
              "      <td>1</td>\n",
              "      <td>0</td>\n",
              "    </tr>\n",
              "  </tbody>\n",
              "</table>\n",
              "</div>\n",
              "      <button class=\"colab-df-convert\" onclick=\"convertToInteractive('df-dd08fb33-c46f-47f7-b5e7-a9b81ff6cc49')\"\n",
              "              title=\"Convert this dataframe to an interactive table.\"\n",
              "              style=\"display:none;\">\n",
              "        \n",
              "  <svg xmlns=\"http://www.w3.org/2000/svg\" height=\"24px\"viewBox=\"0 0 24 24\"\n",
              "       width=\"24px\">\n",
              "    <path d=\"M0 0h24v24H0V0z\" fill=\"none\"/>\n",
              "    <path d=\"M18.56 5.44l.94 2.06.94-2.06 2.06-.94-2.06-.94-.94-2.06-.94 2.06-2.06.94zm-11 1L8.5 8.5l.94-2.06 2.06-.94-2.06-.94L8.5 2.5l-.94 2.06-2.06.94zm10 10l.94 2.06.94-2.06 2.06-.94-2.06-.94-.94-2.06-.94 2.06-2.06.94z\"/><path d=\"M17.41 7.96l-1.37-1.37c-.4-.4-.92-.59-1.43-.59-.52 0-1.04.2-1.43.59L10.3 9.45l-7.72 7.72c-.78.78-.78 2.05 0 2.83L4 21.41c.39.39.9.59 1.41.59.51 0 1.02-.2 1.41-.59l7.78-7.78 2.81-2.81c.8-.78.8-2.07 0-2.86zM5.41 20L4 18.59l7.72-7.72 1.47 1.35L5.41 20z\"/>\n",
              "  </svg>\n",
              "      </button>\n",
              "      \n",
              "  <style>\n",
              "    .colab-df-container {\n",
              "      display:flex;\n",
              "      flex-wrap:wrap;\n",
              "      gap: 12px;\n",
              "    }\n",
              "\n",
              "    .colab-df-convert {\n",
              "      background-color: #E8F0FE;\n",
              "      border: none;\n",
              "      border-radius: 50%;\n",
              "      cursor: pointer;\n",
              "      display: none;\n",
              "      fill: #1967D2;\n",
              "      height: 32px;\n",
              "      padding: 0 0 0 0;\n",
              "      width: 32px;\n",
              "    }\n",
              "\n",
              "    .colab-df-convert:hover {\n",
              "      background-color: #E2EBFA;\n",
              "      box-shadow: 0px 1px 2px rgba(60, 64, 67, 0.3), 0px 1px 3px 1px rgba(60, 64, 67, 0.15);\n",
              "      fill: #174EA6;\n",
              "    }\n",
              "\n",
              "    [theme=dark] .colab-df-convert {\n",
              "      background-color: #3B4455;\n",
              "      fill: #D2E3FC;\n",
              "    }\n",
              "\n",
              "    [theme=dark] .colab-df-convert:hover {\n",
              "      background-color: #434B5C;\n",
              "      box-shadow: 0px 1px 3px 1px rgba(0, 0, 0, 0.15);\n",
              "      filter: drop-shadow(0px 1px 2px rgba(0, 0, 0, 0.3));\n",
              "      fill: #FFFFFF;\n",
              "    }\n",
              "  </style>\n",
              "\n",
              "      <script>\n",
              "        const buttonEl =\n",
              "          document.querySelector('#df-dd08fb33-c46f-47f7-b5e7-a9b81ff6cc49 button.colab-df-convert');\n",
              "        buttonEl.style.display =\n",
              "          google.colab.kernel.accessAllowed ? 'block' : 'none';\n",
              "\n",
              "        async function convertToInteractive(key) {\n",
              "          const element = document.querySelector('#df-dd08fb33-c46f-47f7-b5e7-a9b81ff6cc49');\n",
              "          const dataTable =\n",
              "            await google.colab.kernel.invokeFunction('convertToInteractive',\n",
              "                                                     [key], {});\n",
              "          if (!dataTable) return;\n",
              "\n",
              "          const docLinkHtml = 'Like what you see? Visit the ' +\n",
              "            '<a target=\"_blank\" href=https://colab.research.google.com/notebooks/data_table.ipynb>data table notebook</a>'\n",
              "            + ' to learn more about interactive tables.';\n",
              "          element.innerHTML = '';\n",
              "          dataTable['output_type'] = 'display_data';\n",
              "          await google.colab.output.renderOutput(dataTable, element);\n",
              "          const docLink = document.createElement('div');\n",
              "          docLink.innerHTML = docLinkHtml;\n",
              "          element.appendChild(docLink);\n",
              "        }\n",
              "      </script>\n",
              "    </div>\n",
              "  </div>\n",
              "  "
            ],
            "text/plain": [
              "   LBE  AC  FM  UC  ASTV  MSTV  ...  Mode  Mean  Median  Variance  Tendency  Target\n",
              "0  120   0   0   0    73   0.5  ...   120   137     121        73         1       1\n",
              "1  132   4   0   4    17   2.1  ...   141   136     140        12         0       0\n",
              "2  133   2   0   5    16   2.1  ...   141   135     138        13         0       0\n",
              "3  134   2   0   6    16   2.4  ...   137   134     137        13         1       0\n",
              "4  132   4   0   5    16   2.4  ...   137   136     138        11         1       0\n",
              "\n",
              "[5 rows x 22 columns]"
            ]
          },
          "metadata": {},
          "execution_count": 147
        }
      ]
    },
    {
      "cell_type": "markdown",
      "source": [
        "A continuación, los datos de cada variable se van a agrupar en función de su valor. Para ello se crea el código de abajo. \n",
        "\n",
        "En este caso, los datos de cada columna se van agrupar en quintiles, y a cada quintil se le va a asociar un valor. Es decir, si el valor está dentro del 20% más pequeño se le asocia el 0, entre el 20 y el 40% el 1 y así sucesivamente. Sería análogo a una clasificación del tipo:\n",
        "*   Muy pequeño: 0\n",
        "*   Pequeño: 1\n",
        "*   Neutro: 2\n",
        "*   Grande: 3\n",
        "*   Muy grande: 4\n",
        "\n",
        "Se pueden hacer más grupos de clasificación sin más que cambiar los parámetros del bucle, pero no se observó una mejora significativa. "
      ],
      "metadata": {
        "id": "IH0RjuCsy7FQ"
      }
    },
    {
      "cell_type": "code",
      "source": [
        "lista = data_copy.columns.to_list()\n",
        "lista.remove('Target')\n",
        "for i in lista:\n",
        "    data_copy.loc[data_copy[i]<=data_copy[i].quantile(0.2),f\"{i}_cat\"]=0\n",
        "    for j in range(1,5):\n",
        "      data_copy.loc[data_copy[i]>data_copy[i].quantile(0.2*j),f\"{i}_cat\"]=j\n",
        "    data_copy = data_copy.drop([i],axis=1)\n"
      ],
      "metadata": {
        "id": "-LA5jwPMs4N5"
      },
      "execution_count": 148,
      "outputs": []
    },
    {
      "cell_type": "markdown",
      "source": [
        "Así queda el nuevo conjunto de datos sobre el que aplicar el algoritmo:"
      ],
      "metadata": {
        "id": "MPO6fKLM2RfQ"
      }
    },
    {
      "cell_type": "code",
      "source": [
        "data_copy.head()"
      ],
      "metadata": {
        "colab": {
          "base_uri": "https://localhost:8080/",
          "height": 270
        },
        "id": "DmyDXgv-yXob",
        "outputId": "a418f173-1ce9-418a-a453-d1839dbf5dc4"
      },
      "execution_count": 149,
      "outputs": [
        {
          "output_type": "execute_result",
          "data": {
            "text/html": [
              "\n",
              "  <div id=\"df-a5a7d8a7-31e3-4d08-85e2-a24b88dea8fc\">\n",
              "    <div class=\"colab-df-container\">\n",
              "      <div>\n",
              "<style scoped>\n",
              "    .dataframe tbody tr th:only-of-type {\n",
              "        vertical-align: middle;\n",
              "    }\n",
              "\n",
              "    .dataframe tbody tr th {\n",
              "        vertical-align: top;\n",
              "    }\n",
              "\n",
              "    .dataframe thead th {\n",
              "        text-align: right;\n",
              "    }\n",
              "</style>\n",
              "<table border=\"1\" class=\"dataframe\">\n",
              "  <thead>\n",
              "    <tr style=\"text-align: right;\">\n",
              "      <th></th>\n",
              "      <th>Target</th>\n",
              "      <th>LBE_cat</th>\n",
              "      <th>AC_cat</th>\n",
              "      <th>FM_cat</th>\n",
              "      <th>UC_cat</th>\n",
              "      <th>ASTV_cat</th>\n",
              "      <th>MSTV_cat</th>\n",
              "      <th>ALTV_cat</th>\n",
              "      <th>MLTV_cat</th>\n",
              "      <th>DL_cat</th>\n",
              "      <th>DS_cat</th>\n",
              "      <th>DP_cat</th>\n",
              "      <th>Width_cat</th>\n",
              "      <th>Min_cat</th>\n",
              "      <th>Max_cat</th>\n",
              "      <th>Nmax_cat</th>\n",
              "      <th>Nzeros_cat</th>\n",
              "      <th>Mode_cat</th>\n",
              "      <th>Mean_cat</th>\n",
              "      <th>Median_cat</th>\n",
              "      <th>Variance_cat</th>\n",
              "      <th>Tendency_cat</th>\n",
              "    </tr>\n",
              "  </thead>\n",
              "  <tbody>\n",
              "    <tr>\n",
              "      <th>0</th>\n",
              "      <td>1</td>\n",
              "      <td>0.0</td>\n",
              "      <td>0.0</td>\n",
              "      <td>0.0</td>\n",
              "      <td>0.0</td>\n",
              "      <td>4.0</td>\n",
              "      <td>0.0</td>\n",
              "      <td>4.0</td>\n",
              "      <td>0.0</td>\n",
              "      <td>0.0</td>\n",
              "      <td>0.0</td>\n",
              "      <td>0.0</td>\n",
              "      <td>2.0</td>\n",
              "      <td>0.0</td>\n",
              "      <td>0.0</td>\n",
              "      <td>1.0</td>\n",
              "      <td>0.0</td>\n",
              "      <td>0.0</td>\n",
              "      <td>2.0</td>\n",
              "      <td>0.0</td>\n",
              "      <td>4.0</td>\n",
              "      <td>3.0</td>\n",
              "    </tr>\n",
              "    <tr>\n",
              "      <th>1</th>\n",
              "      <td>0</td>\n",
              "      <td>2.0</td>\n",
              "      <td>3.0</td>\n",
              "      <td>0.0</td>\n",
              "      <td>2.0</td>\n",
              "      <td>0.0</td>\n",
              "      <td>4.0</td>\n",
              "      <td>0.0</td>\n",
              "      <td>3.0</td>\n",
              "      <td>3.0</td>\n",
              "      <td>0.0</td>\n",
              "      <td>0.0</td>\n",
              "      <td>4.0</td>\n",
              "      <td>1.0</td>\n",
              "      <td>4.0</td>\n",
              "      <td>3.0</td>\n",
              "      <td>3.0</td>\n",
              "      <td>2.0</td>\n",
              "      <td>2.0</td>\n",
              "      <td>2.0</td>\n",
              "      <td>3.0</td>\n",
              "      <td>0.0</td>\n",
              "    </tr>\n",
              "    <tr>\n",
              "      <th>2</th>\n",
              "      <td>0</td>\n",
              "      <td>2.0</td>\n",
              "      <td>2.0</td>\n",
              "      <td>0.0</td>\n",
              "      <td>3.0</td>\n",
              "      <td>0.0</td>\n",
              "      <td>4.0</td>\n",
              "      <td>0.0</td>\n",
              "      <td>4.0</td>\n",
              "      <td>3.0</td>\n",
              "      <td>0.0</td>\n",
              "      <td>0.0</td>\n",
              "      <td>4.0</td>\n",
              "      <td>1.0</td>\n",
              "      <td>4.0</td>\n",
              "      <td>3.0</td>\n",
              "      <td>3.0</td>\n",
              "      <td>2.0</td>\n",
              "      <td>2.0</td>\n",
              "      <td>2.0</td>\n",
              "      <td>3.0</td>\n",
              "      <td>0.0</td>\n",
              "    </tr>\n",
              "    <tr>\n",
              "      <th>3</th>\n",
              "      <td>0</td>\n",
              "      <td>2.0</td>\n",
              "      <td>2.0</td>\n",
              "      <td>0.0</td>\n",
              "      <td>3.0</td>\n",
              "      <td>0.0</td>\n",
              "      <td>4.0</td>\n",
              "      <td>0.0</td>\n",
              "      <td>4.0</td>\n",
              "      <td>3.0</td>\n",
              "      <td>0.0</td>\n",
              "      <td>0.0</td>\n",
              "      <td>4.0</td>\n",
              "      <td>0.0</td>\n",
              "      <td>3.0</td>\n",
              "      <td>4.0</td>\n",
              "      <td>0.0</td>\n",
              "      <td>2.0</td>\n",
              "      <td>2.0</td>\n",
              "      <td>2.0</td>\n",
              "      <td>3.0</td>\n",
              "      <td>3.0</td>\n",
              "    </tr>\n",
              "    <tr>\n",
              "      <th>4</th>\n",
              "      <td>0</td>\n",
              "      <td>2.0</td>\n",
              "      <td>3.0</td>\n",
              "      <td>0.0</td>\n",
              "      <td>3.0</td>\n",
              "      <td>0.0</td>\n",
              "      <td>4.0</td>\n",
              "      <td>0.0</td>\n",
              "      <td>4.0</td>\n",
              "      <td>0.0</td>\n",
              "      <td>0.0</td>\n",
              "      <td>0.0</td>\n",
              "      <td>4.0</td>\n",
              "      <td>0.0</td>\n",
              "      <td>3.0</td>\n",
              "      <td>4.0</td>\n",
              "      <td>0.0</td>\n",
              "      <td>2.0</td>\n",
              "      <td>2.0</td>\n",
              "      <td>2.0</td>\n",
              "      <td>2.0</td>\n",
              "      <td>3.0</td>\n",
              "    </tr>\n",
              "  </tbody>\n",
              "</table>\n",
              "</div>\n",
              "      <button class=\"colab-df-convert\" onclick=\"convertToInteractive('df-a5a7d8a7-31e3-4d08-85e2-a24b88dea8fc')\"\n",
              "              title=\"Convert this dataframe to an interactive table.\"\n",
              "              style=\"display:none;\">\n",
              "        \n",
              "  <svg xmlns=\"http://www.w3.org/2000/svg\" height=\"24px\"viewBox=\"0 0 24 24\"\n",
              "       width=\"24px\">\n",
              "    <path d=\"M0 0h24v24H0V0z\" fill=\"none\"/>\n",
              "    <path d=\"M18.56 5.44l.94 2.06.94-2.06 2.06-.94-2.06-.94-.94-2.06-.94 2.06-2.06.94zm-11 1L8.5 8.5l.94-2.06 2.06-.94-2.06-.94L8.5 2.5l-.94 2.06-2.06.94zm10 10l.94 2.06.94-2.06 2.06-.94-2.06-.94-.94-2.06-.94 2.06-2.06.94z\"/><path d=\"M17.41 7.96l-1.37-1.37c-.4-.4-.92-.59-1.43-.59-.52 0-1.04.2-1.43.59L10.3 9.45l-7.72 7.72c-.78.78-.78 2.05 0 2.83L4 21.41c.39.39.9.59 1.41.59.51 0 1.02-.2 1.41-.59l7.78-7.78 2.81-2.81c.8-.78.8-2.07 0-2.86zM5.41 20L4 18.59l7.72-7.72 1.47 1.35L5.41 20z\"/>\n",
              "  </svg>\n",
              "      </button>\n",
              "      \n",
              "  <style>\n",
              "    .colab-df-container {\n",
              "      display:flex;\n",
              "      flex-wrap:wrap;\n",
              "      gap: 12px;\n",
              "    }\n",
              "\n",
              "    .colab-df-convert {\n",
              "      background-color: #E8F0FE;\n",
              "      border: none;\n",
              "      border-radius: 50%;\n",
              "      cursor: pointer;\n",
              "      display: none;\n",
              "      fill: #1967D2;\n",
              "      height: 32px;\n",
              "      padding: 0 0 0 0;\n",
              "      width: 32px;\n",
              "    }\n",
              "\n",
              "    .colab-df-convert:hover {\n",
              "      background-color: #E2EBFA;\n",
              "      box-shadow: 0px 1px 2px rgba(60, 64, 67, 0.3), 0px 1px 3px 1px rgba(60, 64, 67, 0.15);\n",
              "      fill: #174EA6;\n",
              "    }\n",
              "\n",
              "    [theme=dark] .colab-df-convert {\n",
              "      background-color: #3B4455;\n",
              "      fill: #D2E3FC;\n",
              "    }\n",
              "\n",
              "    [theme=dark] .colab-df-convert:hover {\n",
              "      background-color: #434B5C;\n",
              "      box-shadow: 0px 1px 3px 1px rgba(0, 0, 0, 0.15);\n",
              "      filter: drop-shadow(0px 1px 2px rgba(0, 0, 0, 0.3));\n",
              "      fill: #FFFFFF;\n",
              "    }\n",
              "  </style>\n",
              "\n",
              "      <script>\n",
              "        const buttonEl =\n",
              "          document.querySelector('#df-a5a7d8a7-31e3-4d08-85e2-a24b88dea8fc button.colab-df-convert');\n",
              "        buttonEl.style.display =\n",
              "          google.colab.kernel.accessAllowed ? 'block' : 'none';\n",
              "\n",
              "        async function convertToInteractive(key) {\n",
              "          const element = document.querySelector('#df-a5a7d8a7-31e3-4d08-85e2-a24b88dea8fc');\n",
              "          const dataTable =\n",
              "            await google.colab.kernel.invokeFunction('convertToInteractive',\n",
              "                                                     [key], {});\n",
              "          if (!dataTable) return;\n",
              "\n",
              "          const docLinkHtml = 'Like what you see? Visit the ' +\n",
              "            '<a target=\"_blank\" href=https://colab.research.google.com/notebooks/data_table.ipynb>data table notebook</a>'\n",
              "            + ' to learn more about interactive tables.';\n",
              "          element.innerHTML = '';\n",
              "          dataTable['output_type'] = 'display_data';\n",
              "          await google.colab.output.renderOutput(dataTable, element);\n",
              "          const docLink = document.createElement('div');\n",
              "          docLink.innerHTML = docLinkHtml;\n",
              "          element.appendChild(docLink);\n",
              "        }\n",
              "      </script>\n",
              "    </div>\n",
              "  </div>\n",
              "  "
            ],
            "text/plain": [
              "   Target  LBE_cat  AC_cat  ...  Median_cat  Variance_cat  Tendency_cat\n",
              "0       1      0.0     0.0  ...         0.0           4.0           3.0\n",
              "1       0      2.0     3.0  ...         2.0           3.0           0.0\n",
              "2       0      2.0     2.0  ...         2.0           3.0           0.0\n",
              "3       0      2.0     2.0  ...         2.0           3.0           3.0\n",
              "4       0      2.0     3.0  ...         2.0           2.0           3.0\n",
              "\n",
              "[5 rows x 22 columns]"
            ]
          },
          "metadata": {},
          "execution_count": 149
        }
      ]
    },
    {
      "cell_type": "markdown",
      "source": [
        "Se entrena el modelo con estos nuevos datos, obteniendo lo siguiente:"
      ],
      "metadata": {
        "id": "drPE5Fu52eKX"
      }
    },
    {
      "cell_type": "code",
      "source": [
        "from sklearn.naive_bayes import MultinomialNB\n",
        "mnb = MultinomialNB()\n",
        "\n",
        "X_mnb = data_copy.loc[:, data.columns != \"Target\"]\n",
        "y_mnb = data_copy.loc[:, data.columns == \"Target\"]\n",
        "X_train_mnb, X_test_mnb, y_train_mnb, y_test_mnb = train_test_split(X_mnb, y_mnb, test_size = 0.40, random_state = 0)\n",
        "\n",
        "modelNB_multi = mnb.fit(X_train_mnb, y_train_mnb.values.ravel())\n",
        "y_pred_train_mnb = modelNB_multi.predict_proba(X_train_mnb) \n",
        "y_pred_test_mnb = modelNB_multi.predict_proba(X_test_mnb)"
      ],
      "metadata": {
        "id": "MZBLcuXD5CpU"
      },
      "execution_count": 150,
      "outputs": []
    },
    {
      "cell_type": "code",
      "source": [
        "fpr_train_mnb, tpr_train_mnb, _ = roc_curve(y_train, y_pred_train_mnb[:, 1])\n",
        "print ('El area bajo la curva es de: ',auc(fpr_train_mnb, tpr_train_mnb))"
      ],
      "metadata": {
        "colab": {
          "base_uri": "https://localhost:8080/"
        },
        "id": "q33uL8yV7mCV",
        "outputId": "8b1567d0-be94-4a70-d3aa-d3aee065bb2a"
      },
      "execution_count": 151,
      "outputs": [
        {
          "output_type": "stream",
          "name": "stdout",
          "text": [
            "El area bajo la curva es de:  0.43780011895953924\n"
          ]
        }
      ]
    },
    {
      "cell_type": "markdown",
      "source": [
        "El rendimiento de este modelo es del todo insatisfactorio. Cabría esperarlo, pues al discretizar las variables se está simplificando y reduciendo la información que contienen, lo que penaliza el entrenamiento del algoritmo. El empleo de este algoritmo se hace desde un punto visto puramente académico, pues en este contexto práctico no tiene demasiado sentido.  "
      ],
      "metadata": {
        "id": "4BTfItpD2ySd"
      }
    },
    {
      "cell_type": "markdown",
      "source": [
        "###**4. Adicional: Ajuste a Naive Bayes empleando PCA** "
      ],
      "metadata": {
        "id": "iYJVK3XYdZGF"
      }
    },
    {
      "cell_type": "markdown",
      "source": [
        "Otra sugerencia fue la de emplear análisis de componentes principales antes de aplicar el algoritmo Naive Bayes. A pesar de que esta técnica se aprenderá en módulos posteriores, puede servir como una primera aproximación a la misma, además de llevar consigo una propiedad de gran interés práctico y que merece la pena por lo menos estudiar.  "
      ],
      "metadata": {
        "id": "TcKeI5zA3alt"
      }
    },
    {
      "cell_type": "markdown",
      "source": [
        "PCA o análisis de componentes principales, es una técnica empleada generalmente para reducir la dimensionalidad del conjunto de datos en caso de que incluya muchas características, fundamentalmente por motivos de rendimiento computacional. Este no es nuestro caso, pues no se dispone de un dataset con una cantidad de dimensiones especialmente grande. Sin embargo, PCA presenta una propiedad que si es de interés y que se verá a continuación."
      ],
      "metadata": {
        "id": "AmEeMe2s5Fy_"
      }
    },
    {
      "cell_type": "markdown",
      "source": [
        "En PCA se realiza una proyección de los datos. Si pensamos en dos dimensiones, estos datos se proyectan sobre el eje que preserva una mayor cantidad de varianza en los mismos, es decir, aquel que contiene una mayor información sobre los datos, y por lo que se lo denomina componente principal. A continuación se escoge un segundo eje ortogonal al primero, y que preserve la mayor cantidad posible de la varianza restante. Las variables anteriores se proyectan sobre cada uno de estos ejes, dando luegar a nuevas variables. \n",
        "\n",
        "Generalizando a más dimensiones, se escogerían tantos ejes como dimensiones se tuviesen. Lo importante para nosotros en este punto, es que la elección de ejes ortogonales se traduce en una correlación casi inexistente entre las nuevas variables. Esto es de vital importancia en Naive Bayes, en dónde se supone la independecia de todas las variables (suposición Naive)  "
      ],
      "metadata": {
        "id": "0eSgWeCd55mP"
      }
    },
    {
      "cell_type": "markdown",
      "source": [
        "En primer lugar, se generan las \"nuevas\" variables a partir de PCA."
      ],
      "metadata": {
        "id": "Kke55Pas54QN"
      }
    },
    {
      "cell_type": "code",
      "source": [
        "from sklearn.decomposition import PCA\n",
        "pca = PCA()\n",
        "reduced_data_train = pca.fit_transform(X_train)\n",
        "reduced_data_test  = pca.fit_transform(X_test)"
      ],
      "metadata": {
        "id": "cEIhJMWUblfp"
      },
      "execution_count": 152,
      "outputs": []
    },
    {
      "cell_type": "markdown",
      "source": [
        "Se puede echar un vistazo a la varianza de cada uno de los componentes seleccionados, y se puede ver como se podrían reducir varias dimensiones sin miedo a perder apenas varianza."
      ],
      "metadata": {
        "id": "52u_788s9a5n"
      }
    },
    {
      "cell_type": "code",
      "source": [
        "print(pca.explained_variance_)"
      ],
      "metadata": {
        "colab": {
          "base_uri": "https://localhost:8080/"
        },
        "id": "DyvqZQs8eHw6",
        "outputId": "70b8cb16-a48b-47b6-d1f5-77c6319cde64"
      },
      "execution_count": 153,
      "outputs": [
        {
          "output_type": "stream",
          "name": "stdout",
          "text": [
            "[3.09457082e+03 1.53139464e+03 8.34639834e+02 4.47522210e+02\n",
            " 3.48054423e+02 1.77880480e+02 1.45569639e+02 3.29989872e+01\n",
            " 2.78482111e+01 1.92902739e+01 7.72359398e+00 6.13480261e+00\n",
            " 4.60866155e+00 3.42659528e+00 2.20186960e+00 4.78704080e-01\n",
            " 3.07645947e-01 1.31534565e-01 8.73923584e-02 2.17171268e-03\n",
            " 1.80828744e-28]\n"
          ]
        }
      ]
    },
    {
      "cell_type": "markdown",
      "source": [
        "Se entrena y evalúa el modelo Naive Bayes gaussiano con las \"nuevas variables\""
      ],
      "metadata": {
        "id": "Eaf39ZqE96nB"
      }
    },
    {
      "cell_type": "code",
      "source": [
        "modelNB_PCA = gnb.fit(reduced_data_train,y_train.values.ravel())\n",
        "\n",
        "y_pred_train_PCA = modelNB_PCA.predict_proba(reduced_data_train) \n",
        "y_pred_test_PCA = modelNB_PCA.predict_proba(reduced_data_test)\n",
        "\n",
        "fpr_train_PCA, tpr_train_PCA, _ = roc_curve(y_train, y_pred_train_PCA[:, 1])\n",
        "print('El área bajo la curva en el conjunto de entrenamiento:',auc(fpr_train_PCA, tpr_train_PCA))\n",
        "\n",
        "fpr_test_PCA, tpr_test_PCA, _ = roc_curve(y_test, y_pred_test_PCA[:, 1])\n",
        "print('El área bajo la curva en el conjunto de test:',auc(fpr_test_PCA, tpr_test_PCA))"
      ],
      "metadata": {
        "colab": {
          "base_uri": "https://localhost:8080/"
        },
        "id": "fm9I85TGgqoP",
        "outputId": "cc1fba0c-07e0-4d53-d788-404d3bdc6367"
      },
      "execution_count": 154,
      "outputs": [
        {
          "output_type": "stream",
          "name": "stdout",
          "text": [
            "El área bajo la curva en el conjunto de entrenamiento: 0.8930379655017336\n",
            "El área bajo la curva en el conjunto de test: 0.8258051907442152\n"
          ]
        }
      ]
    },
    {
      "cell_type": "markdown",
      "source": [
        "El rendimiento es peor que empleando las \"viejas\" variables. Sin embargo, a pesar de la reducción en la correlación esto era esperable, pues al proyectar los datos se está perdiendo información sobre los mismos.\n",
        "\n",
        "De todos modos, los resultados son bastante satisfactorios y sirven para poner de manifiesto la potencia de PCA, en casos de reducción de dimensionalidad o aplicando Naive Bayes a conjuntos de datos para los que exista una alta correlación entre sus características.\n",
        "\n",
        "De cara a usos futuros, habría que prestar atención también al sobreajuste que aperece."
      ],
      "metadata": {
        "id": "kVWSy8wr_R01"
      }
    },
    {
      "cell_type": "markdown",
      "source": [
        "##**FASE 4: Ajuste del Algoritmo de Support Vector Machine**"
      ],
      "metadata": {
        "id": "8cFeNO5Tl9z6"
      }
    },
    {
      "cell_type": "markdown",
      "source": [
        "###**1. A partir del conjunto de entrenamiento y test creados en el segundo sprint, ajuste un modelo utilizando el algoritmo SVM dejando los valores por defecto.**"
      ],
      "metadata": {
        "id": "hR50605fmXaq"
      }
    },
    {
      "cell_type": "markdown",
      "source": [
        "Al dejar los valores por defecto, lo fudamental es que el parámetro regularizador es C=1 y el kernel empleado será el gaussiano. Únicamente se emplea `probability=True`.\n",
        "\n",
        "Es decir, se tiene un clasificador no lineal y con un margen bastante suave."
      ],
      "metadata": {
        "id": "StvvVDGBxFlX"
      }
    },
    {
      "cell_type": "code",
      "source": [
        "from sklearn.svm import SVC\n",
        "#Se dejan los valores por defecto, únicamente se introduce probability.\n",
        "svm = SVC(probability=True)\n",
        "svm.fit(X_train,y_train.values.ravel())"
      ],
      "metadata": {
        "colab": {
          "base_uri": "https://localhost:8080/"
        },
        "id": "3VzwGnA1mmEw",
        "outputId": "e6fedd44-4772-40a3-e13a-38c502fe4a17"
      },
      "execution_count": 155,
      "outputs": [
        {
          "output_type": "execute_result",
          "data": {
            "text/plain": [
              "SVC(probability=True)"
            ]
          },
          "metadata": {},
          "execution_count": 155
        }
      ]
    },
    {
      "cell_type": "markdown",
      "source": [
        "###**2. Obtenga la curva ROC y el área bajo la curva para los conjuntos de entrenamiento y test.**"
      ],
      "metadata": {
        "id": "goBr3htIriPD"
      }
    },
    {
      "cell_type": "markdown",
      "source": [
        "Ya se describió en el apartado anterior cómo se contruye la curva ROC a partir del ratio de falsos y verdaderos positivos, así como la interpretación del área bajo la curva. Se hace por tanto para el conjunto de entrenamiento y de test con los resultados que proporciona el algoritmo SVM. "
      ],
      "metadata": {
        "id": "a7ts7J91semW"
      }
    },
    {
      "cell_type": "code",
      "source": [
        "y_train_svm = svm.predict_proba(X_train)\n",
        "y_test_svm = svm.predict_proba(X_test)\n",
        "\n",
        "fpr_train_svm, tpr_train_svm, _ = roc_curve(y_train, y_train_svm[:,1])\n",
        "roc_auc_train_svm = auc(fpr_train_svm, tpr_train_svm)\n",
        "\n",
        "fpr_test_svm, tpr_test_svm, _ = roc_curve(y_test, y_test_svm[:,1])\n",
        "roc_auc_test_svm = auc(fpr_test_svm, tpr_test_svm)"
      ],
      "metadata": {
        "id": "utAbhVjcro1M"
      },
      "execution_count": 156,
      "outputs": []
    },
    {
      "cell_type": "code",
      "source": [
        "plt.plot(fpr_train_svm,tpr_train_svm,color=\"darkgreen\",lw=2,label=\"ROC curve train(area = %0.2f)\" % roc_auc_train_svm,)\n",
        "plt.plot(fpr_test_svm,tpr_test_svm,color=\"darkred\",lw=2,label=\"ROC curve test(area = %0.2f)\" % roc_auc_test_svm,)\n",
        "plt.xlabel(\"False Positive Rate\")\n",
        "plt.ylabel(\"True Positive Rate\")\n",
        "plt.title(\"ROC\")\n",
        "plt.legend(loc=\"lower right\")\n",
        "plt.show()"
      ],
      "metadata": {
        "colab": {
          "base_uri": "https://localhost:8080/",
          "height": 295
        },
        "id": "4fGjX4zBvFop",
        "outputId": "3f0ef484-1dc0-47f3-87be-7bc7428a8217"
      },
      "execution_count": 157,
      "outputs": [
        {
          "output_type": "display_data",
          "data": {
            "image/png": "[encoded data removed]",
            "text/plain": [
              "<Figure size 432x288 with 1 Axes>"
            ]
          },
          "metadata": {
            "needs_background": "light"
          }
        }
      ]
    },
    {
      "cell_type": "markdown",
      "source": [
        "El desempeño del modelo es bastante bueno, especialmente teniendo en cuenta el uso de valores por defecto, con áreas próximas a 1, y sin un sobreajuste considerable."
      ],
      "metadata": {
        "id": "aNatg48yDNzd"
      }
    },
    {
      "cell_type": "markdown",
      "source": [
        "###**3. Compare en la misma gráfica, la curva ROC y el AUC para el conjunto de test clasificado con Naive Bayes y con SVM.** "
      ],
      "metadata": {
        "id": "bSww8thdxhQp"
      }
    },
    {
      "cell_type": "code",
      "source": [
        "fig = plt.figure(figsize=(8,7))\n",
        "plt.plot(fpr_train_svm,tpr_train_svm,color=\"darkgreen\",lw=2,label=\"ROC curve SVM Train (area = %0.2f)\" % roc_auc_train_svm,)\n",
        "plt.plot(fpr_test_svm,tpr_test_svm,color=\"darkred\",lw=2,label=\"ROC curve SVM Test (area = %0.2f)\" % roc_auc_test_svm,)\n",
        "plt.plot(fpr_train,tpr_train,color=\"blue\",lw=2,label=\"ROC curve NB Train (area = %0.2f)\" % roc_auc_train,)\n",
        "plt.plot(fpr_test,tpr_test,color=\"black\",lw=2,label=\"ROC curve NB Test (area = %0.2f)\" % roc_auc_test,)\n",
        "plt.xlabel(\"False Positive Rate\")\n",
        "plt.ylabel(\"True Positive Rate\")\n",
        "plt.title(\"ROC\")\n",
        "plt.legend(loc=\"lower right\")\n",
        "plt.show()"
      ],
      "metadata": {
        "colab": {
          "base_uri": "https://localhost:8080/",
          "height": 458
        },
        "id": "EnlSY4lax5Ms",
        "outputId": "1c81c0d6-fdc1-42b4-ba04-9890b7bd218c"
      },
      "execution_count": 158,
      "outputs": [
        {
          "output_type": "display_data",
          "data": {
            "image/png": "[encoded data removed]",
            "text/plain": [
              "<Figure size 576x504 with 1 Axes>"
            ]
          },
          "metadata": {
            "needs_background": "light"
          }
        }
      ]
    },
    {
      "cell_type": "markdown",
      "source": [
        "Se obtienen resultados ligeramente mejores para el ajuste Naive Bayes que para SVM, sin observar un sobreajuste relevante en ningún caso."
      ],
      "metadata": {
        "id": "5HsIHquU0zrn"
      }
    },
    {
      "cell_type": "markdown",
      "source": [
        "##**FASE ADICIONAL: Búsqueda de la mejor combinación de hiperparámetros en el algoritmo de SVM utilizando la función Grid Search de Scikit Learn.** "
      ],
      "metadata": {
        "id": "qY6UbBygqQgV"
      }
    },
    {
      "cell_type": "markdown",
      "source": [
        "La función Grid Search permite probar el modelo de forma automática con la lista de parámetros que le pasemos, además de devolver diversas métricas para cada una de las combinaciones posibles de los parámetros. En primer lugar, se definen los parámetros que va a recorrer la función \"Grid Search\". Se va a probar con mayor y menor margen, grado de polinomio o coeficiente del RBF. "
      ],
      "metadata": {
        "id": "VbTLyN4qvCFm"
      }
    },
    {
      "cell_type": "code",
      "source": [
        "C  = np.linspace(0.1,1,19)\n",
        "C2 = np.linspace(2,10,9)\n",
        "C  = np.append(C,C2)\n",
        "gamma = np.linspace(1e-3,1e-4,5)\n",
        "degree=[2,3,4,5]"
      ],
      "metadata": {
        "id": "-lCeKAtGtL2Y"
      },
      "execution_count": 159,
      "outputs": []
    },
    {
      "cell_type": "code",
      "source": [
        "from sklearn.model_selection import GridSearchCV\n",
        "\n",
        "param_grid = [\n",
        "    {\"kernel\": [\"rbf\"], \"gamma\": gamma, \"C\": C},\n",
        "    {\"kernel\": [\"linear\"], \"C\": C},\n",
        "    {\"kernel\": [\"poly\"], \"C\": C, \"degree\": degree},\n",
        "]\n",
        " \n",
        "grid = GridSearchCV(\n",
        "        estimator  = SVC(),\n",
        "        param_grid = param_grid, \n",
        "        scoring    = 'roc_auc', # roc_auc, accuracy\n",
        "        n_jobs     = -1,\n",
        "        cv         = 3, \n",
        "        verbose    = 0,\n",
        "        return_train_score = True\n",
        "      )\n",
        "\n",
        "grid.fit(X = X_train, y = y_train.values.ravel())\n",
        "\n",
        "resultados = pd.DataFrame(grid.cv_results_)\n",
        "resultados.filter(regex = '(param.*|mean_t|std_t)')\\\n",
        "    .drop(columns = 'params')\\\n",
        "    .sort_values('mean_test_score', ascending = False) \\\n",
        "    .head(10)"
      ],
      "metadata": {
        "colab": {
          "base_uri": "https://localhost:8080/",
          "height": 407
        },
        "id": "L99297wcsMkF",
        "outputId": "a48f93e2-a95e-4478-a416-b1cabf36d277"
      },
      "execution_count": 160,
      "outputs": [
        {
          "output_type": "execute_result",
          "data": {
            "text/html": [
              "\n",
              "  <div id=\"df-8411d24d-8652-46a8-9281-1ea7059209ef\">\n",
              "    <div class=\"colab-df-container\">\n",
              "      <div>\n",
              "<style scoped>\n",
              "    .dataframe tbody tr th:only-of-type {\n",
              "        vertical-align: middle;\n",
              "    }\n",
              "\n",
              "    .dataframe tbody tr th {\n",
              "        vertical-align: top;\n",
              "    }\n",
              "\n",
              "    .dataframe thead th {\n",
              "        text-align: right;\n",
              "    }\n",
              "</style>\n",
              "<table border=\"1\" class=\"dataframe\">\n",
              "  <thead>\n",
              "    <tr style=\"text-align: right;\">\n",
              "      <th></th>\n",
              "      <th>param_C</th>\n",
              "      <th>param_gamma</th>\n",
              "      <th>param_kernel</th>\n",
              "      <th>param_degree</th>\n",
              "      <th>mean_test_score</th>\n",
              "      <th>std_test_score</th>\n",
              "      <th>mean_train_score</th>\n",
              "      <th>std_train_score</th>\n",
              "    </tr>\n",
              "  </thead>\n",
              "  <tbody>\n",
              "    <tr>\n",
              "      <th>158</th>\n",
              "      <td>1.0</td>\n",
              "      <td>NaN</td>\n",
              "      <td>linear</td>\n",
              "      <td>NaN</td>\n",
              "      <td>0.961140</td>\n",
              "      <td>0.009888</td>\n",
              "      <td>0.971758</td>\n",
              "      <td>0.004486</td>\n",
              "    </tr>\n",
              "    <tr>\n",
              "      <th>149</th>\n",
              "      <td>0.55</td>\n",
              "      <td>NaN</td>\n",
              "      <td>linear</td>\n",
              "      <td>NaN</td>\n",
              "      <td>0.961053</td>\n",
              "      <td>0.010824</td>\n",
              "      <td>0.971486</td>\n",
              "      <td>0.004836</td>\n",
              "    </tr>\n",
              "    <tr>\n",
              "      <th>144</th>\n",
              "      <td>0.3</td>\n",
              "      <td>NaN</td>\n",
              "      <td>linear</td>\n",
              "      <td>NaN</td>\n",
              "      <td>0.961043</td>\n",
              "      <td>0.010171</td>\n",
              "      <td>0.970934</td>\n",
              "      <td>0.005613</td>\n",
              "    </tr>\n",
              "    <tr>\n",
              "      <th>157</th>\n",
              "      <td>0.95</td>\n",
              "      <td>NaN</td>\n",
              "      <td>linear</td>\n",
              "      <td>NaN</td>\n",
              "      <td>0.961021</td>\n",
              "      <td>0.010295</td>\n",
              "      <td>0.971791</td>\n",
              "      <td>0.004512</td>\n",
              "    </tr>\n",
              "    <tr>\n",
              "      <th>138</th>\n",
              "      <td>10.0</td>\n",
              "      <td>0.000325</td>\n",
              "      <td>rbf</td>\n",
              "      <td>NaN</td>\n",
              "      <td>0.961010</td>\n",
              "      <td>0.006096</td>\n",
              "      <td>0.993353</td>\n",
              "      <td>0.000467</td>\n",
              "    </tr>\n",
              "    <tr>\n",
              "      <th>146</th>\n",
              "      <td>0.4</td>\n",
              "      <td>NaN</td>\n",
              "      <td>linear</td>\n",
              "      <td>NaN</td>\n",
              "      <td>0.960977</td>\n",
              "      <td>0.010412</td>\n",
              "      <td>0.971255</td>\n",
              "      <td>0.005124</td>\n",
              "    </tr>\n",
              "    <tr>\n",
              "      <th>143</th>\n",
              "      <td>0.25</td>\n",
              "      <td>NaN</td>\n",
              "      <td>linear</td>\n",
              "      <td>NaN</td>\n",
              "      <td>0.960934</td>\n",
              "      <td>0.009959</td>\n",
              "      <td>0.970643</td>\n",
              "      <td>0.005892</td>\n",
              "    </tr>\n",
              "    <tr>\n",
              "      <th>147</th>\n",
              "      <td>0.45</td>\n",
              "      <td>NaN</td>\n",
              "      <td>linear</td>\n",
              "      <td>NaN</td>\n",
              "      <td>0.960934</td>\n",
              "      <td>0.010413</td>\n",
              "      <td>0.971242</td>\n",
              "      <td>0.005115</td>\n",
              "    </tr>\n",
              "    <tr>\n",
              "      <th>151</th>\n",
              "      <td>0.65</td>\n",
              "      <td>NaN</td>\n",
              "      <td>linear</td>\n",
              "      <td>NaN</td>\n",
              "      <td>0.960890</td>\n",
              "      <td>0.010629</td>\n",
              "      <td>0.971617</td>\n",
              "      <td>0.004611</td>\n",
              "    </tr>\n",
              "    <tr>\n",
              "      <th>148</th>\n",
              "      <td>0.5</td>\n",
              "      <td>NaN</td>\n",
              "      <td>linear</td>\n",
              "      <td>NaN</td>\n",
              "      <td>0.960879</td>\n",
              "      <td>0.010492</td>\n",
              "      <td>0.971342</td>\n",
              "      <td>0.005007</td>\n",
              "    </tr>\n",
              "  </tbody>\n",
              "</table>\n",
              "</div>\n",
              "      <button class=\"colab-df-convert\" onclick=\"convertToInteractive('df-8411d24d-8652-46a8-9281-1ea7059209ef')\"\n",
              "              title=\"Convert this dataframe to an interactive table.\"\n",
              "              style=\"display:none;\">\n",
              "        \n",
              "  <svg xmlns=\"http://www.w3.org/2000/svg\" height=\"24px\"viewBox=\"0 0 24 24\"\n",
              "       width=\"24px\">\n",
              "    <path d=\"M0 0h24v24H0V0z\" fill=\"none\"/>\n",
              "    <path d=\"M18.56 5.44l.94 2.06.94-2.06 2.06-.94-2.06-.94-.94-2.06-.94 2.06-2.06.94zm-11 1L8.5 8.5l.94-2.06 2.06-.94-2.06-.94L8.5 2.5l-.94 2.06-2.06.94zm10 10l.94 2.06.94-2.06 2.06-.94-2.06-.94-.94-2.06-.94 2.06-2.06.94z\"/><path d=\"M17.41 7.96l-1.37-1.37c-.4-.4-.92-.59-1.43-.59-.52 0-1.04.2-1.43.59L10.3 9.45l-7.72 7.72c-.78.78-.78 2.05 0 2.83L4 21.41c.39.39.9.59 1.41.59.51 0 1.02-.2 1.41-.59l7.78-7.78 2.81-2.81c.8-.78.8-2.07 0-2.86zM5.41 20L4 18.59l7.72-7.72 1.47 1.35L5.41 20z\"/>\n",
              "  </svg>\n",
              "      </button>\n",
              "      \n",
              "  <style>\n",
              "    .colab-df-container {\n",
              "      display:flex;\n",
              "      flex-wrap:wrap;\n",
              "      gap: 12px;\n",
              "    }\n",
              "\n",
              "    .colab-df-convert {\n",
              "      background-color: #E8F0FE;\n",
              "      border: none;\n",
              "      border-radius: 50%;\n",
              "      cursor: pointer;\n",
              "      display: none;\n",
              "      fill: #1967D2;\n",
              "      height: 32px;\n",
              "      padding: 0 0 0 0;\n",
              "      width: 32px;\n",
              "    }\n",
              "\n",
              "    .colab-df-convert:hover {\n",
              "      background-color: #E2EBFA;\n",
              "      box-shadow: 0px 1px 2px rgba(60, 64, 67, 0.3), 0px 1px 3px 1px rgba(60, 64, 67, 0.15);\n",
              "      fill: #174EA6;\n",
              "    }\n",
              "\n",
              "    [theme=dark] .colab-df-convert {\n",
              "      background-color: #3B4455;\n",
              "      fill: #D2E3FC;\n",
              "    }\n",
              "\n",
              "    [theme=dark] .colab-df-convert:hover {\n",
              "      background-color: #434B5C;\n",
              "      box-shadow: 0px 1px 3px 1px rgba(0, 0, 0, 0.15);\n",
              "      filter: drop-shadow(0px 1px 2px rgba(0, 0, 0, 0.3));\n",
              "      fill: #FFFFFF;\n",
              "    }\n",
              "  </style>\n",
              "\n",
              "      <script>\n",
              "        const buttonEl =\n",
              "          document.querySelector('#df-8411d24d-8652-46a8-9281-1ea7059209ef button.colab-df-convert');\n",
              "        buttonEl.style.display =\n",
              "          google.colab.kernel.accessAllowed ? 'block' : 'none';\n",
              "\n",
              "        async function convertToInteractive(key) {\n",
              "          const element = document.querySelector('#df-8411d24d-8652-46a8-9281-1ea7059209ef');\n",
              "          const dataTable =\n",
              "            await google.colab.kernel.invokeFunction('convertToInteractive',\n",
              "                                                     [key], {});\n",
              "          if (!dataTable) return;\n",
              "\n",
              "          const docLinkHtml = 'Like what you see? Visit the ' +\n",
              "            '<a target=\"_blank\" href=https://colab.research.google.com/notebooks/data_table.ipynb>data table notebook</a>'\n",
              "            + ' to learn more about interactive tables.';\n",
              "          element.innerHTML = '';\n",
              "          dataTable['output_type'] = 'display_data';\n",
              "          await google.colab.output.renderOutput(dataTable, element);\n",
              "          const docLink = document.createElement('div');\n",
              "          docLink.innerHTML = docLinkHtml;\n",
              "          element.appendChild(docLink);\n",
              "        }\n",
              "      </script>\n",
              "    </div>\n",
              "  </div>\n",
              "  "
            ],
            "text/plain": [
              "    param_C param_gamma  ... mean_train_score std_train_score\n",
              "158     1.0         NaN  ...         0.971758        0.004486\n",
              "149    0.55         NaN  ...         0.971486        0.004836\n",
              "144     0.3         NaN  ...         0.970934        0.005613\n",
              "157    0.95         NaN  ...         0.971791        0.004512\n",
              "138    10.0    0.000325  ...         0.993353        0.000467\n",
              "146     0.4         NaN  ...         0.971255        0.005124\n",
              "143    0.25         NaN  ...         0.970643        0.005892\n",
              "147    0.45         NaN  ...         0.971242        0.005115\n",
              "151    0.65         NaN  ...         0.971617        0.004611\n",
              "148     0.5         NaN  ...         0.971342        0.005007\n",
              "\n",
              "[10 rows x 8 columns]"
            ]
          },
          "metadata": {},
          "execution_count": 160
        }
      ]
    },
    {
      "cell_type": "markdown",
      "source": [
        "La mejor opción es un kernel lineal y el parámetro C igual a 1. De la tabla anterior es interesante el quinto caso, donde se tiene un sobreajuste muy evidente, pues se emplea C=10, lo que da al algoritmo muy poco margen para clasificar erroneamente alguno de los datos del conjunto de entrenamiento.  "
      ],
      "metadata": {
        "id": "TyB9505rHNK-"
      }
    },
    {
      "cell_type": "markdown",
      "source": [
        "##**FASE 5: Validación del algoritmo escogido a partir de la curva ROC, el área bajo la curva, la matriz de confusión y la precisión. Evaluar si existe sobreajuste.**"
      ],
      "metadata": {
        "id": "5UoUpi-nkmJu"
      }
    },
    {
      "cell_type": "markdown",
      "source": [
        "Se escoge como algoritmo el obtenido mediante la función Grid Search, que se supone el de mejor desempeño, y se evalúan las diferentes métricas que se proponen."
      ],
      "metadata": {
        "id": "eV8zzlMZIYak"
      }
    },
    {
      "cell_type": "markdown",
      "source": [
        "* Comenzando por la curva ROC y el área bajo la misma, se compara también con los resultados del algoritmo Naive Bayes gaussiano:\n",
        "\n",
        "\n"
      ],
      "metadata": {
        "id": "ikzaJnexnHBg"
      }
    },
    {
      "cell_type": "code",
      "source": [
        "svm_lineal = SVC(C = 1,kernel='linear',probability=True)\n",
        "svm_lineal.fit(X_train,y_train.values.ravel())\n",
        "\n",
        "y_train_svm_lineal = svm_lineal.predict_proba(X_train)\n",
        "y_test_svm_lineal = svm_lineal.predict_proba(X_test)\n",
        "\n",
        "fpr_train_svm_lineal, tpr_train_svm_lineal, _ = roc_curve(y_train, y_train_svm_lineal[:,1])\n",
        "roc_auc_train_svm_lineal = auc(fpr_train_svm_lineal, tpr_train_svm_lineal)\n",
        "\n",
        "fpr_test_svm_lineal, tpr_test_svm_lineal, _ = roc_curve(y_test, y_test_svm_lineal[:,1])\n",
        "roc_auc_test_svm_lineal = auc(fpr_test_svm_lineal, tpr_test_svm_lineal)\n",
        "\n",
        "fig = plt.figure(figsize=(8,7))\n",
        "plt.plot(fpr_train_svm_lineal,tpr_train_svm_lineal,color=\"darkgreen\",lw=2,label=\"ROC curve SVM Train (area = %0.2f)\" % roc_auc_train_svm_lineal,)\n",
        "plt.plot(fpr_test_svm_lineal,tpr_test_svm_lineal,color=\"darkred\",lw=2,label=\"ROC curve SVM Test (area = %0.2f)\" % roc_auc_test_svm_lineal,)\n",
        "plt.plot(fpr_train,tpr_train,color=\"blue\",lw=2,label=\"ROC curve NB Train (area = %0.2f)\" % roc_auc_train,)\n",
        "plt.plot(fpr_test,tpr_test,color=\"black\",lw=2,label=\"ROC curve NB Test (area = %0.2f)\" % roc_auc_test,)\n",
        "plt.xlabel(\"False Positive Rate\")\n",
        "plt.ylabel(\"True Positive Rate\")\n",
        "plt.title(\"ROC\")\n",
        "plt.legend(loc=\"lower right\")\n",
        "plt.show()"
      ],
      "metadata": {
        "colab": {
          "base_uri": "https://localhost:8080/",
          "height": 458
        },
        "id": "FD61LEHRJWGe",
        "outputId": "214c18a6-d5d0-4dbb-8882-a2c18a6cfd58"
      },
      "execution_count": 161,
      "outputs": [
        {
          "output_type": "display_data",
          "data": {
            "image/png": "[encoded data removed]",
            "text/plain": [
              "<Figure size 576x504 with 1 Axes>"
            ]
          },
          "metadata": {
            "needs_background": "light"
          }
        }
      ]
    },
    {
      "cell_type": "markdown",
      "source": [
        "El desempeño para el SVM con kernel lineal y C=1 es mejor que para el algoritmo Naive Bayes que empleamos previamente."
      ],
      "metadata": {
        "id": "HWhps7H0LhJV"
      }
    },
    {
      "cell_type": "markdown",
      "source": [
        "*   A continuación se analiza la matriz de confusión:"
      ],
      "metadata": {
        "id": "WSem4Ai-pZql"
      }
    },
    {
      "cell_type": "code",
      "source": [
        "y_test_svm_lineal = svm_lineal.predict(X_test)"
      ],
      "metadata": {
        "id": "j6KPe1tJqKi8"
      },
      "execution_count": 162,
      "outputs": []
    },
    {
      "cell_type": "code",
      "source": [
        "from sklearn.metrics import confusion_matrix\n",
        "confusion_matrix(y_test, y_test_svm_lineal)"
      ],
      "metadata": {
        "colab": {
          "base_uri": "https://localhost:8080/"
        },
        "id": "M5ifPB0Vppkt",
        "outputId": "9f7a92e1-15b0-4f08-88d5-1dbca1f4e1d3"
      },
      "execution_count": 163,
      "outputs": [
        {
          "output_type": "execute_result",
          "data": {
            "text/plain": [
              "array([[625,  31],\n",
              "       [ 56, 139]])"
            ]
          },
          "metadata": {},
          "execution_count": 163
        }
      ]
    },
    {
      "cell_type": "markdown",
      "source": [
        "Por tanto, se tienen 625 verdaderos sanos, y 31 falsos sanos, por 56 falsos problemáticos y 139 verdaderos problemáticos.\n",
        "\n",
        "Por tanto, se trata de una prueba con una mayor sensibilidad que especificidad, lo que siempre es recomendable en estas pruebas de tipo diagnóstico dónde no queremos que se nos \"pase\" ningún enfermo."
      ],
      "metadata": {
        "id": "OSjhxkZ8KAwk"
      }
    },
    {
      "cell_type": "markdown",
      "source": [
        "Por último, se analiza la precisión, que se podría obtener directamente de la matriz de confusión:"
      ],
      "metadata": {
        "id": "Ezww9DCWtq7L"
      }
    },
    {
      "cell_type": "code",
      "source": [
        "precision = svm_lineal.score(X_test,y_test)\n",
        "print('La precisión es de:', precision)"
      ],
      "metadata": {
        "colab": {
          "base_uri": "https://localhost:8080/"
        },
        "id": "BRSNpeFUt-5n",
        "outputId": "7cfa0949-8dce-44ff-e161-5288054219e0"
      },
      "execution_count": 164,
      "outputs": [
        {
          "output_type": "stream",
          "name": "stdout",
          "text": [
            "La precisión es de: 0.8977673325499412\n"
          ]
        }
      ]
    },
    {
      "cell_type": "markdown",
      "source": [
        "En definitiva, se obtiene una gran precisión."
      ],
      "metadata": {
        "id": "62McRE8_JzDK"
      }
    }
  ]
}
