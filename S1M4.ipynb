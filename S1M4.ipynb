{
  "nbformat": 4,
  "nbformat_minor": 0,
  "metadata": {
    "colab": {
      "name": "S1M4.ipynb",
      "provenance": [],
      "collapsed_sections": [
        "RdGFkHwb7a6m",
        "Gh_rk46syVfS",
        "Vg96FEmfWQ4l",
        "2vgz6q1gc_BK",
        "SHFaA50pwlAG",
        "9tRSZME0yhez"
      ],
      "toc_visible": true
    },
    "kernelspec": {
      "name": "python3",
      "display_name": "Python 3"
    },
    "language_info": {
      "name": "python"
    }
  },
  "cells": [
    {
      "cell_type": "markdown",
      "source": [
        "#**Sprint**\n",
        "Previamente a responder las preguntas del sprint, se importa el dataset con el que se va a trabajar y se realiza un pequeña inspección inicial de algunos valores, el tipo de datos o el número de elementos únicos por cada columna."
      ],
      "metadata": {
        "id": "RdGFkHwb7a6m"
      }
    },
    {
      "cell_type": "code",
      "execution_count": 32,
      "metadata": {
        "id": "nKfpvVWfWmtv"
      },
      "outputs": [],
      "source": [
        "# Importación de librerías\n",
        "import numpy as np\n",
        "import pandas as pd\n",
        "\n",
        "# Librerías para hacer gráficos\n",
        "import seaborn as sns\n",
        "import matplotlib.pyplot as plt\n",
        "import plotly.express as xp"
      ]
    },
    {
      "cell_type": "code",
      "source": [
        "# Carga del fichero de datos\n",
        "file = '/content/Sprint/ASI_casoPractico.csv'\n",
        "data = pd.read_csv(file, sep = ';')\n",
        "data.head()"
      ],
      "metadata": {
        "colab": {
          "base_uri": "https://localhost:8080/",
          "height": 270
        },
        "id": "MpqCaDMzM_g2",
        "outputId": "970e843e-0a6a-4ba2-f2b0-31fb3963e905"
      },
      "execution_count": 33,
      "outputs": [
        {
          "output_type": "execute_result",
          "data": {
            "text/html": [
              "\n",
              "  <div id=\"df-cba91c8d-92c5-4561-bcf6-dd1bce2f607b\">\n",
              "    <div class=\"colab-df-container\">\n",
              "      <div>\n",
              "<style scoped>\n",
              "    .dataframe tbody tr th:only-of-type {\n",
              "        vertical-align: middle;\n",
              "    }\n",
              "\n",
              "    .dataframe tbody tr th {\n",
              "        vertical-align: top;\n",
              "    }\n",
              "\n",
              "    .dataframe thead th {\n",
              "        text-align: right;\n",
              "    }\n",
              "</style>\n",
              "<table border=\"1\" class=\"dataframe\">\n",
              "  <thead>\n",
              "    <tr style=\"text-align: right;\">\n",
              "      <th></th>\n",
              "      <th>ID</th>\n",
              "      <th>b</th>\n",
              "      <th>e</th>\n",
              "      <th>LBE</th>\n",
              "      <th>AC</th>\n",
              "      <th>FM</th>\n",
              "      <th>UC</th>\n",
              "      <th>ASTV</th>\n",
              "      <th>MSTV</th>\n",
              "      <th>ALTV</th>\n",
              "      <th>MLTV</th>\n",
              "      <th>DL</th>\n",
              "      <th>DS</th>\n",
              "      <th>DP</th>\n",
              "      <th>DR</th>\n",
              "      <th>Width</th>\n",
              "      <th>Min</th>\n",
              "      <th>Max</th>\n",
              "      <th>Nmax</th>\n",
              "      <th>Nzeros</th>\n",
              "      <th>Mode</th>\n",
              "      <th>Mean</th>\n",
              "      <th>Median</th>\n",
              "      <th>Variance</th>\n",
              "      <th>Tendency</th>\n",
              "      <th>Target</th>\n",
              "    </tr>\n",
              "  </thead>\n",
              "  <tbody>\n",
              "    <tr>\n",
              "      <th>0</th>\n",
              "      <td>1</td>\n",
              "      <td>240</td>\n",
              "      <td>357</td>\n",
              "      <td>120</td>\n",
              "      <td>0</td>\n",
              "      <td>0</td>\n",
              "      <td>0</td>\n",
              "      <td>73</td>\n",
              "      <td>0.5</td>\n",
              "      <td>43</td>\n",
              "      <td>2.4</td>\n",
              "      <td>0</td>\n",
              "      <td>0</td>\n",
              "      <td>0</td>\n",
              "      <td>0</td>\n",
              "      <td>64</td>\n",
              "      <td>62</td>\n",
              "      <td>126</td>\n",
              "      <td>2</td>\n",
              "      <td>0</td>\n",
              "      <td>120</td>\n",
              "      <td>137</td>\n",
              "      <td>121</td>\n",
              "      <td>73</td>\n",
              "      <td>1</td>\n",
              "      <td>1</td>\n",
              "    </tr>\n",
              "    <tr>\n",
              "      <th>1</th>\n",
              "      <td>2</td>\n",
              "      <td>5</td>\n",
              "      <td>632</td>\n",
              "      <td>132</td>\n",
              "      <td>4</td>\n",
              "      <td>0</td>\n",
              "      <td>4</td>\n",
              "      <td>17</td>\n",
              "      <td>2.1</td>\n",
              "      <td>0</td>\n",
              "      <td>10.4</td>\n",
              "      <td>2</td>\n",
              "      <td>0</td>\n",
              "      <td>0</td>\n",
              "      <td>0</td>\n",
              "      <td>130</td>\n",
              "      <td>68</td>\n",
              "      <td>198</td>\n",
              "      <td>6</td>\n",
              "      <td>1</td>\n",
              "      <td>141</td>\n",
              "      <td>136</td>\n",
              "      <td>140</td>\n",
              "      <td>12</td>\n",
              "      <td>0</td>\n",
              "      <td>0</td>\n",
              "    </tr>\n",
              "    <tr>\n",
              "      <th>2</th>\n",
              "      <td>3</td>\n",
              "      <td>177</td>\n",
              "      <td>779</td>\n",
              "      <td>133</td>\n",
              "      <td>2</td>\n",
              "      <td>0</td>\n",
              "      <td>5</td>\n",
              "      <td>16</td>\n",
              "      <td>2.1</td>\n",
              "      <td>0</td>\n",
              "      <td>13.4</td>\n",
              "      <td>2</td>\n",
              "      <td>0</td>\n",
              "      <td>0</td>\n",
              "      <td>0</td>\n",
              "      <td>130</td>\n",
              "      <td>68</td>\n",
              "      <td>198</td>\n",
              "      <td>5</td>\n",
              "      <td>1</td>\n",
              "      <td>141</td>\n",
              "      <td>135</td>\n",
              "      <td>138</td>\n",
              "      <td>13</td>\n",
              "      <td>0</td>\n",
              "      <td>0</td>\n",
              "    </tr>\n",
              "    <tr>\n",
              "      <th>3</th>\n",
              "      <td>4</td>\n",
              "      <td>411</td>\n",
              "      <td>1192</td>\n",
              "      <td>134</td>\n",
              "      <td>2</td>\n",
              "      <td>0</td>\n",
              "      <td>6</td>\n",
              "      <td>16</td>\n",
              "      <td>2.4</td>\n",
              "      <td>0</td>\n",
              "      <td>23.0</td>\n",
              "      <td>2</td>\n",
              "      <td>0</td>\n",
              "      <td>0</td>\n",
              "      <td>0</td>\n",
              "      <td>117</td>\n",
              "      <td>53</td>\n",
              "      <td>170</td>\n",
              "      <td>11</td>\n",
              "      <td>0</td>\n",
              "      <td>137</td>\n",
              "      <td>134</td>\n",
              "      <td>137</td>\n",
              "      <td>13</td>\n",
              "      <td>1</td>\n",
              "      <td>0</td>\n",
              "    </tr>\n",
              "    <tr>\n",
              "      <th>4</th>\n",
              "      <td>5</td>\n",
              "      <td>533</td>\n",
              "      <td>1147</td>\n",
              "      <td>132</td>\n",
              "      <td>4</td>\n",
              "      <td>0</td>\n",
              "      <td>5</td>\n",
              "      <td>16</td>\n",
              "      <td>2.4</td>\n",
              "      <td>0</td>\n",
              "      <td>19.9</td>\n",
              "      <td>0</td>\n",
              "      <td>0</td>\n",
              "      <td>0</td>\n",
              "      <td>0</td>\n",
              "      <td>117</td>\n",
              "      <td>53</td>\n",
              "      <td>170</td>\n",
              "      <td>9</td>\n",
              "      <td>0</td>\n",
              "      <td>137</td>\n",
              "      <td>136</td>\n",
              "      <td>138</td>\n",
              "      <td>11</td>\n",
              "      <td>1</td>\n",
              "      <td>0</td>\n",
              "    </tr>\n",
              "  </tbody>\n",
              "</table>\n",
              "</div>\n",
              "      <button class=\"colab-df-convert\" onclick=\"convertToInteractive('df-cba91c8d-92c5-4561-bcf6-dd1bce2f607b')\"\n",
              "              title=\"Convert this dataframe to an interactive table.\"\n",
              "              style=\"display:none;\">\n",
              "        \n",
              "  <svg xmlns=\"http://www.w3.org/2000/svg\" height=\"24px\"viewBox=\"0 0 24 24\"\n",
              "       width=\"24px\">\n",
              "    <path d=\"M0 0h24v24H0V0z\" fill=\"none\"/>\n",
              "    <path d=\"M18.56 5.44l.94 2.06.94-2.06 2.06-.94-2.06-.94-.94-2.06-.94 2.06-2.06.94zm-11 1L8.5 8.5l.94-2.06 2.06-.94-2.06-.94L8.5 2.5l-.94 2.06-2.06.94zm10 10l.94 2.06.94-2.06 2.06-.94-2.06-.94-.94-2.06-.94 2.06-2.06.94z\"/><path d=\"M17.41 7.96l-1.37-1.37c-.4-.4-.92-.59-1.43-.59-.52 0-1.04.2-1.43.59L10.3 9.45l-7.72 7.72c-.78.78-.78 2.05 0 2.83L4 21.41c.39.39.9.59 1.41.59.51 0 1.02-.2 1.41-.59l7.78-7.78 2.81-2.81c.8-.78.8-2.07 0-2.86zM5.41 20L4 18.59l7.72-7.72 1.47 1.35L5.41 20z\"/>\n",
              "  </svg>\n",
              "      </button>\n",
              "      \n",
              "  <style>\n",
              "    .colab-df-container {\n",
              "      display:flex;\n",
              "      flex-wrap:wrap;\n",
              "      gap: 12px;\n",
              "    }\n",
              "\n",
              "    .colab-df-convert {\n",
              "      background-color: #E8F0FE;\n",
              "      border: none;\n",
              "      border-radius: 50%;\n",
              "      cursor: pointer;\n",
              "      display: none;\n",
              "      fill: #1967D2;\n",
              "      height: 32px;\n",
              "      padding: 0 0 0 0;\n",
              "      width: 32px;\n",
              "    }\n",
              "\n",
              "    .colab-df-convert:hover {\n",
              "      background-color: #E2EBFA;\n",
              "      box-shadow: 0px 1px 2px rgba(60, 64, 67, 0.3), 0px 1px 3px 1px rgba(60, 64, 67, 0.15);\n",
              "      fill: #174EA6;\n",
              "    }\n",
              "\n",
              "    [theme=dark] .colab-df-convert {\n",
              "      background-color: #3B4455;\n",
              "      fill: #D2E3FC;\n",
              "    }\n",
              "\n",
              "    [theme=dark] .colab-df-convert:hover {\n",
              "      background-color: #434B5C;\n",
              "      box-shadow: 0px 1px 3px 1px rgba(0, 0, 0, 0.15);\n",
              "      filter: drop-shadow(0px 1px 2px rgba(0, 0, 0, 0.3));\n",
              "      fill: #FFFFFF;\n",
              "    }\n",
              "  </style>\n",
              "\n",
              "      <script>\n",
              "        const buttonEl =\n",
              "          document.querySelector('#df-cba91c8d-92c5-4561-bcf6-dd1bce2f607b button.colab-df-convert');\n",
              "        buttonEl.style.display =\n",
              "          google.colab.kernel.accessAllowed ? 'block' : 'none';\n",
              "\n",
              "        async function convertToInteractive(key) {\n",
              "          const element = document.querySelector('#df-cba91c8d-92c5-4561-bcf6-dd1bce2f607b');\n",
              "          const dataTable =\n",
              "            await google.colab.kernel.invokeFunction('convertToInteractive',\n",
              "                                                     [key], {});\n",
              "          if (!dataTable) return;\n",
              "\n",
              "          const docLinkHtml = 'Like what you see? Visit the ' +\n",
              "            '<a target=\"_blank\" href=https://colab.research.google.com/notebooks/data_table.ipynb>data table notebook</a>'\n",
              "            + ' to learn more about interactive tables.';\n",
              "          element.innerHTML = '';\n",
              "          dataTable['output_type'] = 'display_data';\n",
              "          await google.colab.output.renderOutput(dataTable, element);\n",
              "          const docLink = document.createElement('div');\n",
              "          docLink.innerHTML = docLinkHtml;\n",
              "          element.appendChild(docLink);\n",
              "        }\n",
              "      </script>\n",
              "    </div>\n",
              "  </div>\n",
              "  "
            ],
            "text/plain": [
              "   ID    b     e  LBE  AC  FM  ...  Mode  Mean  Median  Variance  Tendency  Target\n",
              "0   1  240   357  120   0   0  ...   120   137     121        73         1       1\n",
              "1   2    5   632  132   4   0  ...   141   136     140        12         0       0\n",
              "2   3  177   779  133   2   0  ...   141   135     138        13         0       0\n",
              "3   4  411  1192  134   2   0  ...   137   134     137        13         1       0\n",
              "4   5  533  1147  132   4   0  ...   137   136     138        11         1       0\n",
              "\n",
              "[5 rows x 26 columns]"
            ]
          },
          "metadata": {},
          "execution_count": 33
        }
      ]
    },
    {
      "cell_type": "code",
      "source": [
        "# Información del conjunto de datos\n",
        "data.info()"
      ],
      "metadata": {
        "colab": {
          "base_uri": "https://localhost:8080/"
        },
        "id": "Z0IuqernOuvs",
        "outputId": "8f4c8246-dc28-4db4-8c67-4e36ebad76ec"
      },
      "execution_count": 34,
      "outputs": [
        {
          "output_type": "stream",
          "name": "stdout",
          "text": [
            "<class 'pandas.core.frame.DataFrame'>\n",
            "RangeIndex: 2126 entries, 0 to 2125\n",
            "Data columns (total 26 columns):\n",
            " #   Column    Non-Null Count  Dtype  \n",
            "---  ------    --------------  -----  \n",
            " 0   ID        2126 non-null   int64  \n",
            " 1   b         2126 non-null   int64  \n",
            " 2   e         2126 non-null   int64  \n",
            " 3   LBE       2126 non-null   int64  \n",
            " 4   AC        2126 non-null   int64  \n",
            " 5   FM        2126 non-null   int64  \n",
            " 6   UC        2126 non-null   int64  \n",
            " 7   ASTV      2126 non-null   int64  \n",
            " 8   MSTV      2126 non-null   float64\n",
            " 9   ALTV      2126 non-null   int64  \n",
            " 10  MLTV      2126 non-null   float64\n",
            " 11  DL        2126 non-null   int64  \n",
            " 12  DS        2126 non-null   int64  \n",
            " 13  DP        2126 non-null   int64  \n",
            " 14  DR        2126 non-null   int64  \n",
            " 15  Width     2126 non-null   int64  \n",
            " 16  Min       2126 non-null   int64  \n",
            " 17  Max       2126 non-null   int64  \n",
            " 18  Nmax      2126 non-null   int64  \n",
            " 19  Nzeros    2126 non-null   int64  \n",
            " 20  Mode      2126 non-null   int64  \n",
            " 21  Mean      2126 non-null   int64  \n",
            " 22  Median    2126 non-null   int64  \n",
            " 23  Variance  2126 non-null   int64  \n",
            " 24  Tendency  2126 non-null   int64  \n",
            " 25  Target    2126 non-null   int64  \n",
            "dtypes: float64(2), int64(24)\n",
            "memory usage: 432.0 KB\n"
          ]
        }
      ]
    },
    {
      "cell_type": "code",
      "source": [
        "data.agg(['nunique']).T"
      ],
      "metadata": {
        "colab": {
          "base_uri": "https://localhost:8080/",
          "height": 865
        },
        "id": "qSFQHqATPZKl",
        "outputId": "9685cc95-199a-4953-ee2f-3313f0770312"
      },
      "execution_count": 35,
      "outputs": [
        {
          "output_type": "execute_result",
          "data": {
            "text/html": [
              "\n",
              "  <div id=\"df-edc68253-c436-431c-b9ab-68e185f8d9ac\">\n",
              "    <div class=\"colab-df-container\">\n",
              "      <div>\n",
              "<style scoped>\n",
              "    .dataframe tbody tr th:only-of-type {\n",
              "        vertical-align: middle;\n",
              "    }\n",
              "\n",
              "    .dataframe tbody tr th {\n",
              "        vertical-align: top;\n",
              "    }\n",
              "\n",
              "    .dataframe thead th {\n",
              "        text-align: right;\n",
              "    }\n",
              "</style>\n",
              "<table border=\"1\" class=\"dataframe\">\n",
              "  <thead>\n",
              "    <tr style=\"text-align: right;\">\n",
              "      <th></th>\n",
              "      <th>nunique</th>\n",
              "    </tr>\n",
              "  </thead>\n",
              "  <tbody>\n",
              "    <tr>\n",
              "      <th>ID</th>\n",
              "      <td>2126</td>\n",
              "    </tr>\n",
              "    <tr>\n",
              "      <th>b</th>\n",
              "      <td>979</td>\n",
              "    </tr>\n",
              "    <tr>\n",
              "      <th>e</th>\n",
              "      <td>1064</td>\n",
              "    </tr>\n",
              "    <tr>\n",
              "      <th>LBE</th>\n",
              "      <td>48</td>\n",
              "    </tr>\n",
              "    <tr>\n",
              "      <th>AC</th>\n",
              "      <td>22</td>\n",
              "    </tr>\n",
              "    <tr>\n",
              "      <th>FM</th>\n",
              "      <td>96</td>\n",
              "    </tr>\n",
              "    <tr>\n",
              "      <th>UC</th>\n",
              "      <td>19</td>\n",
              "    </tr>\n",
              "    <tr>\n",
              "      <th>ASTV</th>\n",
              "      <td>75</td>\n",
              "    </tr>\n",
              "    <tr>\n",
              "      <th>MSTV</th>\n",
              "      <td>57</td>\n",
              "    </tr>\n",
              "    <tr>\n",
              "      <th>ALTV</th>\n",
              "      <td>87</td>\n",
              "    </tr>\n",
              "    <tr>\n",
              "      <th>MLTV</th>\n",
              "      <td>249</td>\n",
              "    </tr>\n",
              "    <tr>\n",
              "      <th>DL</th>\n",
              "      <td>15</td>\n",
              "    </tr>\n",
              "    <tr>\n",
              "      <th>DS</th>\n",
              "      <td>2</td>\n",
              "    </tr>\n",
              "    <tr>\n",
              "      <th>DP</th>\n",
              "      <td>5</td>\n",
              "    </tr>\n",
              "    <tr>\n",
              "      <th>DR</th>\n",
              "      <td>1</td>\n",
              "    </tr>\n",
              "    <tr>\n",
              "      <th>Width</th>\n",
              "      <td>154</td>\n",
              "    </tr>\n",
              "    <tr>\n",
              "      <th>Min</th>\n",
              "      <td>109</td>\n",
              "    </tr>\n",
              "    <tr>\n",
              "      <th>Max</th>\n",
              "      <td>86</td>\n",
              "    </tr>\n",
              "    <tr>\n",
              "      <th>Nmax</th>\n",
              "      <td>18</td>\n",
              "    </tr>\n",
              "    <tr>\n",
              "      <th>Nzeros</th>\n",
              "      <td>9</td>\n",
              "    </tr>\n",
              "    <tr>\n",
              "      <th>Mode</th>\n",
              "      <td>88</td>\n",
              "    </tr>\n",
              "    <tr>\n",
              "      <th>Mean</th>\n",
              "      <td>103</td>\n",
              "    </tr>\n",
              "    <tr>\n",
              "      <th>Median</th>\n",
              "      <td>95</td>\n",
              "    </tr>\n",
              "    <tr>\n",
              "      <th>Variance</th>\n",
              "      <td>133</td>\n",
              "    </tr>\n",
              "    <tr>\n",
              "      <th>Tendency</th>\n",
              "      <td>3</td>\n",
              "    </tr>\n",
              "    <tr>\n",
              "      <th>Target</th>\n",
              "      <td>2</td>\n",
              "    </tr>\n",
              "  </tbody>\n",
              "</table>\n",
              "</div>\n",
              "      <button class=\"colab-df-convert\" onclick=\"convertToInteractive('df-edc68253-c436-431c-b9ab-68e185f8d9ac')\"\n",
              "              title=\"Convert this dataframe to an interactive table.\"\n",
              "              style=\"display:none;\">\n",
              "        \n",
              "  <svg xmlns=\"http://www.w3.org/2000/svg\" height=\"24px\"viewBox=\"0 0 24 24\"\n",
              "       width=\"24px\">\n",
              "    <path d=\"M0 0h24v24H0V0z\" fill=\"none\"/>\n",
              "    <path d=\"M18.56 5.44l.94 2.06.94-2.06 2.06-.94-2.06-.94-.94-2.06-.94 2.06-2.06.94zm-11 1L8.5 8.5l.94-2.06 2.06-.94-2.06-.94L8.5 2.5l-.94 2.06-2.06.94zm10 10l.94 2.06.94-2.06 2.06-.94-2.06-.94-.94-2.06-.94 2.06-2.06.94z\"/><path d=\"M17.41 7.96l-1.37-1.37c-.4-.4-.92-.59-1.43-.59-.52 0-1.04.2-1.43.59L10.3 9.45l-7.72 7.72c-.78.78-.78 2.05 0 2.83L4 21.41c.39.39.9.59 1.41.59.51 0 1.02-.2 1.41-.59l7.78-7.78 2.81-2.81c.8-.78.8-2.07 0-2.86zM5.41 20L4 18.59l7.72-7.72 1.47 1.35L5.41 20z\"/>\n",
              "  </svg>\n",
              "      </button>\n",
              "      \n",
              "  <style>\n",
              "    .colab-df-container {\n",
              "      display:flex;\n",
              "      flex-wrap:wrap;\n",
              "      gap: 12px;\n",
              "    }\n",
              "\n",
              "    .colab-df-convert {\n",
              "      background-color: #E8F0FE;\n",
              "      border: none;\n",
              "      border-radius: 50%;\n",
              "      cursor: pointer;\n",
              "      display: none;\n",
              "      fill: #1967D2;\n",
              "      height: 32px;\n",
              "      padding: 0 0 0 0;\n",
              "      width: 32px;\n",
              "    }\n",
              "\n",
              "    .colab-df-convert:hover {\n",
              "      background-color: #E2EBFA;\n",
              "      box-shadow: 0px 1px 2px rgba(60, 64, 67, 0.3), 0px 1px 3px 1px rgba(60, 64, 67, 0.15);\n",
              "      fill: #174EA6;\n",
              "    }\n",
              "\n",
              "    [theme=dark] .colab-df-convert {\n",
              "      background-color: #3B4455;\n",
              "      fill: #D2E3FC;\n",
              "    }\n",
              "\n",
              "    [theme=dark] .colab-df-convert:hover {\n",
              "      background-color: #434B5C;\n",
              "      box-shadow: 0px 1px 3px 1px rgba(0, 0, 0, 0.15);\n",
              "      filter: drop-shadow(0px 1px 2px rgba(0, 0, 0, 0.3));\n",
              "      fill: #FFFFFF;\n",
              "    }\n",
              "  </style>\n",
              "\n",
              "      <script>\n",
              "        const buttonEl =\n",
              "          document.querySelector('#df-edc68253-c436-431c-b9ab-68e185f8d9ac button.colab-df-convert');\n",
              "        buttonEl.style.display =\n",
              "          google.colab.kernel.accessAllowed ? 'block' : 'none';\n",
              "\n",
              "        async function convertToInteractive(key) {\n",
              "          const element = document.querySelector('#df-edc68253-c436-431c-b9ab-68e185f8d9ac');\n",
              "          const dataTable =\n",
              "            await google.colab.kernel.invokeFunction('convertToInteractive',\n",
              "                                                     [key], {});\n",
              "          if (!dataTable) return;\n",
              "\n",
              "          const docLinkHtml = 'Like what you see? Visit the ' +\n",
              "            '<a target=\"_blank\" href=https://colab.research.google.com/notebooks/data_table.ipynb>data table notebook</a>'\n",
              "            + ' to learn more about interactive tables.';\n",
              "          element.innerHTML = '';\n",
              "          dataTable['output_type'] = 'display_data';\n",
              "          await google.colab.output.renderOutput(dataTable, element);\n",
              "          const docLink = document.createElement('div');\n",
              "          docLink.innerHTML = docLinkHtml;\n",
              "          element.appendChild(docLink);\n",
              "        }\n",
              "      </script>\n",
              "    </div>\n",
              "  </div>\n",
              "  "
            ],
            "text/plain": [
              "          nunique\n",
              "ID           2126\n",
              "b             979\n",
              "e            1064\n",
              "LBE            48\n",
              "AC             22\n",
              "FM             96\n",
              "UC             19\n",
              "ASTV           75\n",
              "MSTV           57\n",
              "ALTV           87\n",
              "MLTV          249\n",
              "DL             15\n",
              "DS              2\n",
              "DP              5\n",
              "DR              1\n",
              "Width         154\n",
              "Min           109\n",
              "Max            86\n",
              "Nmax           18\n",
              "Nzeros          9\n",
              "Mode           88\n",
              "Mean          103\n",
              "Median         95\n",
              "Variance      133\n",
              "Tendency        3\n",
              "Target          2"
            ]
          },
          "metadata": {},
          "execution_count": 35
        }
      ]
    },
    {
      "cell_type": "markdown",
      "source": [
        "#**1.Clasifique cada variable según su tipo, cualitativa o cuantitativa discreta o continúa.**"
      ],
      "metadata": {
        "id": "Gh_rk46syVfS"
      }
    },
    {
      "cell_type": "markdown",
      "source": [
        "Las definiciones de cada tipo de variable:\n",
        "- Cualitativas: Aquellas que representan cualidades o características categóricas, es decir no toman valores numéricos.\n",
        "- Cuantitativas: Aquellas que cuantifican, es decir, toman valores numéricos:\n",
        " - Discretas: Tienen como resultado un numero contable de valores (Ej: Numero de hijos de una familia, numero de coches que tienes...)\n",
        " - Continuas: Pueden tomar cualquier valor dentro de un intervalo y suelen ser características medibles (Ej: Temperatura, altura de una persona...)"
      ],
      "metadata": {
        "id": "GyTROMHn1fmX"
      }
    },
    {
      "cell_type": "code",
      "source": [
        "nombre_columnas      = data.columns.tolist()\n",
        "significado_columnas = ['Identification','Start Instant','End Instant','Baseline Value','Accelerations','Foetal Movement','Uterine Contractions','Percentage of time with abnormal short term variability','Mean value of short term variability','Percentage of time with abnormal long term variability','Mean value of long term variability','Light Decelerations','Severe Decelerations','Prolongued Decelerations','Repetitive Decelerations',' Histogram Width','Low freq. of the histogram','High freq. of the histogram','Number of histogram peaks','Number of histogram zeros','Histogram Mode','Histogram Mean','Histogram Median','Histogram variance','Histogram tendency','Target']\n",
        "columnas             = dict(zip(nombre_columnas, significado_columnas))"
      ],
      "metadata": {
        "id": "Qp6FIZX63pkE"
      },
      "execution_count": 36,
      "outputs": []
    },
    {
      "cell_type": "markdown",
      "source": [
        "Antes de clasificar las variables se recopilan todas ellas y se les dota de una pequeña descripción:"
      ],
      "metadata": {
        "id": "1tnu8CnT9ho1"
      }
    },
    {
      "cell_type": "code",
      "source": [
        "columnas"
      ],
      "metadata": {
        "colab": {
          "base_uri": "https://localhost:8080/"
        },
        "id": "DCZnK2yu7OiN",
        "outputId": "d422b78b-c035-4c4a-99ff-9eb995b1081e"
      },
      "execution_count": 37,
      "outputs": [
        {
          "output_type": "execute_result",
          "data": {
            "text/plain": [
              "{'AC': 'Accelerations',\n",
              " 'ALTV': 'Percentage of time with abnormal long term variability',\n",
              " 'ASTV': 'Percentage of time with abnormal short term variability',\n",
              " 'DL': 'Light Decelerations',\n",
              " 'DP': 'Prolongued Decelerations',\n",
              " 'DR': 'Repetitive Decelerations',\n",
              " 'DS': 'Severe Decelerations',\n",
              " 'FM': 'Foetal Movement',\n",
              " 'ID': 'Identification',\n",
              " 'LBE': 'Baseline Value',\n",
              " 'MLTV': 'Mean value of long term variability',\n",
              " 'MSTV': 'Mean value of short term variability',\n",
              " 'Max': 'High freq. of the histogram',\n",
              " 'Mean': 'Histogram Mean',\n",
              " 'Median': 'Histogram Median',\n",
              " 'Min': 'Low freq. of the histogram',\n",
              " 'Mode': 'Histogram Mode',\n",
              " 'Nmax': 'Number of histogram peaks',\n",
              " 'Nzeros': 'Number of histogram zeros',\n",
              " 'Target': 'Target',\n",
              " 'Tendency': 'Histogram tendency',\n",
              " 'UC': 'Uterine Contractions',\n",
              " 'Variance': 'Histogram variance',\n",
              " 'Width': ' Histogram Width',\n",
              " 'b': 'Start Instant',\n",
              " 'e': 'End Instant'}"
            ]
          },
          "metadata": {},
          "execution_count": 37
        }
      ]
    },
    {
      "cell_type": "markdown",
      "source": [
        "A partir del `data.info()` realizado al inicio, ya podemos concluir que todas las variables son cuantitativas, pues todas son de tipo numérico. Ahora, en base a la pequeña descripción de cada variable, y por ejemplo, el número de elementos únicos para cada una de ellas que se obtuvo al inicio, se van a clasificar las variables en continuas y discretas.\n",
        "- Cuantitativa Continua = CC\n",
        "- Cuantitativa Discreta = CD"
      ],
      "metadata": {
        "id": "uyD_B3E2963u"
      }
    },
    {
      "cell_type": "code",
      "source": [
        "tipo_variables = ['CD','CC','CC','CC','CD','CD','CD','CC','CC','CC','CC','CD','CD','CD','CD','CC','CC','CC','CD','CD','CC','CC','CC','CC','CD','CD']\n",
        "tipo_variables = dict(zip(nombre_columnas,tipo_variables))"
      ],
      "metadata": {
        "id": "yditLT_4_K3E"
      },
      "execution_count": 38,
      "outputs": []
    },
    {
      "cell_type": "code",
      "source": [
        "tipo_variables"
      ],
      "metadata": {
        "colab": {
          "base_uri": "https://localhost:8080/"
        },
        "id": "Pib8iKmZC3u0",
        "outputId": "975d64da-b09f-42e7-9b32-a4d58f42e5ad"
      },
      "execution_count": 39,
      "outputs": [
        {
          "output_type": "execute_result",
          "data": {
            "text/plain": [
              "{'AC': 'CD',\n",
              " 'ALTV': 'CC',\n",
              " 'ASTV': 'CC',\n",
              " 'DL': 'CD',\n",
              " 'DP': 'CD',\n",
              " 'DR': 'CD',\n",
              " 'DS': 'CD',\n",
              " 'FM': 'CD',\n",
              " 'ID': 'CD',\n",
              " 'LBE': 'CC',\n",
              " 'MLTV': 'CC',\n",
              " 'MSTV': 'CC',\n",
              " 'Max': 'CC',\n",
              " 'Mean': 'CC',\n",
              " 'Median': 'CC',\n",
              " 'Min': 'CC',\n",
              " 'Mode': 'CC',\n",
              " 'Nmax': 'CD',\n",
              " 'Nzeros': 'CD',\n",
              " 'Target': 'CD',\n",
              " 'Tendency': 'CD',\n",
              " 'UC': 'CD',\n",
              " 'Variance': 'CC',\n",
              " 'Width': 'CC',\n",
              " 'b': 'CC',\n",
              " 'e': 'CC'}"
            ]
          },
          "metadata": {},
          "execution_count": 39
        }
      ]
    },
    {
      "cell_type": "markdown",
      "source": [
        "#**2. ¿Cuál es la proporción de estados fetales normales?¿Y anormales?**"
      ],
      "metadata": {
        "id": "Vg96FEmfWQ4l"
      }
    },
    {
      "cell_type": "markdown",
      "source": [
        "Mediante `matplotlib.pyplot.pie(x,..,labels=..,autopct=...)` se realiza un gráfico de tarta del vector x, en donde el área de cada porción viene dada por $x/sum(x)$. Con \"labels\" proporcionamos las etiquetas para cada porción y con autopct habilitamos que en cada una de ellas aparezca su porcentaje con respecto al gráfico.  \n",
        "Como lista x pasamos aquella que contiene el total de estados normales y anormales como sus dos elementos."
      ],
      "metadata": {
        "id": "8za1bwtfXGT2"
      }
    },
    {
      "cell_type": "code",
      "source": [
        "a, b = data['Target'].value_counts()\n",
        "plt.figure(figsize = (13,5))\n",
        "plt.subplot(121)\n",
        "plt.pie([a, b], labels=[\"Normal\", \"Anormal\"], autopct=\"%1.0f%%\")\n",
        "print(data[\"Target\"].value_counts())"
      ],
      "metadata": {
        "colab": {
          "base_uri": "https://localhost:8080/",
          "height": 355
        },
        "id": "GWiLA2HjRkDt",
        "outputId": "2e4be983-7719-4b1c-8ced-9c2cc6d6fb5b"
      },
      "execution_count": 40,
      "outputs": [
        {
          "output_type": "stream",
          "name": "stdout",
          "text": [
            "0    1655\n",
            "1     471\n",
            "Name: Target, dtype: int64\n"
          ]
        },
        {
          "output_type": "display_data",
          "data": {
            "image/png": "[encoded data removed]",
            "text/plain": [
              "<Figure size 936x360 with 1 Axes>"
            ]
          },
          "metadata": {}
        }
      ]
    },
    {
      "cell_type": "markdown",
      "source": [
        "#**3. Obtenga las medidas de centralización, localización y dispersión para las variables:  FM, ALTV y Median.**"
      ],
      "metadata": {
        "id": "2vgz6q1gc_BK"
      }
    },
    {
      "cell_type": "markdown",
      "source": [
        "Se va a emplear `pandas.Dataframe.describe()` que genera una serie de estadisticas descriptivas, incluyendo medidas de centralización como la media y la mediana ($=P_{50}$), de localización como los percentiles 25, 50 y 75, y de dispersión como la desviación estándar, el máximo y el mínimo. Recoge prácticamente todas las estadísticas descriptivas fundamentales. "
      ],
      "metadata": {
        "id": "Jx9ACHXxeiy5"
      }
    },
    {
      "cell_type": "code",
      "source": [
        "FM_statistics     = data.FM.describe().T\n",
        "ALTV_statistics   = data.ALTV.describe().T\n",
        "Median_statistics = data.Median.describe().T"
      ],
      "metadata": {
        "id": "WGNHQTq3Ruut"
      },
      "execution_count": 41,
      "outputs": []
    },
    {
      "cell_type": "code",
      "source": [
        "FM_statistics"
      ],
      "metadata": {
        "colab": {
          "base_uri": "https://localhost:8080/"
        },
        "id": "ESTr1wT3dwNz",
        "outputId": "1cf63a97-6147-4c52-c84b-84bb58850ff8"
      },
      "execution_count": 42,
      "outputs": [
        {
          "output_type": "execute_result",
          "data": {
            "text/plain": [
              "count    2126.000000\n",
              "mean        7.241298\n",
              "std        37.125309\n",
              "min         0.000000\n",
              "25%         0.000000\n",
              "50%         0.000000\n",
              "75%         2.000000\n",
              "max       564.000000\n",
              "Name: FM, dtype: float64"
            ]
          },
          "metadata": {},
          "execution_count": 42
        }
      ]
    },
    {
      "cell_type": "markdown",
      "source": [
        "Llama la atención la gran dispersión en los datos, con una valor muy grande para la desviación estándar ($\\approx 5·\\mu$), y un gran tamaño de rango ($max-min$), lo que junto a los percentiles, nos habla de la presencia datos extremos, pues el 75% de los datos tienen un valor inferior a 2. Es una característica de gran variabilidad. "
      ],
      "metadata": {
        "id": "1ZiCtR6Bgx_B"
      }
    },
    {
      "cell_type": "code",
      "source": [
        "ALTV_statistics"
      ],
      "metadata": {
        "colab": {
          "base_uri": "https://localhost:8080/"
        },
        "id": "JXw7Xz3ld3CZ",
        "outputId": "68c0ec98-c7ff-4340-9ee1-b1621dcd38f4"
      },
      "execution_count": 43,
      "outputs": [
        {
          "output_type": "execute_result",
          "data": {
            "text/plain": [
              "count    2126.00000\n",
              "mean        9.84666\n",
              "std        18.39688\n",
              "min         0.00000\n",
              "25%         0.00000\n",
              "50%         0.00000\n",
              "75%        11.00000\n",
              "max        91.00000\n",
              "Name: ALTV, dtype: float64"
            ]
          },
          "metadata": {},
          "execution_count": 43
        }
      ]
    },
    {
      "cell_type": "markdown",
      "source": [
        "Para ALTV se tiene un comportamiento similar aunque con una menor dispersión."
      ],
      "metadata": {
        "id": "VOQzbVPtd-33"
      }
    },
    {
      "cell_type": "code",
      "source": [
        "Median_statistics"
      ],
      "metadata": {
        "colab": {
          "base_uri": "https://localhost:8080/"
        },
        "id": "7tI_q8Red5s0",
        "outputId": "575909c6-8293-4e29-a875-7b62c553e31e"
      },
      "execution_count": 44,
      "outputs": [
        {
          "output_type": "execute_result",
          "data": {
            "text/plain": [
              "count    2126.000000\n",
              "mean      138.090310\n",
              "std        14.466589\n",
              "min        77.000000\n",
              "25%       129.000000\n",
              "50%       139.000000\n",
              "75%       148.000000\n",
              "max       186.000000\n",
              "Name: Median, dtype: float64"
            ]
          },
          "metadata": {},
          "execution_count": 44
        }
      ]
    },
    {
      "cell_type": "markdown",
      "source": [
        "Para \"Median\" el comportamiento es radicalmente opuesto a los dos casos anteriores presentando el conjunto una localización mucho mayor. De hecho, empleando como criterio para determinar los valores atípicos que lo son aquellos que no están en el intervalo $[Q_{1}-1.5RIQ, Q_{3}+1.5RIQ]$, incluso el máximo y mínimo, aún siendo atípicos, están bastante próximos a este intervalo."
      ],
      "metadata": {
        "id": "K8Z4SEmSee6l"
      }
    },
    {
      "cell_type": "markdown",
      "source": [
        "#**4. Obtenga el histograma para las variables: LBE, DS y Min.**\n",
        "\n"
      ],
      "metadata": {
        "id": "SHFaA50pwlAG"
      }
    },
    {
      "cell_type": "markdown",
      "source": [
        "Mediante el histograma se puede ver como se distribuye la población en función de una característica, en este caso LBE, DS y Min."
      ],
      "metadata": {
        "id": "cFBNZHeDxqFf"
      }
    },
    {
      "cell_type": "code",
      "source": [
        "fig, axs = plt.subplots(1, 3, figsize=(12, 4), sharey=False)\n",
        "data['LBE'].hist(ax=axs[0]).set_title('LBE')\n",
        "data['DS'].hist(ax=axs[1]).set_title('DS')\n",
        "data['Min'].hist(ax=axs[2]).set_title('Min')\n",
        "plt.show()"
      ],
      "metadata": {
        "colab": {
          "base_uri": "https://localhost:8080/",
          "height": 281
        },
        "id": "aw3L08QSVkUA",
        "outputId": "c5b48127-3473-46e3-e19a-c7c112b87e5e"
      },
      "execution_count": 45,
      "outputs": [
        {
          "output_type": "display_data",
          "data": {
            "image/png": "[encoded data removed]",
            "text/plain": [
              "<Figure size 864x288 with 3 Axes>"
            ]
          },
          "metadata": {
            "needs_background": "light"
          }
        }
      ]
    },
    {
      "cell_type": "markdown",
      "source": [
        "Podemos extraer conclusiones interesantes a partir de estos histogramas:\n",
        "- LBE: Es la característica con una distribución más uniforme, que incluso podría modelizarse como una gaussiana.\n",
        "- DS: Es una variable dicotómica, que solo toma dos valores, y uno de ellos con muchisima más frecuencia que el otro. Va a aportar muy poca información a nuestro conjunto.\n",
        "- Min: Una variable con una distribución más compleja que las dos anteriores."
      ],
      "metadata": {
        "id": "k4mws5ZczQ9n"
      }
    },
    {
      "cell_type": "markdown",
      "source": [
        "#**5. Obtenga un gráfico box-plot para las variables: AC, ASTV y Mean.** "
      ],
      "metadata": {
        "id": "9tRSZME0yhez"
      }
    },
    {
      "cell_type": "markdown",
      "source": [
        "Mediante `pandas.Dataframe.boxplot` se construye una gráfica de caja (boxplot) para las variables AC, ASTV Y Mean. El gráfico de cajas permite representar gráficamente los datos a través de sus cuartiles. La caja se extiende desde el primer al tercer cuartil y la línea que lo cruza se corresponde con el segundo cuartil o mediana.\n",
        "También muestra los datos atípicos, es decir, áquellos que están fuera del intervalo representado por las líneas que salen de la caja y de valor:\n",
        "\n",
        "\\begin{align}\n",
        "[Q_{1}-1.5·RIQ, &Q_{3}+1.5·RIQ];\\\\\n",
        "RIQ = &Q_{3}-Q_{1}\n",
        "\\end{align}"
      ],
      "metadata": {
        "id": "JgPNL1EjzGaG"
      }
    },
    {
      "cell_type": "code",
      "source": [
        "data.boxplot(column=['AC','ASTV','Mean'],vert=False)"
      ],
      "metadata": {
        "colab": {
          "base_uri": "https://localhost:8080/",
          "height": 282
        },
        "id": "qyMiYNspXIEV",
        "outputId": "c75bd4f8-bae3-436b-9524-070a8bb24cbf"
      },
      "execution_count": 46,
      "outputs": [
        {
          "output_type": "execute_result",
          "data": {
            "text/plain": [
              "<matplotlib.axes._subplots.AxesSubplot at 0x7f4c4daa4890>"
            ]
          },
          "metadata": {},
          "execution_count": 46
        },
        {
          "output_type": "display_data",
          "data": {
            "image/png": "[encoded data removed]",
            "text/plain": [
              "<Figure size 432x288 with 1 Axes>"
            ]
          },
          "metadata": {
            "needs_background": "light"
          }
        }
      ]
    },
    {
      "cell_type": "markdown",
      "source": [
        "Es llamativa la presencia de una gran cantidad de valores atípicos en Mean y AC, y de ninguno en ASTV. La variable AC parece ser una importante variable explicativa, pues el grueso de sus valores (interior de la caja) está poco disperso, sin embargo, presenta una importante cantidad de valores atípicos, que probablemente estén relacionados con el estado anormal del feto (menos frecuente). Así, cabe esperar que se trate de una variable que varíe fuertemente según cual sea el target. "
      ],
      "metadata": {
        "id": "QNJ15MlRcggT"
      }
    }
  ]
}